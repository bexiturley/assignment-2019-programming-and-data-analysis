rm  "metadata": {},
   "source": [
    "numpy.random.random_integers is similar to random_integers"
   ]
  },
  {
   "cell_type": "code",
   "execution_count": 10,
   "metadata": {},
   "outputs": [
    {
     "name": "stderr",
     "output_type": "stream",
     "text": [
      "C:\\Users\\Rebecca\\Anaconda3\\lib\\site-packages\\ipykernel_launcher.py:1: DeprecationWarning: This function is deprecated. Please call randint(1, 2 + 1) instead\n",
      "  \"\"\"Entry point for launching an IPython kernel.\n"
     ]
    },
    {
     "data": {
      "text/plain": [
       "1"
      ]
     },
     "execution_count": 10,
     "metadata": {},
     "output_type": "execute_result"
    }
   ],
   "source": [
    "np.random.random_integers(2)"
   ]
  },
  {
   "cell_type": "markdown",
   "metadata": {},
   "source": [
    "Here I have asked for 3 columns and 2 rows of random numbers with 15 being the highest random number to choose from and starting from 1. "
   ]
  },
  {
   "cell_type": "code",
   "execution_count": 11,
   "metadata": {},
   "outputs": [
    {
     "name": "stderr",
     "output_type": "stream",
     "text": [
      "C:\\Users\\Rebecca\\Anaconda3\\lib\\site-packages\\ipykernel_launcher.py:1: DeprecationWarning: This function is deprecated. Please call randint(1, 15 + 1) instead\n",
      "  \"\"\"Entry point for launching an IPython kernel.\n"
     ]
    },
    {
     "data": {
      "text/plain": [
       "array([[ 9,  9],\n",
       "       [ 4,  8],\n",
       "       [ 7, 11]])"
      ]
     },
     "execution_count": 11,
     "metadata": {},
     "output_type": "execute_result"
    }
   ],
   "source": [
    "np.random.random_integers(15, size=(3,2))"
   ]
  },
  {
   "cell_type": "markdown",
   "metadata": {},
   "source": [
    "numpy.random.random_sample, numpy.random.random, numpy.random.ranf and numpy.random.sample are just different names for the same thing.\n",
    "\n",
    "random_sample([size]) Return random floats in the half-open interval [0.0, 1.0).\n",
    "random([size]) Return random floats in the half-open interval [0.0, 1.0).\n",
    "ranf([size]) Return random floats in the half-open interval [0.0, 1.0).\n",
    "sample([size]) Return random floats in the half-open interval [0.0, 1.0)."
   ]
  },
  {
   "cell_type": "code",
   "execution_count": 12,
   "metadata": {},
   "outputs": [
    {
     "data": {
      "text/plain": [
       "<function RandomState.random_sample>"
      ]
     },
     "execution_count": 12,
     "metadata": {},
     "output_type": "execute_result"
    }
   ],
   "source": [
    "np.random.random_sample"
   ]
  },
  {
   "cell_type": "code",
   "execution_count": 13,
   "metadata": {},
   "outputs": [
    {
     "data": {
      "text/plain": [
       "<function RandomState.random_sample>"
      ]
     },
     "execution_count": 13,
     "metadata": {},
     "output_type": "execute_result"
    }
   ],
   "source": [
    "np.random.random"
   ]
  },
  {
   "cell_type": "code",
   "execution_count": 14,
   "metadata": {},
   "outputs": [
    {
     "data": {
      "text/plain": [
       "<function RandomState.random_sample>"
      ]
     },
     "execution_count": 14,
     "metadata": {},
     "output_type": "execute_result"
    }
   ],
   "source": [
    "np.random.ranf"
   ]
  },
  {
   "cell_type": "code",
   "execution_count": 15,
   "metadata": {},
   "outputs": [
    {
     "data": {
      "text/plain": [
       "<function RandomState.random_sample>"
      ]
     },
     "execution_count": 15,
     "metadata": {},
     "output_type": "execute_result"
    }
   ],
   "source": [
    "np.random.sample"
   ]
  },
  {
   "cell_type": "code",
   "execution_count": 16,
   "metadata": {},
   "outputs": [
    {
     "data": {
      "text/plain": [
       "True"
      ]
     },
     "execution_count": 16,
     "metadata": {},
     "output_type": "execute_result"
    }
   ],
   "source": [
    "np.random.random_sample is np.random.random"
   ]
  },
  {
   "cell_type": "code",
   "execution_count": 17,
   "metadata": {},
   "outputs": [
    {
     "data": {
      "text/plain": [
       "True"
      ]
     },
     "execution_count": 17,
     "metadata": {},
     "output_type": "execute_result"
    }
   ],
   "source": [
    "np.random.random_sample is np.random.ranf"
   ]
  },
  {
   "cell_type": "code",
   "execution_count": 18,
   "metadata": {},
   "outputs": [
    {
     "data": {
      "text/plain": [
       "True"
      ]
     },
     "execution_count": 18,
     "metadata": {},
     "output_type": "execute_result"
    }
   ],
   "source": [
    "np.random.random_sample is np.random.sample"
   ]
  },
  {
   "cell_type": "code",
   "execution_count": null,
   "metadata": {},
   "outputs": [],
   "source": []
  },
  {
   "cell_type": "code",
   "execution_count": 19,
   "metadata": {},
   "outputs": [
    {
     "data": {
      "text/plain": [
       "0.2506515182546507"
      ]
     },
     "execution_count": 19,
     "metadata": {},
     "output_type": "execute_result"
    }
   ],
   "source": [
    "np.random.random_sample()"
   ]
  },
  {
   "cell_type": "markdown",
   "metadata": {},
   "source": [
    "The below script asks to select 4 columns with 2 rows of random numbers."
   ]
  },
  {
   "cell_type": "code",
   "execution_count": 20,
   "metadata": {},
   "outputs": [
    {
     "data": {
      "text/plain": [
       "array([[0.78423728, 0.7581681 ],\n",
       "       [0.96379797, 0.50628879],\n",
       "       [0.35869624, 0.6465866 ],\n",
       "       [0.45371398, 0.50996371]])"
      ]
     },
     "execution_count": 20,
     "metadata": {},
     "output_type": "execute_result"
    }
   ],
   "source": [
    "np.random.random_sample((4,2))"
   ]
  },
  {
   "cell_type": "markdown",
   "metadata": {},
   "source": [
    "numpy.random.choice"
   ]
  },
  {
   "cell_type": "markdown",
   "metadata": {},
   "source": [
    "Here I ask to select 4 random numbers up to 7.  The numbers that could be selected begin at 0 and go up to and include 6."
   ]
  },
  {
   "cell_type": "code",
   "execution_count": 21,
   "metadata": {},
   "outputs": [
    {
     "data": {
      "text/plain": [
       "array([0, 3, 2, 0])"
      ]
     },
     "execution_count": 21,
     "metadata": {},
     "output_type": "execute_result"
    }
   ],
   "source": [
    "np.random.choice(7, 4)"
   ]
  },
  {
   "cell_type": "markdown",
   "metadata": {},
   "source": [
    "To see what else it is capable of, here I script code to resemble a roulette wheel and the different possible outcomes.  Also included are the weights of the three colours which are used.  The wheel is spun 12 times and the results are printed to the screen."
   ]
  },
  {
   "cell_type": "code",
   "execution_count": 22,
   "metadata": {},
   "outputs": [
    {
     "name": "stdout",
     "output_type": "stream",
     "text": [
      "['Red', 'Black', 'Red', 'Red', 'Red', 'Red', 'Black', 'Black', 'Black', 'Black', 'Black', 'Black']\n"
     ]
    }
   ],
   "source": [
    "import random\n",
    "colours = [\"Red\", \"Black\", \"Green\"]\n",
    "results = random.choices(colours, weights=[18, 18, 2], k=12)\n",
    "print (results)"
   ]
  },
  {
   "cell_type": "markdown",
   "metadata": {},
   "source": [
    "numpy.random.bytes returns random bytes"
   ]
  },
  {
   "cell_type": "code",
   "execution_count": 23,
   "metadata": {},
   "outputs": [
    {
     "data": {
      "text/plain": [
       "b'h\\x88\\x8f]p'"
      ]
     },
     "execution_count": 23,
     "metadata": {},
     "output_type": "execute_result"
    }
   ],
   "source": [
    "np.random.bytes(5)"
   ]
  },
  {
   "cell_type": "markdown",
   "metadata": {},
   "source": [
    "And to take it a step further with bytes, an alternative way to generate a secure random sequence. Using the standard library secrets module for use in  passwords, account authentication, security tokens, and related secrets."
   ]
  },
  {
   "cell_type": "code",
   "execution_count": 24,
   "metadata": {},
   "outputs": [
    {
     "data": {
      "text/plain": [
       "b'\\x11\\x82\\xf3\\x10'"
      ]
     },
     "execution_count": 24,
     "metadata": {},
     "output_type": "execute_result"
    }
   ],
   "source": [
    "import secrets\n",
    "b\"\\x11\" + secrets.token_bytes(2) + b\"\\x10\""
   ]
  },
  {
   "cell_type": "markdown",
   "metadata": {},
   "source": [
    "Permutations"
   ]
  },
  {
   "cell_type": "code",
   "execution_count": 25,
   "metadata": {},
   "outputs": [
    {
     "data": {
      "text/plain": [
       "array([ 0, 16,  2,  5,  1,  0])"
      ]
     },
     "execution_count": 25,
     "metadata": {},
     "output_type": "execute_result"
    }
   ],
   "source": [
    "np.random.permutation([0, 1, 0, 2, 5, 16])"
   ]
  },
  {
   "cell_type": "code",
   "execution_count": 26,
   "metadata": {},
   "outputs": [
    {
     "data": {
      "text/plain": [
       "array([[ 8,  9],\n",
       "       [12, 13],\n",
       "       [ 6,  7],\n",
       "       [ 4,  5],\n",
       "       [ 2,  3],\n",
       "       [ 0,  1],\n",
       "       [14, 15],\n",
       "       [10, 11]])"
      ]
     },
     "execution_count": 26,
     "metadata": {},
     "output_type": "execute_result"
    }
   ],
   "source": [
    "arr = np.arange(16).reshape((8, 2))\n",
    "np.random.permutation(arr)"
   ]
  },
  {
   "cell_type": "markdown",
   "metadata": {},
   "source": [
    "takes a list as an input and return an object list of tuples that contain all permutation in a list form, it arranges the elements of an ordered list into a one on one mapping with itself.  \n",
    "\n",
    "np.random.permutation has two differences from np.random.shuffle:\n",
    "\n",
    "if passed an array, it will return a shuffled copy of the array; np.random.shuffle shuffles the array inplace\n",
    "if passed an integer, it will return a shuffled range i.e. np.random.shuffle(np.arange(n))  \n",
    "\n",
    "np.random.permutation is useful when you need to shuffle ordered pairs, eg. for classification:"
   ]
  },
  {
   "cell_type": "markdown",
   "metadata": {},
   "source": [
    "Create a table and take a look at it."
   ]
  },
  {
   "cell_type": "code",
   "execution_count": 27,
   "metadata": {},
   "outputs": [
    {
     "data": {
      "text/html": [
       "<div>\n",
       "<style scoped>\n",
       "    .dataframe tbody tr th:only-of-type {\n",
       "        vertical-align: middle;\n",
       "    }\n",
       "\n",
       "    .dataframe tbody tr th {\n",
       "        vertical-align: top;\n",
       "    }\n",
       "\n",
       "    .dataframe thead th {\n",
       "        text-align: right;\n",
       "    }\n",
       "</style>\n",
       "<table border=\"1\" class=\"dataframe\">\n",
       "  <thead>\n",
       "    <tr style=\"text-align: right;\">\n",
       "      <th></th>\n",
       "      <th>country</th>\n",
       "      <th>place</th>\n",
       "    </tr>\n",
       "  </thead>\n",
       "  <tbody>\n",
       "    <tr>\n",
       "      <th>A</th>\n",
       "      <td>England</td>\n",
       "      <td>8</td>\n",
       "    </tr>\n",
       "    <tr>\n",
       "      <th>B</th>\n",
       "      <td>Austraila</td>\n",
       "      <td>7</td>\n",
       "    </tr>\n",
       "    <tr>\n",
       "      <th>C</th>\n",
       "      <td>New Zeland</td>\n",
       "      <td>5</td>\n",
       "    </tr>\n",
       "    <tr>\n",
       "      <th>D</th>\n",
       "      <td>Wales</td>\n",
       "      <td>5</td>\n",
       "    </tr>\n",
       "    <tr>\n",
       "      <th>E</th>\n",
       "      <td>France</td>\n",
       "      <td>4</td>\n",
       "    </tr>\n",
       "    <tr>\n",
       "      <th>F</th>\n",
       "      <td>Japan</td>\n",
       "      <td>3</td>\n",
       "    </tr>\n",
       "    <tr>\n",
       "      <th>G</th>\n",
       "      <td>South Africa</td>\n",
       "      <td>2</td>\n",
       "    </tr>\n",
       "    <tr>\n",
       "      <th>H</th>\n",
       "      <td>Ireland</td>\n",
       "      <td>1</td>\n",
       "    </tr>\n",
       "  </tbody>\n",
       "</table>\n",
       "</div>"
      ],
      "text/plain": [
       "        country place\n",
       "A       England     8\n",
       "B     Austraila     7\n",
       "C    New Zeland     5\n",
       "D         Wales     5\n",
       "E        France     4\n",
       "F         Japan     3\n",
       "G  South Africa     2\n",
       "H       Ireland     1"
      ]
     },
     "execution_count": 27,
     "metadata": {},
     "output_type": "execute_result"
    }
   ],
   "source": [
    "import pandas as pd\n",
    "raw_data = {\n",
    "    \"country\": [\"England\", \"Austraila\", \"New Zeland\",  \"Wales\", \"France\", \"Japan\", \"South Africa\", \"Ireland\"],\n",
    "    \"place\": [\"8\", \"7\", \"5\", \"5\", \"4\", \"3\", \"2\", \"1\"]\n",
    "    }\n",
    "df = pd.DataFrame (raw_data,\n",
    "                  index = pd.Index([\"A\", \"B\", \"C\", \"D\", \"E\", \"F\", \"G\", \"H\"]))\n",
    "df"
   ]
  },
  {
   "cell_type": "code",
   "execution_count": null,
   "metadata": {},
   "outputs": [],
   "source": []
  },
  {
   "cell_type": "code",
   "execution_count": null,
   "metadata": {},
   "outputs": [],
   "source": []
  },
  {
   "cell_type": "code",
   "execution_count": 28,
   "metadata": {},
   "outputs": [
    {
     "data": {
      "text/html": [
       "<div>\n",
       "<style scoped>\n",
       "    .dataframe tbody tr th:only-of-type {\n",
       "        vertical-align: middle;\n",
       "    }\n",
       "\n",
       "    .dataframe tbody tr th {\n",
       "        vertical-align: top;\n",
       "    }\n",
       "\n",
       "    .dataframe thead th {\n",
       "        text-align: right;\n",
       "    }\n",
       "</style>\n",
       "<table border=\"1\" class=\"dataframe\">\n",
       "  <thead>\n",
       "    <tr style=\"text-align: right;\">\n",
       "      <th></th>\n",
       "      <th>country</th>\n",
       "      <th>place</th>\n",
       "    </tr>\n",
       "  </thead>\n",
       "  <tbody>\n",
       "    <tr>\n",
       "      <th>A</th>\n",
       "      <td>England</td>\n",
       "      <td>8</td>\n",
       "    </tr>\n",
       "    <tr>\n",
       "      <th>B</th>\n",
       "      <td>Austraila</td>\n",
       "      <td>7</td>\n",
       "    </tr>\n",
       "    <tr>\n",
       "      <th>C</th>\n",
       "      <td>New Zeland</td>\n",
       "      <td>5</td>\n",
       "    </tr>\n",
       "    <tr>\n",
       "      <th>D</th>\n",
       "      <td>Wales</td>\n",
       "      <td>5</td>\n",
       "    </tr>\n",
       "    <tr>\n",
       "      <th>E</th>\n",
       "      <td>France</td>\n",
       "      <td>4</td>\n",
       "    </tr>\n",
       "    <tr>\n",
       "      <th>F</th>\n",
       "      <td>Japan</td>\n",
       "      <td>3</td>\n",
       "    </tr>\n",
       "    <tr>\n",
       "      <th>G</th>\n",
       "      <td>South Africa</td>\n",
       "      <td>2</td>\n",
       "    </tr>\n",
       "    <tr>\n",
       "      <th>H</th>\n",
       "      <td>Ireland</td>\n",
       "      <td>1</td>\n",
       "    </tr>\n",
       "  </tbody>\n",
       "</table>\n",
       "</div>"
      ],
      "text/plain": [
       "        country place\n",
       "A       England     8\n",
       "B     Austraila     7\n",
       "C    New Zeland     5\n",
       "D         Wales     5\n",
       "E        France     4\n",
       "F         Japan     3\n",
       "G  South Africa     2\n",
       "H       Ireland     1"
      ]
     },
     "execution_count": 28,
     "metadata": {},
     "output_type": "execute_result"
    }
   ],
   "source": [
    "nrows = df.shape[0]\n",
    "df"
   ]
  },
  {
   "cell_type": "markdown",
   "metadata": {},
   "source": [
    "Randomise the sequence of the rows "
   ]
  },
  {
   "cell_type": "code",
   "execution_count": 29,
   "metadata": {},
   "outputs": [],
   "source": [
    "b = np.random.permutation(nrows)\n"
   ]
  },
  {
   "cell_type": "code",
   "execution_count": 30,
   "metadata": {},
   "outputs": [
    {
     "data": {
      "text/plain": [
       "array([5, 2, 4, 0, 3, 7, 6, 1])"
      ]
     },
     "execution_count": 30,
     "metadata": {},
     "output_type": "execute_result"
    }
   ],
   "source": [
    "b"
   ]
  },
  {
   "cell_type": "markdown",
   "metadata": {},
   "source": [
    "Print out the data frame based on the array created above with permutation. Take function takes the indeces and change the order of the rows according to the indeces that we pass it."
   ]
  },
  {
   "cell_type": "code",
   "execution_count": 31,
   "metadata": {},
   "outputs": [
    {
     "data": {
      "text/html": [
       "<div>\n",
       "<style scoped>\n",
       "    .dataframe tbody tr th:only-of-type {\n",
       "        vertical-align: middle;\n",
       "    }\n",
       "\n",
       "    .dataframe tbody tr th {\n",
       "        vertical-align: top;\n",
       "    }\n",
       "\n",
       "    .dataframe thead th {\n",
       "        text-align: right;\n",
       "    }\n",
       "</style>\n",
       "<table border=\"1\" class=\"dataframe\">\n",
       "  <thead>\n",
       "    <tr style=\"text-align: right;\">\n",
       "      <th></th>\n",
       "      <th>country</th>\n",
       "      <th>place</th>\n",
       "    </tr>\n",
       "  </thead>\n",
       "  <tbody>\n",
       "    <tr>\n",
       "      <th>F</th>\n",
       "      <td>Japan</td>\n",
       "      <td>3</td>\n",
       "    </tr>\n",
       "    <tr>\n",
       "      <th>C</th>\n",
       "      <td>New Zeland</td>\n",
       "      <td>5</td>\n",
       "    </tr>\n",
       "    <tr>\n",
       "      <th>E</th>\n",
       "      <td>France</td>\n",
       "      <td>4</td>\n",
       "    </tr>\n",
       "    <tr>\n",
       "      <th>A</th>\n",
       "      <td>England</td>\n",
       "      <td>8</td>\n",
       "    </tr>\n",
       "    <tr>\n",
       "      <th>D</th>\n",
       "      <td>Wales</td>\n",
       "      <td>5</td>\n",
       "    </tr>\n",
       "    <tr>\n",
       "      <th>H</th>\n",
       "      <td>Ireland</td>\n",
       "      <td>1</td>\n",
       "    </tr>\n",
       "    <tr>\n",
       "      <th>G</th>\n",
       "      <td>South Africa</td>\n",
       "      <td>2</td>\n",
       "    </tr>\n",
       "    <tr>\n",
       "      <th>B</th>\n",
       "      <td>Austraila</td>\n",
       "      <td>7</td>\n",
       "    </tr>\n",
       "  </tbody>\n",
       "</table>\n",
       "</div>"
      ],
      "text/plain": [
       "        country place\n",
       "F         Japan     3\n",
       "C    New Zeland     5\n",
       "E        France     4\n",
       "A       England     8\n",
       "D         Wales     5\n",
       "H       Ireland     1\n",
       "G  South Africa     2\n",
       "B     Austraila     7"
      ]
     },
     "execution_count": 31,
     "metadata": {},
     "output_type": "execute_result"
    }
   ],
   "source": [
    "df.take(b)"
   ]
  },
  {
   "cell_type": "markdown",
   "metadata": {},
   "source": [
    "Randomise the index and then print out the table based on that."
   ]
  },
  {
   "cell_type": "code",
   "execution_count": 32,
   "metadata": {},
   "outputs": [
    {
     "data": {
      "text/plain": [
       "Index(['A', 'B', 'C', 'D', 'E', 'F', 'G', 'H'], dtype='object')"
      ]
     },
     "execution_count": 32,
     "metadata": {},
     "output_type": "execute_result"
    }
   ],
   "source": [
    "df.index"
   ]
  },
  {
   "cell_type": "code",
   "execution_count": 33,
   "metadata": {},
   "outputs": [
    {
     "data": {
      "text/plain": [
       "array(['D', 'C', 'B', 'F', 'H', 'G', 'E', 'A'], dtype=object)"
      ]
     },
     "execution_count": 33,
     "metadata": {},
     "output_type": "execute_result"
    }
   ],
   "source": [
    "np.random.permutation(df.index)"
   ]
  },
  {
   "cell_type": "markdown",
   "metadata": {},
   "source": [
    "reindex function changes the order of the index. Its just another way of doing it."
   ]
  },
  {
   "cell_type": "code",
   "execution_count": 34,
   "metadata": {},
   "outputs": [
    {
     "data": {
      "text/html": [
       "<div>\n",
       "<style scoped>\n",
       "    .dataframe tbody tr th:only-of-type {\n",
       "        vertical-align: middle;\n",
       "    }\n",
       "\n",
       "    .dataframe tbody tr th {\n",
       "        vertical-align: top;\n",
       "    }\n",
       "\n",
       "    .dataframe thead th {\n",
       "        text-align: right;\n",
       "    }\n",
       "</style>\n",
       "<table border=\"1\" class=\"dataframe\">\n",
       "  <thead>\n",
       "    <tr style=\"text-align: right;\">\n",
       "      <th></th>\n",
       "      <th>country</th>\n",
       "      <th>place</th>\n",
       "    </tr>\n",
       "  </thead>\n",
       "  <tbody>\n",
       "    <tr>\n",
       "      <th>B</th>\n",
       "      <td>Austraila</td>\n",
       "      <td>7</td>\n",
       "    </tr>\n",
       "    <tr>\n",
       "      <th>C</th>\n",
       "      <td>New Zeland</td>\n",
       "      <td>5</td>\n",
       "    </tr>\n",
       "    <tr>\n",
       "      <th>A</th>\n",
       "      <td>England</td>\n",
       "      <td>8</td>\n",
       "    </tr>\n",
       "    <tr>\n",
       "      <th>F</th>\n",
       "      <td>Japan</td>\n",
       "      <td>3</td>\n",
       "    </tr>\n",
       "    <tr>\n",
       "      <th>D</th>\n",
       "      <td>Wales</td>\n",
       "      <td>5</td>\n",
       "    </tr>\n",
       "    <tr>\n",
       "      <th>H</th>\n",
       "      <td>Ireland</td>\n",
       "      <td>1</td>\n",
       "    </tr>\n",
       "    <tr>\n",
       "      <th>G</th>\n",
       "      <td>South Africa</td>\n",
       "      <td>2</td>\n",
       "    </tr>\n",
       "    <tr>\n",
       "      <th>E</th>\n",
       "      <td>France</td>\n",
       "      <td>4</td>\n",
       "    </tr>\n",
       "  </tbody>\n",
       "</table>\n",
       "</div>"
      ],
      "text/plain": [
       "        country place\n",
       "B     Austraila     7\n",
       "C    New Zeland     5\n",
       "A       England     8\n",
       "F         Japan     3\n",
       "D         Wales     5\n",
       "H       Ireland     1\n",
       "G  South Africa     2\n",
       "E        France     4"
      ]
     },
     "execution_count": 34,
     "metadata": {},
     "output_type": "execute_result"
    }
   ],
   "source": [
    "df.reindex(np.random.permutation(df.index))"
   ]
  },
  {
   "cell_type": "markdown",
   "metadata": {},
   "source": [
    "Sample method of randomisation.  Give me a random sample using all the rows"
   ]
  },
  {
   "cell_type": "code",
   "execution_count": 35,
   "metadata": {},
   "outputs": [
    {
     "data": {
      "text/html": [
       "<div>\n",
       "<style scoped>\n",
       "    .dataframe tbody tr th:only-of-type {\n",
       "        vertical-align: middle;\n",
       "    }\n",
       "\n",
       "    .dataframe tbody tr th {\n",
       "        vertical-align: top;\n",
       "    }\n",
       "\n",
       "    .dataframe thead th {\n",
       "        text-align: right;\n",
       "    }\n",
       "</style>\n",
       "<table border=\"1\" class=\"dataframe\">\n",
       "  <thead>\n",
       "    <tr style=\"text-align: right;\">\n",
       "      <th></th>\n",
       "      <th>country</th>\n",
       "      <th>place</th>\n",
       "    </tr>\n",
       "  </thead>\n",
       "  <tbody>\n",
       "    <tr>\n",
       "      <th>D</th>\n",
       "      <td>Wales</td>\n",
       "      <td>5</td>\n",
       "    </tr>\n",
       "    <tr>\n",
       "      <th>F</th>\n",
       "      <td>Japan</td>\n",
       "      <td>3</td>\n",
       "    </tr>\n",
       "    <tr>\n",
       "      <th>A</th>\n",
       "      <td>England</td>\n",
       "      <td>8</td>\n",
       "    </tr>\n",
       "    <tr>\n",
       "      <th>H</th>\n",
       "      <td>Ireland</td>\n",
       "      <td>1</td>\n",
       "    </tr>\n",
       "    <tr>\n",
       "      <th>G</th>\n",
       "      <td>South Africa</td>\n",
       "      <td>2</td>\n",
       "    </tr>\n",
       "    <tr>\n",
       "      <th>C</th>\n",
       "      <td>New Zeland</td>\n",
       "      <td>5</td>\n",
       "    </tr>\n",
       "    <tr>\n",
       "      <th>B</th>\n",
       "      <td>Austraila</td>\n",
       "      <td>7</td>\n",
       "    </tr>\n",
       "    <tr>\n",
       "      <th>E</th>\n",
       "      <td>France</td>\n",
       "      <td>4</td>\n",
       "    </tr>\n",
       "  </tbody>\n",
       "</table>\n",
       "</div>"
      ],
      "text/plain": [
       "        country place\n",
       "D         Wales     5\n",
       "F         Japan     3\n",
       "A       England     8\n",
       "H       Ireland     1\n",
       "G  South Africa     2\n",
       "C    New Zeland     5\n",
       "B     Austraila     7\n",
       "E        France     4"
      ]
     },
     "execution_count": 35,
     "metadata": {},
     "output_type": "execute_result"
    }
   ],
   "source": [
    "df.sample(n=nrows)"
   ]
  },
  {
   "cell_type": "code",
   "execution_count": null,
   "metadata": {},
   "outputs": [],
   "source": []
  },
  {
   "cell_type": "code",
   "execution_count": 36,
   "metadata": {},
   "outputs": [
    {
     "name": "stdout",
     "output_type": "stream",
     "text": [
      "Password is = cecaerb\n",
      "Password is = aeeebecbaccb\n"
     ]
    }
   ],
   "source": [
    "def randString(length=7):\n",
    "    #Select letters to be used in the string\n",
    "    letters='rebecca'\n",
    "    return ''.join((random.choice(letters) for i in range(length)))\n",
    "print('Password is =',  randString() )\n",
    "print ('Password is =', randString(12) )   \n"
   ]
  },
  {
   "cell_type": "code",
   "execution_count": null,
   "metadata": {},
   "outputs": [],
   "source": []
  },
  {
   "cell_type": "code",
   "execution_count": 37,
   "metadata": {},
   "outputs": [
    {
     "name": "stdout",
     "output_type": "stream",
     "text": [
      "Generated password = ['A' 'C' 'E' 'B' 'R']\n"
     ]
    }
   ],
   "source": [
    "# An example of a way to create a password using the permutation function from predefined letters in a preselected lenght.\n",
    "\n",
    "Letters = np.array(['R', 'E', 'B', 'E', 'C', 'C', 'A',])\n",
    "Order = np.random.permutation(Letters)\n",
    "print('Generated password =', Order[2:12])"
   ]
  },
  {
   "cell_type": "markdown",
   "metadata": {},
   "source": [
    "A different tool is used here, an itertool.  Iterators are data types that can be used in a for loop. The most common iterator in Python is the list. This doesn't relate really to the assignment but I went down a bit of a rabbit hole."
   ]
  },
  {
   "cell_type": "code",
   "execution_count": null,
   "metadata": {},
   "outputs": [],
   "source": []
  },
  {
   "cell_type": "code",
   "execution_count": 38,
   "metadata": {},
   "outputs": [
    {
     "data": {
      "text/plain": [
       "[('Ireland', 'Win', 1),\n",
       " ('Ireland', 'Win', 2),\n",
       " ('Ireland', 'Win', 3),\n",
       " ('Ireland', 'Loose', 1),\n",
       " ('Ireland', 'Loose', 2),\n",
       " ('Ireland', 'Loose', 3),\n",
       " ('Ireland', 'Draw', 1),\n",
       " ('Ireland', 'Draw', 2),\n",
       " ('Ireland', 'Draw', 3),\n",
       " ('England', 'Win', 1),\n",
       " ('England', 'Win', 2),\n",
       " ('England', 'Win', 3),\n",
       " ('England', 'Loose', 1),\n",
       " ('England', 'Loose', 2),\n",
       " ('England', 'Loose', 3),\n",
       " ('England', 'Draw', 1),\n",
       " ('England', 'Draw', 2),\n",
       " ('England', 'Draw', 3),\n",
       " ('New Zeland', 'Win', 1),\n",
       " ('New Zeland', 'Win', 2),\n",
       " ('New Zeland', 'Win', 3),\n",
       " ('New Zeland', 'Loose', 1),\n",
       " ('New Zeland', 'Loose', 2),\n",
       " ('New Zeland', 'Loose', 3),\n",
       " ('New Zeland', 'Draw', 1),\n",
       " ('New Zeland', 'Draw', 2),\n",
       " ('New Zeland', 'Draw', 3)]"
      ]
     },
     "execution_count": 38,
     "metadata": {},
     "output_type": "execute_result"
    }
   ],
   "source": [
    "import itertools\n",
    "a = [[\"Ireland\", \"England\", \"New Zeland\"], [\"Win\", \"Loose\", \"Draw\"], [1, 2, 3]]\n",
    "list(itertools.product(*a))"
   ]
  },
  {
   "cell_type": "code",
   "execution_count": 39,
   "metadata": {},
   "outputs": [
    {
     "data": {
      "text/plain": [
       "array([['Win', 'Loose', 'Draw'],\n",
       "       ['1', '2', '3'],\n",
       "       ['Ireland', 'England', 'New Zeland']], dtype='<U10')"
      ]
     },
     "execution_count": 39,
     "metadata": {},
     "output_type": "execute_result"
    }
   ],
   "source": [
    "import numpy as np\n",
    "np.random.permutation ([(\"Ireland\", \"England\", \"New Zeland\"), (\"Win\", \"Loose\", \"Draw\"), (1, 2, 3)])"
   ]
  },
  {
   "cell_type": "code",
   "execution_count": null,
   "metadata": {},
   "outputs": [],
   "source": []
  },
  {
   "cell_type": "code",
   "execution_count": 40,
   "metadata": {},
   "outputs": [
    {
     "data": {
      "image/png": "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\n",
      "text/plain": [
       "<Figure size 432x288 with 1 Axes>"
      ]
     },
     "metadata": {
      "needs_background": "light"
     },
     "output_type": "display_data"
    }
   ],
   "source": [
    "import numpy as np\n",
    "loc, scale = 10, 1\n",
    "s = np.random.logistic(loc, scale, 10000)\n",
    "count, bins, ignored = plt.hist(s, bins=50)"
   ]
  },
  {
   "cell_type": "code",
   "execution_count": null,
   "metadata": {},
   "outputs": [],
   "source": []
  },
  {
   "attachments": {
    "bell%20curve%201.png": {
     "image/png": "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"
    },
    "bell%20curve.png": {
     "image/png": "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"
    }
   },
   "cell_type": "markdown",
   "metadata": {},
   "source": [
    "Numpy.random.normal\n",
    "Enables the creation of an array in which the data looks to be distributed normally aka the bell curve or Gaussian distribution.   \n",
    "A list of random samples are selected from a normal distribution.  Different results will be drawn each time the function is executed \n",
    "(this is due to the random part) but will generally be the same shape.  The peak is always in the middle and the curve is always symmetrical.  \n",
    "A larger size will give a better, more accurate result.  Bell curve provide a quick way to visualize the mean, mode and median.  \n",
    "If the distribution is normal the mean, median and mode are the same.\n",
    "\n",
    "There are 3 key arguments which influence it.  Loc, scale and size.  The syntax will look like:  np.random.normal (loc=, scale=, size=)\n",
    " np.random.normal is the function name, this is how we call it.\n",
    "Loc=,  sets the mean of the data, which defaults to 0 if no other value is chosen.  This is the very top of the curve.  In a normal distribution, fifty percent of the distribution lies to the right of the mean and fifty percent to the left.\n",
    " \n",
    "\n",
    "\n",
    "Scale=, standard deviation of normal distribution, set to 1 as default.  Shows how much variation from the average.  \n",
    "If the data points were very close to the mean it shows a low standard deviation and if the data points were spread out it has a high standard deviation.  \n",
    "\n",
    "![bell%20curve%201.png](attachment:bell%20curve%201.png)\n",
    " \n",
    "\n",
    "The size controls the size and shape of the array.  This array can be modelled on a 1 dimensional or multi dimensional depending on the integers provided.  \n",
    "\n",
    "![bell%20curve.png](attachment:bell%20curve.png)"
   ]
  },
  {
   "cell_type": "code",
   "execution_count": 41,
   "metadata": {},
   "outputs": [
    {
     "data": {
      "text/plain": [
       "array([-0.76904713])"
      ]
     },
     "execution_count": 41,
     "metadata": {},
     "output_type": "execute_result"
    }
   ],
   "source": [
    "#Generate a single number from normal distribution. \n",
    "\n",
    "np.random.normal(size = 1, loc = 0, scale = 1)"
   ]
  },
  {
   "cell_type": "code",
   "execution_count": 42,
   "metadata": {},
   "outputs": [
    {
     "data": {
      "text/plain": [
       "array([-0.40722262, -0.80426742,  0.90331996,  1.39987931, -0.75626807])"
      ]
     },
     "execution_count": 42,
     "metadata": {},
     "output_type": "execute_result"
    }
   ],
   "source": [
    "np.random.normal(size = 5, loc = 0, scale = 1)"
   ]
  },
  {
   "cell_type": "code",
   "execution_count": 43,
   "metadata": {},
   "outputs": [
    {
     "name": "stdout",
     "output_type": "stream",
     "text": [
      "[50.49671415 49.8617357  50.64768854 51.52302986 49.76584663 49.76586304\n",
      " 51.57921282 50.76743473 49.53052561 50.54256004 49.53658231 49.53427025\n",
      " 50.24196227 48.08671976 48.27508217 49.43771247 48.98716888 50.31424733\n",
      " 49.09197592 48.5876963  51.46564877 49.7742237  50.0675282  48.57525181\n",
      " 49.45561728 50.11092259 48.84900642 50.37569802 49.39936131 49.70830625\n",
      " 49.39829339 51.85227818 49.98650278 48.94228907 50.82254491 48.77915635\n",
      " 50.2088636  48.04032988 48.67181395 50.19686124 50.73846658 50.17136828\n",
      " 49.88435172 49.6988963  48.52147801 49.28015579 49.53936123 51.05712223\n",
      " 50.34361829 48.23695984 50.32408397 49.61491772 49.323078   50.61167629\n",
      " 51.03099952 50.93128012 49.16078248 49.69078762 50.33126343 50.97554513\n",
      " 49.52082576 49.81434102 48.89366503 48.80379338 50.81252582 51.35624003\n",
      " 49.92798988 51.0035329  50.36163603 49.35488025 50.36139561 51.53803657\n",
      " 49.96417396 51.56464366 47.3802549  50.8219025  50.08704707 49.70099265\n",
      " 50.09176078 48.01243109 49.78032811 50.35711257 51.47789404 49.48172978\n",
      " 49.1915064  49.49824296 50.91540212 50.32875111 49.4702398  50.51326743\n",
      " 50.09707755 50.96864499 49.29794691 49.67233785 49.60789185 48.53648505\n",
      " 50.29612028 50.26105527 50.00511346 49.76541287 48.58462926 49.57935468\n",
      " 49.65728548 49.19772273 49.83871429 50.40405086 51.8861859  50.17457781\n",
      " 50.25755039 49.92555408 48.08122878 49.97348612 50.06023021 52.46324211\n",
      " 49.80763904 50.30154734 49.96528823 48.83132196 51.14282281 50.75193303\n",
      " 50.79103195 49.09061255 51.40279431 48.59814894 50.58685709 52.19045563\n",
      " 49.00946367 49.43370227 50.09965137 49.49652435 48.44933657 50.06856297\n",
      " 48.93769629 50.47359243 49.08057577 51.54993441 49.21674671 49.67793848\n",
      " 50.81351722 48.76913568 50.22745993 51.30714275 48.39251677 50.18463386\n",
      " 50.25988279 50.78182287 48.76304929 48.67954339 50.52194157 50.29698467\n",
      " 50.25049285 50.34644821 49.31997528 50.2322537  50.29307247 49.28564858\n",
      " 51.86577451 50.47383292 48.8086965  50.65655361 49.02531833 50.7870846\n",
      " 51.15859558 49.17931768 50.96337613 50.41278093 50.82206016 51.89679298\n",
      " 49.75461188 49.24626384 49.11048557 49.18418972 49.92289829 50.34115197\n",
      " 50.2766908  50.82718325 50.01300189 51.45353408 49.73534317 52.72016917\n",
      " 50.62566735 49.14284244 48.9291075  50.48247242 49.77653721 50.71400049\n",
      " 50.47323762 49.92717109 49.15320628 48.48515278 49.55348505 50.85639879\n",
      " 50.21409374 48.75426122 50.17318093 50.38531738 49.11614256 50.15372511\n",
      " 50.05820872 48.8570297  50.35778736 50.56078453 51.08305124 51.05380205\n",
      " 48.62233063 49.06217496 50.51503527 50.51378595 50.51504769 53.85273149\n",
      " 50.57089051 51.13556564 50.95400176 50.65139125 49.68473076 50.75896922\n",
      " 49.22717479 49.76318139 49.51463645 50.08187414 52.31465857 48.13273481\n",
      " 50.68626019 48.38728413 49.52806813 51.0889506  50.06428002 48.92225522\n",
      " 49.28469629 50.67959775 49.26963337 50.21645859 50.04557184 49.34839965\n",
      " 52.14394409 50.63391902 47.97485741 50.18645431 49.33821354 50.85243333\n",
      " 49.20747926 49.88526356 50.50498728 50.86575519 48.79970359 49.66549876\n",
      " 49.52505469 49.34667077 51.76545424 50.40498171 48.73911605 50.91786195\n",
      " 52.1221562  51.03246526 48.48063003 49.51576593 51.26691115 49.29233053\n",
      " 50.44381943 50.77463405 49.07306953 49.94047464 46.75873266 48.97561236\n",
      " 49.74743185 48.75221682 51.6324113  48.56985862 49.55995551 50.13074058\n",
      " 51.44127329 48.56413785 51.16316375 50.01023306 49.01849135 50.46210347\n",
      " 50.1990597  49.39978312 50.06980208 49.6146864  50.11351735 50.66213067\n",
      " 51.58601682 48.7621845  52.13303337 48.0479122  49.8482149  50.58831721\n",
      " 50.28099187 49.37730048 49.79187775 49.50699907 49.41063524 50.8496021\n",
      " 50.35701549 49.3070904  50.89959988 50.30729952 50.81286212 50.62962884\n",
      " 49.17100499 49.43981896 50.74729361 50.61037027 49.97909841 50.11732738\n",
      " 51.2776649  49.40842861 50.54709738 49.79780735 49.7823188  51.09877685\n",
      " 50.82541635 50.81350964 51.30547881 50.02100384 50.68195297 49.68973324\n",
      " 50.32416635 49.86985695 50.09699596 50.59515703 49.18177932 52.09238728\n",
      " 48.99398262 48.78581139 51.15811087 50.79166269 50.62411982 50.62834551\n",
      " 49.98775323 49.10274563 50.07580456 49.32283829 50.97511973 49.85294262\n",
      " 49.1745028  49.67861416 50.41293145 49.43627545 49.1777796  50.24368721\n",
      " 50.24496657 49.49305682 49.52896169 50.23204994 48.55191566 48.59253623\n",
      " 49.28155578 49.78655285 50.31090757 51.47535622 50.85765962 49.84006147\n",
      " 49.98098379 48.99747064 49.98148686 49.71134136 50.32271856 49.17276906\n",
      " 50.51934651 51.53273891 49.89123985 50.40171172 50.69014399 49.59877953\n",
      " 50.22409248 50.0125924  50.0976761  49.22699022 50.02451017 50.49799829\n",
      " 51.45114361 50.95927083 52.15318246 49.23265244 50.87232064 50.18334201\n",
      " 52.18980293 49.19170171 49.16027816 49.40060735 47.87610428 49.47424498\n",
      " 49.24086734 50.15039379 50.34175598 51.87617084 50.95042384 49.42309634\n",
      " 49.10158533 50.49191917 48.67976679 51.83145877 51.17944012 49.53082435\n",
      " 48.28686547 51.35387237 49.88546015 51.23781631 48.40557234 49.40062498\n",
      " 50.0052437  50.04698059 49.54993453 50.62284993 48.93237957 49.85762051\n",
      " 50.12029563 50.51443883 50.71161488 48.87535791 48.46588583 51.27767682\n",
      " 50.33231401 49.25151346 51.55115198 50.11567463 51.17929718 50.06751848\n",
      " 52.06074792 51.75534084 49.75103585 50.97157095 50.64537595 51.36863156\n",
      " 49.03507654 50.68605146 51.05842449 48.24126051 48.81674149 47.96076782\n",
      " 49.73059317 50.71754226 51.50235705 50.07409478 51.62861555 48.61989854\n",
      " 48.29661756 49.9444523  50.38406545 49.96730525 47.9325579  49.91087996\n",
      " 48.6955305  50.66967255 50.36659825 49.06012021 49.48613308 48.94078648\n",
      " 49.9373209  50.95514232 49.01427395 50.50404652 49.46974238 49.20712717\n",
      " 49.89296964 48.96475768 49.44635069 48.80212211 51.96472513 50.03526355\n",
      " 49.30027449 50.21397991 49.88767195 49.7790304  50.6141667  50.75750771\n",
      " 49.46949885 49.42418176 49.7249483  47.69807884 48.48480894 51.36687427\n",
      " 51.64496771 49.75096396 50.57655696 50.31125015 53.07888081 51.11957491\n",
      " 49.87208241 49.04445956 48.39355368 50.20346364 49.24364925 48.57774629\n",
      " 49.35342712 48.918452   51.68714164 50.88163976 49.99202736 51.47994414\n",
      " 50.07736831 49.1387158  51.52312408 50.53891004 48.96275385 49.80966132\n",
      " 49.12438175 48.61720027 50.92617755 51.90941664 48.60143243 50.56296924\n",
      " 49.34935743 49.51287462 49.40760608 49.13600923 50.04852163 49.16904988\n",
      " 50.27045683 49.94976189 49.76105195 49.09243634 49.42322867 50.75539123\n",
      " 50.50091719 49.02244476 50.09933231 50.75138712 48.33059472 50.54336019\n",
      " 49.33737624 50.57059867 49.23674084 48.1951179  48.37245756 50.04808495\n",
      " 50.2597225  49.09568337 50.63859246 48.33847994 49.9339202  48.7889838\n",
      " 49.34816389 50.04739867 49.13958663 49.61544446 51.00629281 49.42310813\n",
      " 50.83569211 48.87029315 50.52980418 51.44156862 47.5283555  49.20310474\n",
      " 50.57707213 49.79695461 50.37114587 49.39601481 50.08658979 49.84432276\n",
      " 51.16778206 50.25442084 50.33760266 49.58812303 49.51239378 49.56744181\n",
      " 50.39445214 49.57901552 50.28977486 52.0754008  50.8711247  49.67397647\n",
      " 51.20121392 49.59192463 47.96187546 48.99191369 48.12920808 49.64848652\n",
      " 50.01841838 51.67643731 50.32692737 49.78089947 50.82940558 47.78886469\n",
      " 50.23561456 50.77086519 48.52141375 51.14375404 50.33849641 49.58471209\n",
      " 50.63278187 52.27069286 50.18186626 50.24822059 49.5406391  49.15015563\n",
      " 50.83033582 49.14391617 50.07156624 49.52234255 50.47897983 50.33366211\n",
      " 51.03753994 49.4899836  49.73012506 49.02123628 49.55570674 50.37730049\n",
      " 50.75698862 49.07783468 50.86960592 51.35563786 50.4134349  51.87679581\n",
      " 49.2262108  48.7553453  48.22127975 51.49604431 50.65436566 49.94441533\n",
      " 50.27996863 48.87451095 52.44575198 50.12922118 50.10939479 50.72576662\n",
      " 50.48100923 50.22388402 49.20952554 50.47146836 51.8820245  51.34542005\n",
      " 51.59318663 49.48878432 49.01039518 49.87421308 50.05572491 51.09419152\n",
      " 48.30753537 51.52955032 49.8419921  49.57311893 48.98789562 48.34514333\n",
      " 50.82317058 50.07331797 48.7100391  48.70492123 49.6642153  51.66902153\n",
      " 49.74040865 48.49685705 49.75425694 49.72727643 47.30311336 49.94570513\n",
      " 49.76906547 50.69620636 51.84895609 51.12656503 49.73111131 48.89347409\n",
      " 52.5733598  50.05921843 50.01392929 49.97587491 50.19808476 49.85563959\n",
      " 49.42633799 49.45314106 49.96724673 49.45657523 49.28715422 50.10643023\n",
      " 49.74502278 51.50399299 47.34903019 51.09150685 51.24608519 47.92660977\n",
      " 49.65731241 49.62855913 48.59248831 49.22218331 48.88942415 51.75227044\n",
      " 50.93567839 51.27155509 50.72167206 48.87094823 49.47547973 50.48937456\n",
      " 48.77787219 50.71299843 49.7596746  49.62517919 50.71095997 50.44426331\n",
      " 49.63903383 51.1593298  48.91893667 50.61593561 50.59310126 49.69045356\n",
      " 50.32613302 48.74888642 50.92402702 49.81509786 49.47727698 51.04900923\n",
      " 49.29565631 48.5915387  48.44337083 50.60600995 48.71957065 51.75479418\n",
      " 47.91807059 51.69645637 50.21101747 49.90328689 49.45508091 50.39913611\n",
      " 49.9623653  51.10330188 50.11422765 50.15030176 49.63638779 49.94305438\n",
      " 50.30780177 48.28983161 48.65181458 50.74326409 50.17086544 49.81601666\n",
      " 50.01843393 50.34758171 49.46024032 49.22169527 50.19584526 49.02162722\n",
      " 50.40825276 48.2974164  51.02915564 50.47259748 50.25602973 50.98269098\n",
      " 51.66547444 51.01437007 48.15912577 48.72042303 49.37518142 50.02609105\n",
      " 50.51765902 49.27425619 50.18676676 49.24461707 49.3884822  48.5933389\n",
      " 49.07676675 48.64831539 49.02412675 51.0536418  49.05060111 52.63238206\n",
      " 50.4933179  50.18483612 49.14164222 50.70030988 49.42436217 50.12200981\n",
      " 52.56008454 49.9039401  51.14927333 49.29682357 49.96501151 51.77080064\n",
      " 49.37303294 51.81244856 50.70775194 49.43753322 50.63240774 50.97255445\n",
      " 50.62180996 48.42977528 49.27286282 49.75248136 49.92556657 50.6206721\n",
      " 50.177701   48.66465564 50.38019785 50.61058575 50.55979045 51.08078073\n",
      " 50.83392215 50.45918008 49.92983429 48.33903907 50.42961822 50.20768769\n",
      " 50.27157884 48.72325142 48.91894346 51.05315285 49.96044485 50.6815007\n",
      " 50.02831838 50.02975614 50.93828381 49.48395527 50.09612078 49.53772471\n",
      " 49.56550377 49.69082788 50.22213377 49.52125138 51.25575613 49.1053927\n",
      " 49.81312836 49.56026894 51.44697788 50.19655478 51.03184454 48.51443963\n",
      " 50.26705027 50.8896308  50.08228399 51.06548038 49.48271155 51.40934744\n",
      " 52.29889812 49.63716144 49.55449748 51.45338448 51.57957215 49.47713997\n",
      " 49.57981318 49.71821539 48.65554949 49.08134805 48.99585923 49.23220243\n",
      " 49.96531511 50.23421473 51.55050049 49.00164596 50.9843224  49.78601116\n",
      " 49.95053629 50.67481949 48.87727798 50.38240975 50.16645221 50.49245126\n",
      " 50.28916864 52.45530014 49.36226002 49.46900304 49.37685947 49.44452288\n",
      " 49.36261287 51.18901653 51.42050425 49.42925371 49.16764443 50.47141556\n",
      " 49.44777696 50.63293182 50.20292302 48.48425589 51.5475052  51.79587767\n",
      " 49.38721131 49.61229844 50.28586539 50.33445679 50.65854427 52.01020454\n",
      " 49.82305277 49.20170276 48.62068077 49.26906996 49.96687303 51.79455786\n",
      " 49.4823887  50.22378795 49.9835771  51.18839327 52.52693243 49.46913123\n",
      " 49.51056056 51.04416088 50.68189149 51.84670733 50.58392819 49.64070791\n",
      " 50.59065483 51.10870358 50.82048218 50.50727403 51.06667469 51.16929559\n",
      " 51.38215899 50.64870989 49.83288192 50.14671369 51.20650897 49.18306433\n",
      " 50.36867331 49.60666119 50.02874482 51.27845186 50.19109907 50.04643655\n",
      " 48.64014386 50.74625357 50.64548418 52.16325472 49.69222177 50.21915033\n",
      " 50.24938368 51.57745328 49.90470447 50.27902153 50.60789651 50.18660912\n",
      " 49.55356639 50.19408999 51.07363175 48.9734847  50.13296967 49.29987919\n",
      " 51.19504663 48.4768131  49.44107815 50.37721188 51.56552403 49.93424974\n",
      " 49.44480047 51.88115707 48.5519861  47.80119404 50.44001445 49.49794578\n",
      " 48.97876718 50.70835645 50.24380071 49.43592137 48.7196956  50.87245733\n",
      " 50.65020118 49.90082414 51.846637   48.92991523 48.47447483 49.30809193\n",
      " 49.95441398 50.24333945 49.75876394 50.3520554  48.74846058 51.4437646\n",
      " 49.91784882 51.11729583 50.34272535 50.45675322 50.56976728 50.44770856\n",
      " 50.64272276 51.32915253 50.19652117 50.70900376 49.91026431 51.44011722\n",
      " 49.3236077  51.80094043 49.95984205 48.5692249  50.12810441 49.31894834\n",
      " 50.84064355 49.34737602 49.55381657 48.11045927 49.54769368 47.57612067\n",
      " 48.41609718 50.76041466 50.78580016 50.42545756 49.03302386 49.95228864\n",
      " 49.99639746 48.84163531 51.5033983  50.87736229 49.77903583 50.02688584\n",
      " 50.20838281 47.95826513 49.75282262 49.31801575 48.99837999 49.71889971\n",
      " 51.79768653 50.64084286 49.42882101 50.57258278]\n"
     ]
    }
   ],
   "source": [
    "# We ask for 1000 numbers with a mean of 50.  The bigger the size gives a more accurate result.\n",
    "np.random.seed(42)\n",
    "df=np.random.normal(size = 1000, loc = 50)\n",
    "print (df)"
   ]
  },
  {
   "cell_type": "code",
   "execution_count": 44,
   "metadata": {},
   "outputs": [
    {
     "data": {
      "text/plain": [
       "50.01933205582232"
      ]
     },
     "execution_count": 44,
     "metadata": {},
     "output_type": "execute_result"
    }
   ],
   "source": [
    " # We can see the mean is 50\n",
    "df.mean()"
   ]
  },
  {
   "cell_type": "code",
   "execution_count": 45,
   "metadata": {},
   "outputs": [
    {
     "data": {
      "text/plain": [
       "97.87262077473541"
      ]
     },
     "execution_count": 45,
     "metadata": {},
     "output_type": "execute_result"
    }
   ],
   "source": [
    "np.random.seed(42)\n",
    "np.random.normal(size = 1000, scale = 100).std()"
   ]
  },
  {
   "cell_type": "code",
   "execution_count": 46,
   "metadata": {},
   "outputs": [
    {
     "data": {
      "text/plain": [
       "array([ 9.96714153e+01,  3.61735699e+01,  1.14768854e+02,  2.02302986e+02,\n",
       "        2.65846625e+01,  2.65863043e+01,  2.07921282e+02,  1.26743473e+02,\n",
       "        3.05256141e+00,  1.04256004e+02,  3.65823072e+00,  3.42702464e+00,\n",
       "        7.41962272e+01, -1.41328024e+02, -1.22491783e+02, -6.22875292e+00,\n",
       "       -5.12831120e+01,  8.14247333e+01, -4.08024076e+01, -9.12303701e+01,\n",
       "        1.96564877e+02,  2.74223700e+01,  5.67528205e+01, -9.24748186e+01,\n",
       "       -4.43827245e+00,  6.10922590e+01, -6.50993577e+01,  8.75698018e+01,\n",
       "       -1.00638690e+01,  2.08306250e+01, -1.01706612e+01,  2.35227818e+02,\n",
       "        4.86502775e+01, -5.57710929e+01,  1.32254491e+02, -7.20843650e+01,\n",
       "        7.08863595e+01, -1.45967012e+02, -8.28186049e+01,  6.96861236e+01,\n",
       "        1.23846658e+02,  6.71368281e+01,  3.84351718e+01,  1.98896304e+01,\n",
       "       -9.78521990e+01, -2.19844208e+01,  3.93612290e+00,  1.55712223e+02,\n",
       "        8.43618290e+01, -1.26304016e+02,  8.24083969e+01,  1.14917720e+01,\n",
       "       -1.76922000e+01,  1.11167629e+02,  1.53099952e+02,  1.43128012e+02,\n",
       "       -3.39217523e+01,  1.90787624e+01,  8.31263431e+01,  1.47554513e+02,\n",
       "        2.08257622e+00,  3.14341023e+01, -6.06334974e+01, -6.96206624e+01,\n",
       "        1.31252582e+02,  1.85624003e+02,  4.27989878e+01,  1.50353290e+02,\n",
       "        8.61636025e+01, -1.45119755e+01,  8.61395606e+01,  2.03803657e+02,\n",
       "        4.64173961e+01,  2.06464366e+02, -2.11974510e+02,  1.32190250e+02,\n",
       "        5.87047068e+01,  2.00992650e+01,  5.91760777e+01, -1.48756891e+02,\n",
       "        2.80328112e+01,  8.57112572e+01,  1.97789404e+02, -1.82702183e+00,\n",
       "       -3.08493603e+01, -1.75704358e-01,  1.41540212e+02,  8.28751110e+01,\n",
       "       -2.97602038e+00,  1.01326743e+02,  5.97077549e+01,  1.46864499e+02,\n",
       "       -2.02053094e+01,  1.72337853e+01,  1.07891847e+01, -9.63514948e+01,\n",
       "        7.96120277e+01,  7.61055272e+01,  5.05113457e+01,  2.65412867e+01,\n",
       "       -9.15370742e+01,  7.93546772e+00,  1.57285483e+01, -3.02277269e+01,\n",
       "        3.38714288e+01,  9.04050857e+01,  2.38618590e+02,  6.74577813e+01,\n",
       "        7.57550391e+01,  4.25554084e+01, -1.41877122e+02,  4.73486125e+01,\n",
       "        5.60230210e+01,  2.96324211e+02,  3.07639035e+01,  8.01547342e+01,\n",
       "        4.65288230e+01, -6.68678038e+01,  1.64282281e+02,  1.25193303e+02,\n",
       "        1.29103195e+02, -4.09387455e+01,  1.90279431e+02, -9.01851063e+01,\n",
       "        1.08685709e+02,  2.69045563e+02, -4.90536325e+01, -6.62977296e+00,\n",
       "        5.99651365e+01, -3.47565412e-01, -1.05066343e+02,  5.68562975e+01,\n",
       "       -5.62303714e+01,  9.73592431e+01, -4.19424234e+01,  2.04993441e+02,\n",
       "       -2.83253292e+01,  1.77938484e+01,  1.31351722e+02, -7.30864316e+01,\n",
       "        7.27459935e+01,  1.80714275e+02, -1.10748323e+02,  6.84633859e+01,\n",
       "        7.59882794e+01,  1.28182287e+02, -7.36950711e+01, -8.20456613e+01,\n",
       "        1.02194157e+02,  7.96984673e+01,  7.50492850e+01,  8.46448209e+01,\n",
       "       -1.80024722e+01,  7.32253697e+01,  7.93072473e+01, -2.14351418e+01,\n",
       "        2.36577451e+02,  9.73832921e+01, -6.91303497e+01,  1.15655361e+02,\n",
       "       -4.74681670e+01,  1.28708460e+02,  1.65859558e+02, -3.20682318e+01,\n",
       "        1.46337613e+02,  9.12780927e+01,  1.32206016e+02,  2.39679298e+02,\n",
       "        2.54611884e+01, -2.53736164e+01, -3.89514430e+01, -3.15810285e+01,\n",
       "        4.22898291e+01,  8.41151975e+01,  7.76690799e+01,  1.32718325e+02,\n",
       "        5.13001892e+01,  1.95353408e+02,  2.35343167e+01,  3.22016917e+02,\n",
       "        1.12566735e+02, -3.57157556e+01, -5.70892498e+01,  9.82472415e+01,\n",
       "        2.76537215e+01,  1.21400049e+02,  9.73237625e+01,  4.27171087e+01,\n",
       "       -3.46793718e+01, -1.01484722e+02,  5.34850479e+00,  1.35639879e+02,\n",
       "        7.14093744e+01, -7.45738779e+01,  6.73180926e+01,  8.85317380e+01,\n",
       "       -3.83857436e+01,  6.53725106e+01,  5.58208718e+01, -6.42970298e+01,\n",
       "        8.57787360e+01,  1.06078453e+02,  1.58305124e+02,  1.55380205e+02,\n",
       "       -8.77669368e+01, -4.37825040e+01,  1.01503527e+02,  1.01378595e+02,\n",
       "        1.01504769e+02,  4.35273149e+02,  1.07089051e+02,  1.63556564e+02,\n",
       "        1.45400176e+02,  1.15139125e+02,  1.84730755e+01,  1.25896922e+02,\n",
       "       -2.72825215e+01,  2.63181393e+01,  1.46364522e+00,  5.81874139e+01,\n",
       "        2.81465857e+02, -1.36726519e+02,  1.18626019e+02, -1.11271587e+02,\n",
       "        2.80681342e+00,  1.58895060e+02,  5.64280019e+01, -5.77744778e+01,\n",
       "       -2.15303709e+01,  1.17959775e+02, -2.30366632e+01,  7.16458590e+01,\n",
       "        5.45571840e+01, -1.51600348e+01,  2.64394409e+02,  1.13391902e+02,\n",
       "       -1.52514259e+02,  6.86454315e+01, -1.61786465e+01,  1.35243333e+02,\n",
       "       -2.92520738e+01,  3.85263559e+01,  1.00498728e+02,  1.36575519e+02,\n",
       "       -7.00296407e+01,  1.65498764e+01,  2.50546888e+00, -1.53329233e+01,\n",
       "        2.26545424e+02,  9.04981711e+01, -7.60883954e+01,  1.41786195e+02,\n",
       "        2.62215620e+02,  1.53246526e+02, -1.01936997e+02,  1.57659271e+00,\n",
       "        1.76691115e+02, -2.07669466e+01,  9.43819428e+01,  1.27463405e+02,\n",
       "       -4.26930472e+01,  4.40474644e+01, -2.74126734e+02, -5.24387641e+01,\n",
       "        2.47431849e+01, -7.47783182e+01,  2.13241130e+02, -9.30141378e+01,\n",
       "        5.99555133e+00,  6.30740577e+01,  1.94127329e+02, -9.35862151e+01,\n",
       "        1.66316375e+02,  5.10233061e+01, -4.81508651e+01,  9.62103474e+01,\n",
       "        6.99059696e+01, -1.00216877e+01,  5.69802085e+01,  1.14686403e+01,\n",
       "        6.13517345e+01,  1.16213067e+02,  2.08601682e+02, -7.37815499e+01,\n",
       "        2.63303337e+02, -1.45208780e+02,  3.48214905e+01,  1.08831721e+02,\n",
       "        7.80991868e+01, -1.22699520e+01,  2.91877750e+01,  6.99906534e-01,\n",
       "       -8.93647569e+00,  1.34960210e+02,  8.57015486e+01, -1.92909595e+01,\n",
       "        1.39959988e+02,  8.07299521e+01,  1.31286212e+02,  1.12962884e+02,\n",
       "       -3.28995011e+01, -6.01810402e+00,  1.24729361e+02,  1.11037027e+02,\n",
       "        4.79098406e+01,  6.17327383e+01,  1.77766490e+02, -9.15713888e+00,\n",
       "        1.04709738e+02,  2.97807348e+01,  2.82318797e+01,  1.59877685e+02,\n",
       "        1.32541635e+02,  1.31350964e+02,  1.80547881e+02,  5.21003842e+01,\n",
       "        1.18195297e+02,  1.89733243e+01,  8.24166352e+01,  3.69856946e+01,\n",
       "        5.96995965e+01,  1.09515703e+02, -3.18220683e+01,  2.59238728e+02,\n",
       "       -5.06017381e+01, -7.14188613e+01,  1.65811087e+02,  1.29166269e+02,\n",
       "        1.12411982e+02,  1.12834551e+02,  4.87753227e+01, -3.97254371e+01,\n",
       "        5.75804558e+01, -1.77161712e+01,  1.47511973e+02,  3.52942618e+01,\n",
       "       -3.25497197e+01,  1.78614158e+01,  9.12931454e+01, -6.37245528e+00,\n",
       "       -3.22220396e+01,  7.43687211e+01,  7.44966571e+01, -6.94317537e-01,\n",
       "        2.89616944e+00,  7.32049937e+01, -9.48084341e+01, -9.07463774e+01,\n",
       "       -2.18444221e+01,  2.86552848e+01,  8.10907566e+01,  1.97535622e+02,\n",
       "        1.35765962e+02,  3.40061470e+01,  4.80983792e+01, -5.02529365e+01,\n",
       "        4.81486864e+01,  2.11341361e+01,  8.22718560e+01, -3.27230944e+01,\n",
       "        1.01934651e+02,  2.03273891e+02,  3.91239852e+01,  9.01711722e+01,\n",
       "        1.19014399e+02,  9.87795281e+00,  7.24092482e+01,  5.12592401e+01,\n",
       "        5.97676099e+01, -2.73009784e+01,  5.24510174e+01,  9.97998291e+01,\n",
       "        1.95114361e+02,  1.45927083e+02,  2.65318246e+02, -2.67347563e+01,\n",
       "        1.37232064e+02,  6.83342006e+01,  2.68980293e+02, -3.08298285e+01,\n",
       "       -3.39721842e+01, -9.93926454e+00, -1.62389572e+02, -2.57550217e+00,\n",
       "       -2.59132662e+01,  6.50393786e+01,  8.41755976e+01,  2.37617084e+02,\n",
       "        1.45042384e+02, -7.69036557e+00, -3.98414671e+01,  9.91919172e+01,\n",
       "       -8.20233207e+01,  2.33145877e+02,  1.67944012e+02,  3.08243479e+00,\n",
       "       -1.21313453e+02,  1.85387237e+02,  3.85460155e+01,  1.73781631e+02,\n",
       "       -1.09442766e+02, -9.93750230e+00,  5.05243700e+01,  5.46980594e+01,\n",
       "        4.99345285e+00,  1.12284993e+02, -5.67620429e+01,  3.57620515e+01,\n",
       "        6.20295632e+01,  1.01443883e+02,  1.21161488e+02, -6.24642092e+01,\n",
       "       -1.03411417e+02,  1.77767682e+02,  8.32314012e+01, -2.48486537e+01,\n",
       "        2.05115198e+02,  6.15674634e+01,  1.67929718e+02,  5.67518481e+01,\n",
       "        2.56074792e+02,  2.25534084e+02,  2.51035852e+01,  1.47157095e+02,\n",
       "        1.14537595e+02,  1.86863156e+02, -4.64923461e+01,  1.18605146e+02,\n",
       "        1.55842449e+02, -1.25873949e+02, -6.83258513e+01, -1.53923218e+02,\n",
       "        2.30593166e+01,  1.21754226e+02,  2.00235705e+02,  5.74094780e+01,\n",
       "        2.12861555e+02, -8.80101458e+01, -1.20338244e+02,  4.44452301e+01,\n",
       "        8.84065449e+01,  4.67305252e+01, -1.56744210e+02,  4.10879960e+01,\n",
       "       -8.04469501e+01,  1.16967255e+02,  8.66598246e+01, -4.39879786e+01,\n",
       "       -1.38669173e+00, -5.59213522e+01,  4.37320903e+01,  1.45514232e+02,\n",
       "       -4.85726046e+01,  1.00404652e+02, -3.02576184e+00, -2.92872832e+01,\n",
       "        3.92969640e+01, -5.35242322e+01, -5.36493053e+00, -6.97877893e+01,\n",
       "        2.46472513e+02,  5.35263552e+01, -1.99725508e+01,  7.13979911e+01,\n",
       "        3.87671950e+01,  2.79030400e+01,  1.11416670e+02,  1.25750771e+02,\n",
       "       -3.05011476e+00, -7.58182406e+00,  2.24948303e+01, -1.80192116e+02,\n",
       "       -1.01519106e+02,  1.86687427e+02,  2.14496771e+02,  2.50963960e+01,\n",
       "        1.07655696e+02,  8.11250155e+01,  3.57888081e+02,  1.61957491e+02,\n",
       "        3.72082409e+01, -4.55540441e+01, -1.10644632e+02,  7.03463636e+01,\n",
       "       -2.56350745e+01, -9.22253710e+01, -1.46572884e+01, -5.81548004e+01,\n",
       "        2.18714164e+02,  1.38163976e+02,  4.92027359e+01,  1.97994414e+02,\n",
       "        5.77368308e+01, -3.61284201e+01,  2.02312408e+02,  1.03891004e+02,\n",
       "       -5.37246154e+01,  3.09661322e+01, -3.75618253e+01, -8.82799731e+01,\n",
       "        1.42617755e+02,  2.40941664e+02, -8.98567574e+01,  1.06296924e+02,\n",
       "       -1.50642569e+01,  1.28746162e+00, -9.23939242e+00, -3.63990770e+01,\n",
       "        5.48521628e+01, -3.30950116e+01,  7.70456826e+01,  4.49761891e+01,\n",
       "        2.61051953e+01, -4.07563662e+01, -7.67713306e+00,  1.25539123e+02,\n",
       "        1.00091719e+02, -4.77555245e+01,  5.99332305e+01,  1.25138712e+02,\n",
       "       -1.16940528e+02,  1.04336019e+02, -1.62623759e+01,  1.07059867e+02,\n",
       "       -2.63259157e+01, -1.30488210e+02, -1.12754244e+02,  5.48084947e+01,\n",
       "        7.59722502e+01, -4.04316625e+01,  1.13859246e+02, -1.16152006e+02,\n",
       "        4.33920201e+01, -7.11016200e+01, -1.51836108e+01,  5.47398671e+01,\n",
       "       -3.60413365e+01,  1.15444456e+01,  1.50629281e+02, -7.68918695e+00,\n",
       "        1.33569211e+02, -6.29706855e+01,  1.02980418e+02,  1.94156862e+02,\n",
       "       -1.97164450e+02, -2.96895255e+01,  1.07707213e+02,  2.96954614e+01,\n",
       "        8.71145873e+01, -1.03985187e+01,  5.86589787e+01,  3.44322765e+01,\n",
       "        1.66778206e+02,  7.54420843e+01,  8.37602662e+01,  8.81230339e+00,\n",
       "        1.23937759e+00,  6.74418122e+00,  8.94452142e+01,  7.90155192e+00,\n",
       "        7.89774857e+01,  2.57540080e+02,  1.37112470e+02,  1.73976468e+01,\n",
       "        1.70121392e+02,  9.19246270e+00, -1.53812454e+02, -5.08086311e+01,\n",
       "       -1.37079192e+02,  1.48486516e+01,  5.18418379e+01,  2.17643731e+02,\n",
       "        8.26927374e+01,  2.80899471e+01,  1.32940558e+02, -1.71113531e+02,\n",
       "        7.35614558e+01,  1.27086519e+02, -9.78586246e+01,  1.64375404e+02,\n",
       "        8.38496407e+01,  8.47120861e+00,  1.13278187e+02,  2.77069286e+02,\n",
       "        6.81866255e+01,  7.48220586e+01,  4.06391005e+00, -3.49844369e+01,\n",
       "        1.33033582e+02, -3.56083826e+01,  5.71566237e+01,  2.23425532e+00,\n",
       "        9.78979826e+01,  8.33662105e+01,  1.53753994e+02, -1.00163989e+00,\n",
       "        2.30125065e+01, -4.78763716e+01,  5.57067399e+00,  8.77300493e+01,\n",
       "        1.25698862e+02, -4.22165324e+01,  1.36960592e+02,  1.85563786e+02,\n",
       "        9.13434903e+01,  2.37679581e+02, -2.73789199e+01, -7.44654703e+01,\n",
       "       -1.27872025e+02,  1.99604431e+02,  1.15436566e+02,  4.44415329e+01,\n",
       "        7.79968626e+01, -6.25489047e+01,  2.94575198e+02,  6.29221182e+01,\n",
       "        6.09394795e+01,  1.22576662e+02,  9.81009232e+01,  7.23884024e+01,\n",
       "       -2.90474455e+01,  9.71468357e+01,  2.38202450e+02,  1.84542005e+02,\n",
       "        2.09318663e+02, -1.12156764e+00, -4.89604820e+01,  3.74213080e+01,\n",
       "        5.55724912e+01,  1.59419152e+02, -1.19246463e+02,  2.02955032e+02,\n",
       "        3.41992101e+01,  7.31189301e+00, -5.12104375e+01, -1.15485667e+02,\n",
       "        1.32317058e+02,  5.73317967e+01, -7.89960900e+01, -7.95078772e+01,\n",
       "        1.64215301e+01,  2.16902153e+02,  2.40408649e+01, -1.00314295e+02,\n",
       "        2.54256936e+01,  2.27276430e+01, -2.19688664e+02,  4.45705133e+01,\n",
       "        2.69065470e+01,  1.19620636e+02,  2.34895609e+02,  1.62656503e+02,\n",
       "        2.31111309e+01, -6.06525909e+01,  3.07335980e+02,  5.59218434e+01,\n",
       "        5.13929292e+01,  4.75874913e+01,  6.98084761e+01,  3.55639588e+01,\n",
       "       -7.36620069e+00, -4.68589412e+00,  4.67246730e+01, -4.34247711e+00,\n",
       "       -2.12845783e+01,  6.06430228e+01,  2.45022783e+01,  2.00399299e+02,\n",
       "       -2.15096981e+02,  1.59150685e+02,  1.74608519e+02, -1.57339023e+02,\n",
       "        1.57312406e+01,  1.28559134e+01, -9.07511695e+01, -2.77816688e+01,\n",
       "       -6.10575845e+01,  2.25227044e+02,  1.43567839e+02,  1.77155509e+02,\n",
       "        1.22167206e+02, -6.29051771e+01, -2.45202663e+00,  9.89374561e+01,\n",
       "       -7.22127809e+01,  1.21299843e+02,  2.59674602e+01,  1.25179192e+01,\n",
       "        1.21095997e+02,  9.44263311e+01,  1.39033834e+01,  1.65932980e+02,\n",
       "       -5.81063328e+01,  1.11593561e+02,  1.09310126e+02,  1.90453561e+01,\n",
       "        8.26133022e+01, -7.51113576e+01,  1.42402702e+02,  3.15097864e+01,\n",
       "       -2.27230205e+00,  1.54900923e+02, -2.04343691e+01, -9.08461296e+01,\n",
       "       -1.05662917e+02,  1.10600995e+02, -7.80429352e+01,  2.25479418e+02,\n",
       "       -1.58192941e+02,  2.19645637e+02,  7.11017467e+01,  4.03286888e+01,\n",
       "       -4.49190868e+00,  8.99136114e+01,  4.62365298e+01,  1.60330188e+02,\n",
       "        6.14227649e+01,  6.50301761e+01,  1.36387788e+01,  4.43054376e+01,\n",
       "        8.07801769e+01, -1.21016839e+02, -8.48185422e+01,  1.24326409e+02,\n",
       "        6.70865438e+01,  3.16016664e+01,  5.18433933e+01,  8.47581705e+01,\n",
       "       -3.97596803e+00, -2.78304725e+01,  6.95845255e+01, -4.78372778e+01,\n",
       "        9.08252756e+01, -1.20258360e+02,  1.52915564e+02,  9.72597482e+01,\n",
       "        7.56029734e+01,  1.48269098e+02,  2.16547444e+02,  1.51437007e+02,\n",
       "       -1.34087423e+02, -7.79576967e+01, -1.24818578e+01,  5.26091050e+01,\n",
       "        1.01765902e+02, -2.25743813e+01,  6.86766764e+01, -2.55382932e+01,\n",
       "       -1.11517803e+01, -9.06661097e+01, -4.23233246e+01, -8.51684606e+01,\n",
       "       -4.75873253e+01,  1.55364180e+02, -4.49398889e+01,  3.13238206e+02,\n",
       "        9.93317901e+01,  6.84836124e+01, -3.58357780e+01,  1.20030988e+02,\n",
       "       -7.56378262e+00,  6.22009815e+01,  3.06008454e+02,  4.03940100e+01,\n",
       "        1.64927333e+02, -2.03176425e+01,  4.65011510e+01,  2.27080064e+02,\n",
       "       -1.26967058e+01,  2.31244856e+02,  1.20775194e+02, -6.24667759e+00,\n",
       "        1.13240774e+02,  1.47255445e+02,  1.12180996e+02, -1.07022472e+02,\n",
       "       -2.27137176e+01,  2.52481364e+01,  4.25566571e+01,  1.12067210e+02,\n",
       "        6.77701001e+01, -8.35344359e+01,  8.80197851e+01,  1.11058575e+02,\n",
       "        1.05979045e+02,  1.58078073e+02,  1.33392215e+02,  9.59180079e+01,\n",
       "        4.29834289e+01, -1.16096093e+02,  9.29618219e+01,  7.07687687e+01,\n",
       "        7.71578837e+01, -7.76748576e+01, -5.81056540e+01,  1.55315285e+02,\n",
       "        4.60444846e+01,  1.18150070e+02,  5.28318376e+01,  5.29756139e+01,\n",
       "        1.43828381e+02, -1.60447282e+00,  5.96120777e+01,  3.77247113e+00,\n",
       "        6.55037726e+00,  1.90827877e+01,  7.22133772e+01,  2.12513783e+00,\n",
       "        1.75575613e+02, -3.94607302e+01,  3.13128356e+01,  6.02689417e+00,\n",
       "        1.94697788e+02,  6.96554777e+01,  1.53184454e+02, -9.85560373e+01,\n",
       "        7.67050266e+01,  1.38963080e+02,  5.82283989e+01,  1.56548038e+02,\n",
       "       -1.72884501e+00,  1.90934744e+02,  2.79889812e+02,  1.37161440e+01,\n",
       "        5.44974786e+00,  1.95338448e+02,  2.07957215e+02, -2.28600272e+00,\n",
       "        7.98131829e+00,  2.18215391e+01, -8.44450511e+01, -4.18651946e+01,\n",
       "       -5.04140767e+01, -2.67797565e+01,  4.65315113e+01,  7.34214733e+01,\n",
       "        2.05050049e+02, -4.98354041e+01,  1.48432240e+02,  2.86011156e+01,\n",
       "        4.50536290e+01,  1.17481949e+02, -6.22722022e+01,  8.82409746e+01,\n",
       "        6.66452208e+01,  9.92451264e+01,  7.89168644e+01,  2.95530014e+02,\n",
       "       -1.37739984e+01, -3.09969550e+00, -1.23140526e+01, -5.54771192e+00,\n",
       "       -1.37387127e+01,  1.68901653e+02,  1.92050425e+02, -7.07462937e+00,\n",
       "       -3.32355573e+01,  9.71415556e+01, -5.22230443e+00,  1.13293182e+02,\n",
       "        7.02923021e+01, -1.01574411e+02,  2.04750520e+02,  2.29587767e+02,\n",
       "       -1.12788690e+01,  1.12298440e+01,  7.85865391e+01,  8.34456790e+01,\n",
       "        1.15854427e+02,  2.51020454e+02,  3.23052773e+01, -2.98297245e+01,\n",
       "       -8.79319228e+01, -2.30930040e+01,  4.66873027e+01,  2.29455786e+02,\n",
       "       -1.76112990e+00,  7.23787952e+01,  4.83577104e+01,  1.68839327e+02,\n",
       "        3.02693243e+02, -3.08687729e+00,  1.05605575e+00,  1.54416088e+02,\n",
       "        1.18189149e+02,  2.34670733e+02,  1.08392819e+02,  1.40707909e+01,\n",
       "        1.09065483e+02,  1.60870358e+02,  1.32048218e+02,  1.00727403e+02,\n",
       "        1.56667469e+02,  1.66929559e+02,  1.88215899e+02,  1.14870989e+02,\n",
       "        3.32881920e+01,  6.46713686e+01,  1.70650897e+02, -3.16935671e+01,\n",
       "        8.68673309e+01,  1.06661188e+01,  5.28744823e+01,  1.77845186e+02,\n",
       "        6.91099068e+01,  5.46436548e+01, -8.59856141e+01,  1.24625357e+02,\n",
       "        1.14548418e+02,  2.66325472e+02,  1.92221765e+01,  7.19150328e+01,\n",
       "        7.49383684e+01,  2.07745328e+02,  4.04704468e+01,  7.79021526e+01,\n",
       "        1.10789651e+02,  6.86609123e+01,  5.35663854e+00,  6.94089993e+01,\n",
       "        1.57363175e+02, -5.26515299e+01,  6.32969674e+01, -2.00120815e+01,\n",
       "        1.69504663e+02, -1.02318690e+02, -5.89218473e+00,  8.77211875e+01,\n",
       "        2.06552403e+02,  4.34249739e+01, -5.51995267e+00,  2.38115707e+02,\n",
       "       -9.48013900e+01, -1.69880596e+02,  9.40014450e+01, -2.05422435e-01,\n",
       "       -5.21232817e+01,  1.20835645e+02,  7.43800714e+01, -6.40786307e+00,\n",
       "       -7.80304399e+01,  1.37245733e+02,  1.15020118e+02,  4.00824136e+01,\n",
       "        2.34663700e+02, -5.70084766e+01, -1.02552517e+02, -1.91908070e+01,\n",
       "        4.54413984e+01,  7.43339449e+01,  2.58763942e+01,  8.52055397e+01,\n",
       "       -7.51539424e+01,  1.94376460e+02,  4.17848822e+01,  1.61729583e+02,\n",
       "        8.42725346e+01,  9.56753219e+01,  1.06976728e+02,  9.47708560e+01,\n",
       "        1.14272276e+02,  1.82915253e+02,  6.96521170e+01,  1.20900376e+02,\n",
       "        4.10264306e+01,  1.94011722e+02, -1.76392302e+01,  2.30094043e+02,\n",
       "        4.59842049e+01, -9.30775102e+01,  6.28104415e+01, -1.81051657e+01,\n",
       "        1.34064355e+02, -1.52623979e+01,  5.38165668e+00, -1.38954073e+02,\n",
       "        4.76936808e+00, -1.92387933e+02, -1.08390282e+02,  1.26041466e+02,\n",
       "        1.28580016e+02,  9.25457562e+01, -4.66976143e+01,  4.52288644e+01,\n",
       "        4.96397461e+01, -6.58364689e+01,  2.00339830e+02,  1.37736229e+02,\n",
       "        2.79035826e+01,  5.26885839e+01,  7.08382808e+01, -1.54173487e+02,\n",
       "        2.52822617e+01, -1.81984248e+01, -5.01620010e+01,  2.18899707e+01,\n",
       "        2.29768653e+02,  1.14084286e+02, -7.11789898e+00,  1.07258278e+02])"
      ]
     },
     "execution_count": 46,
     "metadata": {},
     "output_type": "execute_result"
    }
   ],
   "source": [
    "np.random.seed(42)\n",
    "np.random.normal(size = 1000, loc = 50, scale = 100)"
   ]
  },
  {
   "cell_type": "code",
   "execution_count": 47,
   "metadata": {},
   "outputs": [
    {
     "name": "stderr",
     "output_type": "stream",
     "text": [
      "C:\\Users\\Rebecca\\Anaconda3\\lib\\site-packages\\scipy\\stats\\stats.py:1713: FutureWarning: Using a non-tuple sequence for multidimensional indexing is deprecated; use `arr[tuple(seq)]` instead of `arr[seq]`. In the future this will be interpreted as an array index, `arr[np.array(seq)]`, which will result either in an error or a different result.\n",
      "  return np.add.reduce(sorted[indexer] * weights, axis=axis) / sumval\n"
     ]
    },
    {
     "data": {
      "image/png": "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\n",
      "text/plain": [
       "<Figure size 432x288 with 1 Axes>"
      ]
     },
     "metadata": {
      "needs_background": "light"
     },
     "output_type": "display_data"
    }
   ],
   "source": [
    "# Plot a histogram of 1000 numbers with a mean of 50 and a standard deviation of 10\n",
    "import seaborn as sns\n",
    "\n",
    "plt.title(\"Example of normal distribution\")\n",
    "plt.show (sns.distplot(np.random.normal(50, 10.0, 1000), bins=20, color='b'))"
   ]
  },
  {
   "cell_type": "code",
   "execution_count": null,
   "metadata": {},
   "outputs": [],
   "source": []
  },
  {
   "cell_type": "markdown",
   "metadata": {},
   "source": [
    "numpy.random.exponential"
   ]
  },
  {
   "cell_type": "markdown",
   "metadata": {},
   "source": [
    "The exponential is a continuous distribution describing the probability of an event occuring during a timeframe by looking at the the time or distance between the events.  It is often used in conjunction with a Poisson distribution which creates a model of the the number of occurrences in a fixed period of time, it is discrete and defined in integers.  There is a strong relationship between the two distributions which describe the same thing but from different perspectives.  \n",
    "\n",
    "Non-negative numbers within an exponential distribution are memoryless.  The past has no impact on any future behaviour.  If a certain period of time was to pass before an event occurs, with memoryless, this would have no effect on when the event was to happen. eg. if a plane crashed, some people may think that the probability of it happening again to the same company would be greatly reduced but in reality, the chances if it happening at any given time have not changed.\n",
    "\n",
    "Its probability density function is:  f(x; \\frac{1}{\\beta}) = \\frac{1}{\\beta} \\exp(-\\frac{x}{\\beta}), \n",
    "\n",
    "for x > 0 and 0 elsewhere. \\beta is the scale parameter, which is the inverse of the rate parameter \\lambda = 1/\\beta. The rate parameter is an alternative, widely used parameterization of the exponential distribution \n",
    "\n",
    "An example of exponential could look at the number of times a website is accessed in a 30 minute period. We know it gets 180 views each hour so that is 90 views per 30 minutes. \n",
    "lambada = 3 (90 views per 1/2 hour / 30 minutes = 3 views per minute)\n"
   ]
  },
  {
   "cell_type": "code",
   "execution_count": 48,
   "metadata": {},
   "outputs": [
    {
     "data": {
      "text/plain": [
       "array([1.04548095, 0.13657876, 0.85793999, 0.23531181, 3.30297142,\n",
       "       5.90105997, 0.15012927, 6.20731247])"
      ]
     },
     "execution_count": 48,
     "metadata": {},
     "output_type": "execute_result"
    }
   ],
   "source": [
    "np.random.exponential(2, 8)"
   ]
  },
  {
   "cell_type": "code",
   "execution_count": 49,
   "metadata": {},
   "outputs": [
    {
     "data": {
      "image/png": "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\n",
      "text/plain": [
       "<Figure size 432x288 with 1 Axes>"
      ]
     },
     "metadata": {
      "needs_background": "light"
     },
     "output_type": "display_data"
    },
    {
     "data": {
      "text/plain": [
       "Text(0, 0.5, 'f(x)')"
      ]
     },
     "execution_count": 49,
     "metadata": {},
     "output_type": "execute_result"
    },
    {
     "data": {
      "image/png": "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\n",
      "text/plain": [
       "<Figure size 432x288 with 1 Axes>"
      ]
     },
     "metadata": {
      "needs_background": "light"
     },
     "output_type": "display_data"
    }
   ],
   "source": [
    "# 500 events, going in increments of 5\n",
    "\n",
    "plt.show(plt.hist(np.random.exponential(5, 500), bins=40, color='B', alpha=.3))\n",
    "plt.title('Exponential Distribution')\n",
    "plt.xlabel('x variables')\n",
    "plt.ylabel('f(x)')"
   ]
  },
  {
   "cell_type": "code",
   "execution_count": 50,
   "metadata": {},
   "outputs": [
    {
     "data": {
      "image/png": "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\n",
      "text/plain": [
       "<Figure size 432x288 with 1 Axes>"
      ]
     },
     "metadata": {
      "needs_background": "light"
     },
     "output_type": "display_data"
    }
   ],
   "source": [
    "lam = 3\n",
    "x = np.arange(0, 10, .1)\n",
    "y = lam * np.exp(- lam* x) \n",
    "plt.plot(x,y)\n",
    "plt.title('Exponential: $\\lambda$ =%.2f' % lam)\n",
    "plt.xlabel('x')\n",
    "plt.ylabel('Probability density')\n",
    "plt.show()"
   ]
  },
  {
   "cell_type": "code",
   "execution_count": 51,
   "metadata": {},
   "outputs": [
    {
     "data": {
      "text/plain": [
       "[Text(0, 0.5, 'Occurance Freq'), Text(0.5, 0, 'Poisson')]"
      ]
     },
     "execution_count": 51,
     "metadata": {},
     "output_type": "execute_result"
    },
    {
     "data": {
      "image/png": "iVBORw0KGgoAAAANSUhEUgAAAYUAAAEKCAYAAAD9xUlFAAAABHNCSVQICAgIfAhkiAAAAAlwSFlzAAALEgAACxIB0t1+/AAAADl0RVh0U29mdHdhcmUAbWF0cGxvdGxpYiB2ZXJzaW9uIDMuMC4yLCBodHRwOi8vbWF0cGxvdGxpYi5vcmcvOIA7rQAAH0FJREFUeJzt3XmYlXX9//HnCxRxX1ELMNRw4WflMrlrlpbYolailKlpiRtumInmSn0ls9Q0XDC3rFQyvcSlcDeXUgY1cUPJdVzJBdBUBN6/Pz5njodhmLlnmHvuc868Htd1rjn3mfvc531gZl7nvj+bIgIzMzOAXkUXYGZm1cOhYGZmZQ4FMzMrcyiYmVmZQ8HMzMocCmZmVuZQMDOzMoeCmZmVORTMzKxsiaIL6KjVVlstBg0aVHQZZmY1ZcqUKf+NiH7t7VdzoTBo0CAaGxuLLsPMrKZIejHLfr58ZGZmZQ4FMzMrcyiYmVmZQ8HMzMocCmZmVuZQMDOzMoeCmZmVORTMzKws11CQNFTSNEnTJY1u5fs/lDRD0qOl24/zrMfMzNqW24hmSb2BccBXgSZgsqSJEfFki12viYiRedVh1kzKtl9EvnWYVbM8zxQ2B6ZHxHMRMQe4Gtgtx9czM7PFlGco9AderthuKj3W0nclPSbpWkkDc6zHqoSU7WZm3S/PUGjt17rlifmNwKCI+DxwO3BFqweSRkhqlNQ4Y8aMLi7TzMya5RkKTUDlJ/8BwKuVO0TEWxHxUWnzYmCz1g4UEeMjoiEiGvr1a3fmVzMz66Q8Q2EyMFjS2pL6AMOBiZU7SPpUxeauwFM51mNmZu3IrfdRRMyVNBKYBPQGLo2IJySNARojYiJwhKRdgbnA28AP86rHzMzap6ix/ncNDQ3hRXZqW1FdQ90l1XoySVMioqG9/Tyi2czMyhwKZmZW5lAwM7Myh4KZmZU5FMzMrMyhYGZmZQ4FMzMrcyiYmVmZQ8HMzMocCmZmVuZQMDOzMoeCmZmVORTMzKzMoWBmZmUOBTMzK3MomJlZmUPBzMzKHApmZlbmUDAzszKHgpmZlTkUzMyszKFgZmZlSxRdgFmtktrfJyL/Osy6ks8UzMyszKFgZmZlDgUzMytzKJiZWZlDwczMyhwKZmZW5lAwM7Myh4KZmZU5FMzMrCzXUJA0VNI0SdMljW5jvz0khaSGPOsxM7O25RYKknoD44BdgCHA9yQNaWW/5YEjgAfzqsXMzLLJ80xhc2B6RDwXEXOAq4HdWtnv58CvgA9zrMXMzDLIMxT6Ay9XbDeVHiuTtAkwMCJuyrEOMzPLKM9QaG0OyfKckZJ6AWcDx7R7IGmEpEZJjTNmzOjCEs3MrFKeodAEDKzYHgC8WrG9PLARcLekF4AtgYmtNTZHxPiIaIiIhn79+uVYsplZz5ZnKEwGBktaW1IfYDgwsfmbETEzIlaLiEERMQj4F7BrRDTmWJOZmbUht1CIiLnASGAS8BQwISKekDRG0q55va6ZmXVeriuvRcQtwC0tHjt5EfvukGctZmbWPo9oNjOzMoeCmZmVORTMzKzMoWBmZmUOBTMzK3MomJlZmUPBzMzKHApmZlbmUDAzszKHgpmZlTkUzMyszKFgZmZl7U6IJ2k2FYvjVH4LiIhYocurMjOzQmSZJfVs4HXgSlIQ7A0sHxG/yrMwMzPrflkuH+0cEedHxOyImBURFwDfzbswMzPrfllCYZ6kvSX1ltRL0t7AvLwLMzOz7pclFL4P7Am8UboNKz1mPYjU/s3Mal+7bQoR8QKwW/6lmJlZ0do9U5C0nqQ7JD1e2v68pBPzL83MzLpblstHFwPHAx8DRMRjwPA8izIzs2JkCYVlIuKhFo/NzaMYMzMrVpZQ+K+kdSkNYJO0B/BarlWZmVkhsgxeOwwYD2wg6RXgedIANjMzqzNthoKkXkBDROwkaVmgV0TM7p7SzMysu7V5+Sgi5gMjS/ffdyCYmdW3LG0Kt0n6iaSBklZpvuVemZmZdbssbQoHlL4eVvFYAOt0fTlmZlakLCOa1+6OQszMrHiLvHwk6fSK+1/tnnLMzKxIbbUpDK24f0behZiZWfG8HKeZmZW11aawuqRRpNXWmu+XRcRZuVZmZmbdrq0zhYuB5YHlKu5X3tolaaikaZKmSxrdyvcPljRV0qOS7pM0pONvwczMusoizxQi4rTFObCk3sA44KtAEzBZ0sSIeLJitz9HxIWl/XcFzmLBtgwzM+tGebYpbA5Mj4jnImIOcDUtFuuJiFkVm8tSmnTPzMyKkWXwWmf1B16u2G4Ctmi5k6TDgFFAH+ArrR1I0ghgBMBaa63V5YWamVmS55lCa6v2LnQmEBHjImJd4Dig1RXdImJ8RDREREO/fv26uEwzM2uWZTnONSRdIulvpe0hkn6U4dhNwMCK7QHAq23sfzWwe4bjmplZTrKcKVwOTAI+Xdp+Bjgqw/MmA4MlrS2pD2kJz4mVO0gaXLH5DeDZDMc1M7OcZAmF1SJiAjAfICLmAvPae1Jpv5GkQHkKmBART0gaU+ppBDBS0hOSHiW1K+zXmTdhZmZdI0tD8/uSVuWT5Ti3BGZmOXhE3ALc0uKxkyvuH5m9VDMzy1uWUBhFuuyzrqT7gX7AHrlWZWZmhcgydfbDkr4ErE/qUTQtIj7OvTIzM+t2WXofHQYsFxFPRMTjwHKSDs2/NDMz625ZGpoPjIh3mzci4h3gwPxKMjOzomQJhV6SygPRSnMa9cmvJDMzK0qWhuZJwARJF5J6IB0M/D3XqszMrBBZQuE44CDgEFJD863A7/Msysxap9Ymj2lFeGpJ66QsvY/mAxeUbmZmVsfaDQVJ2wCnAp8p7S8gImKdfEszM7PuluXy0SXA0cAUMkxvYWZmtStLKMyMiL/lXomZmRUuSyjcJelM4Drgo+YHI+Lh3KoyM7NCZAmF5tXSGioeCxaxSpqZmdWuLL2PvtwdhZiZWfEyrdEs6RvA/wP6Nj8WEWPyKsrMzIqRZUK8C4G9gMNJ3VGHkbqnmplZncky99HWEbEv8E5EnAZsxYJrL5uZWZ3IEgoflr7+T9KngY+BtfMryczMipKlTeFGSSsBZwIPk3oeXZxrVWZmVog2Q0FSL+CO0noKf5V0E9A3IjKt0WxmZrWlzctHpcnwflOx/ZEDwcysfmVpU7hV0ncrF9oxM7P6lKVNYRSwLDBX0od8MkvqCrlWZmZm3S7LiOblu6MQMzMrXpb1FLZv7fGI+EfXl2NmZkXKcvno2Ir7fYHNSWsreEI8M7M6k+Xy0bcqtyUNBH6VW0VmXeyFF+Cee4quwqw2ZJoQr4UmYKOuLsQsD1ddBQcdBLNnF12JWW3I0qZwHmkUM6QurBsD/86zKLOucPTRcM45sPXWMGYM7LRT0RWZVb8sZwqNFffnAldFxP051WPWJf72txQIhxwC554LS3TmnNisB8ryq3It8GFEzAOQ1FvSMhHxv3xLs54uAjozZPL991MYbLghnH22A8GsI7KMaL4DWLpie2ng9nzKMfvE+PGde96pp8KLL6bnL7VUl5ZkVveyhELfiHiveaN0f5ksB5c0VNI0SdMljW7l+6MkPSnpMUl3SPLiPVZ2zDHw2msde85jj6WzgxEjYNtt86nLrJ5lCYX3JW3avCFpM+CD9p4kqTcwDtgFGAJ8T9KQFrs9AjRExOdJl6nc1dXK5syBk07q2HOOOw5WWAF++ct8ajKrd1lC4SjgL5LulXQvcA0wMsPzNgemR8RzETEHuBrYrXKHiLirom3iX8CA7KVbLZo1K/u+hx8Ol14K/87Y1+2OO+Dvf4ef/QxWXrlz9Zn1dO2GQkRMBjYADgEOBTaMiCkZjt0feLliu6n02KL8CPhba9+QNEJSo6TGGTNmZHhpq1ZXX5193xNPTH/cR41Kjc5tmT8ffvpTWGstOOywxavRrCdrNxQkHQYsGxGPR8RUYDlJh2Y4dmv9Rlr91Zb0A6CBtLrbwk+KGB8RDRHR0K9fvwwvbdXq8suz77vyynDKKXDnnfDXv7a97zXXwMMPwy9+AX37LlaJZj1alstHB5ZWXgMgIt4BDszwvCZgYMX2AODVljtJ2gn4GbBrRHyU4bhWo6ZNg3/+s2PPOeQQ2HRTOPRQWNRJ4htvwJFHpv323nvx6zTrybKEQq/KBXZKDch9MjxvMjBY0tqS+gDDgYmVO0jaBLiIFAhvZi/batEVV0CvLD9xFZZcMj3v3XdbvywUAQcckKaxuPLKjh/fzBaU5VdoEjBB0o6SvgJcBfy9vSdFxFxSg/Qk4ClgQkQ8IWmMpF1Lu50JLEdqyH5U0sRFHM5q3Lx56Y/20KEdf+5GG8Fpp8Ff/pIaniudfz7ccguceSYMadm3zcw6TNFOC56kXsAIYCdSO8GtwO+bRzh3t4aGhmhsbGx/R+tSWUYWt/WjdNtt8LWvwYQJsOee2V6z8nhz58KXvwz33QfDhqXLSePHp7aEnXeGm29uv8aso6Pba9TuyPGyHiurrn4P1nNImhIRDe3tl2UCgD7AfcC9wH8i4sPFLc56nssvTw3H3/pWu7u2aoklUpfTM8+En/88nTUst1wa4HbCCZ2bDmNxvLpQ65hZfVhkKEhaAjgdOAB4kXSpaYCky4CfRcTH3VOi1bqZM+G669K1/8XpGdSnTxqDsOeecO+9sPvusMoqXVdns/ffh2WXXfT3X3stnbWY1aO22hTOBFYB1o6IzSJiE2BdYCXg191RnNWHCRPgww/hhz/smuMNHpwCJo9AgNQNdlFefx2+8hV45ZV8XtusaG2FwjdJ3VHLy5NExCzSILav512Y1Y/LL0+NwA3tXs2sDmefDa01W735Juy4I7z0UmrcNqtHbYVCRCut0KUGZjdjFUTKdqsWzzwDDzyQzhKqqa62rLlmqvc///nkseZAeP751Ki9/fbZjvXMM7mUaJabtkLhSUn7tnywNPr46fxKsnrSPDbhBz8oupLsLrssTb09ZAgceyzsuy+svTZMnw433gg77JD9WGedlVuZZrlYZJdUSf2B60gzok4hnR18kbSewrcjopCrqj29S2pRXRI70/1y7tz0x/Rzn1vwcks1v4fm13311TTj6h//mGZd3WuvNHjuC1/o2PGWWipdblp99c7V3JK7pFpnZe2SusgzhYh4JSK2AMYALwAvAWMiYvOiAsFqyzXXQFMTHHRQ0ZV03Kc/nQbbvfhialweP37BQMjqo49g3Liur88sL+0OXqs2PlPItl/RZwrz56c/ovPnw9SpC04/Uc3voSOvm+V4u+4K99+fzhaWybQ01eK/JvhMwRa22GcKZovj5pvh8cdh9OiePR/RMcfAW291bMpwsyL14F9Xy0sEjB0LgwbB8OFFV1Os7bZLDdYXXVR0JWbZOBSsy916a5oi+9hj0yynPZmU2lQeeggefbToasza51CwLvX882lNg/XXh/33L7qa6rDPPml6D58tWC1wKFi7brgh236zZ6eG1fnzU3/+pZfOt65asfLKab6mP/0J3nuv6GrM2uZQsEX64IPUN3/33bPtv8028NRTaa6jwYPzra3WHHRQCk03OFu1cyhYq+bPh298Iy1iM2pUtucsuST8+c+w00751laLttoqDeI77zx3F7Xq5lCwVo0bB3fdlQZt/eY32Z4zZUr2BXR6GimtI/3YY+nf1axaORRsIf/5TxpfsMsu8OMfF11N/dh7b+jXL83CalatHAq2gPnzUxAssUQ6S6iVmU1rQd++aRnRm27y7KlWvRwKtoAbboC7707LXg4YUHQ19eeQQ9IKcr/9bdGVmLXOoWBlEXD66bDuumllM+t6a6yRLiNddhm8/HLR1ZgtzKFgZbffnlYcGz06XT6yfJx8cvp61FHF1mHWGoeClZ1+OvTvn0bgWn4GDYKTToLrrvOynlZ9HAoGpCUz774bfvKTtDCM5euYY2CDDeDww9MgQbNq4VAwIDUsr7oqHHhg0ZX0DH36pIGBzz0H3/0uzJpVdEVmiUPBeP751OvooINg2WWLrqbn+PKX0yR5t94K226bxoeYFc3Nicbvfge9e6c+9Na9RoxIbQzDhsFnPwsDB6bLSm+9lZYyfe89mDcvncXV4rKmVnscCj3ce+/BJZfAHnukRmbrfl/7GjzyCFx/fZoq5JlnUtfVzTaDFVZIgT11KpxyStGVWk/gUOjh/vAHmDkTjjii6Ep6tnXWSY3PbXn6adhww+6px3outyn0YPPnw7nnwhe/CFtuWXQ11p4NNii6AusJfKbQg91wA0yblqa79hxHZgY5nylIGippmqTpkka38v3tJT0saa6kPfKsxRYUAWPHpssWw4YVXY2ZVYvcQkFSb2AcsAswBPiepCEtdnsJ+CHw57zqsNbdeSdMngw//amntDCzT+T552BzYHpEPAcg6WpgN+DJ5h0i4oXS9+bnWIe1YuxYWHNN2G+/oisxs2qS5+Wj/kDlPJBNpcesYA8+CHfckZbZ7Nu36GrMrJrkGQqtNV12anVaSSMkNUpqnDFjxmKW1bPNmwcjR6Z+8AcfXHQ1VjQp2816jjxDoQkYWLE9AHi1MweKiPER0RARDf369euS4nqqiy5K02OffTYsv3zR1ZhZtckzFCYDgyWtLakPMByYmOPrWTtefx1OOAF23BGGDy+6GjOrRrmFQkTMBUYCk4CngAkR8YSkMZJ2BZD0RUlNwDDgIklP5FVPTzd3brpc9MEHaXZOXxIws9bk2hkxIm4Bbmnx2MkV9yeTLitZjubNS8tr3nADnHMOrLde0RWZWbXyNBd17oMP0kycV14JP/85HHlk0RWZWTVzKNSp//0PLrggTcd86aVp+ccTTyy6Kusu0al+fmae+6hurbhiakfYZhv44x/Tgi7Wc9x2W5qS26yjfKZQp37yE7jrLrj3XgdCT3TaaT5bsM5xKNSpsWNhhx3cy6ineuABuOmmoquwWuRQMKtD662XJjucO7foSqzWOBTM6tAZZ6SV2i65pOhKrNY4FGrIO+8UXYHVit12g223Tes6z55ddDVWSxwKNWLOHPjOd4quwmqFBL/+NbzxBoxeaHkrs0VzKOSsq2ahHDkS7r4793KtjmyxRZoe/fzz4cYbi67GaoVDoQb84Q9w8cVw/PFFV2K15vTTYZNNYP/94dVOzVFsPY1Doco9/niayG6HHWDMmKKrsVqz1FJw1VVpupM99oCZM4uuyKqdQ6GKzZ6dfpFXXDH9YnstZeuM9ddPc181NqYPF2+8UXRFVs0cClUqIk1k9+yzKRDWXLPoiqyWfec7MHEiTJuWeiXdc0/RFVm1cihUqfPPh6uvhl/8In26M1tcQ4fC7bfDRx+lnyn3ZrPWOBSq0AMPwNFHw9e/DscdV3Q1Vk+23jqdLfzf/6VJ84rgdaGrm0Ohyjz9NHzrW/CZz6ReR738P2RdbOml07KsL71UdCVWjfwnp4q8+irsvHNqUJ40CVZdteiKrJ6tvHLRFVg1cihUiWnT4EtfgrffhltugXXWKboiM+uJHApVYostUh/ySZNgs82KrsZsQSeckKZaqUZuo+haDoUqsdZa8NBDqSHQrNqMHQtbbQVPPVV0JZY3h0KVuP9+GDSo6CrMWnf99alhetNN4bzzvKpbPXMoVInlly+6ArNF2313mDo1Le16xBFp/ednny26KsuDQyEnTzyRxhqY1Ys114Sbb4YLLoAHH4SNNoKTTvJ8SvXGodCFItKAoG22Sb8w48YVXZFZ15LSBI3TpsGwYWnE/YAB6ezh0Udh/vyiK7TFpaixi4MNDQ3R2NhYdBkL+fe/05nBXXelRuMjj4R99oHVV8/2/Kz/DVl7UXT1f2uW162H99CR1+3Kf5OsingPbR1vyhQ45xy45hr4+OM0tmabbVKX6oED0/byy39yW3FFGDKkut5DTyFpSkQ0tLufQ2HxzJmTPi2NHZsGA514Ihx0UJqyGKrvl7izHAqdO149vIcsx3vjDbj1VrjzznRp6aWX4P33sx27s6/ZzKGQTdZQ8GTMi2HyZDjggLTmwT77pE9Mq6xSdFVm3W+NNdLvwD77pO0IePfdtK747Nkwa1b6OnMmfP/72Y45Zw706ZNfzdY6h0InfPghnHoqnHlmany78Ub45jeLrsqsekjpzLm1qTSyhsJyy8GGG6bLsWuumbYB5s79JGhmzeq6mi1xKHTQAw+ks4Np0+BHP0qLo6+0UtFVmdWfUaNSN9impnRW/sEH6fFevWCFFT65ZbX55rDbbrDnnjB4cD411wOHQkbvvAOnnAK/+11qQJs0KfXVNrN8/PKX2fbL2qbQu3dq8zvxxLRu9Z57ph5U667b+RrrkbuktmPOHLjoIlhvvRQIhxySPr04EMxqyz//CS+/DGefDX37wvHHw2c/m+YaO+OMNG19T2+MhpxDQdJQSdMkTZc0upXvLyXpmtL3H5Q0KM96OmLWLPjtb9MPzcEHp2ubDz+cxh505JTVzKrHgAFw1FHpMvCLL8JvfgNLLgmjR6ff8YEDU2P5uefCffelXlU9bexFbl1SJfUGngG+CjQBk4HvRcSTFfscCnw+Ig6WNBz4dkTs1dZx8+yS+sYbae3aa69NjccffgjbbZc+UQwd2rmZFqu1C2FHuUtq545XD++hI8cr4jW74ngvvpguCd9xB0yYkO14F16YxmGsskr62nx/mWWyPb+7FT5OQdJWwKkRsXNp+3iAiBhbsc+k0j7/lLQE8DrQL9ooqrOh8NFH8NZb6fb22598femlNPPj1Kmp8RhgtdVgr73SJ4YttujwSy2gGn8BOsOh0Lnj1cN76MjxinjNoo63KH37LhgSbd1fZpk0pqm1W+/eC9fdu/cnj3dUNYxT6A+8XLHdBLT8E1veJyLmSpoJrAr8t6uLOeusNCd8S716pdGXQ4akXkXbb5+uMS65ZFdXYGb1pKlp4Q+ard1/8slP7s+du3ivecEF6XJ2nvIMhdbytmVWZ9kHSSOAEaXN9yRNW8zayubPh+nT023ixK466gJWI0PIdfUiIDksKtLu+6iH99DVr1sP7yGH49XDe2DAgGzvoysdcki6ddJnsuyUZyg0AQMrtgcAry5in6bS5aMVgbdbHigixgPjc6ozV5Ias5yyVbt6eB9+D9WhHt4D1M/7aCnP3keTgcGS1pbUBxgOtPwsPhHYr3R/D+DOttoTzMwsX7mdKZTaCEYCk4DewKUR8YSkMUBjREwELgGulDSddIYwPK96zMysfbmOaI6IW4BbWjx2csX9D4FhedZQBWryslcr6uF9+D1Uh3p4D1A/72MBNTd1tpmZ5cfTXJiZWZlDIUftTfNR7SQNlHSXpKckPSHpyKJr6ixJvSU9IummomvpLEkrSbpW0tOl/5Otiq6poyQdXfpZelzSVZL6Fl1TeyRdKulNSY9XPLaKpNskPVv62sok4bXJoZCT0jQf44BdgCHA9yRlXIiwaswFjomIDYEtgcNq8D00OxJ4qugiFtNvgb9HxAbAF6ix9yOpP3AE0BARG5E6oNRC55LLgaEtHhsN3BERg4E7Stt1waGQn82B6RHxXETMAa4Gdiu4pg6JiNci4uHS/dmkP0L9i62q4yQNAL4B/L7oWjpL0grA9qQee0TEnIh4t9iqOmUJYOnSuKRlWHjsUtWJiH+w8Pip3YArSvevAHbv1qJy5FDIT2vTfNTcH9RmpRlsNwEeLLaSTjkH+ClQy/NdrgPMAC4rXQb7vaRliy6qIyLiFeDXwEvAa8DMiLi12Ko6bY2IeA3Shydg9YLr6TIOhfxkmsKjFkhaDvgrcFRE1NQCiJK+CbwZEVOKrmUxLQFsClwQEZsA71NjlyxK1913A9YGPg0sK+kHxVZlLTkU8pNlmo+qJ2lJUiD8KSKuK7qeTtgG2FXSC6RLeF+R9MdiS+qUJqApIprP1K4lhUQt2Ql4PiJmRMTHwHXA1gXX1FlvSPoUQOnrmwXX02UcCvnJMs1HVZMk0jXspyLirKLr6YyIOD4iBkTEINL/wZ0RUXOfTiPideBlSeuXHtoReLKNp1Sjl4AtJS1T+tnakRprLK9QOUXPfsANBdbSpbxGc04WNc1HwWV11DbAPsBUSY+WHjuhNFLdut/hwJ9KHzKeA/YvuJ4OiYgHJV0LPEzq2fYINTAqWNJVwA7AapKagFOAXwITJP2IFHZ1MzODRzSbmVmZLx+ZmVmZQ8HMzMocCmZmVuZQMDOzMoeCmZmVORTMAEnzJD1amr3zL5KWaWf/B7qrNrPu5FAwSz6IiI1Ls3fOAQ5ua+eIqNWRuGZtciiYLexe4LMAkkaVzh4el3RU8w6S3it9/ZSkf1ScZWxXWrvh8tL2VElHl/bdWNK/JD0m6frmOfgl3S3pDEkPSXpG0nYFvGczwKFgtoDSlM67kEZxb0YaNbwFaT2JAyVt0uIp3wcmRcTGpDUOHgU2BvpHxEYR8TngstK+fwCOi4jPA1NJI2ObLRERmwNHtXjcrFs5FMySpUtTeTSSpi24BNgWuD4i3o+I90gTuLX8FD8Z2F/SqcDnSutOPAesI+k8SUOBWZJWBFaKiHtKz7uCtD5Cs+bJBqcAg7r83Zll5FAwS5rbFDaOiMNLCyO1Nv35AkoLsGwPvAJcKWnfiHiHdNZwN3AY2Rb3+aj0dR6ek8wK5FAwW7R/ALuXZvVcFvg2qb2hTNJnSOs1XEw6u9hU0mpAr4j4K3ASsGlEzATeqWgv2Ae4B7Mq408kZosQEQ9Luhx4qPTQ7yPikRa77QAcK+lj4D1gX9IKe5dJav7QdXzp637AhaXurjU3y6n1DJ4l1czMynz5yMzMyhwKZmZW5lAwM7Myh4KZmZU5FMzMrMyhYGZmZQ4FMzMrcyiYmVnZ/wch4DobSXECIAAAAABJRU5ErkJggg==\n",
      "text/plain": [
       "<Figure size 432x288 with 1 Axes>"
      ]
     },
     "metadata": {
      "needs_background": "light"
     },
     "output_type": "display_data"
    }
   ],
   "source": [
    "# an example of a standard poisson distribution, the event can only be measured as occurring or not as occurring\n",
    "from scipy.stats import poisson\n",
    "import seaborn as sb\n",
    "data_binom = poisson.rvs(mu=4, size=1000)\n",
    "ax = sb.distplot(data_binom,\n",
    "                  kde=True,\n",
    "                  color='blue',\n",
    "                  hist_kws={\"linewidth\": 5,'alpha':1})\n",
    "ax.set(xlabel='Poisson', ylabel='Occurance Freq')"
   ]
  },
  {
   "cell_type": "markdown",
   "metadata": {},
   "source": [
    "numpy.random.multinomial is used when there are several possible outcomes.  It is similar to but different from Binomial, which has only two outcomes (success and failure). Eg. a die is rolled 10 times.  There are 6 possibilities (1, 2, 3, 4, 5, 6). That would be classed as a multinimial experiment.  If the die was rolled 10 times to see how often 2 comes up, it would be classed as a binomial experiment (2 = success, 1, 3, 4, 5,6 = failure)\n",
    "\n"
   ]
  },
  {
   "cell_type": "code",
   "execution_count": 52,
   "metadata": {},
   "outputs": [
    {
     "data": {
      "text/plain": [
       "array([[2, 0, 4, 1, 2, 1]])"
      ]
     },
     "execution_count": 52,
     "metadata": {},
     "output_type": "execute_result"
    }
   ],
   "source": [
    "# A dice is thrown 10 times, it landed on 1 once, 2 once, 3 twice, 4 three times, etc\n",
    "\n",
    "np.random.multinomial(10, [1/6.]*6, size=1)\n"
   ]
  },
  {
   "cell_type": "code",
   "execution_count": 53,
   "metadata": {},
   "outputs": [
    {
     "name": "stdout",
     "output_type": "stream",
     "text": [
      "[[3 0 0 4 1 2]\n",
      " [0 2 2 0 2 4]]\n"
     ]
    }
   ],
   "source": [
    "# Dice is now thrown 10 times and then 10 again \n",
    "# The first round of 10 it landed on 1 twice, 2 three times, 4 once etc. and in the second round of 10 it landed on 1 once, 2 twice, 3 zero times.\n",
    "\n",
    "x=np.random.multinomial(10, [1/6.]*6, size=2)\n",
    "print (x)"
   ]
  },
  {
   "cell_type": "code",
   "execution_count": null,
   "metadata": {},
   "outputs": [],
   "source": []
  },
  {
   "cell_type": "code",
   "execution_count": null,
   "metadata": {},
   "outputs": [],
   "source": []
  },
  {
   "cell_type": "code",
   "execution_count": 54,
   "metadata": {},
   "outputs": [
    {
     "data": {
      "image/png": "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\n",
      "text/plain": [
       "<Figure size 432x288 with 1 Axes>"
      ]
     },
     "metadata": {
      "needs_background": "light"
     },
     "output_type": "display_data"
    }
   ],
   "source": [
    "plt.show(plt.hist(x))"
   ]
  },
  {
   "cell_type": "code",
   "execution_count": 55,
   "metadata": {},
   "outputs": [
    {
     "name": "stdout",
     "output_type": "stream",
     "text": [
      "1.15.4\n",
      "207 ms ± 0 ns per loop (mean ± std. dev. of 1 run, 1 loop each)\n",
      "77.7 ms ± 0 ns per loop (mean ± std. dev. of 1 run, 1 loop each)\n"
     ]
    }
   ],
   "source": [
    "# just as an aside, while researching multinominal I came across this bit of code which seems to indicate that\n",
    "# np.random.multinomial is faster than np.random.choice\n",
    "\n",
    "print(np.__version__)\n",
    "probs = [1/100.] * 100\n",
    "%timeit -n 1 -r 1 [np.random.choice(100, p=probs) for x in range(10000)]\n",
    "%timeit -n 1 -r 1 [np.random.multinomial(1, probs).argmax() for x in range(10000)]\n",
    "\n",
    "# https://github.com/numpy/numpy/issues/7543"
   ]
  },
  {
   "cell_type": "code",
   "execution_count": null,
   "metadata": {},
   "outputs": [],
   "source": []
  },
  {
   "cell_type": "markdown",
   "metadata": {},
   "source": [
    "numpy.random.uniform is a type of probability distribution which each variable has the identical probability that it will be the outcome, all of the possible outcomes are equally likely. eg. a coin has an equal probability of getting heads or tails so it can be classed as having a uniform distribution. The same can be said about a deck of cards.  There are four suits and the chances of choosing either a diamond, heart, spade or club are the same.\n",
    "\n",
    "There are 2 types of uniform distributions: continuous and discrete. With continuous each variable has an equal chance of being chosen and there can be a  infinite number of permutations.   \n",
    "\n",
    "\n",
    "Discrete distribution has a fixed list of possible values, it can not be subdivided and there may be a repeat of a value. Eg. with the throw of a dice it will always be between 1 and 6."
   ]
  },
  {
   "cell_type": "code",
   "execution_count": null,
   "metadata": {},
   "outputs": [],
   "source": []
  },
  {
   "cell_type": "markdown",
   "metadata": {},
   "source": [
    "The random.random() function takes no parameters while random.uniform() takes two parameters, i.e., start and stop.\n",
    "The random.random() function generates a random float number between 0.0 to 1.0, but never returns 1.0.  random.uniform(start, stop) generates a random float number between the start (a) and stop (b) number.  Rounding may end up giving you b."
   ]
  },
  {
   "cell_type": "code",
   "execution_count": null,
   "metadata": {},
   "outputs": [],
   "source": []
  },
  {
   "cell_type": "code",
   "execution_count": 56,
   "metadata": {},
   "outputs": [
    {
     "name": "stdout",
     "output_type": "stream",
     "text": [
      "Random float number is  0.24245292641197957\n"
     ]
    }
   ],
   "source": [
    "# random float from a uniform distribution between 0 and 1\n",
    "\n",
    "\n",
    "print(\"Random float number is \", np.random.uniform())"
   ]
  },
  {
   "cell_type": "code",
   "execution_count": 57,
   "metadata": {},
   "outputs": [
    {
     "data": {
      "text/plain": [
       "array([ 2.33254931,  1.36354653, -1.57598191, -2.09703637, -1.23928989,\n",
       "       -0.7207314 ])"
      ]
     },
     "execution_count": 57,
     "metadata": {},
     "output_type": "execute_result"
    }
   ],
   "source": [
    "# 6 random floats from  -5 to  5\n",
    "\n",
    "np.random.uniform(-5.0, 5, 6)\n"
   ]
  },
  {
   "cell_type": "code",
   "execution_count": 58,
   "metadata": {},
   "outputs": [
    {
     "name": "stdout",
     "output_type": "stream",
     "text": [
      "Random float number with two decimal places is  0.49\n",
      "Random float number between 5 and 30.5 with three decimal places is  17.674\n"
     ]
    }
   ],
   "source": [
    "print(\"Random float number with two decimal places is \", round(random.random(), 2))\n",
    "print(\"Random float number between 5 and 30.5 with three decimal places is \", round(random.uniform(5,30.5), 3))\n"
   ]
  },
  {
   "cell_type": "code",
   "execution_count": null,
   "metadata": {},
   "outputs": [],
   "source": []
  },
  {
   "cell_type": "code",
   "execution_count": 59,
   "metadata": {},
   "outputs": [
    {
     "name": "stdout",
     "output_type": "stream",
     "text": [
      "it took:  0.022937774658203125\n",
      "it took:  0.22539734840393066\n"
     ]
    }
   ],
   "source": [
    "import numpy as np\n",
    "import time\n",
    "rang = 10000\n",
    "tic = time.time()\n",
    "for i in range(rang):\n",
    "    sampl = np.random.uniform(low=0, high=5, size=(10))\n",
    "print(\"it took: \", time.time() - tic)\n",
    "\n",
    "tic = time.time()\n",
    "for i in range(rang):\n",
    "    ran_floats = [np.random.uniform(0,3) for _ in range(20)]\n",
    "print(\"it took: \", time.time() - tic)"
   ]
  },
  {
   "cell_type": "code",
   "execution_count": 81,
   "metadata": {},
   "outputs": [
    {
     "data": {
      "image/png": "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\n",
      "text/plain": [
       "<Figure size 432x288 with 1 Axes>"
      ]
     },
     "metadata": {
      "needs_background": "light"
     },
     "output_type": "display_data"
    }
   ],
   "source": [
    "plt.hist(np.random.uniform(low=0.0, high=1.0, size=1000), bins=35, color='Y', alpha=1)\n",
    "plt.xlabel(\"Probability\")\n",
    "plt.title(\"Uniform Distribution\")\n",
    "plt.show()"
   ]
  },
  {
   "cell_type": "code",
   "execution_count": 80,
   "metadata": {},
   "outputs": [
    {
     "data": {
      "image/png": "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\n",
      "text/plain": [
       "<Figure size 432x288 with 1 Axes>"
      ]
     },
     "metadata": {
      "needs_background": "light"
     },
     "output_type": "display_data"
    }
   ],
   "source": []
  },
  {
   "cell_type": "code",
   "execution_count": null,
   "metadata": {},
   "outputs": [],
   "source": []
  }
 ],
 "metadata": {
  "file_extension": ".py",
  "kernelspec": {
   "display_name": "Python 3",
   "language": "python",
   "name": "python3"
  },
  "language_info": {
   "codemirror_mode": {
    "name": "ipython",
    "version": 3
   },
   "file_extension": ".py",
   "mimetype": "text/x-python",
   "name": "python",
   "nbconvert_exporter": "python",
   "pygments_lexer": "ipython3",
   "version": "3.7.1"
  },
  "mimetype": "text/x-python",
  "name": "python",
  "npconvert_exporter": "python",
  "pygments_lexer": "ipython3",
  "version": 3
 },
 "nbformat": 4,
 "nbformat_minor": 2
}
