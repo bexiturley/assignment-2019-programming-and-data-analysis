{
 "cells": [
  {
   "cell_type": "markdown",
   "metadata": {},
   "source": [
    "# Assignment 2019\n",
    "# Programming for Data Analysis\n"
   ]
  },
  {
   "cell_type": "markdown",
   "metadata": {},
   "source": [
    "This contains all of the information for my 2019 submission for the Assignment for Programming for Data Analysis module.  Work on this began 13th October 2019 with a final submission date of November 11th."
   ]
  },
  {
   "cell_type": "markdown",
   "metadata": {},
   "source": [
    "## Problem statement 1:\n",
    "## Explain the overall purpose of the package\n",
    "\n",
    "NumPy, short for “Numerical Python” is a free to use, open source numerical library in python.  The library contains a large number of mathematical, algebriac and transformational functions.  Numpy contains a multi-dimensional array (more than one list, a list that can hold other lists, or lists within lists) and matrix data structures (numbers arranged in rows and columns).  Anaconda comes with NumPy preinstalled.  Otherwise it is necessary to install it via the pip install NumPy command line code.  Then import as np when using Python.  NumPy is utilised in data science and machine learning and to perform mathematical and statistical operations.  \n",
    "\n",
    "NumPy. Random is a module used for random sampling in NumPy, providing a way of creating random samples with the NumPy.   It gives a variety of functions to generate random numbers.  \n",
    "\n",
    "But the numbers may not be actually random, they just appear to be.  They may be pseudorandom or PRNG.  Pseudorandom number generators are algorithms that produce numbers that appear random, but are not really.  If the seed is reset each time (np.random.seed(0) ), the same set of numbers will always appear.  If random seed is not reset, different numbers will appear each time.   NumPy will generate a seed value from a part of your computer system such as the clock.\n",
    "\n",
    "The random function can be used to build customized random number generators, it’s the key ingredient for many of the functions in the random module.  Random adds unpredictability to simulations such as the Monte Carlo simulation.  In a Monte Carlo simulation, a model is built showing the different outcomes that are probable.  The process can be complicated and not easy to predict due to random variables.  It is also known as multiple probability simulation.  Monte Carlo method was the first approach to use computer simulation for statistical problems. It was developed by John von Neumann, Stanisław Ulam, & Nicholas Metropolis, working on the Manhattan project during World War II.  \n",
    "\n",
    "Random sampling can be broken down into 4 further sections, as per SciPy.org., which themselves then contain further subdivisions.  These are Simple random data, Permutations, Distributions and Random generator.\n"
   ]
  },
  {
   "cell_type": "markdown",
   "metadata": {},
   "source": [
    "## Problem statement 2\n",
    "## Explain the use of the \"Simple random data\" and \"Permutations\" functions.\n",
    "\n",
    "### Simple random data\n",
    "The Simple Random Data generates random values, integers and floats which are dependant on the selected function.  Which function to use will be determined by the data used and what is the required output. \n",
    "\n",
    "np.random.rand will return values in a given shape from a predetermined parameter (uniform distribution). Here I have asked for random numbers in three columns and two rows. As a default, the numbers returned will be more than 0 but less than 1  But first NumPy has to be imported.\n"
   ]
  },
  {
   "cell_type": "code",
   "execution_count": 2,
   "metadata": {},
   "outputs": [
    {
     "data": {
      "text/plain": [
       "array([[0.99034027, 0.3779677 ],\n",
       "       [0.7165294 , 0.74306181],\n",
       "       [0.72544239, 0.797517  ]])"
      ]
     },
     "execution_count": 2,
     "metadata": {},
     "output_type": "execute_result"
    }
   ],
   "source": [
    "import numpy as np\n",
    "np.random.rand(3,2)"
   ]
  },
  {
   "cell_type": "code",
   "execution_count": 3,
   "metadata": {},
   "outputs": [
    {
     "data": {
      "text/plain": [
       "array([0.91371388, 0.14193735, 0.23033386, 0.97489262, 0.69225414,\n",
       "       0.28116388, 0.95708107, 0.63250284, 0.29650873, 0.43675905,\n",
       "       0.28221572, 0.21483684, 0.2610216 , 0.57892828, 0.44228602,\n",
       "       0.96776155, 0.97138203, 0.83936087, 0.8017679 , 0.37148567,\n",
       "       0.19041149, 0.8346325 , 0.83834817, 0.27869913, 0.373984  ,\n",
       "       0.1727725 , 0.96654433, 0.36525456, 0.19475297, 0.82179715,\n",
       "       0.93860237, 0.51381989, 0.17434713, 0.82865127, 0.03469243,\n",
       "       0.30465119, 0.60597858, 0.19810605, 0.88057595, 0.38602842,\n",
       "       0.98889892, 0.86050744, 0.06571265, 0.97277348, 0.9575583 ,\n",
       "       0.75947961, 0.78459119, 0.84300663, 0.08270161, 0.47447882,\n",
       "       0.9711094 , 0.34509312, 0.10727583, 0.72391722, 0.25743339,\n",
       "       0.32327694, 0.14426018, 0.30503826, 0.13185914, 0.14733451,\n",
       "       0.98852385, 0.95873826, 0.77975696, 0.37329378, 0.51747608,\n",
       "       0.90698219, 0.58061986, 0.96718927, 0.72178527, 0.16585996,\n",
       "       0.43264122, 0.75224857, 0.24583672, 0.99426011, 0.73348335,\n",
       "       0.08439789, 0.99848509, 0.65143996, 0.26798715, 0.00952383,\n",
       "       0.90596848, 0.05534444, 0.77274478, 0.676304  , 0.01287024,\n",
       "       0.90895854, 0.47247488, 0.35177231, 0.29937882, 0.39774794,\n",
       "       0.2313713 , 0.72652472, 0.54171193, 0.53286165, 0.4155331 ,\n",
       "       0.301304  , 0.76697539, 0.04121707, 0.28073629, 0.51698043])"
      ]
     },
     "execution_count": 3,
     "metadata": {},
     "output_type": "execute_result"
    }
   ],
   "source": [
    "# Here I have asked for 100 random numbers\n",
    "x = np.random.rand (100)\n",
    "x"
   ]
  },
  {
   "cell_type": "code",
   "execution_count": 4,
   "metadata": {},
   "outputs": [
    {
     "data": {
      "image/png": "[encoded data removed]",
      "text/plain": [
       "<Figure size 432x288 with 1 Axes>"
      ]
     },
     "metadata": {
      "needs_background": "light"
     },
     "output_type": "display_data"
    }
   ],
   "source": [
    "#Plot the above information.\n",
    "\n",
    "%matplotlib inline\n",
    "\n",
    "import matplotlib.pyplot as plt\n",
    "\n",
    "plt.hist(x)\n",
    "plt.title(\"Histogram of random floats \")\n",
    "plt.show()"
   ]
  },
  {
   "cell_type": "code",
   "execution_count": 5,
   "metadata": {},
   "outputs": [
    {
     "data": {
      "text/plain": [
       "Text(0.5, 1.0, 'Plot random floats ')"
      ]
     },
     "execution_count": 5,
     "metadata": {},
     "output_type": "execute_result"
    },
    {
     "data": {
      "image/png": "[encoded data removed]",
      "text/plain": [
       "<Figure size 432x288 with 1 Axes>"
      ]
     },
     "metadata": {
      "needs_background": "light"
     },
     "output_type": "display_data"
    }
   ],
   "source": [
    "# Scatter plot of the above, same information just viewed differently.\n",
    "import scipy as sc\n",
    "from scipy import stats\n",
    "import math as mt\n",
    "import pandas as pd\n",
    "\n",
    "%matplotlib inline\n",
    "x = np.random.rand(100,1) # use the 100 random numbers from above, import it as x.\n",
    "y = np.arange(100) # list 0f 1 to 100 to plot the imported against in a scatter plot\n",
    "plt.scatter(x,y)\n",
    "plt.title(\"Plot random floats \")"
   ]
  },
  {
   "cell_type": "code",
   "execution_count": null,
   "metadata": {},
   "outputs": [],
   "source": []
  },
  {
   "cell_type": "markdown",
   "metadata": {},
   "source": [
    "numpy.random.randn() returns a sample (or samples) from a specific/standard normal distribution, the standard distribution.  It is  useful for adding random noise element into a dataset for initial testing of a machine learning model.  "
   ]
  },
  {
   "cell_type": "code",
   "execution_count": 6,
   "metadata": {},
   "outputs": [
    {
     "data": {
      "text/plain": [
       "array([-1.24739885,  0.60586639, -1.5539008 , -0.89184774,  1.32362828,\n",
       "       -0.38248039, -0.3511553 ,  0.00989883,  0.87070743,  0.59572335,\n",
       "       -0.04409572,  0.62777011, -0.56434957, -0.33321406,  0.07063256,\n",
       "       -1.42138401,  1.22421618, -1.50232623, -0.10365647, -0.03831274,\n",
       "       -0.02532995, -0.77467586,  1.14435437, -1.70079756,  0.63505105,\n",
       "        0.60541668, -0.29826807, -1.50038021,  1.16748219, -1.04466445,\n",
       "       -0.6243519 ,  0.81508435, -0.96244251, -0.17813805,  0.01270247,\n",
       "       -1.06983523, -1.56418266, -1.73622082,  0.28897118, -0.08691612,\n",
       "       -2.0374204 ,  0.53242983, -0.72485469, -1.14974482, -2.18972947,\n",
       "       -0.86071328, -0.71464212,  0.43945019,  0.70620445, -1.17890246,\n",
       "       -0.3953677 ,  0.59201489, -1.60238673, -0.40111854, -0.71328031,\n",
       "        0.22298933,  1.0596732 , -0.45997469,  0.74045655,  0.09227491,\n",
       "       -0.47098511,  1.05160381, -0.53211017, -1.39413032, -2.37588124,\n",
       "       -0.11719006, -0.66657565, -0.14807757, -0.73312683,  1.60410028,\n",
       "        0.94215956, -0.33827045, -0.88064226, -0.0860555 , -1.43503487,\n",
       "       -1.0489951 ,  0.72498449,  0.47876773,  1.95063525,  1.44277072,\n",
       "        0.29842212, -0.38839988,  1.79939573,  0.58746598,  0.01209507,\n",
       "        0.27444067, -0.18688713, -0.74852801,  0.12314029,  0.04779615,\n",
       "        0.58598204, -0.60206078,  0.84786428,  0.851539  ,  0.27807423,\n",
       "        0.17864612, -0.72161784, -0.18114316, -0.33345088,  0.14967643])"
      ]
     },
     "execution_count": 6,
     "metadata": {},
     "output_type": "execute_result"
    }
   ],
   "source": [
    "# Here I have asked for 100 random numbers.\n",
    "x = np.random.randn (100)\n",
    "x"
   ]
  },
  {
   "cell_type": "code",
   "execution_count": 7,
   "metadata": {
    "scrolled": true
   },
   "outputs": [
    {
     "data": {
      "image/png": "[encoded data removed]",
      "text/plain": [
       "<Figure size 432x288 with 1 Axes>"
      ]
     },
     "metadata": {
      "needs_background": "light"
     },
     "output_type": "display_data"
    }
   ],
   "source": [
    "#A histogram to show the above numbers.\n",
    "plt.hist(x)\n",
    "plt.show()"
   ]
  },
  {
   "cell_type": "markdown",
   "metadata": {},
   "source": [
    "numpy.random.randint returns a random integer in the provided range, here I have given it 1 to 100 to select from.  If you were trying to simulate the throw of a dice, you would use (1, 6)"
   ]
  },
  {
   "cell_type": "code",
   "execution_count": 8,
   "metadata": {},
   "outputs": [
    {
     "data": {
      "text/plain": [
       "12"
      ]
     },
     "execution_count": 8,
     "metadata": {},
     "output_type": "execute_result"
    }
   ],
   "source": [
    "x = np.random.randint(1,100)\n",
    "x"
   ]
  },
  {
   "cell_type": "markdown",
   "metadata": {},
   "source": [
    "numpy.random.random_integers is similar to random_integers.\n",
    "\n",
    "I have asked for two rows of 4 numbers between 2 and 8."
   ]
  },
  {
   "cell_type": "code",
   "execution_count": 9,
   "metadata": {},
   "outputs": [
    {
     "name": "stderr",
     "output_type": "stream",
     "text": [
      "C:\\Users\\Rebecca\\Anaconda3\\lib\\site-packages\\ipykernel_launcher.py:1: DeprecationWarning: This function is deprecated. Please call randint(2, 8 + 1) instead\n",
      "  \"\"\"Entry point for launching an IPython kernel.\n"
     ]
    },
    {
     "data": {
      "text/plain": [
       "array([[8, 8, 2, 5],\n",
       "       [3, 4, 8, 7]])"
      ]
     },
     "execution_count": 9,
     "metadata": {},
     "output_type": "execute_result"
    }
   ],
   "source": [
    "np.random.random_integers (2,8,(2,4))"
   ]
  },
  {
   "cell_type": "code",
   "execution_count": 10,
   "metadata": {},
   "outputs": [
    {
     "data": {
      "text/plain": [
       "array([[2, 5, 7, 7],\n",
       "       [2, 6, 3, 6]])"
      ]
     },
     "execution_count": 10,
     "metadata": {},
     "output_type": "execute_result"
    }
   ],
   "source": [
    "# I used randint instead of random_integers here as random_integers resulted in an error warning saying that that function was deprecated\n",
    "np.random.randint(2,8, size=(2,4))"
   ]
  },
  {
   "cell_type": "markdown",
   "metadata": {},
   "source": [
    "Here I have asked for 3 columns and 2 rows of random numbers with 15 being the highest random number to choose from and starting from 1. "
   ]
  },
  {
   "cell_type": "code",
   "execution_count": 11,
   "metadata": {},
   "outputs": [
    {
     "name": "stderr",
     "output_type": "stream",
     "text": [
      "C:\\Users\\Rebecca\\Anaconda3\\lib\\site-packages\\ipykernel_launcher.py:1: DeprecationWarning: This function is deprecated. Please call randint(1, 15 + 1) instead\n",
      "  \"\"\"Entry point for launching an IPython kernel.\n"
     ]
    },
    {
     "data": {
      "text/plain": [
       "array([[ 7, 15],\n",
       "       [13, 11],\n",
       "       [13,  5]])"
      ]
     },
     "execution_count": 11,
     "metadata": {},
     "output_type": "execute_result"
    }
   ],
   "source": [
    "np.random.random_integers(15, size=(3,2))"
   ]
  },
  {
   "cell_type": "code",
   "execution_count": 12,
   "metadata": {},
   "outputs": [
    {
     "data": {
      "text/plain": [
       "array([[ 1,  6],\n",
       "       [ 7,  0],\n",
       "       [ 2, 14]])"
      ]
     },
     "execution_count": 12,
     "metadata": {},
     "output_type": "execute_result"
    }
   ],
   "source": [
    "np.random.randint(15, size=(3,2))"
   ]
  },
  {
   "cell_type": "markdown",
   "metadata": {},
   "source": [
    "numpy.random.random_sample, numpy.random.random, numpy.random.ranf and numpy.random.sample are just different names for the same thing.\n",
    "\n",
    "random_sample([size]) Return random floats in the half-open interval [0.0, 1.0).\n",
    "random([size]) Return random floats in the half-open interval [0.0, 1.0).\n",
    "ranf([size]) Return random floats in the half-open interval [0.0, 1.0).\n",
    "sample([size]) Return random floats in the half-open interval [0.0, 1.0)."
   ]
  },
  {
   "cell_type": "code",
   "execution_count": 13,
   "metadata": {},
   "outputs": [
    {
     "data": {
      "text/plain": [
       "<function RandomState.random_sample>"
      ]
     },
     "execution_count": 13,
     "metadata": {},
     "output_type": "execute_result"
    }
   ],
   "source": [
    "np.random.random_sample"
   ]
  },
  {
   "cell_type": "code",
   "execution_count": 14,
   "metadata": {},
   "outputs": [
    {
     "data": {
      "text/plain": [
       "<function RandomState.random_sample>"
      ]
     },
     "execution_count": 14,
     "metadata": {},
     "output_type": "execute_result"
    }
   ],
   "source": [
    "np.random.random"
   ]
  },
  {
   "cell_type": "code",
   "execution_count": 15,
   "metadata": {},
   "outputs": [
    {
     "data": {
      "text/plain": [
       "<function RandomState.random_sample>"
      ]
     },
     "execution_count": 15,
     "metadata": {},
     "output_type": "execute_result"
    }
   ],
   "source": [
    "np.random.ranf"
   ]
  },
  {
   "cell_type": "code",
   "execution_count": 16,
   "metadata": {},
   "outputs": [
    {
     "data": {
      "text/plain": [
       "<function RandomState.random_sample>"
      ]
     },
     "execution_count": 16,
     "metadata": {},
     "output_type": "execute_result"
    }
   ],
   "source": [
    "np.random.sample"
   ]
  },
  {
   "cell_type": "code",
   "execution_count": 17,
   "metadata": {},
   "outputs": [
    {
     "data": {
      "text/plain": [
       "True"
      ]
     },
     "execution_count": 17,
     "metadata": {},
     "output_type": "execute_result"
    }
   ],
   "source": [
    "np.random.random_sample is np.random.random"
   ]
  },
  {
   "cell_type": "code",
   "execution_count": 18,
   "metadata": {},
   "outputs": [
    {
     "data": {
      "text/plain": [
       "True"
      ]
     },
     "execution_count": 18,
     "metadata": {},
     "output_type": "execute_result"
    }
   ],
   "source": [
    "np.random.random_sample is np.random.ranf"
   ]
  },
  {
   "cell_type": "code",
   "execution_count": 19,
   "metadata": {},
   "outputs": [
    {
     "data": {
      "text/plain": [
       "True"
      ]
     },
     "execution_count": 19,
     "metadata": {},
     "output_type": "execute_result"
    }
   ],
   "source": [
    "np.random.random_sample is np.random.sample"
   ]
  },
  {
   "cell_type": "code",
   "execution_count": null,
   "metadata": {},
   "outputs": [],
   "source": []
  },
  {
   "cell_type": "code",
   "execution_count": 20,
   "metadata": {},
   "outputs": [
    {
     "data": {
      "text/plain": [
       "0.1354572609868646"
      ]
     },
     "execution_count": 20,
     "metadata": {},
     "output_type": "execute_result"
    }
   ],
   "source": [
    "np.random.random_sample()"
   ]
  },
  {
   "cell_type": "markdown",
   "metadata": {},
   "source": [
    "The below script asks to select 4 columns with 2 rows of random numbers."
   ]
  },
  {
   "cell_type": "code",
   "execution_count": 21,
   "metadata": {},
   "outputs": [
    {
     "data": {
      "text/plain": [
       "array([[0.44419438, 0.53840328],\n",
       "       [0.47632399, 0.19163522],\n",
       "       [0.35752958, 0.08620564],\n",
       "       [0.56176417, 0.45483568]])"
      ]
     },
     "execution_count": 21,
     "metadata": {},
     "output_type": "execute_result"
    }
   ],
   "source": [
    "np.random.random_sample((4,2))"
   ]
  },
  {
   "cell_type": "markdown",
   "metadata": {},
   "source": [
    "numpy.random.choice\n",
    "\n",
    "Here I ask to select 4 random numbers up to 7.  The numbers that could be selected begin at 0 and go up to and include 6."
   ]
  },
  {
   "cell_type": "code",
   "execution_count": 22,
   "metadata": {},
   "outputs": [
    {
     "data": {
      "text/plain": [
       "array([3, 2, 6, 0])"
      ]
     },
     "execution_count": 22,
     "metadata": {},
     "output_type": "execute_result"
    }
   ],
   "source": [
    "np.random.choice(7, 4)"
   ]
  },
  {
   "cell_type": "markdown",
   "metadata": {},
   "source": [
    "To see what else it is capable of, this code resembles a roulette wheel and the different possible outcomes.  Also included are the weights of the three colours which are used.  The wheel is spun 12 times and the results are printed to the screen."
   ]
  },
  {
   "cell_type": "code",
   "execution_count": 23,
   "metadata": {},
   "outputs": [
    {
     "name": "stdout",
     "output_type": "stream",
     "text": [
      "['Red', 'Red', 'Red', 'Red', 'Red', 'Black', 'Red', 'Black', 'Black', 'Red', 'Red', 'Red']\n"
     ]
    }
   ],
   "source": [
    "import random\n",
    "colours = [\"Red\", \"Black\", \"Green\"]\n",
    "results = random.choices(colours, weights=[18, 18, 2], k=12)\n",
    "print (results)"
   ]
  },
  {
   "cell_type": "markdown",
   "metadata": {},
   "source": [
    "numpy.random.bytes returns random bytes"
   ]
  },
  {
   "cell_type": "code",
   "execution_count": 24,
   "metadata": {},
   "outputs": [
    {
     "data": {
      "text/plain": [
       "b'\\xf0\\xcb4\\xdc\\xc3'"
      ]
     },
     "execution_count": 24,
     "metadata": {},
     "output_type": "execute_result"
    }
   ],
   "source": [
    "np.random.bytes(5)"
   ]
  },
  {
   "cell_type": "markdown",
   "metadata": {},
   "source": [
    "And to take it a step further with bytes, an alternative way to generate a secure random sequence. Using the standard library secrets module for use in  passwords, account authentication, security tokens, and related secrets."
   ]
  },
  {
   "cell_type": "code",
   "execution_count": 25,
   "metadata": {},
   "outputs": [
    {
     "data": {
      "text/plain": [
       "b'\\x11a\\xbf\\x10'"
      ]
     },
     "execution_count": 25,
     "metadata": {},
     "output_type": "execute_result"
    }
   ],
   "source": [
    "import secrets\n",
    "b\"\\x11\" + secrets.token_bytes(2) + b\"\\x10\""
   ]
  },
  {
   "cell_type": "markdown",
   "metadata": {},
   "source": [
    "## Permutations"
   ]
  },
  {
   "cell_type": "code",
   "execution_count": 26,
   "metadata": {},
   "outputs": [
    {
     "data": {
      "text/plain": [
       "array([ 0,  1, 16,  5,  0,  2])"
      ]
     },
     "execution_count": 26,
     "metadata": {},
     "output_type": "execute_result"
    }
   ],
   "source": [
    "# Ask to randomly choose numbers from the following array.\n",
    "np.random.permutation([0, 1, 0, 2, 5, 16])\n"
   ]
  },
  {
   "cell_type": "code",
   "execution_count": 27,
   "metadata": {},
   "outputs": [
    {
     "data": {
      "text/plain": [
       "array([[12, 13],\n",
       "       [ 2,  3],\n",
       "       [ 0,  1],\n",
       "       [14, 15],\n",
       "       [ 6,  7],\n",
       "       [10, 11],\n",
       "       [ 8,  9],\n",
       "       [ 4,  5]])"
      ]
     },
     "execution_count": 27,
     "metadata": {},
     "output_type": "execute_result"
    }
   ],
   "source": [
    "# Randomly arrange numbers ranging from 0 to 15, in groups of two, for 8 columns\n",
    "arr = np.arange(16).reshape((8, 2))\n",
    "np.random.permutation(arr)"
   ]
  },
  {
   "cell_type": "markdown",
   "metadata": {},
   "source": [
    "\n",
    "Takes a list as an input and return an object list of tuples that contain all permutation in a list form, it arranges the elements of an ordered list into a one on one mapping with itself.\n",
    "\n",
    "np.random.permutation has two differences from np.random.shuffle:\n",
    "\n",
    "if passed an array, it will return a shuffled copy of the array; np.random.shuffle shuffles the array inplace if passed an integer, it will return a shuffled range i.e. np.random.shuffle(np.arange(n))\n",
    "\n",
    "np.random.permutation is useful when you need to shuffle ordered pairs, eg. for classification:"
   ]
  },
  {
   "cell_type": "code",
   "execution_count": 28,
   "metadata": {},
   "outputs": [
    {
     "data": {
      "text/html": [
       "<div>\n",
       "<style scoped>\n",
       "    .dataframe tbody tr th:only-of-type {\n",
       "        vertical-align: middle;\n",
       "    }\n",
       "\n",
       "    .dataframe tbody tr th {\n",
       "        vertical-align: top;\n",
       "    }\n",
       "\n",
       "    .dataframe thead th {\n",
       "        text-align: right;\n",
       "    }\n",
       "</style>\n",
       "<table border=\"1\" class=\"dataframe\">\n",
       "  <thead>\n",
       "    <tr style=\"text-align: right;\">\n",
       "      <th></th>\n",
       "      <th>country</th>\n",
       "      <th>place</th>\n",
       "    </tr>\n",
       "  </thead>\n",
       "  <tbody>\n",
       "    <tr>\n",
       "      <th>A</th>\n",
       "      <td>England</td>\n",
       "      <td>8</td>\n",
       "    </tr>\n",
       "    <tr>\n",
       "      <th>B</th>\n",
       "      <td>Austraila</td>\n",
       "      <td>7</td>\n",
       "    </tr>\n",
       "    <tr>\n",
       "      <th>C</th>\n",
       "      <td>New Zeland</td>\n",
       "      <td>5</td>\n",
       "    </tr>\n",
       "    <tr>\n",
       "      <th>D</th>\n",
       "      <td>Wales</td>\n",
       "      <td>5</td>\n",
       "    </tr>\n",
       "    <tr>\n",
       "      <th>E</th>\n",
       "      <td>France</td>\n",
       "      <td>4</td>\n",
       "    </tr>\n",
       "    <tr>\n",
       "      <th>F</th>\n",
       "      <td>Japan</td>\n",
       "      <td>3</td>\n",
       "    </tr>\n",
       "    <tr>\n",
       "      <th>G</th>\n",
       "      <td>South Africa</td>\n",
       "      <td>2</td>\n",
       "    </tr>\n",
       "    <tr>\n",
       "      <th>H</th>\n",
       "      <td>Ireland</td>\n",
       "      <td>1</td>\n",
       "    </tr>\n",
       "  </tbody>\n",
       "</table>\n",
       "</div>"
      ],
      "text/plain": [
       "        country place\n",
       "A       England     8\n",
       "B     Austraila     7\n",
       "C    New Zeland     5\n",
       "D         Wales     5\n",
       "E        France     4\n",
       "F         Japan     3\n",
       "G  South Africa     2\n",
       "H       Ireland     1"
      ]
     },
     "execution_count": 28,
     "metadata": {},
     "output_type": "execute_result"
    }
   ],
   "source": [
    "# Create a table and take a look at it\n",
    "import pandas as pd\n",
    "raw_data = {\n",
    "    \"country\": [\"England\", \"Austraila\", \"New Zeland\",  \"Wales\", \"France\", \"Japan\", \"South Africa\", \"Ireland\"],\n",
    "    \"place\": [\"8\", \"7\", \"5\", \"5\", \"4\", \"3\", \"2\", \"1\"]\n",
    "    }\n",
    "df = pd.DataFrame (raw_data,\n",
    "                  index = pd.Index([\"A\", \"B\", \"C\", \"D\", \"E\", \"F\", \"G\", \"H\"]))\n",
    "df"
   ]
  },
  {
   "cell_type": "code",
   "execution_count": 29,
   "metadata": {},
   "outputs": [
    {
     "data": {
      "text/html": [
       "<div>\n",
       "<style scoped>\n",
       "    .dataframe tbody tr th:only-of-type {\n",
       "        vertical-align: middle;\n",
       "    }\n",
       "\n",
       "    .dataframe tbody tr th {\n",
       "        vertical-align: top;\n",
       "    }\n",
       "\n",
       "    .dataframe thead th {\n",
       "        text-align: right;\n",
       "    }\n",
       "</style>\n",
       "<table border=\"1\" class=\"dataframe\">\n",
       "  <thead>\n",
       "    <tr style=\"text-align: right;\">\n",
       "      <th></th>\n",
       "      <th>country</th>\n",
       "      <th>place</th>\n",
       "    </tr>\n",
       "  </thead>\n",
       "  <tbody>\n",
       "    <tr>\n",
       "      <th>A</th>\n",
       "      <td>England</td>\n",
       "      <td>8</td>\n",
       "    </tr>\n",
       "    <tr>\n",
       "      <th>B</th>\n",
       "      <td>Austraila</td>\n",
       "      <td>7</td>\n",
       "    </tr>\n",
       "    <tr>\n",
       "      <th>C</th>\n",
       "      <td>New Zeland</td>\n",
       "      <td>5</td>\n",
       "    </tr>\n",
       "    <tr>\n",
       "      <th>D</th>\n",
       "      <td>Wales</td>\n",
       "      <td>5</td>\n",
       "    </tr>\n",
       "    <tr>\n",
       "      <th>E</th>\n",
       "      <td>France</td>\n",
       "      <td>4</td>\n",
       "    </tr>\n",
       "    <tr>\n",
       "      <th>F</th>\n",
       "      <td>Japan</td>\n",
       "      <td>3</td>\n",
       "    </tr>\n",
       "    <tr>\n",
       "      <th>G</th>\n",
       "      <td>South Africa</td>\n",
       "      <td>2</td>\n",
       "    </tr>\n",
       "    <tr>\n",
       "      <th>H</th>\n",
       "      <td>Ireland</td>\n",
       "      <td>1</td>\n",
       "    </tr>\n",
       "  </tbody>\n",
       "</table>\n",
       "</div>"
      ],
      "text/plain": [
       "        country place\n",
       "A       England     8\n",
       "B     Austraila     7\n",
       "C    New Zeland     5\n",
       "D         Wales     5\n",
       "E        France     4\n",
       "F         Japan     3\n",
       "G  South Africa     2\n",
       "H       Ireland     1"
      ]
     },
     "execution_count": 29,
     "metadata": {},
     "output_type": "execute_result"
    }
   ],
   "source": [
    "# Take a look at the shape of the table.\n",
    "nrows = df.shape[0]\n",
    "df"
   ]
  },
  {
   "cell_type": "markdown",
   "metadata": {},
   "source": [
    "Randomise the sequence of the rows"
   ]
  },
  {
   "cell_type": "code",
   "execution_count": 30,
   "metadata": {},
   "outputs": [],
   "source": [
    "# Randomise the sequence of the rows\n",
    "\n",
    "b = np.random.permutation(nrows)"
   ]
  },
  {
   "cell_type": "code",
   "execution_count": 31,
   "metadata": {},
   "outputs": [
    {
     "data": {
      "text/plain": [
       "array([1, 5, 4, 3, 7, 6, 0, 2])"
      ]
     },
     "execution_count": 31,
     "metadata": {},
     "output_type": "execute_result"
    }
   ],
   "source": [
    "b"
   ]
  },
  {
   "cell_type": "markdown",
   "metadata": {},
   "source": [
    "\n",
    "Print out the data frame based on the array created above with permutation. Take function takes the indeces and change the order of the rows according to the indeces that we pass it."
   ]
  },
  {
   "cell_type": "code",
   "execution_count": 32,
   "metadata": {},
   "outputs": [
    {
     "data": {
      "text/html": [
       "<div>\n",
       "<style scoped>\n",
       "    .dataframe tbody tr th:only-of-type {\n",
       "        vertical-align: middle;\n",
       "    }\n",
       "\n",
       "    .dataframe tbody tr th {\n",
       "        vertical-align: top;\n",
       "    }\n",
       "\n",
       "    .dataframe thead th {\n",
       "        text-align: right;\n",
       "    }\n",
       "</style>\n",
       "<table border=\"1\" class=\"dataframe\">\n",
       "  <thead>\n",
       "    <tr style=\"text-align: right;\">\n",
       "      <th></th>\n",
       "      <th>country</th>\n",
       "      <th>place</th>\n",
       "    </tr>\n",
       "  </thead>\n",
       "  <tbody>\n",
       "    <tr>\n",
       "      <th>B</th>\n",
       "      <td>Austraila</td>\n",
       "      <td>7</td>\n",
       "    </tr>\n",
       "    <tr>\n",
       "      <th>F</th>\n",
       "      <td>Japan</td>\n",
       "      <td>3</td>\n",
       "    </tr>\n",
       "    <tr>\n",
       "      <th>E</th>\n",
       "      <td>France</td>\n",
       "      <td>4</td>\n",
       "    </tr>\n",
       "    <tr>\n",
       "      <th>D</th>\n",
       "      <td>Wales</td>\n",
       "      <td>5</td>\n",
       "    </tr>\n",
       "    <tr>\n",
       "      <th>H</th>\n",
       "      <td>Ireland</td>\n",
       "      <td>1</td>\n",
       "    </tr>\n",
       "    <tr>\n",
       "      <th>G</th>\n",
       "      <td>South Africa</td>\n",
       "      <td>2</td>\n",
       "    </tr>\n",
       "    <tr>\n",
       "      <th>A</th>\n",
       "      <td>England</td>\n",
       "      <td>8</td>\n",
       "    </tr>\n",
       "    <tr>\n",
       "      <th>C</th>\n",
       "      <td>New Zeland</td>\n",
       "      <td>5</td>\n",
       "    </tr>\n",
       "  </tbody>\n",
       "</table>\n",
       "</div>"
      ],
      "text/plain": [
       "        country place\n",
       "B     Austraila     7\n",
       "F         Japan     3\n",
       "E        France     4\n",
       "D         Wales     5\n",
       "H       Ireland     1\n",
       "G  South Africa     2\n",
       "A       England     8\n",
       "C    New Zeland     5"
      ]
     },
     "execution_count": 32,
     "metadata": {},
     "output_type": "execute_result"
    }
   ],
   "source": [
    "# Print out the data frame based on the array created above with permutation. The function takes the indeces and changes order of the rows according to the indeces that we pass it.\n",
    "\n",
    "df.take(b)"
   ]
  },
  {
   "cell_type": "code",
   "execution_count": 33,
   "metadata": {},
   "outputs": [
    {
     "data": {
      "text/plain": [
       "Index(['A', 'B', 'C', 'D', 'E', 'F', 'G', 'H'], dtype='object')"
      ]
     },
     "execution_count": 33,
     "metadata": {},
     "output_type": "execute_result"
    }
   ],
   "source": [
    "# Ransomise the index and print out table based on that.\n",
    "\n",
    "df.index"
   ]
  },
  {
   "cell_type": "code",
   "execution_count": 34,
   "metadata": {},
   "outputs": [
    {
     "data": {
      "text/plain": [
       "array(['D', 'H', 'C', 'F', 'G', 'B', 'E', 'A'], dtype=object)"
      ]
     },
     "execution_count": 34,
     "metadata": {},
     "output_type": "execute_result"
    }
   ],
   "source": [
    "np.random.permutation(df.index)"
   ]
  },
  {
   "cell_type": "code",
   "execution_count": 35,
   "metadata": {},
   "outputs": [
    {
     "data": {
      "text/html": [
       "<div>\n",
       "<style scoped>\n",
       "    .dataframe tbody tr th:only-of-type {\n",
       "        vertical-align: middle;\n",
       "    }\n",
       "\n",
       "    .dataframe tbody tr th {\n",
       "        vertical-align: top;\n",
       "    }\n",
       "\n",
       "    .dataframe thead th {\n",
       "        text-align: right;\n",
       "    }\n",
       "</style>\n",
       "<table border=\"1\" class=\"dataframe\">\n",
       "  <thead>\n",
       "    <tr style=\"text-align: right;\">\n",
       "      <th></th>\n",
       "      <th>country</th>\n",
       "      <th>place</th>\n",
       "    </tr>\n",
       "  </thead>\n",
       "  <tbody>\n",
       "    <tr>\n",
       "      <th>E</th>\n",
       "      <td>France</td>\n",
       "      <td>4</td>\n",
       "    </tr>\n",
       "    <tr>\n",
       "      <th>G</th>\n",
       "      <td>South Africa</td>\n",
       "      <td>2</td>\n",
       "    </tr>\n",
       "    <tr>\n",
       "      <th>A</th>\n",
       "      <td>England</td>\n",
       "      <td>8</td>\n",
       "    </tr>\n",
       "    <tr>\n",
       "      <th>F</th>\n",
       "      <td>Japan</td>\n",
       "      <td>3</td>\n",
       "    </tr>\n",
       "    <tr>\n",
       "      <th>C</th>\n",
       "      <td>New Zeland</td>\n",
       "      <td>5</td>\n",
       "    </tr>\n",
       "    <tr>\n",
       "      <th>H</th>\n",
       "      <td>Ireland</td>\n",
       "      <td>1</td>\n",
       "    </tr>\n",
       "    <tr>\n",
       "      <th>B</th>\n",
       "      <td>Austraila</td>\n",
       "      <td>7</td>\n",
       "    </tr>\n",
       "    <tr>\n",
       "      <th>D</th>\n",
       "      <td>Wales</td>\n",
       "      <td>5</td>\n",
       "    </tr>\n",
       "  </tbody>\n",
       "</table>\n",
       "</div>"
      ],
      "text/plain": [
       "        country place\n",
       "E        France     4\n",
       "G  South Africa     2\n",
       "A       England     8\n",
       "F         Japan     3\n",
       "C    New Zeland     5\n",
       "H       Ireland     1\n",
       "B     Austraila     7\n",
       "D         Wales     5"
      ]
     },
     "execution_count": 35,
     "metadata": {},
     "output_type": "execute_result"
    }
   ],
   "source": [
    "# Reindex function changes the order of the index, giving an alternative method ov viewing it.\n",
    "\n",
    "df.reindex(np.random.permutation(df.index))"
   ]
  },
  {
   "cell_type": "code",
   "execution_count": 36,
   "metadata": {},
   "outputs": [
    {
     "data": {
      "text/html": [
       "<div>\n",
       "<style scoped>\n",
       "    .dataframe tbody tr th:only-of-type {\n",
       "        vertical-align: middle;\n",
       "    }\n",
       "\n",
       "    .dataframe tbody tr th {\n",
       "        vertical-align: top;\n",
       "    }\n",
       "\n",
       "    .dataframe thead th {\n",
       "        text-align: right;\n",
       "    }\n",
       "</style>\n",
       "<table border=\"1\" class=\"dataframe\">\n",
       "  <thead>\n",
       "    <tr style=\"text-align: right;\">\n",
       "      <th></th>\n",
       "      <th>country</th>\n",
       "      <th>place</th>\n",
       "    </tr>\n",
       "  </thead>\n",
       "  <tbody>\n",
       "    <tr>\n",
       "      <th>H</th>\n",
       "      <td>Ireland</td>\n",
       "      <td>1</td>\n",
       "    </tr>\n",
       "    <tr>\n",
       "      <th>E</th>\n",
       "      <td>France</td>\n",
       "      <td>4</td>\n",
       "    </tr>\n",
       "    <tr>\n",
       "      <th>C</th>\n",
       "      <td>New Zeland</td>\n",
       "      <td>5</td>\n",
       "    </tr>\n",
       "    <tr>\n",
       "      <th>D</th>\n",
       "      <td>Wales</td>\n",
       "      <td>5</td>\n",
       "    </tr>\n",
       "    <tr>\n",
       "      <th>G</th>\n",
       "      <td>South Africa</td>\n",
       "      <td>2</td>\n",
       "    </tr>\n",
       "    <tr>\n",
       "      <th>F</th>\n",
       "      <td>Japan</td>\n",
       "      <td>3</td>\n",
       "    </tr>\n",
       "    <tr>\n",
       "      <th>B</th>\n",
       "      <td>Austraila</td>\n",
       "      <td>7</td>\n",
       "    </tr>\n",
       "    <tr>\n",
       "      <th>A</th>\n",
       "      <td>England</td>\n",
       "      <td>8</td>\n",
       "    </tr>\n",
       "  </tbody>\n",
       "</table>\n",
       "</div>"
      ],
      "text/plain": [
       "        country place\n",
       "H       Ireland     1\n",
       "E        France     4\n",
       "C    New Zeland     5\n",
       "D         Wales     5\n",
       "G  South Africa     2\n",
       "F         Japan     3\n",
       "B     Austraila     7\n",
       "A       England     8"
      ]
     },
     "execution_count": 36,
     "metadata": {},
     "output_type": "execute_result"
    }
   ],
   "source": [
    "# Sample method of randomistaion. Show a random sample using all the rows\n",
    "\n",
    "df.sample(n=nrows)"
   ]
  },
  {
   "cell_type": "code",
   "execution_count": 37,
   "metadata": {},
   "outputs": [
    {
     "name": "stdout",
     "output_type": "stream",
     "text": [
      "Password is = arceccecbb\n",
      "Password is = cbcearbeecbc\n"
     ]
    }
   ],
   "source": [
    "# Create a random password of first 10 then 12 letters from predefined letters\n",
    "\n",
    "def randString(length=10):\n",
    "    #Select letters to be used in the string\n",
    "    letters='rebecca'\n",
    "    return ''.join((random.choice(letters) for i in range(length)))\n",
    "print('Password is =',  randString() )\n",
    "print ('Password is =', randString(12) )  "
   ]
  },
  {
   "cell_type": "code",
   "execution_count": 38,
   "metadata": {},
   "outputs": [
    {
     "name": "stdout",
     "output_type": "stream",
     "text": [
      "Generated password = ['B' 'A' 'R' 'C' 'E']\n"
     ]
    }
   ],
   "source": [
    "# An example of a way to create a password using the permutation function from predefined letters in a preselected lenght.\n",
    "\n",
    "Letters = np.array(['R', 'E', 'B', 'E', 'C', 'C', 'A',])\n",
    "Order = np.random.permutation(Letters)\n",
    "print('Generated password =', Order[2:12])"
   ]
  },
  {
   "cell_type": "markdown",
   "metadata": {},
   "source": [
    "A different tool is used here, an itertool. Iterators are data types that can be used in a for loop. The most common iterator in Python is the list. This doesn't relate really to the assignment but I went down a bit of a rabbit hole and was interested to see what it could produce."
   ]
  },
  {
   "cell_type": "code",
   "execution_count": 39,
   "metadata": {},
   "outputs": [
    {
     "data": {
      "text/plain": [
       "[('Ireland', 'Win', 1),\n",
       " ('Ireland', 'Win', 2),\n",
       " ('Ireland', 'Win', 3),\n",
       " ('Ireland', 'Loose', 1),\n",
       " ('Ireland', 'Loose', 2),\n",
       " ('Ireland', 'Loose', 3),\n",
       " ('Ireland', 'Draw', 1),\n",
       " ('Ireland', 'Draw', 2),\n",
       " ('Ireland', 'Draw', 3),\n",
       " ('England', 'Win', 1),\n",
       " ('England', 'Win', 2),\n",
       " ('England', 'Win', 3),\n",
       " ('England', 'Loose', 1),\n",
       " ('England', 'Loose', 2),\n",
       " ('England', 'Loose', 3),\n",
       " ('England', 'Draw', 1),\n",
       " ('England', 'Draw', 2),\n",
       " ('England', 'Draw', 3),\n",
       " ('New Zeland', 'Win', 1),\n",
       " ('New Zeland', 'Win', 2),\n",
       " ('New Zeland', 'Win', 3),\n",
       " ('New Zeland', 'Loose', 1),\n",
       " ('New Zeland', 'Loose', 2),\n",
       " ('New Zeland', 'Loose', 3),\n",
       " ('New Zeland', 'Draw', 1),\n",
       " ('New Zeland', 'Draw', 2),\n",
       " ('New Zeland', 'Draw', 3)]"
      ]
     },
     "execution_count": 39,
     "metadata": {},
     "output_type": "execute_result"
    }
   ],
   "source": [
    "import itertools\n",
    "a = [[\"Ireland\", \"England\", \"New Zeland\"], [\"Win\", \"Loose\", \"Draw\"], [1, 2, 3]]\n",
    "list(itertools.product(*a))"
   ]
  },
  {
   "cell_type": "code",
   "execution_count": 40,
   "metadata": {},
   "outputs": [
    {
     "data": {
      "text/plain": [
       "array([['Win', 'Loose', 'Draw'],\n",
       "       ['1', '2', '3'],\n",
       "       ['Ireland', 'England', 'New Zeland']], dtype='<U10')"
      ]
     },
     "execution_count": 40,
     "metadata": {},
     "output_type": "execute_result"
    }
   ],
   "source": [
    "# Another way to look at permutations, passing three separate statements, each with their own sub-statements. I just put this in to see how it would look in comparision with the other ways I used the same function above. \n",
    "\n",
    "import numpy as np\n",
    "np.random.permutation ([(\"Ireland\", \"England\", \"New Zeland\"), (\"Win\", \"Loose\", \"Draw\"), (1, 2, 3)])"
   ]
  },
  {
   "cell_type": "code",
   "execution_count": null,
   "metadata": {},
   "outputs": [],
   "source": []
  },
  {
   "cell_type": "code",
   "execution_count": null,
   "metadata": {},
   "outputs": [],
   "source": []
  },
  {
   "attachments": {
    "normal%20probability%20density.svg": {
     "image/svg+xml": [
      "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"
     ]
    }
   },
   "cell_type": "markdown",
   "metadata": {},
   "source": [
    "## Problem Statement 4\n",
    "## Explain the use and purpose of at least five \"Distributions\" functions\n",
    "\n",
    "\n",
    "\n",
    "### Numpy.random.normal\n",
    "\n",
    "Numpy.random.normal Enables the creation of an array in which the data looks to be distributed normally aka the bell curve or Gaussian distribution.\n",
    "A list of random samples are selected from a normal distribution. Different results will be drawn each time the function is executed (this is due to the random part) but will generally be the same shape. The peak is always in the middle and the curve is always symmetrical.\n",
    "A larger size will give a better, more accurate result. Bell curve provide a quick way to visualize the mean, mode and median.\n",
    "If the distribution is normal the mean, median and mode are the same.\n",
    "\n",
    "There are 3 key arguments which influence it. Loc, scale and size. The syntax will look like: np.random.normal (loc=, scale=, size=) np.random.normal is the function name, this is how we call it. Loc=, sets the mean of the data, which defaults to 0 if no other value is chosen. This is the very top of the curve. In a normal distribution, fifty percent of the distribution lies to the right of the mean and fifty percent to the left.\n",
    "\n",
    "Scale=, standard deviation of normal distribution, set to 1 as default. Shows how much variation from the average.\n",
    "If the data points were very close to the mean it shows a low standard deviation and if the data points were spread out it has a high standard deviation.\n",
    "\n",
    "<img src=\"bell curve 1.png\" style=\"width:300px; height:300px\"/>\n",
    "\n",
    "\n",
    "\n",
    "The size controls the size and shape of the array. This array can be modelled on a 1 dimensional or multi dimensional depending on the integers provided.\n",
    "\n",
    "<img src=\"bell curve.png\" style=\"width:300px; height:300px\"/>\n",
    "\n",
    "\n",
    "\n",
    "The probability density of the normal distribution is\n",
    "\n",
    "\n",
    "\n",
    "\n",
    "![normal%20probability%20density.svg](attachment:normal%20probability%20density.svg)\n",
    "\n",
    "\n",
    "\\begin{align}\n",
    "\\ \\mu \\\\ \n",
    "\\end{align} is the mean or expectation of the distribution (and also its median and mode)\n",
    "\n",
    "\n",
    "\\begin{align}\n",
    "\\ \\sigma \\\\ \n",
    "\\end{align}\n",
    "is the standard deviation\n",
    "\n",
    "\\begin{align}\n",
    "\\ \\sigma ^2\\\\ \n",
    "\\end{align}\n",
    "is the variance\n",
    "\n",
    "\n",
    "\n",
    "\n",
    "https://en.wikipedia.org/wiki/Normal_distribution\n"
   ]
  },
  {
   "cell_type": "markdown",
   "metadata": {},
   "source": []
  },
  {
   "cell_type": "code",
   "execution_count": 41,
   "metadata": {},
   "outputs": [
    {
     "data": {
      "text/plain": [
       "array([0.96171777])"
      ]
     },
     "execution_count": 41,
     "metadata": {},
     "output_type": "execute_result"
    }
   ],
   "source": [
    "#Generate a single number from normal distribution. \n",
    "\n",
    "np.random.normal(size = 1, loc = 0, scale = 1)"
   ]
  },
  {
   "cell_type": "code",
   "execution_count": 42,
   "metadata": {},
   "outputs": [
    {
     "data": {
      "text/plain": [
       "array([ 0.26481302, -0.07565176,  0.09660579,  1.10713434,  0.99260469])"
      ]
     },
     "execution_count": 42,
     "metadata": {},
     "output_type": "execute_result"
    }
   ],
   "source": [
    "#Generate an array of 5 numbers.\n",
    "np.random.normal(size = 5, loc = 0, scale = 1)"
   ]
  },
  {
   "cell_type": "code",
   "execution_count": 43,
   "metadata": {},
   "outputs": [
    {
     "name": "stdout",
     "output_type": "stream",
     "text": [
      "[51.62434536 49.38824359 49.47182825 48.92703138 50.86540763 47.6984613\n",
      " 51.74481176 49.2387931  50.3190391  49.75062962 51.46210794 47.93985929\n",
      " 49.6775828  49.61594565 51.13376944 48.90010873 49.82757179 49.12214158\n",
      " 50.04221375 50.58281521 48.89938082 51.14472371 50.90159072 50.50249434\n",
      " 50.90085595 49.31627214 49.87710977 49.06423057 49.73211192 50.53035547\n",
      " 49.30833925 49.60324647 49.3128273  49.15479436 49.32875387 49.9873354\n",
      " 48.88268965 50.2344157  51.65980218 50.74204416 49.80816445 49.11237104\n",
      " 49.25284171 51.6924546  50.05080775 49.36300435 50.19091548 52.10025514\n",
      " 50.12015895 50.61720311 50.30017032 49.64775015 48.8574818  49.65065728\n",
      " 49.79110577 50.58662319 50.83898341 50.93110208 50.28558733 50.88514116\n",
      " 49.24560206 51.25286816 50.51292982 49.70190716 50.48851815 49.92442829\n",
      " 51.13162939 51.51981682 52.18557541 48.60350366 48.55588619 49.49553414\n",
      " 50.16003707 50.87616892 50.31563495 47.97779878 49.69379599 50.82797464\n",
      " 50.23009474 50.76201118 49.77767186 49.79924193 50.18656139 50.41005165\n",
      " 50.19829972 50.11900865 49.32933771 50.37756379 50.12182127 51.12948391\n",
      " 51.19891788 50.18515642 49.62471505 49.36126959 50.42349435 50.07734007\n",
      " 49.65614632 50.04359686 49.37999916 50.69803203 49.55287144 51.2245077\n",
      " 50.40349164 50.59357852 48.90508815 50.16938243 50.74055645 49.0462994\n",
      " 49.73378149 50.03261455 48.62688268 50.31515939 50.84616065 49.14048406\n",
      " 50.35054598 48.68771659 49.96130449 48.38422765 51.12141771 50.40890054\n",
      " 49.97538304 49.22483838 51.27375593 51.96710175 48.14201814 51.23616403\n",
      " 51.62765075 50.3380117  48.80073197 50.86334532 49.8190797  49.39607937\n",
      " 48.76994186 50.5505375  50.79280687 49.37646927 50.52057634 48.85565861\n",
      " 50.80186103 50.0465673  49.81343023 49.89825413 50.86888616 50.75041164\n",
      " 50.52946532 50.13770121 50.07782113 50.61838026 50.23249456 50.68255141\n",
      " 49.68988323 47.56516224 51.0388246  52.18697965 50.44136444 49.89984477\n",
      " 49.86355526 49.88094581 50.01740941 48.87798127 49.48290554 49.00297317\n",
      " 50.24879916 49.70335885 50.49521132 49.82529684 50.98633519 50.2135339\n",
      " 52.19069973 48.10363908 49.35308331 50.90148689 52.52832571 49.75136522\n",
      " 50.04366899 49.77368576 51.33145711 49.71269214 50.68006984 49.6801984\n",
      " 48.72744124 50.31354772 50.50318481 51.29322588 49.88955297 49.38263794\n",
      " 50.5627611  50.24073709 50.28066508 49.9268873  51.16033857 50.36949272\n",
      " 51.90465871 51.1110567  50.6590498  48.37256166 50.60231928 50.4202822\n",
      " 50.81095167 51.04444209 49.59912181 50.82400562 49.43769457 51.95487808\n",
      " 48.66804833 48.23931144 48.34927873 49.10944442 48.8808846  51.9560789\n",
      " 49.6735005  48.65732421 51.11438298 49.41347606 48.76314662 50.87583893\n",
      " 50.62336218 49.56504332 51.40754    50.12910158 51.6169496  50.50274088\n",
      " 51.55880554 50.1094027  48.7802556  52.44936865 49.45422583 49.80116214\n",
      " 49.2996015  49.79660555 50.24266944 50.20183018 50.66102029 51.79215821\n",
      " 49.87953543 48.76687926 48.81768187 49.33424548 48.32580419 50.82502982\n",
      " 49.50178644 49.68901502 49.99810852 48.60337958 49.13868364 50.67471153\n",
      " 50.61853913 49.55682807 51.81053491 48.69427308 49.65501279 49.76916026\n",
      " 47.206915   51.93752881 50.36633201 48.95541062 52.05117344 50.585662\n",
      " 50.42952614 49.3930016  50.10622272 48.47431968 50.79502609 49.62556168\n",
      " 50.1340482  51.20205486 50.28474811 50.26246745 50.2764993  49.2667284\n",
      " 50.83600472 51.54335911 50.75880566 50.88490881 49.12271848 49.13221278\n",
      " 48.55912398 51.23225307 49.74582013 51.39984394 49.21808832 49.56249102\n",
      " 50.09542509 50.92145007 50.0607502  50.21112476 50.01652757 50.17718772\n",
      " 48.88352998 50.0809271  49.81342101 49.94317552 50.49233656 49.31932186\n",
      " 49.91549197 49.70263812 50.417302   50.78477065 49.04457474 50.58591043\n",
      " 52.06578332 48.52884307 49.1698281  49.1194224  49.72090228 51.62284909\n",
      " 50.01335268 49.3053064  50.6218035  49.40019547 51.12341216 50.30526704\n",
      " 51.3887794  49.33865576 53.03085711 50.82458463 50.65458015 49.94881155\n",
      " 49.27440288 49.13223132 49.86402267 49.20273021 50.28267571 49.17390257\n",
      " 50.6210827  50.9561217  49.29415949 51.19268607 49.76205806 51.15528789\n",
      " 50.43816635 51.12232832 49.0029802  49.89320601 51.45142926 49.38196315\n",
      " 47.96279877 48.05741082 47.49355935 47.88583608 49.58836084 51.27852808\n",
      " 49.55777072 50.32352735 49.89000851 50.00854895 49.83180116 49.82581966\n",
      " 50.4611641  48.82401733 51.01012718 50.92001793 49.80494266 50.80539342\n",
      " 49.29865557 49.46277698 50.15626385 49.80977897 49.55126197 49.32755196\n",
      " 49.44250528 50.93916874 48.05667659 50.35249436 49.76356305 50.7278135\n",
      " 50.51507361 47.21746553 50.58464661 50.32427424 50.02186284 49.53132618\n",
      " 50.85328122 49.58697069 51.83471763 50.56438286 52.13782807 49.214466\n",
      " 48.24407436 50.7147896  50.85270406 50.0353601  48.46120675 49.55210482\n",
      " 50.61798553 49.81582367 49.88401481 49.82454103 49.06608534 49.46697967\n",
      " 48.57344458 51.76795995 49.52462712 50.47761018 48.97811406 50.79452824\n",
      " 48.12683902 50.92061512 49.96463208 52.11060505 48.69346593 50.07638048\n",
      " 50.36723181 51.23289919 49.57714304 50.08646441 47.85753327 49.16983114\n",
      " 50.45161595 51.10417433 49.71826373 52.05635552 51.76024923 49.93934751\n",
      " 47.586497   48.22243362 49.22214117 51.11584111 50.31027229 47.90575218\n",
      " 49.77123417 51.61336137 49.62519531 49.25003038 52.0546241  50.05340954\n",
      " 49.5208429  50.35016716 50.01716473 49.57085772 51.20845633 51.1157018\n",
      " 50.84086156 49.89711278 51.14690038 49.95029742 50.46664327 51.03368687\n",
      " 50.80884436 51.78975468 50.45128402 48.31594001 48.8398299  51.35010682\n",
      " 49.66871683 50.38653915 49.14854434 51.00088142 49.61516775 51.45810824\n",
      " 49.46776598 51.1181334  50.6743961  49.27760809 51.09899633 49.09836551\n",
      " 49.17753281 50.72171129 49.374658   49.40615693 49.65609929 48.99983081\n",
      " 51.04499441 50.6085147  49.9306713  49.89160793 50.45015551 51.7653351\n",
      " 50.8709698  49.49154287 50.77741921 49.88122883 49.80100182 51.86647138\n",
      " 49.5810621  49.52081508 48.04789471 48.59767085 50.45112294 49.3050791\n",
      " 50.5154138  48.88512895 49.23269017 50.67457071 51.46089238 50.5924728\n",
      " 51.19783084 51.70459417 51.04008915 49.08155996 49.89465529 50.63019567\n",
      " 49.5851531  50.45194604 48.42084371 49.17137202 50.52887975 47.76291349\n",
      " 48.8922875  49.98228168 48.28060553 50.057121   49.20045251 49.7084054\n",
      " 49.74101715 50.1892932  49.43621127 50.08968641 49.3988432  50.55607351\n",
      " 51.69380911 50.19686978 50.16986926 48.83599203 50.69336623 49.24193267\n",
      " 49.1911528  50.55743945 50.18103874 51.10717545 51.44287693 49.46031844\n",
      " 50.12837699 51.76041518 50.96653925 50.71304905 51.30620607 49.39539703\n",
      " 50.63658341 51.40925339 51.62091229 49.19381518 49.74832579 50.38271517\n",
      " 49.71100266 49.60818376 50.68400133 49.64659002 48.21208711 50.36184732\n",
      " 49.57550721 49.26846902 48.43426185 51.01382247 47.77288737 48.3006664\n",
      " 49.72415394 51.22895559 51.30970591 48.84501737 49.8223678  48.48954362\n",
      " 51.01120706 48.52343734 49.85680425 51.03298378 49.77758597 51.47016034\n",
      " 49.12999178 50.36919047 50.85328219 49.86028827 51.38631426 50.54812958\n",
      " 48.36255041 53.9586027  50.64864364 50.10734329 48.60118718 50.08176782\n",
      " 49.54005717 50.64435367 50.37167029 51.85300949 50.14225137 50.51350548\n",
      " 50.37245685 49.8515102  49.8165998  51.1010002  50.78002714 49.3705584\n",
      " 48.8865639  49.93258998 51.16143998 49.97247061 51.74643509 49.22492971\n",
      " 50.14164054 47.48369614 49.40433212 49.69087868 50.51093777 51.71066184\n",
      " 50.03494359 51.45391758 50.66168108 50.98635218 49.53384514 51.38499134\n",
      " 48.92703572 50.49515861 49.0479379  49.48185445 48.5385964  49.48365209\n",
      " 50.3511169  49.93122954 48.65223506 51.47073986 50.33722094 51.00806543\n",
      " 50.78522692 49.33513223 48.05495304 49.08457563 51.22515585 48.94645393\n",
      " 50.81604368 49.38759303 50.39310924 48.17608015 51.16707517 49.9603313\n",
      " 50.8858258  50.18986165 50.7980638  49.89806796 50.74335654 48.49042732\n",
      " 48.91928931 50.725474   49.96082174 49.77124583 49.82038771 50.50172511\n",
      " 49.40665625 50.5103076  49.08420815 49.59274796 50.98495167 51.07125243\n",
      " 48.90284564 50.83863475 48.96081768 50.73302323 48.10118794 48.88288931\n",
      " 49.49102772 49.83351405 51.42361443 50.90399917 51.57546791 51.2066079\n",
      " 49.71713645 49.73367312 51.06897162 50.04037143 49.84300633 48.66479728\n",
      " 49.89353988 47.20900359 49.54388244 49.02010975 50.69257435 49.52132764\n",
      " 49.67094845 51.34710546 48.95093225 50.3166589  48.10473305 50.08972912\n",
      " 50.41026575 50.85987097 49.10131681 50.31965694 50.3181542  49.98076837\n",
      " 50.15001628 50.46353432 50.39788042 49.00398911 48.80413849 52.50598029\n",
      " 51.91979229 48.60830612 50.45021774 50.62743708 50.75133724 50.14039544\n",
      " 49.07312806 49.81757959 49.50887486 50.13437312 49.7316287  49.86832437\n",
      " 51.01855247 51.2305582  48.81889683 49.5400699  49.20920005 51.22372221\n",
      " 49.9406321  51.4489894  49.52241915 50.02599999 48.65130355 51.30253554\n",
      " 49.63738791 48.51484355 49.40753871 47.69509206 49.96818283 50.11248774\n",
      " 50.28807817 51.49810818 49.69902385 50.80745592 50.31223869 49.80667836\n",
      " 47.92319798 50.94750117 49.49602605 50.01795589 48.72953922 50.28299553\n",
      " 50.10803082 50.02941762 49.86520687 51.04921829 50.96622086 50.72591685\n",
      " 53.32107876 49.39977467 49.62048248 48.98519631 50.4359862  49.31251261\n",
      " 47.30163826 48.78666187 50.0722519  51.00978733 48.44305844 49.38755787\n",
      " 49.86064819 49.27146251 50.53116379 50.00400084 50.32126591 49.27478507\n",
      " 51.53653633 49.99962499 51.29354962 49.56100234 50.59003946 49.32061622\n",
      " 49.04909075 49.29564967 49.95413331 49.78126654 51.53920701 48.85129577\n",
      " 48.90966167 51.70018815 50.60878366 48.11858913 50.4972691  50.2373327\n",
      " 47.85555595 49.63043757 49.98254505 50.73140252 50.95449567 50.09574677\n",
      " 51.0334508  49.85372673 49.14250318 49.06581816 50.54264529 48.04183091\n",
      " 50.67780757 48.89342693 49.6407759  50.5053819  51.2179409  48.05931904\n",
      " 49.19382179 50.04906169 49.40391367 50.8616231  47.91360943 50.36180164\n",
      " 50.42592018 50.0490804  51.10223673 48.77042575 51.10861676 49.2970796\n",
      " 50.72555052 49.67579578 50.81434313 50.78046993 48.53594643 49.84550881\n",
      " 49.90756768 49.76212473 49.24433723 51.85143789 50.20909668 51.55501599\n",
      " 49.43085135 48.93820324 50.13224778 49.4367634  52.39014596 50.24542285\n",
      " 51.15259914 49.77576423 49.67393869 49.96908858 50.35571726 50.84958685\n",
      " 49.87784598 49.31914843 48.93212342 49.92332064 50.57296273 50.45794708\n",
      " 49.98218245 49.3998612  50.14676526 50.57180488 49.96318234 50.11236849\n",
      " 49.84949567 50.91549927 49.56179973 50.18553562 50.39442803 50.72552256\n",
      " 51.49588477 50.67545381 50.59921324 48.52976291 50.60640394 52.29371761\n",
      " 49.16998901 48.98048015 49.78534616 51.02124813 50.52475049 49.52287579\n",
      " 49.96400982 51.03703898 50.67261975 52.42887697 51.00568668 50.35356722\n",
      " 50.61472628 49.65101581 49.022227   50.17195713 50.49056104 48.60471697\n",
      " 49.47764353 49.6307441  50.2656424  49.73953394 50.44509671 50.09811225\n",
      " 51.06032751 48.28883234 51.65712464 51.41767401 50.05031709 50.65032321\n",
      " 50.6065484  49.26271037 50.16466507 50.77817418 50.30981676 51.05132077\n",
      " 50.09499611 50.08075099 49.23219625 49.63546195 49.54028232 51.70548352\n",
      " 50.24050555 49.0005735  50.39859839 49.8079963  46.94623562 50.47985237\n",
      " 48.44730122 50.57846442 49.0387364  48.54167554 50.49434165 48.50580623\n",
      " 49.5533008  50.20437739 50.61223252 50.74488454 49.96371871 49.16760465\n",
      " 51.92381543 49.39401868 51.80358898 49.54747503 51.16128569 51.06996554\n",
      " 48.95446575 50.35528451 50.75539203 50.70098212 49.80106255 50.30196005\n",
      " 49.60531032 48.82818662 50.98401224 49.44031858 51.37975819 50.6024509\n",
      " 49.10735333 49.83880168 49.71361508 49.12911235 50.50142959 49.52138593\n",
      " 51.63169151 50.86089124 49.11981094 49.98099948 49.77323981 48.43549215\n",
      " 50.93125568 50.94980882 50.92550121 49.54301214 51.06898597 49.79024706\n",
      " 50.93514778 51.81252782 50.14010988 48.58085122 49.6830988  50.64098587\n",
      " 51.21987438 48.86620796 49.8094517  50.23333913 50.43499832 50.9104236\n",
      " 49.05156034 49.5765217  51.00796648 50.39233491 50.44838065 51.1253235\n",
      " 50.10405339 50.52800342 49.68543614 48.65498998 48.70474211 50.07432055\n",
      " 49.80043928 49.34539683 50.3180143  49.10972845 50.11133727 49.98047744\n",
      " 49.16001109 47.70179412 51.45652739 50.31663724 47.33587406 49.57357138\n",
      " 50.39378773 49.77185931 50.58033011 49.02673241 50.17516773 49.94651631\n",
      " 49.81693801 49.7789711  50.19975956 50.93272141 49.4698802  49.59275998\n",
      " 50.16056499 49.87985002 50.38560229 50.71829074 51.2911889  49.88355585\n",
      " 47.722702   49.93037546 50.35387043 49.81304498]\n"
     ]
    }
   ],
   "source": [
    "# We ask for 1000 numbers with a mean of 50.  The bigger the size gives a more accurate result.\n",
    "# if we seed it then the same numbers will return each time the script is run, without it a different range will appear each time. Just a personal preference.\n",
    "np.random.seed(1)\n",
    "df=np.random.normal(size = 1000, loc = 50)\n",
    "print (df)"
   ]
  },
  {
   "cell_type": "code",
   "execution_count": 44,
   "metadata": {},
   "outputs": [
    {
     "data": {
      "text/plain": [
       "50.0388124761596"
      ]
     },
     "execution_count": 44,
     "metadata": {},
     "output_type": "execute_result"
    }
   ],
   "source": [
    " # We can see the mean is 50\n",
    "df.mean()"
   ]
  },
  {
   "cell_type": "code",
   "execution_count": 45,
   "metadata": {},
   "outputs": [
    {
     "data": {
      "text/plain": [
       "103.00374282169574"
      ]
     },
     "execution_count": 45,
     "metadata": {},
     "output_type": "execute_result"
    }
   ],
   "source": [
    "#np.random.seed(42)\n",
    "np.random.normal(size = 1000, scale = 100).std()"
   ]
  },
  {
   "cell_type": "code",
   "execution_count": 79,
   "metadata": {},
   "outputs": [
    {
     "name": "stdout",
     "output_type": "stream",
     "text": [
      "[ 1.55617767e+02 -4.82546030e+01  2.93606515e+01  3.32893667e+01\n",
      "  1.00275312e+02  1.19398508e+02 -9.69389080e+01  1.01733001e+02\n",
      "  1.98793157e+02  1.82545186e+02  4.10962104e-01  3.02301626e+01\n",
      "  3.91746187e+01  1.52875603e+02 -2.79105325e+01  1.33533171e+02\n",
      " -9.86456135e+01  2.40777816e+02 -4.43440215e+01  2.02022547e+01\n",
      "  2.87010202e+01  3.70515864e+01  1.56467280e+02 -3.68379113e+01\n",
      "  2.06133934e+02  1.54157201e+02 -1.07403946e+02  5.18605313e+01\n",
      "  6.12077738e+00  4.71581884e+00  2.54704928e+01  1.16492764e+02\n",
      "  7.45961300e+01  1.98369409e+02  4.30628216e+01  1.84898961e+02\n",
      "  1.85959917e+02  9.25733631e+01  5.86365162e+01 -4.32950277e+01\n",
      "  1.77650479e+02 -1.14009277e+02  3.89097524e+01  9.74750262e+01\n",
      "  1.79885430e+02  2.16972202e+00 -6.94278612e+01  2.13277962e+02\n",
      " -3.39253396e+01  2.15191483e+02  3.50657138e+01 -6.01043391e+01\n",
      " -6.23733769e+01 -1.59744758e+01  7.15619522e+01  9.84104884e+01\n",
      "  1.97612890e+02  1.09139653e+02  2.34905348e+02  8.87002188e+01\n",
      " -2.22989861e+00 -2.33319534e+01  1.22262678e+02 -6.86163516e+01\n",
      " -4.70705819e+01  5.06940061e+01  1.27865088e+02 -1.77781036e+02\n",
      "  1.18168993e+02 -1.46086715e+02 -1.79551019e+02  1.27157366e+02\n",
      "  1.57122368e+02  1.67798224e+02  1.10183393e+02  2.33319374e+02\n",
      "  1.75489668e+02 -1.07449710e+02  6.46212832e+01  1.15756222e+02\n",
      "  4.54865602e+01  8.66922761e+01  6.09672329e+01  2.08811145e+02\n",
      "  2.05583577e+02  7.02241571e+01  5.71135174e+01 -1.48085710e+01\n",
      "  1.06092715e+02  1.62871085e+02  9.00257075e+01  2.86911258e+01\n",
      "  1.03123880e+02  1.91147515e+02  9.78171642e+01  1.38246592e+02\n",
      " -1.66442114e+02  3.24327264e+01 -7.83343691e+01 -2.62996979e+01\n",
      "  7.43976214e+01  9.44413570e+01  4.63834490e+01  5.44258361e+00\n",
      "  7.83763286e+01  9.02791293e+01  1.56906937e+02 -1.13791068e+01\n",
      " -6.94106908e+01 -5.89960725e+01  1.13069093e+02  5.32872230e+01\n",
      "  5.46660577e+01  1.50396941e+02  1.94181018e+02 -3.72203850e+01\n",
      "  2.73959921e+02 -4.44189883e+01 -1.44389735e+01  2.40170021e+01\n",
      "  6.14942662e+01 -8.48799261e+01  1.82460979e+02  1.34779907e+01\n",
      "  1.48869156e+01  3.51962213e+01 -4.49518287e+01 -8.59401048e+01\n",
      "  4.68568690e+01  1.11866525e+02  5.24434233e+01 -1.30306882e+02\n",
      " -3.13427283e+01  7.99961284e+01  1.09481167e+02  9.36141301e+01\n",
      " -4.94583094e+01 -1.59125313e+02  2.93270979e+01  1.99610683e+01\n",
      "  8.06698288e+01  1.38230747e+02 -1.12333278e+01 -6.44029717e+01\n",
      "  3.02947195e+01 -7.04164204e+01  1.11672357e+02 -4.77588591e+01\n",
      "  1.52513811e+02  7.02661252e+01  1.17573545e+02 -8.31398314e+01\n",
      "  5.18496960e+01 -3.16311332e+00  4.94289646e+01  2.14719250e+01\n",
      " -8.81807770e+01  1.44208694e+02  1.11355975e+02 -1.06086177e+02\n",
      "  1.99625973e+02 -3.82625771e+01  2.79882149e+02  4.33110177e+01\n",
      " -8.37874558e+01 -4.21034972e+01  3.53090753e+01  7.95747531e+01\n",
      "  8.90854066e+01 -1.21266625e+02  2.58242892e+01 -8.14076388e+01\n",
      "  1.04698792e+02  4.92718887e+01  2.61132192e+01  2.70743424e+02\n",
      "  1.94586713e+02  1.68187254e+02 -1.71376798e+01  3.99196339e+01\n",
      " -2.68212889e+02 -1.64188136e+01 -1.14619457e+01  1.27477326e+02\n",
      " -8.98260581e+01 -8.42663793e+00  9.31575246e+01  6.69160402e+00\n",
      "  1.65216491e+01  1.11724302e+02 -7.19746896e+01 -1.99463229e+02\n",
      " -5.45286841e+01  8.96918978e+01 -1.41277849e+02  1.05199024e+02\n",
      " -2.60765523e-02  8.95732553e+01 -3.16978259e+01 -5.03566600e+01\n",
      " -2.42863403e+01  8.59515280e+01  5.28310445e+01  2.58114947e+01\n",
      "  4.51861143e+01  4.83553112e+01  1.05759490e+02  1.04825458e+02\n",
      "  8.82443343e+01  1.33070234e+02  2.66034278e+02 -1.22490461e+02\n",
      "  2.45521064e+02  5.62440903e+01  7.20707659e+01  2.48728316e+02\n",
      "  5.22802522e+01  1.79596832e+02 -5.20112225e+00  1.32201024e+02\n",
      " -3.71980066e+01  1.37826456e+02  1.05010577e+02  5.98158875e+01\n",
      " -8.11336679e+01  1.06704964e+02  8.86320813e+01  2.00318795e+02\n",
      " -2.37286220e+01  8.12423589e+01  7.16630625e+01 -2.19759061e+01\n",
      " -3.01807087e+01  3.24643108e+01  1.97027869e+02 -6.01237820e+01\n",
      " -1.30931540e+01  2.04907595e+02 -3.67473418e+01  1.49732482e+02\n",
      "  1.41394633e+02 -1.10168580e+02  1.46525111e+02  7.41776434e+01\n",
      "  1.33550295e+02 -2.70250769e+01  2.61723022e+02  1.77631585e+01\n",
      "  1.44750736e+01  8.85648176e+01  1.29109812e+01  1.47391111e+02\n",
      " -8.67856792e+01  2.31846814e+02  9.66802814e+01 -5.30090471e+01\n",
      "  4.88390549e+01  4.71465698e+01  1.47745883e+02 -1.10590819e+02\n",
      "  1.47196354e+02  9.23639744e+01  7.11493837e+01  1.06357980e+02\n",
      " -1.34842833e+02  1.92666398e+02  1.85877080e+01  1.15668997e+02\n",
      "  2.40927530e+02  1.00849082e+02 -1.35882379e+01 -4.34188019e-01\n",
      "  1.96621222e+02  5.42610384e+01 -2.10004571e+01  8.58544850e+01\n",
      "  4.52627499e+01  1.43691420e+02  5.77221787e+01  1.14553208e+02\n",
      "  9.48474991e+01  1.27147042e+02  1.92348494e+01  1.21115537e+02\n",
      "  2.63972671e+02  8.98378194e+01 -9.16531302e+01  9.97383651e+01\n",
      " -1.04259102e+02  5.18464998e+00  6.62907710e+01  1.69940600e+01\n",
      "  1.60291534e+02 -9.93742569e+01  1.29377291e+02 -7.71393757e+01\n",
      " -9.41640515e+01 -4.05352547e+01 -7.96707343e+01  1.01567264e+02\n",
      " -2.81344475e+01  1.18054857e+02 -1.59140563e+00  1.15536444e+02\n",
      "  1.91854308e+02  1.38597361e+02 -1.55167387e+01  1.94713438e+02\n",
      "  8.44392834e+01  7.22075036e+01 -3.23305727e+01  6.75720483e+01\n",
      "  3.76655623e+01  3.91941742e+01  9.84678768e+01  1.69553547e+01\n",
      "  5.75565225e+01  8.39412615e+01  3.72412318e+01  8.03291847e+01\n",
      "  1.05472131e+02  1.03390556e+02  3.70203884e+01  1.62731805e+02\n",
      "  3.92623674e+01  6.90994105e+01  6.70791981e+01  1.12290157e+02\n",
      "  9.86443976e+01  2.17084497e+02 -1.20821512e+02  4.46252778e+01\n",
      " -6.58396766e+01 -3.00672713e+01  1.14773042e+02 -1.06815080e+01\n",
      " -3.53123281e+01  5.04902077e+01  6.84213388e+01  2.01636248e+02\n",
      "  6.09991432e+01  2.21048008e+02  6.65731609e+01  4.65897722e+01\n",
      "  3.31545798e+01  1.16536920e+02  1.03380070e+02 -7.78539006e+01\n",
      "  9.80054491e+01 -9.85042420e-01 -3.56401041e+01 -5.07349437e+01\n",
      "  1.61882365e+02  6.09097921e+01 -1.24526270e+02 -6.40136425e+00\n",
      "  2.20806466e+02  2.44339182e+01  1.85236829e+02  1.35356073e+02\n",
      "  5.93923149e+01  1.27104049e+02 -1.08209685e+02  2.06084659e+02\n",
      " -9.54350708e+01  1.43390588e+02  1.78028455e+01 -5.75432815e+01\n",
      "  9.03663081e+01  2.65635192e+02 -6.35718029e+01 -5.22691177e+00\n",
      "  1.43846631e+02  1.80035718e+02  2.22597708e+02  5.67174765e+00\n",
      "  9.31106081e+01  1.44232947e+02 -7.54564365e+01 -1.32198416e+02\n",
      "  1.24172503e+02  4.69590222e+01  4.31784091e+01  1.62351216e+02\n",
      "  1.54012637e+02  6.51053661e+01  6.46384522e+01  9.72504039e+01\n",
      " -2.58020907e+01  1.76964434e+02  1.58030120e+02  6.52970262e+01\n",
      "  8.48822277e+01  8.95715345e+01  6.05977104e+01 -5.87091826e+01\n",
      "  7.03789715e+01  8.01572665e+01  8.51121492e+01  4.41744210e+01\n",
      " -2.94564492e+01 -6.90138064e+01 -8.41532461e+01 -1.09880177e+01\n",
      "  1.53733976e+02 -3.89448281e+01  2.01598054e+01  2.25042726e+02\n",
      "  1.63889521e+02 -1.31172924e+02  2.91596625e+02  2.11007330e+02\n",
      " -9.48605042e+01  2.10304646e+02 -2.46389795e+01  1.31515473e+02\n",
      "  8.18897806e+01  6.07888955e+01  6.08964710e+01 -4.73011727e+01\n",
      " -8.37502538e+01  1.16037190e+02  7.17521758e+01  1.23598386e+02\n",
      "  1.24074782e+02 -2.35738212e+01  6.32195671e+01 -4.44317889e+01\n",
      "  6.71375384e+01 -3.57138407e+01  1.26726273e+02 -7.68035069e+01\n",
      "  7.03388491e+01  2.31499288e+02  1.56430634e+02  1.03512393e+02\n",
      "  9.67619953e+01  1.70150802e+02 -1.71170832e+02 -6.74873202e+01\n",
      "  8.80682719e+01  1.20299475e+02  7.71107654e+01 -7.99463525e+01\n",
      "  8.31856417e+01  8.58092987e+01 -5.90766838e+00  4.99203369e+01\n",
      "  3.73895143e+01  4.91471513e+00 -7.19213785e+01  9.78910491e+01\n",
      "  2.73523175e+02  1.25155666e+02  3.05553914e+01 -1.05257887e+02\n",
      "  2.08315683e+02  4.46658241e+01 -3.28147811e+00  2.70483473e+02\n",
      " -5.37104220e+00  2.48268390e+02  2.60367247e+02  8.41107618e+01\n",
      "  1.02207831e+02 -7.78206439e+00  7.60242002e+01  5.55731936e+01\n",
      "  3.16106893e+01 -1.01338515e+02  7.23383128e+01  1.37130763e+02\n",
      " -1.08249875e+01  2.09202712e+02  8.47534971e+01  6.43601203e+01\n",
      "  1.05869052e+02 -4.49646488e+00  1.51655121e+01  2.40723214e+01\n",
      "  3.66748294e+01  5.85090858e+01  1.67799456e+02  2.97999305e+01\n",
      " -4.29398564e+01  2.83982938e+02  3.21558917e+02  9.64928880e+01\n",
      " -8.47231410e+01  2.37620531e+01  5.83198565e+01 -1.34532837e+01\n",
      "  9.75172479e+00  1.49340612e+02  3.67362619e+01 -2.58387175e+01\n",
      " -8.84529399e+01  2.39328971e+02  8.96551937e+01  1.21906468e+02\n",
      "  2.46788592e+02  1.80082354e+01  1.04531264e+02  1.05797657e+02\n",
      " -3.71388984e+01 -2.16928262e+01  1.63955138e+02  2.67767658e+01\n",
      "  1.22153960e+02  4.17773543e+01  1.73992496e+02 -1.02997124e+02\n",
      "  4.51461548e+01 -1.05352687e+01  8.98876886e+01 -1.54818825e+02\n",
      " -1.49715880e+01  1.29760518e+01  1.72970103e+02  1.64107534e+02\n",
      "  1.01524290e+02  9.70858978e+01 -6.56896177e+01  1.07457060e+02\n",
      " -3.50053344e+00 -1.06608842e+02 -9.57510554e+01  3.20022471e+02\n",
      "  1.72979886e+02  3.82245456e+01  7.09890517e+01  7.45240740e+01\n",
      "  6.89417218e+01  1.50779244e+02  5.99029551e+01  9.31306687e+01\n",
      " -1.12150328e+02  1.43275868e+02  1.58170280e+01  6.38250518e+01\n",
      " -5.34843108e+01  9.94687728e+01  1.44395008e+01  3.76035928e+01\n",
      " -6.98599833e+01  5.31394916e+01  1.18768328e+02  5.35675869e+01\n",
      "  2.05230886e+01  1.49869190e+02  1.45976801e+02 -2.92561618e+01\n",
      " -2.96791659e+01 -3.41363496e+01  2.56402430e+02 -1.24048248e+02\n",
      "  1.32117770e+02  1.15561234e+02 -8.17076404e+01  2.81127500e+01\n",
      "  6.06334121e+01  1.11709258e+02  7.75861201e+01  1.45385043e+02\n",
      " -3.43894250e+01 -5.27973564e+01  1.05120436e+02  5.39272698e+01\n",
      "  5.42533124e+01 -8.55715784e+01  1.68976250e+02 -1.89052991e+01\n",
      "  1.68166150e+01  1.83220086e+02 -1.38569973e+01 -3.45495995e+01\n",
      "  1.48378578e+02  7.60497002e+01  1.62677539e+02  1.35298721e+02\n",
      "  4.51621489e+01  7.78441820e+01  2.48019582e+02  8.48978392e+01\n",
      " -1.40377593e+02  6.22015395e+01  1.87426803e+01 -7.35221321e+00\n",
      "  1.15557073e+02  1.75194397e+02  5.80604384e+01  1.91868113e+02\n",
      "  1.12234613e+02 -8.02938458e+01  3.28614821e+01  1.36807248e+02\n",
      "  2.08155958e+02  1.57399728e+00 -1.78620711e+00 -4.54139252e+01\n",
      "  4.70326221e+01 -1.15708600e+02  7.96529620e+01  7.71806166e+01\n",
      " -9.42329072e+01  1.03196435e+02  1.08939108e+02 -2.59184948e+01\n",
      "  7.36302916e+01 -1.07244071e+02 -3.13205809e+01  1.24596473e+02\n",
      "  5.95645012e+01  4.04084943e+01  2.82935869e+01  1.89459658e+01\n",
      "  5.24119903e+01  4.36096247e+01  3.58259145e+00 -9.41255928e+01\n",
      "  1.64033123e+01 -4.86970043e+01 -4.11278363e+01 -2.04700867e+02\n",
      " -4.02999065e+01  3.24606867e+01  2.03364640e-01  8.74140153e+01\n",
      " -1.12486398e+02 -3.94338584e+00  1.54882930e+02 -7.10461456e+01\n",
      " -8.78560747e+01  5.79119247e+01 -1.57701338e+02  1.00470345e+01\n",
      " -4.88325940e+01  1.23788370e+02  5.92006455e+01  1.71012357e+02\n",
      " -1.18284584e+02  5.04232991e+01  3.78463893e+01 -8.53518439e+01\n",
      "  1.38850306e+02 -1.39946580e+01 -7.36971134e+01  1.42127464e+02\n",
      " -2.55139619e+01 -1.24845576e+02  2.04172694e+02  1.22248569e+02\n",
      "  9.25757000e+01  1.33994193e+02 -1.99654667e+01  1.52139542e+02\n",
      "  1.20117862e+02  1.41224321e+01  8.22851556e+01 -4.04543606e+01\n",
      "  1.30076566e+02 -4.40092741e+00  1.85839526e+02 -2.88592305e+01\n",
      "  4.16215201e+01 -8.88949178e+01  7.15879069e+00  1.76260898e+02\n",
      "  9.42637613e+01 -5.05489492e+01 -3.28261171e+01  1.45456278e+02\n",
      "  1.41995296e+02  3.88263400e+01  8.90068099e+01  1.20033014e+02\n",
      "  1.73873245e+02  8.54782019e+01  1.72652601e+02 -1.55265375e+02\n",
      "  9.98353948e+00  7.26912918e+01 -1.05034850e+02 -2.05216155e+01\n",
      "  4.27612604e+01 -2.23918947e+02  4.49805521e+01  2.63394724e+02\n",
      "  1.75327144e+02  2.33138777e+02 -9.49859140e+00 -5.10929687e+01\n",
      "  7.99962226e+01 -5.73272462e+01  5.02049185e+01  2.94996882e+02\n",
      "  1.62727567e+02 -8.17729614e+01  1.01253560e+01  2.15820645e+02\n",
      " -4.21221174e+01  1.07866987e+02  3.33292307e+01 -9.81934413e+00\n",
      " -1.24506839e+01  8.08174274e+01  2.91363555e+01 -8.78148032e+01\n",
      "  1.87939304e+02  1.16811735e+02  7.71559109e+01 -3.50400757e+01\n",
      "  2.07881930e+02 -5.45546454e+01  6.35015629e+01 -9.33585451e+01\n",
      " -8.53209633e+01  4.44085467e+01  1.07177803e+02  2.66273594e+02\n",
      " -2.69707326e+00  1.85358779e+02  5.08970296e+01  7.88571699e+01\n",
      "  2.15751480e+02  3.59284083e+01 -1.41064958e+02  1.50979516e+02\n",
      " -8.77090500e+01  4.52355316e+01  1.25799710e+01  4.15281113e+01\n",
      " -1.24531930e+02  2.10016641e+01  1.61345224e+00  5.27461476e+01\n",
      " -1.27944636e+02  9.73540792e+01  2.10121062e+02  1.03305400e+02\n",
      "  2.43127869e+02 -2.06217992e+01  4.86996113e+01 -1.00977964e+02\n",
      "  1.06488724e+02  1.33766750e+02 -1.26445009e+00  2.26948722e+02\n",
      "  7.32109812e+01  6.40483426e+01  1.72967321e+02 -2.07882850e+02\n",
      "  3.37408477e+01 -1.45984809e+01  1.45992660e+02  4.20411111e+01\n",
      "  8.21187396e+01 -4.11669921e+00  2.72449011e+02  1.44945094e+02\n",
      "  1.32490533e+02  8.76870149e+01  2.44191146e+02  2.61306175e+02\n",
      " -1.02471068e+02  1.39197199e+02  1.56706050e+02 -1.39759216e+02\n",
      " -4.05260538e+00  1.06011305e+02  1.67343338e+02 -3.33146667e+01\n",
      "  1.14378578e+01  3.64398670e+01  1.16985916e+01  7.00587137e+00\n",
      "  2.78564703e+02  4.17325312e+01  1.56909752e+02 -3.13654928e+01\n",
      " -3.50555945e+01 -9.08101692e+01 -1.87916240e+01 -1.15204473e+02\n",
      " -1.70839828e+01 -5.57266734e+01  1.31716296e+02  5.07692655e+01\n",
      "  2.17846761e+01  2.14216464e+02  1.17359787e+02  1.83970368e+02\n",
      "  7.11500227e+01 -1.41627200e+02 -5.03755747e+01  1.59462968e+02\n",
      " -4.53221344e+01  8.25356120e+01  6.68535899e+01  2.11342850e+02\n",
      "  1.08685995e+02  9.15450998e+01  6.52416979e+01  9.41400411e+01\n",
      "  9.41018024e+01  1.14403111e+02  1.18312005e+02  9.32389552e+01\n",
      " -2.60118670e+01  3.09504264e+01  6.50209712e+01  1.77159512e+02\n",
      "  1.78839906e+02  6.66712765e+01  2.28435612e+02  1.60126538e+02\n",
      " -9.21288817e+01 -2.97051912e+01  1.51740444e+02  5.24810158e+01\n",
      "  2.39876374e+02  1.25985597e+02  9.42407651e+01  4.45070685e+01\n",
      " -2.75595463e+01  1.79636505e+02  1.07204342e+02  2.56085902e+02\n",
      "  1.55221897e+01  1.08864884e+02  4.42528404e+01  4.27039365e+01\n",
      "  1.53783317e+02  1.68905738e+01  1.27708374e+02 -9.09262254e+01\n",
      " -7.95766013e+01  2.24104663e+02 -2.88629393e+01 -1.08650765e+02\n",
      "  2.01244093e+02 -6.34871126e+01  6.02254451e+01 -3.47851876e+01\n",
      " -1.16319644e+02  1.91263076e+02  9.48491477e+01 -3.04712967e+01\n",
      "  2.19963716e+01  1.12477487e+02 -2.71859560e+01  1.46796552e+02\n",
      "  5.04177352e+01  5.09440645e+01  1.13319326e+02  6.83776754e+01\n",
      "  8.31588277e+01  3.19216265e+01  1.59911411e+02  1.22129886e+02\n",
      "  1.70743932e+02  7.59041958e+01 -2.99646890e+01  9.48668162e+01\n",
      " -9.93500934e+01  1.26110683e+02  2.51683641e+02 -1.33587953e+02\n",
      "  1.36583828e+02  6.57117798e+01 -1.91670817e+01 -1.51136021e+02\n",
      "  7.45423821e+01  1.62199494e+02 -7.89745611e+01  1.39609778e+02\n",
      "  2.86547302e+02  2.54975502e+01  4.41154376e+01 -5.09323744e+01\n",
      "  5.63348522e+01  2.61092952e+01  2.53179890e+01  1.01167218e+01\n",
      " -4.73374988e+01  3.13756092e+01  5.30359454e+01  6.31982090e+01\n",
      "  2.09083331e+01  4.25256568e+01 -4.45185667e+01 -1.69476858e+02\n",
      "  3.38236911e+01  8.14770749e+01  2.06725294e+02  1.58914481e+02\n",
      "  5.25022945e+01 -8.63474837e+01  3.33340173e+01  6.18358171e+01\n",
      "  1.67024697e+01  5.74497047e+01  1.29901276e+02  4.65090141e+01\n",
      " -2.26564502e+01  3.38531947e+01  5.60646635e+01  1.63562455e+02\n",
      "  6.40202769e+01  4.45175120e+01  4.75100899e+01  5.45471611e+01\n",
      "  8.92519827e+01 -8.18314333e+01  4.79515864e+00  1.44828422e+02\n",
      " -6.63467121e+01  7.97724060e+01  1.10749110e+02 -2.09937181e+01\n",
      "  3.87684275e+00 -1.89408334e+01 -6.88711997e+01 -9.09511511e+01\n",
      "  1.84514898e+02 -8.77509860e+01 -3.26498551e+01  8.12728663e+01\n",
      "  1.16979918e+02 -2.96405076e+01  9.45076931e+00 -2.02208775e+02\n",
      "  3.14559565e+01  2.31610234e+01  3.02831616e+01  1.86987834e+02\n",
      " -5.37498797e+01  9.88204468e+01  5.79334904e+01 -7.68234432e+01\n",
      "  2.38025268e+01  2.17754733e+02  8.69943190e+01  1.35240674e+02\n",
      " -3.14829736e+01 -2.71220557e+01  1.84247752e+02 -1.58919999e+01\n",
      " -6.83727013e+00 -1.04459943e+02  1.42232221e+02  2.69666480e+02\n",
      " -3.38935739e+01  2.66944185e+01  9.38854937e-01  7.52825010e+01\n",
      "  3.78572936e+01  2.36451366e+02 -3.33291757e+01  2.08025470e+02\n",
      "  1.10662155e+02  1.13008629e+02  3.31558582e+00 -3.82711057e+01\n",
      " -7.33737030e+01 -9.17096042e+01 -4.77520611e+00  5.79651409e+01\n",
      " -6.00692616e+01  1.09013482e+02 -7.98328692e+01 -1.70861184e+02\n",
      " -6.98306815e+01 -1.05305196e+02  2.67871045e+02  1.66487905e+02\n",
      "  8.74057115e+00 -4.36173750e+00  1.32119420e+02 -3.03858949e+00\n",
      "  6.77350039e+01 -6.78887903e+01 -1.40080811e+02  1.32718486e+02\n",
      "  8.55798605e+01  3.84232619e+01  2.50568758e+02  1.20052023e+02\n",
      "  2.70880683e+02  3.60529856e+01 -5.51640236e+01  8.11943714e+01\n",
      "  1.64740936e+00 -1.52032634e+02  1.67552890e+01 -4.03619487e+01\n",
      "  1.05712921e+02  6.41464643e+00 -6.72340285e+01 -1.80230812e+01]\n"
     ]
    }
   ],
   "source": [
    "#np.random.seed(42)\n",
    "x = np.random.normal(size = 1000, loc = 50, scale = 100)\n",
    "print (x)"
   ]
  },
  {
   "cell_type": "code",
   "execution_count": 81,
   "metadata": {},
   "outputs": [
    {
     "data": {
      "image/png": "[encoded data removed]",
      "text/plain": [
       "<Figure size 432x288 with 1 Axes>"
      ]
     },
     "metadata": {
      "needs_background": "light"
     },
     "output_type": "display_data"
    }
   ],
   "source": [
    "# Histogram of above data representing normal distribution.\n",
    "plt.hist(x)\n",
    "plt.xlabel(\"Probability\")\n",
    "plt.title(\"Normal Distribution\")\n",
    "plt.show()"
   ]
  },
  {
   "cell_type": "code",
   "execution_count": 82,
   "metadata": {
    "scrolled": true
   },
   "outputs": [
    {
     "data": {
      "image/png": "[encoded data removed]",
      "text/plain": [
       "<Figure size 432x288 with 1 Axes>"
      ]
     },
     "metadata": {
      "needs_background": "light"
     },
     "output_type": "display_data"
    }
   ],
   "source": [
    "# Plot a histogram of 1000 numbers with a mean of 50 and a standard deviation of 10\n",
    "import seaborn as sns\n",
    "\n",
    "plt.title(\"Example of normal distribution\")\n",
    "plt.show (sns.distplot(np.random.normal(50, 10.0, 1000), bins=20, color='b'))"
   ]
  },
  {
   "cell_type": "markdown",
   "metadata": {},
   "source": [
    "\n",
    "### numpy.random.exponential"
   ]
  },
  {
   "cell_type": "markdown",
   "metadata": {},
   "source": [
    "\n",
    "The exponential is a continuous distribution describing the probability of an event occuring during a timeframe by looking at the the time or distance between the events. It is often used in conjunction with a Poisson distribution which creates a model of the the number of occurrences in a fixed period of time, it is discrete and defined in integers. There is a strong relationship between the two distributions which describe the same thing but from different perspectives.\n",
    "\n",
    "Non-negative numbers within an exponential distribution are memoryless. The past has no impact on any future behaviour. If a certain period of time was to pass before an event occurs, with memoryless, this would have no effect on when the event was to happen. eg. if a plane crashed, some people may think that the probability of it happening again to the same company would be greatly reduced but in reality, the chances if it happening at any given time have not changed.\n",
    "\n",
    "Its probability density function is: \n",
    "\n",
    "\\begin{equation*}\n",
    "f(x; \\frac{1}{\\beta}) = \\frac{1}{\\beta} \\exp(-\\frac{x}{\\beta})\n",
    "\\end{equation*}\n",
    "\n",
    "\n",
    "\n",
    "for x > 0 and 0 elsewhere. \\beta is the scale parameter, which is the inverse of the rate parameter \\lambda = 1/\\beta. The rate parameter is an alternative, widely used parameterization of the exponential distribution.\n",
    "\n",
    "https://docs.scipy.org/doc/numpy-1.15.0/reference/generated/numpy.random.exponential.html\n",
    "\n",
    "An example of exponential could look at the number of times a website is accessed in a 30 minute period. We say it will get 180 views each hour so that is 90 views per 30 minutes. lambada = 3 (90 views per 1/2 hour / 30 minutes = 3 views per minute)."
   ]
  },
  {
   "cell_type": "code",
   "execution_count": 48,
   "metadata": {},
   "outputs": [
    {
     "data": {
      "text/plain": [
       "array([3.81608705, 0.32862904, 4.41521609, 2.14713444, 2.38233471,\n",
       "       1.66055483, 5.61624937, 0.58029567])"
      ]
     },
     "execution_count": 48,
     "metadata": {},
     "output_type": "execute_result"
    }
   ],
   "source": [
    "np.random.exponential(2, 8)"
   ]
  },
  {
   "cell_type": "code",
   "execution_count": 49,
   "metadata": {},
   "outputs": [
    {
     "data": {
      "image/png": "[encoded data removed]",
      "text/plain": [
       "<Figure size 432x288 with 1 Axes>"
      ]
     },
     "metadata": {
      "needs_background": "light"
     },
     "output_type": "display_data"
    }
   ],
   "source": [
    "# 500 events, going in increments of 5\n",
    "\n",
    "plt.show(plt.hist(np.random.exponential(5, 500), bins=40, color='B', alpha=.3))\n",
    "\n",
    "\n",
    "\n",
    "\n",
    "\n",
    "\n"
   ]
  },
  {
   "cell_type": "code",
   "execution_count": 50,
   "metadata": {},
   "outputs": [
    {
     "data": {
      "image/png": "[encoded data removed]",
      "text/plain": [
       "<Figure size 432x288 with 1 Axes>"
      ]
     },
     "metadata": {
      "needs_background": "light"
     },
     "output_type": "display_data"
    }
   ],
   "source": [
    "lam = 3\n",
    "x = np.arange(0, 10, .1)\n",
    "y = lam * np.exp(- lam* x) \n",
    "plt.plot(x,y)\n",
    "plt.title('Exponential: $\\lambda$ =%.2f' % lam)\n",
    "plt.xlabel('x')\n",
    "plt.ylabel('Probability density')\n",
    "plt.show()"
   ]
  },
  {
   "cell_type": "markdown",
   "metadata": {},
   "source": [
    "Exponential Distribution is often used in reliability engineering.  It describes the lifetime failure of a machine or system part within a specific time period.  The failure is not a byproduct of usual wear and tear of the part but of a random event.  "
   ]
  },
  {
   "cell_type": "markdown",
   "metadata": {},
   "source": [
    "### numpy.random.multinomial\n",
    "\n",
    "numpy.random.multinomial is used when there are several possible outcomes. It is similar to but different from Binomial, which has only two outcomes (success and failure). Eg. a dice is rolled 10 times. There are 6 possibilities (1, 2, 3, 4, 5, 6). That would be classed as a multinimial experiment. If the die was rolled 10 times to see how often 2 comes up, it would be classed as a binomial experiment (2 = success, 1, 3, 4, 5,6 = failure).\n",
    "\n",
    "\n",
    "\\begin{equation*}\n",
    "p=  \\frac{n!}{(n_1!)(n_2!)(n_3!)}\n",
    "p_1^{n1} p_2^{n2} p_3^{n3}\n",
    "\\end{equation*}\n",
    "\n",
    "where\n",
    "p is the probability,\n",
    "n is the total number of events\n",
    "n1 is the number of times Outcome 1 occurs,\n",
    "n2 is the number of times Outcome 2 occurs,\n",
    "n3 is the number of times Outcome 3 occurs,\n",
    "p1 is the probability of Outcome 1\n",
    "p2 is the probability of Outcome 2, and\n",
    "p3 is the probability of Outcome 3.\n",
    "\n",
    "http://onlinestatbook.com/2/probability/multinomial.html"
   ]
  },
  {
   "cell_type": "code",
   "execution_count": 52,
   "metadata": {},
   "outputs": [
    {
     "data": {
      "text/plain": [
       "array([[3, 2, 2, 2, 1, 0]])"
      ]
     },
     "execution_count": 52,
     "metadata": {},
     "output_type": "execute_result"
    }
   ],
   "source": [
    "# A dice is thrown 10 times, it landed on 1 once, 2 once, 3 twice, 4 three times, etc\n",
    "\n",
    "np.random.multinomial(10, [1/6.]*6, size=1)"
   ]
  },
  {
   "cell_type": "code",
   "execution_count": 53,
   "metadata": {},
   "outputs": [
    {
     "name": "stdout",
     "output_type": "stream",
     "text": [
      "[[0 1 1 4 2 2]\n",
      " [3 2 2 0 2 1]]\n"
     ]
    }
   ],
   "source": [
    "# Dice is now thrown 10 times and then 10 again \n",
    "# The first round of 10 it landed on 1 twice, 2 three times, 4 once etc. and in the second round of 10 it landed on 1 once, 2 twice, 3 zero times.\n",
    "\n",
    "x=np.random.multinomial(10, [1/6.]*6, size=2)\n",
    "print (x)"
   ]
  },
  {
   "attachments": {
    "convariance.png": {
     "image/png": "[encoded data removed]"
    },
    "mean.png": {
     "image/png": "[encoded data removed]"
    },
    "multivariate.png": {
     "image/png": "[encoded data removed]"
    }
   },
   "cell_type": "markdown",
   "metadata": {},
   "source": [
    "Multivariate is more than one non-independent variable and more than two variables. It usually refers to several or many variables that have interconnecting relationships and don’t reduce to pure independent or pure dependent variables.\n",
    "\n",
    "Multinomial describes a single variable that can take a finite number of values, more than two.\n",
    "\n",
    "You could have a multivariate system of multinomial variables. Multivariate refers to more than two variables. Multinomial refers to more than two (but not infinity) possible values of one variable.\n",
    "\n",
    "![multivariate.png](attachment:multivariate.png)\n",
    "![mean.png](attachment:mean.png) is the mean,![convariance.png](attachment:convariance.png) is the covariance matrix, and k is the dimension of the space where x takes values.    \n",
    "https://docs.scipy.org/doc/scipy-0.14.0/reference/generated/scipy.stats.multivariate_normal.html"
   ]
  },
  {
   "cell_type": "code",
   "execution_count": 90,
   "metadata": {},
   "outputs": [
    {
     "data": {
      "image/png": "[encoded data removed]",
      "text/plain": [
       "<Figure size 432x288 with 1 Axes>"
      ]
     },
     "metadata": {},
     "output_type": "display_data"
    }
   ],
   "source": [
    "# https://numpy.org/doc/1.15/reference/generated/numpy.random.multivariate_normal.html\n",
    "mean = [0, 0]\n",
    "cov = [[1, 0], [0, 100]]  # diagonal covariance\n",
    "import matplotlib.pyplot as plt\n",
    "x, y = np.random.multivariate_normal(mean, cov, 5000).T\n",
    "plt.plot(x, y, 'x')\n",
    "plt.axis('equal')\n",
    "plt.show()"
   ]
  },
  {
   "cell_type": "code",
   "execution_count": 89,
   "metadata": {},
   "outputs": [
    {
     "data": {
      "image/png": "[encoded data removed]",
      "text/plain": [
       "<Figure size 432x288 with 1 Axes>"
      ]
     },
     "metadata": {},
     "output_type": "display_data"
    }
   ],
   "source": [
    "# The following graphs are beyond what I can currently do but I have included them as a representation of what multivariate can be used for. \n",
    "# https://stackoverflow.com/questions/38698277/plot-normal-distribution-in-3d\n",
    " \n",
    "import numpy as np\n",
    "import matplotlib.pyplot as plt\n",
    "from scipy.stats import multivariate_normal\n",
    "from mpl_toolkits.mplot3d import Axes3D\n",
    "\n",
    "#Parameters to set\n",
    "mu_x = 0\n",
    "variance_x = 3\n",
    "\n",
    "mu_y = 0\n",
    "variance_y = 15\n",
    "\n",
    "#Create grid and multivariate normal\n",
    "x = np.linspace(-10,10,500)\n",
    "y = np.linspace(-10,10,500)\n",
    "X, Y = np.meshgrid(x,y)\n",
    "pos = np.empty(X.shape + (2,))\n",
    "pos[:, :, 0] = X; pos[:, :, 1] = Y\n",
    "rv = multivariate_normal([mu_x, mu_y], [[variance_x, 0], [0, variance_y]])\n",
    "\n",
    "#Make a 3D plot\n",
    "fig = plt.figure()\n",
    "ax = fig.gca(projection='3d')\n",
    "ax.plot_surface(X, Y, rv.pdf(pos),cmap='viridis',linewidth=0)\n",
    "ax.set_xlabel('X axis')\n",
    "ax.set_ylabel('Y axis')\n",
    "ax.set_zlabel('Z axis')\n",
    "plt.show()"
   ]
  },
  {
   "cell_type": "code",
   "execution_count": 88,
   "metadata": {},
   "outputs": [
    {
     "data": {
      "image/png": "[encoded data removed]",
      "text/plain": [
       "<Figure size 720x720 with 1 Axes>"
      ]
     },
     "metadata": {},
     "output_type": "display_data"
    }
   ],
   "source": [
    "# https://stackoverflow.com/questions/38698277/plot-normal-distribution-in-3d\n",
    "# The following adaption to above code returns a contour plot version of the 3D plot above \n",
    "\n",
    "import matplotlib.pyplot as plt\n",
    "from matplotlib import style\n",
    "style.use('fivethirtyeight')\n",
    "import numpy as np\n",
    "from scipy.stats import multivariate_normal\n",
    "\n",
    "\n",
    "\n",
    "\n",
    "#Parameters to set\n",
    "mu_x = 0\n",
    "variance_x = 3\n",
    "\n",
    "mu_y = 0\n",
    "variance_y = 15\n",
    "\n",
    "x = np.linspace(-10,10,500)\n",
    "y = np.linspace(-10,10,500)\n",
    "X,Y = np.meshgrid(x,y)\n",
    "\n",
    "pos = np.array([X.flatten(),Y.flatten()]).T\n",
    "\n",
    "\n",
    "\n",
    "rv = multivariate_normal([mu_x, mu_y], [[variance_x, 0], [0, variance_y]])\n",
    "\n",
    "\n",
    "fig = plt.figure(figsize=(10,10))\n",
    "ax0 = fig.add_subplot(111)\n",
    "ax0.contour(rv.pdf(pos).reshape(500,500))\n",
    "\n",
    "\n",
    "\n",
    "plt.show()"
   ]
  },
  {
   "cell_type": "code",
   "execution_count": null,
   "metadata": {},
   "outputs": [],
   "source": []
  },
  {
   "cell_type": "code",
   "execution_count": 54,
   "metadata": {},
   "outputs": [
    {
     "name": "stdout",
     "output_type": "stream",
     "text": [
      "1.15.4\n",
      "229 ms ± 0 ns per loop (mean ± std. dev. of 1 run, 1 loop each)\n",
      "76.1 ms ± 0 ns per loop (mean ± std. dev. of 1 run, 1 loop each)\n"
     ]
    }
   ],
   "source": [
    "# just as an aside, while researching multinominal I came across this bit of code which seems to indicate that\n",
    "# np.random.multinomial is faster than np.random.choice\n",
    "\n",
    "print(np.__version__)\n",
    "probs = [1/100.] * 100\n",
    "%timeit -n 1 -r 1 [np.random.choice(100, p=probs) for x in range(10000)]\n",
    "%timeit -n 1 -r 1 [np.random.multinomial(1, probs).argmax() for x in range(10000)]\n",
    "\n",
    "# https://github.com/numpy/numpy/issues/7543"
   ]
  },
  {
   "cell_type": "code",
   "execution_count": null,
   "metadata": {},
   "outputs": [],
   "source": []
  },
  {
   "cell_type": "markdown",
   "metadata": {},
   "source": [
    "### numpy.random.uniform\n",
    "\n",
    "numpy.random.uniform is a type of probability distribution which each variable has the identical probability that it will be the outcome, all of the possible outcomes are equally likely. e.g. a coin has an equal probability of getting heads or tails so it can be classed as having a uniform distribution. The same can be said about a deck of cards. There are four suits and the chances of choosing either a diamond, heart, spade or club are the same.\n",
    "\n",
    "There are 2 types of uniform distributions: continuous and discrete. With continuous each variable has an equal chance of being chosen and there can be a infinite number of permutations.\n",
    "\n",
    "Discrete distribution has a fixed list of possible values, it can not be subdivided and there may be a repeat of a value. e.g. with the throw of a dice it will always be between 1 and 6."
   ]
  },
  {
   "cell_type": "markdown",
   "metadata": {},
   "source": [
    "\n",
    "The random.random() function takes no parameters while random.uniform() takes two parameters, i.e., start and stop. The random.random() function generates a random float number between 0.0 to 1.0, but never returns 1.0. random.uniform(start, stop) generates a random float number between the start (a) and stop (b) number. Rounding may end up giving you b.\n",
    "\n",
    "The probability density function of the uniform distribution is:\n",
    "\n",
    "\\begin{equation*}\n",
    "p(x)= \\frac{1}{b-a}\n",
    "\\end{equation*}\n",
    "\n"
   ]
  },
  {
   "cell_type": "code",
   "execution_count": 55,
   "metadata": {},
   "outputs": [
    {
     "name": "stdout",
     "output_type": "stream",
     "text": [
      "Random float number is  0.43113162875657274\n"
     ]
    }
   ],
   "source": [
    "# random float from a uniform distribution between 0 and 1\n",
    "\n",
    "print(\"Random float number is \", np.random.uniform())"
   ]
  },
  {
   "cell_type": "code",
   "execution_count": 56,
   "metadata": {},
   "outputs": [
    {
     "data": {
      "text/plain": [
       "array([-4.57439436, -4.34469431, -2.2783717 ,  4.45991583, -3.00736889,\n",
       "        3.01569962])"
      ]
     },
     "execution_count": 56,
     "metadata": {},
     "output_type": "execute_result"
    }
   ],
   "source": [
    "# 6 random floats from  -5 to  5.\n",
    "\n",
    "np.random.uniform(-5.0, 5, 6)"
   ]
  },
  {
   "cell_type": "code",
   "execution_count": 57,
   "metadata": {},
   "outputs": [
    {
     "data": {
      "text/plain": [
       "array([-1.46243707,  4.53285011,  4.23940029,  3.40561762,  2.49941475,\n",
       "       -0.34565976])"
      ]
     },
     "execution_count": 57,
     "metadata": {},
     "output_type": "execute_result"
    }
   ],
   "source": [
    "#Another way to get 6 random floats from -5 to 5.\n",
    "\n",
    "np.random.uniform(low=-5, high=5, size=(6,))"
   ]
  },
  {
   "cell_type": "code",
   "execution_count": 58,
   "metadata": {},
   "outputs": [
    {
     "name": "stdout",
     "output_type": "stream",
     "text": [
      "Random float number with two decimal places is  0.72\n",
      "Random float number between 5 and 30.5 with three decimal places is  12.988\n"
     ]
    }
   ],
   "source": [
    "print(\"Random float number with two decimal places is \", round(random.random(), 2))\n",
    "print(\"Random float number between 5 and 30.5 with three decimal places is \", round(random.uniform(5,30.5), 3))"
   ]
  },
  {
   "cell_type": "code",
   "execution_count": null,
   "metadata": {},
   "outputs": [],
   "source": []
  },
  {
   "cell_type": "code",
   "execution_count": 59,
   "metadata": {},
   "outputs": [
    {
     "name": "stdout",
     "output_type": "stream",
     "text": [
      "it took:  0.012965202331542969\n",
      "it took:  0.06582331657409668\n"
     ]
    }
   ],
   "source": [
    "#For loop in list comprehension takes time and makes it slow. Faster to use numpy parameters (low, high, size, ..etc)\n",
    "\n",
    "import numpy as np\n",
    "import time\n",
    "rang = 5000\n",
    "tic = time.time()\n",
    "for i in range(rang):\n",
    "    sampl = np.random.uniform(low=5,high=10,size=(10))\n",
    "print(\"it took: \", time.time() - tic)\n",
    "\n",
    "tic = time.time()\n",
    "for i in range(rang):\n",
    "    ran_floats = [np.random.uniform(0,3) for _ in range(10)]\n",
    "print(\"it took: \", time.time() - tic)"
   ]
  },
  {
   "cell_type": "code",
   "execution_count": 60,
   "metadata": {},
   "outputs": [
    {
     "data": {
      "image/png": "[encoded data removed]",
      "text/plain": [
       "<Figure size 432x288 with 1 Axes>"
      ]
     },
     "metadata": {
      "needs_background": "light"
     },
     "output_type": "display_data"
    }
   ],
   "source": [
    "# Sample of a histogram representing uniform distribution\n",
    "plt.hist(np.random.uniform(low=0.0, high=1.0, size=1000), bins=35,color='Y', alpha=1)\n",
    "plt.xlabel(\"Probability\")\n",
    "plt.title(\"Uniform Distribution\")\n",
    "plt.show()"
   ]
  },
  {
   "cell_type": "markdown",
   "metadata": {},
   "source": [
    "### numpy.random.standard_t"
   ]
  },
  {
   "cell_type": "markdown",
   "metadata": {},
   "source": [
    "Also referred to as the Student's T Distribution.  It is very similar to the normal distribution curve but looks a little shorter and wider, showing values which are further away from the mean, but both are symmetrical and have a single peak.  If the sample size is too small, less than 30, then it is harder to produce an accurate, reliable result.  Therefore random standard t is used as it can work better with non-normal distribution. Also, if and/or the population variance is unknown (ie. how data points are spread out).  But both normal and standard t distribution will show how far from the mean the standard deviations are.  \n",
    "\n",
    "The probability density function for the t distribution is:\n",
    "\n",
    "t = [ x - μ ] / [ s / sqrt( n ) ]\n",
    "\n",
    "where x is the sample mean, μ is the population mean, s is the standard deviation of the sample, n is the sample size, and degrees of freedom are equal to n - 1.\n",
    "\n",
    "https://stattrek.com/probability-distributions/t-distribution.aspx\n",
    "\n",
    "There are different t distributions. The particular form of the t distribution is determined by its degrees of freedom. The degrees of freedom refers to the number of independent observations in a set of data.  The higher the degrees of freedom, the closer that distribution will resemble a standard normal distribution with a mean of 0, and a standard deviation of 1. T distribution differs from the normal distribution by its degrees of freedom. \n",
    "\n",
    "\n",
    "\n",
    "\n",
    "\n"
   ]
  },
  {
   "cell_type": "code",
   "execution_count": 61,
   "metadata": {},
   "outputs": [
    {
     "data": {
      "text/html": [
       "\n",
       "        <iframe\n",
       "            width=\"700\"\n",
       "            height=\"300\"\n",
       "            src=\"http://www.meracalculator.com/math/t-distribution-critical-value-table.php\"\n",
       "            frameborder=\"0\"\n",
       "            allowfullscreen\n",
       "        ></iframe>\n",
       "        "
      ],
      "text/plain": [
       "<IPython.lib.display.IFrame at 0x1f6646bb550>"
      ]
     },
     "execution_count": 61,
     "metadata": {},
     "output_type": "execute_result"
    }
   ],
   "source": [
    "from IPython.display import IFrame \n",
    "IFrame (\"http://www.meracalculator.com/math/t-distribution-critical-value-table.php\", width=700, height=300)"
   ]
  },
  {
   "cell_type": "code",
   "execution_count": 62,
   "metadata": {},
   "outputs": [
    {
     "data": {
      "text/plain": [
       "<function RandomState.standard_t>"
      ]
     },
     "execution_count": 62,
     "metadata": {},
     "output_type": "execute_result"
    }
   ],
   "source": [
    "np.random.standard_t"
   ]
  },
  {
   "cell_type": "code",
   "execution_count": null,
   "metadata": {},
   "outputs": [],
   "source": []
  },
  {
   "cell_type": "code",
   "execution_count": 63,
   "metadata": {},
   "outputs": [
    {
     "data": {
      "text/plain": [
       "array([-0.1549667 , -0.27756848, -1.32424729, -0.72385432, -1.15996231,\n",
       "       -2.0332919 , -1.53317242, -0.92002609, -0.71843131,  0.23710558])"
      ]
     },
     "execution_count": 63,
     "metadata": {},
     "output_type": "execute_result"
    }
   ],
   "source": [
    "np.random.standard_t(25, size=10)\n"
   ]
  },
  {
   "cell_type": "code",
   "execution_count": 64,
   "metadata": {},
   "outputs": [
    {
     "data": {
      "image/png": "[encoded data removed]",
      "text/plain": [
       "<Figure size 432x288 with 1 Axes>"
      ]
     },
     "metadata": {
      "needs_background": "light"
     },
     "output_type": "display_data"
    }
   ],
   "source": [
    "plt.hist(np.random.standard_t(25, size=10), bins=35, color='Y', alpha=1)\n",
    "plt.xlabel(\"Probability\")\n",
    "plt.title(\"Standard Distribution\")\n",
    "plt.show()"
   ]
  },
  {
   "cell_type": "code",
   "execution_count": null,
   "metadata": {},
   "outputs": [],
   "source": []
  },
  {
   "cell_type": "code",
   "execution_count": null,
   "metadata": {},
   "outputs": [],
   "source": []
  },
  {
   "cell_type": "code",
   "execution_count": 65,
   "metadata": {},
   "outputs": [
    {
     "data": {
      "text/plain": [
       "(array(0.), array(1.11111111), array(0.), array(0.375))"
      ]
     },
     "execution_count": 65,
     "metadata": {},
     "output_type": "execute_result"
    }
   ],
   "source": [
    "#http://pytolearn.csd.auth.gr/d1-hyptest/11/t-distro.html\n",
    "from scipy.stats import t\n",
    "\n",
    "# Freeze for df=20, loc=0, scale=1 and get the first four moments from stats()\n",
    "rv = t(df=20, loc=0, scale=1)\n",
    "mean, var, skew, kurt = rv.stats(moments='mvsk')\n",
    "mean, var, skew, kurt"
   ]
  },
  {
   "cell_type": "code",
   "execution_count": 66,
   "metadata": {},
   "outputs": [
    {
     "data": {
      "text/plain": [
       "[<matplotlib.lines.Line2D at 0x1f6647df978>]"
      ]
     },
     "execution_count": 66,
     "metadata": {},
     "output_type": "execute_result"
    },
    {
     "data": {
      "image/png": "[encoded data removed]",
      "text/plain": [
       "<Figure size 432x288 with 1 Axes>"
      ]
     },
     "metadata": {
      "needs_background": "light"
     },
     "output_type": "display_data"
    }
   ],
   "source": [
    "import numpy as np\n",
    "from scipy.stats import t\n",
    "import matplotlib.pyplot as plt\n",
    "%matplotlib inline\n",
    "\n",
    "rv = t(df=20, loc=0, scale=1)\n",
    "x = np.linspace(rv.ppf(0.0001), rv.ppf(0.9999), 100)\n",
    "y = rv.pdf(x) \n",
    "\n",
    "plt.xlim(-5,5)\n",
    "plt.plot(x,y)"
   ]
  },
  {
   "cell_type": "code",
   "execution_count": null,
   "metadata": {},
   "outputs": [],
   "source": []
  },
  {
   "cell_type": "code",
   "execution_count": 67,
   "metadata": {},
   "outputs": [],
   "source": [
    "#From Dalgaard page 83 [R272], suppose the daily energy intake for 11 women in Kj is:\n",
    "intake = np.array([5260., 5470, 5640, 6180, 6390, 6515, 6805, 7515, 7515, 8230, 8770])"
   ]
  },
  {
   "cell_type": "code",
   "execution_count": 68,
   "metadata": {},
   "outputs": [
    {
     "data": {
      "text/plain": [
       "6753.636363636364"
      ]
     },
     "execution_count": 68,
     "metadata": {},
     "output_type": "execute_result"
    }
   ],
   "source": [
    "#Does their energy intake deviate systematically from the recommended value of 7725 kJ?\n",
    "\n",
    "# We have 10 degrees of freedom, so is the sample mean within 95% of the recommended value?\n",
    "\n",
    "s = np.random.standard_t(10, size=100000)\n",
    "np.mean(intake)\n",
    "\n",
    "\n"
   ]
  },
  {
   "cell_type": "code",
   "execution_count": 69,
   "metadata": {},
   "outputs": [
    {
     "data": {
      "text/plain": [
       "1142.1232221373727"
      ]
     },
     "execution_count": 69,
     "metadata": {},
     "output_type": "execute_result"
    }
   ],
   "source": [
    "intake.std(ddof=1)"
   ]
  },
  {
   "cell_type": "code",
   "execution_count": 70,
   "metadata": {},
   "outputs": [
    {
     "data": {
      "image/png": "[encoded data removed]",
      "text/plain": [
       "<Figure size 432x288 with 1 Axes>"
      ]
     },
     "metadata": {
      "needs_background": "light"
     },
     "output_type": "display_data"
    }
   ],
   "source": [
    "#Calculate the t statistic, setting the ddof parameter to the unbiased value so the divisor in the standard deviation will be degrees of freedom, N-1.\n",
    "\n",
    "t = (np.mean(intake)-7725)/(intake.std(ddof=1)/np.sqrt(len(intake)))\n",
    "import matplotlib.pyplot as plt\n",
    "h = plt.hist(s, bins=100, density=True)"
   ]
  },
  {
   "cell_type": "code",
   "execution_count": 71,
   "metadata": {},
   "outputs": [
    {
     "data": {
      "text/plain": [
       "0.00893"
      ]
     },
     "execution_count": 71,
     "metadata": {},
     "output_type": "execute_result"
    }
   ],
   "source": [
    "# For a one-sided t-test, how far out in the distribution does the t statistic appear?\n",
    "\n",
    "np.sum(s<t) / float(len(s))"
   ]
  },
  {
   "cell_type": "code",
   "execution_count": 72,
   "metadata": {},
   "outputs": [],
   "source": [
    "# The p-value is about 0.009, which says the null hypothesis has a probability of about 99% of being true\n",
    "\n",
    "# Code from https://docs.scipy.org/doc/numpy-1.13.0/reference/generated/numpy.random.standard_t.html"
   ]
  },
  {
   "cell_type": "markdown",
   "metadata": {},
   "source": [
    "### Problem statement 5\n",
    "### Explain the use of seeds in generating psudorandom numbers\n",
    "\n",
    "\n",
    "Pseudorandom numbers are randomly generated numbers.  Random numbers are used to create noise or sampling and is very difficult to predetermine (nondeterministic) as there will be no pattern to the numbers.  Machines are predictable, deterministic and their random numbers are not so random.  Therefore many algorithms have been developed to artifically simulate random numbers.  With the middle-squares method, a seed or base number is chosen. Again while this seed seems to be random, it is usually selected from a predetermined starting point eg. the microseconds on the operating system clock.  This allows the PRNG to lock the generator for replicable analysis.  The seed is squared, the middle number of the result is then again squared and so on.  If the same sequence was commenced at the same time then the result would be the same resulting in a number which is not at all random, will be repeated and easy to predict.  This is of huge importance within computer security and an easily predictable generator should not be used for gambling or cryptology .  If an encryption key is generated psudorandomly, knowing what the seed is will make the key obsolete as it can be easily reproduced.   The period is the lenght before the psudorandom sequence repeats and is limited by the lenght of the original seed.  A 2 digit seed can produce 100 unique numbers before it begins to repeat.  3 digits has a maximum of 1,000 and 4 can to to 10,000 numbers. The larger the seed, the more numbers it will use before the sequence will begin to repeat itself. \n",
    "\n",
    "A deliberately shared random seed (secret key) between systems using the same psudorandom number generators create identical sequences which are then used to synchronize remote systems eg. GPS satellites. \n",
    "\n",
    "\n",
    "NumPy uses the Mersenne Twister algorithm which was designed in 1997  by M. Matsumoto and T. Nishimura."
   ]
  },
  {
   "cell_type": "code",
   "execution_count": null,
   "metadata": {},
   "outputs": [],
   "source": []
  },
  {
   "cell_type": "code",
   "execution_count": 73,
   "metadata": {},
   "outputs": [
    {
     "data": {
      "text/plain": [
       "array([4.17022005e-01, 7.20324493e-01, 1.14374817e-04, 3.02332573e-01,\n",
       "       1.46755891e-01])"
      ]
     },
     "execution_count": 73,
     "metadata": {},
     "output_type": "execute_result"
    }
   ],
   "source": [
    "# np.random.seed(1) sets the seed and produces the same numbers each time.\n",
    "\n",
    "np.random.seed(1) ; np.random.rand(5)"
   ]
  },
  {
   "cell_type": "code",
   "execution_count": 74,
   "metadata": {},
   "outputs": [
    {
     "data": {
      "text/plain": [
       "array([4.17022005e-01, 7.20324493e-01, 1.14374817e-04])"
      ]
     },
     "execution_count": 74,
     "metadata": {},
     "output_type": "execute_result"
    }
   ],
   "source": [
    "np.random.seed(1) ; np.random.rand(3)"
   ]
  },
  {
   "cell_type": "code",
   "execution_count": 75,
   "metadata": {},
   "outputs": [
    {
     "data": {
      "text/plain": [
       "array([0.30233257, 0.14675589, 0.09233859, 0.18626021, 0.34556073,\n",
       "       0.39676747, 0.53881673])"
      ]
     },
     "execution_count": 75,
     "metadata": {},
     "output_type": "execute_result"
    }
   ],
   "source": [
    "# Different numbers appear each time if the random seed is not set\n",
    "np.random.rand(7)"
   ]
  },
  {
   "cell_type": "code",
   "execution_count": 76,
   "metadata": {},
   "outputs": [
    {
     "data": {
      "text/plain": [
       "array([0.41919451, 0.6852195 , 0.20445225, 0.87811744, 0.02738759])"
      ]
     },
     "execution_count": 76,
     "metadata": {},
     "output_type": "execute_result"
    }
   ],
   "source": [
    "np.random.rand(5)"
   ]
  },
  {
   "cell_type": "code",
   "execution_count": null,
   "metadata": {},
   "outputs": [],
   "source": []
  },
  {
   "cell_type": "code",
   "execution_count": 77,
   "metadata": {},
   "outputs": [
    {
     "data": {
      "text/plain": [
       "('MT19937', array([2629073562, 2983301384,  681580311, 4033622241,  792772838,\n",
       "        3306961981,   92883131, 1785085746, 3364128315, 2402025379,\n",
       "        3224868746, 1145213362, 3784365245, 1948434636, 2667646161,\n",
       "        2598854474,  921967201, 1345782310, 4019597455, 2906395199,\n",
       "        1349669984, 2676817993, 4201769589, 2002781766, 3540177092,\n",
       "        4224925813, 3661313599, 1709930435, 1812273278, 2973452884,\n",
       "        1592291796, 3452239013, 3588672187, 3228651068, 3191454495,\n",
       "        3286135343, 2640545275, 3096953148, 3746505897, 2292163827,\n",
       "        2164382601, 1581410039, 2413832827, 2536571847,  179684232,\n",
       "        1638923698, 3155158821, 1454330362, 4050607484,  607322300,\n",
       "        2216566078,  597866774, 1036426282,  732815996, 3131865469,\n",
       "        2440339870, 2814550949, 1479383443, 2449469876, 3810238677,\n",
       "        2923086221,  437801529, 2891199990, 1886893516, 3898673786,\n",
       "         376204646, 1392372379, 4123661669, 1140754642, 3539167101,\n",
       "        2386309702, 3740957436, 4033654965, 1720449988, 3434980330,\n",
       "        4213508374, 3576835843, 2818865106, 1653162115, 2935588114,\n",
       "        3870616539,  102614847, 1476834675, 1220770796, 1233652508,\n",
       "        2385138085, 1300608482, 2753953039,  262993567, 4009374062,\n",
       "        2143978386, 1613109469, 3072671496, 1223816410, 4088822114,\n",
       "        3382188205, 2250056281, 1926821318, 3806317775, 2882166470,\n",
       "          94227745, 2877123406, 1030225246, 1555072155,   95009460,\n",
       "        1855512191, 2840453856, 2478087736,  836340051, 1566383306,\n",
       "        2625414289, 3519123538,  840509954, 2373484829,  676528503,\n",
       "        2783662465, 3557034492, 2566048980, 2347785709, 3566819907,\n",
       "        1311855742,  198269976, 2693520819, 2127070362,  961491174,\n",
       "        3932714317,  837664826, 4277891831, 3535515583, 2831416447,\n",
       "        3505045078, 3763313683,  367436315, 3614057572, 3780746374,\n",
       "        2693039652, 2297021184, 2224934154,  698822522, 2718629137,\n",
       "        1175446314, 2603507610, 2067589016, 2280810156, 2037033584,\n",
       "        3956938481, 1112874779, 3264939860, 2054107185, 2354026721,\n",
       "        1958640221, 2844284824, 3775753525, 2462549847, 3562644229,\n",
       "        3683686884, 3714884555, 2266356233, 2808583945,  980888698,\n",
       "        1137581788, 2771236582, 1975939317, 1605707990,  614167064,\n",
       "         767063856, 4227905160, 3590303986, 2932373212, 2230415839,\n",
       "         127157074, 2328724316, 3356372094, 3215726425,  282321962,\n",
       "        4226412442,  106823192, 3925701436,  610765913,  281952627,\n",
       "        1832011890, 2670621135, 1012800992, 1489632964, 1371755819,\n",
       "        2529629289,  607643288, 3941535311, 3202770816,  284461833,\n",
       "        3696778854,  325625733, 2671656400, 1391137252, 1240723705,\n",
       "        3132941411,  314202987, 1301784708, 2575857120,  313287791,\n",
       "        3569720512,  981744121, 2986286440, 1051168756, 3881027887,\n",
       "        1088809168, 3421075971, 2655923113, 2577977181, 3968201444,\n",
       "        1406585576, 4001025594, 1854233928, 3825832114,  954907921,\n",
       "        3109212504, 1706316388, 1550715292, 2934259476, 1892992132,\n",
       "        4050317728, 4110743408,  359920673, 3542060425,  597068400,\n",
       "         843058885, 3799566677, 2064802063,  860032883, 2732673041,\n",
       "        3457529378, 3660165513, 1125914118, 4212233956, 3757086488,\n",
       "        2632116865,  462233764,  161423763,  141910303, 2265109737,\n",
       "        1983126147, 2231395445, 2147383559,  611750005, 2194081082,\n",
       "        1699618892, 3841025952, 1294478167,  936120505, 4102008957,\n",
       "        4268194620, 1994019922, 1187332833, 3953675561, 1917283619,\n",
       "         896867387, 1634068959, 3950876764,  485558549,   45383166,\n",
       "        2795959904, 1717914918, 3449856475, 3796449494, 3318166191,\n",
       "        1007512487,  480498390, 1730605673, 3972660041, 2287008439,\n",
       "         539639323, 1569683418, 3795864463,  453065119, 2449404120,\n",
       "         265049099, 3514892628, 2665563904, 2534523080, 1969344934,\n",
       "        4294466702, 1478959417, 1858551310, 3029422620, 4121720519,\n",
       "        2933843154, 3209557296, 3111170404, 4264711934, 2448282623,\n",
       "        1388503581, 1999436060,  818418468, 3283991819, 2356924521,\n",
       "        2684567658, 1424193429, 1187340812, 3847120877, 1987859863,\n",
       "        1879502046, 3422594099, 1419478013, 4148487199, 2538837125,\n",
       "        3694851522,  636350498, 1097832595, 3779331880,  351970715,\n",
       "        2534774459, 3389311029, 3762283879, 3742425828, 3882821767,\n",
       "           2683353, 1981273229, 4068324016,  539226467, 2411256222,\n",
       "        1780609115, 2059099269, 2889497980, 1123848930,  540086248,\n",
       "        3467353606, 3362203896, 4058078927,   93044840,  426751932,\n",
       "         824266620, 3444590461, 2122918776, 3339845861, 4233923286,\n",
       "        3733051177, 2957657929, 3110908772, 2551930098, 1294126893,\n",
       "        2213336821, 2124571119,   49780221, 2901327722, 2493306969,\n",
       "        2545470627,  102527300, 3876142393, 4097726412, 3510695954,\n",
       "         660912408, 2033930425, 1601509561,  969180562,  635252598,\n",
       "         177954239, 3054207519, 4122051269, 2787463443, 1664731394,\n",
       "        2907371963, 1484884283, 1560546623, 2902374922, 2395942225,\n",
       "         451352804, 3346805556, 3459298550, 3482428591,   10753957,\n",
       "        4101820340, 3306178891, 1122941824,  355877597, 1683964498,\n",
       "         238724805, 3926649337, 3197046734, 4277634633, 2288745211,\n",
       "        4202067531,  526022968, 4017453944, 1499184106, 2677441952,\n",
       "        2227353703, 1995296581, 1690255681, 2920887680,  605849491,\n",
       "        3072795503,  746910746, 2709796449, 1225135658,  657841564,\n",
       "        4070363626,  144842260, 3718575695, 3159187032,   88291794,\n",
       "        3129049475,  410962657, 1728726693, 2397606939, 4126386549,\n",
       "         751549633, 4226219908, 1549973222, 3060733996, 3741110422,\n",
       "        2530947598, 2627897488, 2317706652, 1170828427, 2671701715,\n",
       "        1153351468, 3762293788, 4093330405, 1641962571,  699324101,\n",
       "        3173743570, 1798831929, 3467616712, 4198420524, 2448981354,\n",
       "         499920867,  968642107, 2140815539, 4193124145, 1639223168,\n",
       "         284638153,  396985542, 3543438633,  237854258, 3938010494,\n",
       "          24441053, 2947436871, 1273496002,  719279415, 3574242559,\n",
       "        1040109604, 3849196601, 3250223302, 3411729501, 3031943234,\n",
       "        2932285520, 2932420675, 2011314805, 2480850074, 3207806491,\n",
       "         462404995, 3279042455, 4270524229, 1064389665, 1894847490,\n",
       "         721365878,  357178131, 2827490451, 2604438657,  242514037,\n",
       "         678802395, 1322770750, 2747624534, 4246466163, 4188936761,\n",
       "        1207204018,  980275996,  841637218, 1468131552, 4102349079,\n",
       "         586888764, 3105466755, 1628818384, 2991889790, 2801191520,\n",
       "        2114916962, 1124291831, 3242113092, 1082871720, 3625937786,\n",
       "        2796251125, 1651820702, 3427511545, 2035120316, 1024058911,\n",
       "        4209506140, 2527167744,  213886228, 2514956543, 2450260579,\n",
       "         327684603, 3444379103, 3884997363, 2844468873, 2261078634,\n",
       "        3926825101,  439487268, 3789435080, 1212963762, 4259079565,\n",
       "        2772611204, 2534236055, 2430244594,  916922266,  903950702,\n",
       "        3381351589, 2268543712, 3616954837, 1273083041, 1682465785,\n",
       "        1342921678, 2593265787, 3033724173, 2988544460, 1824668777,\n",
       "        1214999983,  257453352, 4187931679, 3523379959, 1481153225,\n",
       "        4290295859,  220376185, 4136013972,  511679284, 3510589272,\n",
       "        1404047266, 3712771231, 2125374725,   32037606, 3601685135,\n",
       "        3433623522,  841138647, 1610171318, 3920699442, 1084892922,\n",
       "        3146108732, 3672652561, 1148331655, 2473777375, 3039860130,\n",
       "        1170979324,  575756423, 1389255297,  339011744, 2351938991,\n",
       "        4050094885, 2773634239, 3715040333, 3920910597,  562407139,\n",
       "          29887881, 1623822350,  358193390, 1822261341, 1243290919,\n",
       "         755541153,  153529770,  994467513, 1339524978, 3174283928,\n",
       "        2782204324,  182251010, 1833692038, 3477775846, 2820237500,\n",
       "        2165639585, 4089211432, 4010345846, 1238643345, 3710224584,\n",
       "        2251039304, 1196168985, 3165387311, 3920626153, 1796963839,\n",
       "        2112227260, 3358845388,  593715887, 3046897033, 2968478428,\n",
       "        3846781604, 3565923316, 2452128692,   68338106, 1427007580,\n",
       "        2192917968,   75235680, 2134869635, 1857807303, 3745016485,\n",
       "        2601327385,   35512535,  559792668, 2093376088,  939608650,\n",
       "        2259549051, 2605376692, 2058599240, 2980581379, 3160415220,\n",
       "        2739135905,  254886981, 1652380747,  371107437, 1123937393,\n",
       "        4185309254,  864314942, 2739416220, 2185572068, 1163546293,\n",
       "        3491702910,  996401156, 1198755052, 2898003956,  745796080,\n",
       "        4127642404, 4237523457, 1274635091, 3144139009, 1600421663,\n",
       "        4226154574,  538248802,  373236455,  116925273], dtype=uint32), 30, 0, 0.0)"
      ]
     },
     "execution_count": 77,
     "metadata": {},
     "output_type": "execute_result"
    }
   ],
   "source": [
    "# Shows the internal state of the pnrg\n",
    "np.random.get_state()"
   ]
  },
  {
   "cell_type": "markdown",
   "metadata": {},
   "source": [
    "### Conclusion\n",
    "\n",
    "I had used NumPy last semester but was not fully aware of all of its possibilities.  This assignment encouraged me to look deeper.  When starting the research, I first looked at the official documentation. The huge amount of data within here seemed overwhelming at first.  I broke it down into steps, taking each part of the problem individually. I followed the scrips on https://docs.scipy.org/doc/numpy-1.14.0/index.html.  Once I had a rudimental grasp of the topic at hand, I then went researching the topic further. I also had to reacquaint myself with statistical distributions, their uses and functions. \n",
    "\n",
    "When going through the five distribution functions I had decided to focus on I found there was some overlap between some of them.  Even though at first glance all the distribution functions seemed on the surface very similar each has its own niche to which it was specially designed for.  I could have spent the entire assignment going in depth on just any one of the distribution functions alone but I hope what is above will provide a concise synopsis of what I learned.  \n",
    "\n",
    "\n",
    "I also experienced various issues with syncing notebook to github and checkpoint, which left me having to start over from the beginning once and the second time using the information from a checkpoint to rebuild what failed to copy over.  While very frustrating it was a good lesson in making multiple backups for important information and how to proceed when it all goes wrong. \n",
    "\n",
    "\n",
    "Along with the weekly lectures and further recommended reading I used many websites and YouTube videos.  These have all been listed in readme.\n",
    "\n",
    "\n",
    "\n"
   ]
  },
  {
   "cell_type": "code",
   "execution_count": null,
   "metadata": {},
   "outputs": [],
   "source": []
  }
 ],
 "metadata": {
  "kernelspec": {
   "display_name": "Python 3",
   "language": "python",
   "name": "python3"
  },
  "language_info": {
   "codemirror_mode": {
    "name": "ipython",
    "version": 3
   },
   "file_extension": ".py",
   "mimetype": "text/x-python",
   "name": "python",
   "nbconvert_exporter": "python",
   "pygments_lexer": "ipython3",
   "version": "3.7.1"
  }
 },
 "nbformat": 4,
 "nbformat_minor": 2
}
