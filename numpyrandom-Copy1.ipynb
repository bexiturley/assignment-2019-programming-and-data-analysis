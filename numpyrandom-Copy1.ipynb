{
 "cells": [
  {
   "cell_type": "markdown",
   "metadata": {},
   "source": [
    "Assignment 2019\n",
    "Programming for Data Analysis\n"
   ]
  },
  {
   "cell_type": "markdown",
   "metadata": {},
   "source": [
    "This contains all of the information for my 2019 submission for the Assignment for Programming for Data Analysis module.  Work on this began 13th October 2019 with a final submission date of November 11th."
   ]
  },
  {
   "cell_type": "markdown",
   "metadata": {},
   "source": [
    "NumPy, short for “Numerical Python” is a free to use, open source numerical library in python.  The library contains a large number of mathematical, algebriac and transformational functions.  Numpy contains a multi-dimensional array (more than one list, a list that can hold other lists, or lists within lists) and matrix data structures (numbers arranged in rows and columns).  Anaconda comes with NumPy preinstalled.  Otherwise it is necessary to install it via the pip install NumPy command line code.  Then import as np when using Python.  NumPy is utilised in data science and machine learning and to perform mathematical and statistical operations.  \n",
    "\n",
    "NumPy. Random is a module used for random sampling in NumPy, providing a way of creating random samples with the NumPy.   It gives a variety of functions to generate random numbers.  \n",
    "\n",
    "But the numbers may not be actually random, they just appear to be.  They may be pseudorandom or PRNG.  Pseudorandom number generators are algorithms that produce numbers that appear random, but are not really.  If the seed is reset each time (np.random.seed(0) ), the same set of numbers will always appear.  If random seed is not reset, different numbers will appear each time.   NumPy will generate a seed value from a part of your computer system such as the clock.\n",
    "\n",
    "The random function can be used to build customized random number generators, it’s the key ingredient for many of the functions in the random module.  Random adds unpredictability to simulations such as the Monte Carlo simulation.  In a Monte Carlo simulation, a model is built showing the different outcomes that are probable.  The process can be complicated and not easy to predict due to random variables.  It is also known as multiple probability simulation.  Monte Carlo method was the first approach to use computer simulation for statistical problems. It was developed by John von Neumann, Stanisław Ulam, & Nicholas Metropolis, working on the Manhattan project during World War II.  \n",
    "\n",
    "Random sampling can be broken down into 4 further sections, as per SciPy.org., which themselves then contain further subdivisions.  These are Simple random data, Permutations, Distributions and Random generator.\n"
   ]
  },
  {
   "cell_type": "markdown",
   "metadata": {},
   "source": [
    "The Simple Random Data generates random values, integers and floats which are dependant on the selected function.  Which function to use will be determined by the data used and what is the required output. \n",
    "Rand will return values in a given shape from a predetermined parameter (uniform distribution). Here I have asked for random numbers in three columns and two rows. As a default, the numbers returned will be more than 0 but less than 1  But first NumPy has to be imported.\n"
   ]
  },
  {
   "cell_type": "code",
   "execution_count": 1,
   "metadata": {},
   "outputs": [],
   "source": [
    "import numpy as np\n"
   ]
  },
  {
   "cell_type": "code",
   "execution_count": 2,
   "metadata": {},
   "outputs": [
    {
     "data": {
      "text/plain": [
       "array([[0.58597194, 0.2913536 ],\n",
       "       [0.70010653, 0.92912777],\n",
       "       [0.3626774 , 0.5690812 ]])"
      ]
     },
     "execution_count": 2,
     "metadata": {},
     "output_type": "execute_result"
    }
   ],
   "source": [
    "np.random.rand(3,2)"
   ]
  },
  {
   "cell_type": "markdown",
   "metadata": {},
   "source": [
    "Here I have asked for 100 random numbers"
   ]
  },
  {
   "cell_type": "code",
   "execution_count": 3,
   "metadata": {},
   "outputs": [
    {
     "data": {
      "text/plain": [
       "array([0.97431785, 0.76475811, 0.24911766, 0.699367  , 0.63425673,\n",
       "       0.12068235, 0.49404293, 0.93563503, 0.3820397 , 0.25350485,\n",
       "       0.85138673, 0.87736938, 0.36202923, 0.98724066, 0.71607181,\n",
       "       0.78819043, 0.79124021, 0.5305904 , 0.32899869, 0.69778118,\n",
       "       0.61955596, 0.57254598, 0.14675635, 0.39693137, 0.24699429,\n",
       "       0.12591822, 0.35956846, 0.12322052, 0.38906208, 0.92743493,\n",
       "       0.33650053, 0.12309079, 0.56825441, 0.79006799, 0.86411207,\n",
       "       0.01616062, 0.61928762, 0.35463232, 0.69397165, 0.67130046,\n",
       "       0.34932098, 0.85119184, 0.90871922, 0.30920199, 0.65594279,\n",
       "       0.99898714, 0.86926627, 0.93450483, 0.68109076, 0.58398791,\n",
       "       0.15350826, 0.61572534, 0.55117921, 0.31277075, 0.05436077,\n",
       "       0.2991073 , 0.44721614, 0.53917543, 0.45809881, 0.7585714 ,\n",
       "       0.25572376, 0.57045847, 0.09608941, 0.40003844, 0.53736838,\n",
       "       0.47469778, 0.20510737, 0.84922983, 0.23326972, 0.84849869,\n",
       "       0.0985208 , 0.67406874, 0.40119926, 0.48267584, 0.60354704,\n",
       "       0.08585426, 0.7651338 , 0.90193436, 0.67451056, 0.19064499,\n",
       "       0.87121024, 0.04955743, 0.96822967, 0.87153062, 0.9549291 ,\n",
       "       0.06973799, 0.42469932, 0.68473449, 0.65507253, 0.59280782,\n",
       "       0.37338551, 0.16712916, 0.51655889, 0.66015997, 0.60756495,\n",
       "       0.45720185, 0.23708553, 0.48249825, 0.18695615, 0.30098565])"
      ]
     },
     "execution_count": 3,
     "metadata": {},
     "output_type": "execute_result"
    }
   ],
   "source": [
    "x = np.random.rand (100)\n",
    "x"
   ]
  },
  {
   "cell_type": "code",
   "execution_count": 4,
   "metadata": {},
   "outputs": [
    {
     "data": {
      "image/png": "[encoded data removed]",
      "text/plain": [
       "<Figure size 432x288 with 1 Axes>"
      ]
     },
     "metadata": {
      "needs_background": "light"
     },
     "output_type": "display_data"
    }
   ],
   "source": [
    "%matplotlib inline\n",
    "\n",
    "import matplotlib.pyplot as plt\n",
    "\n",
    "plt.hist(x)\n",
    "plt.show()"
   ]
  },
  {
   "cell_type": "code",
   "execution_count": null,
   "metadata": {},
   "outputs": [],
   "source": []
  },
  {
   "cell_type": "markdown",
   "metadata": {},
   "source": [
    " numpy.random.randn() return a sample (or samples) from a specific/standard normal distribution, the standard distribution.  It is  useful for adding random noise element into a dataset for initial testing of a machine learning model.  "
   ]
  },
  {
   "cell_type": "code",
   "execution_count": 5,
   "metadata": {},
   "outputs": [
    {
     "data": {
      "text/plain": [
       "array([-1.03813982, -2.11867595, -0.28109348,  0.37090333,  0.93850726,\n",
       "       -0.02639883, -0.97087097,  0.98640697, -0.19415916, -0.35902732,\n",
       "        0.39562571,  0.85168568, -0.51252921,  0.64654623, -0.62755127,\n",
       "        0.07309331, -0.24029094,  0.9392709 ,  0.64644769, -1.11097462,\n",
       "       -0.74846052,  0.47431437,  1.13374249, -0.2416355 , -0.51411768,\n",
       "        1.09929829,  1.01379325,  0.62353384, -0.84147181,  1.5555681 ,\n",
       "        0.75746537,  0.10564806, -0.16200175, -0.53684173, -0.1494681 ,\n",
       "       -1.93808686, -0.60164716, -0.67323925,  0.53152771,  0.74760232,\n",
       "        0.38258494,  0.38059187,  0.42763923,  0.59142664, -1.6339318 ,\n",
       "       -0.54938074, -0.7880381 , -1.31929667,  1.90253953, -0.19415613,\n",
       "       -0.67069254,  0.23812511, -0.33909008,  1.55592244,  0.5932107 ,\n",
       "        0.57506108,  0.22555385, -0.4443309 ,  0.76270761,  0.89911572,\n",
       "        1.23951358,  0.50090779, -1.58575567,  0.79368264,  0.06348467,\n",
       "        0.86250262, -1.15422246, -0.90994757,  2.21221285, -0.66288778,\n",
       "        1.79169759,  0.05621087,  1.32173847,  0.32205522, -0.08733007,\n",
       "        0.80888165,  1.25878841,  2.19080303,  0.51804362, -1.47838857,\n",
       "        1.20560344,  1.18615696, -1.45827581, -0.28393456, -1.32504416,\n",
       "       -1.37154671, -0.80296232, -0.05390592,  0.9245206 ,  0.8930392 ,\n",
       "        1.04279613, -0.48970596, -1.23576215, -1.07197559, -0.37209466,\n",
       "        1.35398009, -0.09046834, -0.02638547, -0.20309396, -0.02820571])"
      ]
     },
     "execution_count": 5,
     "metadata": {},
     "output_type": "execute_result"
    }
   ],
   "source": [
    "x = np.random.randn (100)\n",
    "x"
   ]
  },
  {
   "cell_type": "code",
   "execution_count": 6,
   "metadata": {
    "scrolled": true
   },
   "outputs": [
    {
     "data": {
      "image/png": "[encoded data removed]",
      "text/plain": [
       "<Figure size 432x288 with 1 Axes>"
      ]
     },
     "metadata": {
      "needs_background": "light"
     },
     "output_type": "display_data"
    }
   ],
   "source": [
    "plt.hist(x)\n",
    "plt.show()"
   ]
  },
  {
   "cell_type": "markdown",
   "metadata": {},
   "source": [
    "numpy.random.randint returns a random integer in the provided range, here I have given it 1 to 100 to select from.  If you were trying to simulate the throw of a dice, you would use (1, 6)"
   ]
  },
  {
   "cell_type": "code",
   "execution_count": 7,
   "metadata": {},
   "outputs": [
    {
     "data": {
      "text/plain": [
       "20"
      ]
     },
     "execution_count": 7,
     "metadata": {},
     "output_type": "execute_result"
    }
   ],
   "source": [
    "x = np.random.randint(1,100)\n",
    "x"
   ]
  },
  {
   "cell_type": "markdown",
   "metadata": {},
   "source": [
    "numpy.random.random_integers is similar to random_integers"
   ]
  },
  {
   "cell_type": "code",
   "execution_count": 14,
   "metadata": {},
   "outputs": [
    {
     "name": "stderr",
     "output_type": "stream",
     "text": [
      "C:\\Users\\Rebecca\\Anaconda3\\lib\\site-packages\\ipykernel_launcher.py:1: DeprecationWarning: This function is deprecated. Please call randint(1, 2 + 1) instead\n",
      "  \"\"\"Entry point for launching an IPython kernel.\n"
     ]
    },
    {
     "data": {
      "text/plain": [
       "2"
      ]
     },
     "execution_count": 14,
     "metadata": {},
     "output_type": "execute_result"
    }
   ],
   "source": [
    "np.random.random_integers(2)"
   ]
  },
  {
   "cell_type": "markdown",
   "metadata": {},
   "source": [
    "Here I have asked for 3 columns and 2 rows of random numbers with 15 being the highest random number to choose from and starting from 1. "
   ]
  },
  {
   "cell_type": "code",
   "execution_count": 31,
   "metadata": {},
   "outputs": [
    {
     "name": "stderr",
     "output_type": "stream",
     "text": [
      "C:\\Users\\Rebecca\\Anaconda3\\lib\\site-packages\\ipykernel_launcher.py:1: DeprecationWarning: This function is deprecated. Please call randint(1, 15 + 1) instead\n",
      "  \"\"\"Entry point for launching an IPython kernel.\n"
     ]
    },
    {
     "data": {
      "text/plain": [
       "array([[ 2, 10],\n",
       "       [ 8,  7],\n",
       "       [ 6,  4]])"
      ]
     },
     "execution_count": 31,
     "metadata": {},
     "output_type": "execute_result"
    }
   ],
   "source": [
    "np.random.random_integers(15, size=(3,2))"
   ]
  },
  {
   "cell_type": "markdown",
   "metadata": {},
   "source": [
    "numpy.random.random_sample, numpy.random.random, numpy.random.ranf and numpy.random.sample are just different names for the same thing.\n",
    "\n",
    "random_sample([size]) Return random floats in the half-open interval [0.0, 1.0).\n",
    "random([size]) Return random floats in the half-open interval [0.0, 1.0).\n",
    "ranf([size]) Return random floats in the half-open interval [0.0, 1.0).\n",
    "sample([size]) Return random floats in the half-open interval [0.0, 1.0)."
   ]
  },
  {
   "cell_type": "code",
   "execution_count": 37,
   "metadata": {},
   "outputs": [
    {
     "data": {
      "text/plain": [
       "<function RandomState.random_sample>"
      ]
     },
     "execution_count": 37,
     "metadata": {},
     "output_type": "execute_result"
    }
   ],
   "source": [
    "np.random.random_sample"
   ]
  },
  {
   "cell_type": "code",
   "execution_count": 33,
   "metadata": {},
   "outputs": [
    {
     "data": {
      "text/plain": [
       "<function RandomState.random_sample>"
      ]
     },
     "execution_count": 33,
     "metadata": {},
     "output_type": "execute_result"
    }
   ],
   "source": [
    "np.random.random"
   ]
  },
  {
   "cell_type": "code",
   "execution_count": 34,
   "metadata": {},
   "outputs": [
    {
     "data": {
      "text/plain": [
       "<function RandomState.random_sample>"
      ]
     },
     "execution_count": 34,
     "metadata": {},
     "output_type": "execute_result"
    }
   ],
   "source": [
    "np.random.ranf"
   ]
  },
  {
   "cell_type": "code",
   "execution_count": 36,
   "metadata": {},
   "outputs": [
    {
     "data": {
      "text/plain": [
       "<function RandomState.random_sample>"
      ]
     },
     "execution_count": 36,
     "metadata": {},
     "output_type": "execute_result"
    }
   ],
   "source": [
    "np.random.sample"
   ]
  },
  {
   "cell_type": "code",
   "execution_count": 38,
   "metadata": {},
   "outputs": [
    {
     "data": {
      "text/plain": [
       "True"
      ]
     },
     "execution_count": 38,
     "metadata": {},
     "output_type": "execute_result"
    }
   ],
   "source": [
    "np.random.random_sample is np.random.random"
   ]
  },
  {
   "cell_type": "code",
   "execution_count": 39,
   "metadata": {},
   "outputs": [
    {
     "data": {
      "text/plain": [
       "True"
      ]
     },
     "execution_count": 39,
     "metadata": {},
     "output_type": "execute_result"
    }
   ],
   "source": [
    "np.random.random_sample is np.random.ranf"
   ]
  },
  {
   "cell_type": "code",
   "execution_count": 40,
   "metadata": {},
   "outputs": [
    {
     "data": {
      "text/plain": [
       "True"
      ]
     },
     "execution_count": 40,
     "metadata": {},
     "output_type": "execute_result"
    }
   ],
   "source": [
    "np.random.random_sample is np.random.sample"
   ]
  },
  {
   "cell_type": "code",
   "execution_count": null,
   "metadata": {},
   "outputs": [],
   "source": []
  },
  {
   "cell_type": "code",
   "execution_count": 41,
   "metadata": {},
   "outputs": [
    {
     "data": {
      "text/plain": [
       "0.5828888924122763"
      ]
     },
     "execution_count": 41,
     "metadata": {},
     "output_type": "execute_result"
    }
   ],
   "source": [
    "np.random.random_sample()"
   ]
  },
  {
   "cell_type": "markdown",
   "metadata": {},
   "source": [
    "The below script asks to select 4 columns with 2 rows of random numbers."
   ]
  },
  {
   "cell_type": "code",
   "execution_count": 44,
   "metadata": {},
   "outputs": [
    {
     "data": {
      "text/plain": [
       "array([[0.6964976 , 0.86838276],\n",
       "       [0.95339188, 0.17392836],\n",
       "       [0.57370209, 0.65298476],\n",
       "       [0.96829998, 0.74611299]])"
      ]
     },
     "execution_count": 44,
     "metadata": {},
     "output_type": "execute_result"
    }
   ],
   "source": [
    "np.random.random_sample((4,2))"
   ]
  },
  {
   "cell_type": "markdown",
   "metadata": {},
   "source": [
    "numpy.random.choice"
   ]
  },
  {
   "cell_type": "markdown",
   "metadata": {},
   "source": [
    "Here I ask to select 4 random numbers up to 7.  The numbers that could be selected begin at 0 and go up to and include 6."
   ]
  },
  {
   "cell_type": "code",
   "execution_count": 52,
   "metadata": {},
   "outputs": [
    {
     "data": {
      "text/plain": [
       "array([4, 3, 6, 6])"
      ]
     },
     "execution_count": 52,
     "metadata": {},
     "output_type": "execute_result"
    }
   ],
   "source": [
    "np.random.choice(7, 4)"
   ]
  },
  {
   "cell_type": "markdown",
   "metadata": {},
   "source": [
    "To see what else it is capable of, here I script code to resemble a roulette wheel and the different possible outcomes.  Also included are the weights of the three colours which are used.  The wheel is spun 12 times and the results are printed to the screen."
   ]
  },
  {
   "cell_type": "code",
   "execution_count": 56,
   "metadata": {},
   "outputs": [
    {
     "name": "stdout",
     "output_type": "stream",
     "text": [
      "['Red', 'Black', 'Red', 'Red', 'Black', 'Black', 'Red', 'Black', 'Red', 'Black', 'Black', 'Red']\n"
     ]
    }
   ],
   "source": [
    "import random\n",
    "colours = [\"Red\", \"Black\", \"Green\"]\n",
    "results = random.choices(colours, weights=[18, 18, 2], k=12)\n",
    "print (results)"
   ]
  },
  {
   "cell_type": "markdown",
   "metadata": {},
   "source": [
    "numpy.random.bytes returns random bytes"
   ]
  },
  {
   "cell_type": "code",
   "execution_count": 57,
   "metadata": {},
   "outputs": [
    {
     "data": {
      "text/plain": [
       "b'5o\\x92\\x07\\xc7'"
      ]
     },
     "execution_count": 57,
     "metadata": {},
     "output_type": "execute_result"
    }
   ],
   "source": [
    "np.random.bytes(5)"
   ]
  },
  {
   "cell_type": "markdown",
   "metadata": {},
   "source": [
    "And to take it a step further with bytes, an alternative way to generate a secure random sequence. Using the standard library secrets module for use in  passwords, account authentication, security tokens, and related secrets."
   ]
  },
  {
   "cell_type": "code",
   "execution_count": 60,
   "metadata": {},
   "outputs": [
    {
     "data": {
      "text/plain": [
       "b'\\x11\\xa8\\xbc\\x10'"
      ]
     },
     "execution_count": 60,
     "metadata": {},
     "output_type": "execute_result"
    }
   ],
   "source": [
    "import secrets\n",
    "b\"\\x11\" + secrets.token_bytes(2) + b\"\\x10\""
   ]
  },
  {
   "cell_type": "code",
   "execution_count": null,
   "metadata": {},
   "outputs": [],
   "source": []
  }
 ],
 "metadata": {
  "kernelspec": {
   "display_name": "Python 3",
   "language": "python",
   "name": "python3"
  },
  "language_info": {
   "codemirror_mode": {
    "name": "ipython",
    "version": 3
   },
   "file_extension": ".py",
   "mimetype": "text/x-python",
   "name": "python",
   "nbconvert_exporter": "python",
   "pygments_lexer": "ipython3",
   "version": "3.7.1"
  }
 },
 "nbformat": 4,
 "nbformat_minor": 2
}
