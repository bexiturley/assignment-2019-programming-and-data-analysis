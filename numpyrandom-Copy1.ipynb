{
 "cells": [
  {
   "cell_type": "markdown",
   "metadata": {},
   "source": [
    "# Assignment 2019\n",
    "# Programming for Data Analysis\n"
   ]
  },
  {
   "cell_type": "markdown",
   "metadata": {},
   "source": [
    "This contains all of the information for my 2019 submission for the Assignment for Programming for Data Analysis module.  Work on this began 13th October 2019 with a final submission date of November 11th."
   ]
  },
  {
   "cell_type": "markdown",
   "metadata": {},
   "source": [
    "## Problem statement 1:\n",
    "## Explain the overall purpose of the package\n",
    "\n",
    "NumPy, short for “Numerical Python” is a free to use, open source numerical library in python.  The library contains a large number of mathematical, algebriac and transformational functions.  Numpy contains a multi-dimensional array (more than one list, a list that can hold other lists, or lists within lists) and matrix data structures (numbers arranged in rows and columns).  Anaconda comes with NumPy preinstalled.  Otherwise it is necessary to install it via the pip install NumPy command line code.  Then import as np when using Python.  NumPy is utilised in data science and machine learning and to perform mathematical and statistical operations.  \n",
    "\n",
    "NumPy. Random is a module used for random sampling in NumPy, providing a way of creating random samples with the NumPy.   It gives a variety of functions to generate random numbers.  \n",
    "\n",
    "But the numbers may not be actually random, they just appear to be.  They may be pseudorandom or PRNG.  Pseudorandom number generators are algorithms that produce numbers that appear random, but are not really.  If the seed is reset each time (np.random.seed(0) ), the same set of numbers will always appear.  If random seed is not reset, different numbers will appear each time.   NumPy will generate a seed value from a part of your computer system such as the clock.\n",
    "\n",
    "The random function can be used to build customized random number generators, it’s the key ingredient for many of the functions in the random module.  Random adds unpredictability to simulations such as the Monte Carlo simulation.  In a Monte Carlo simulation, a model is built showing the different outcomes that are probable.  The process can be complicated and not easy to predict due to random variables.  It is also known as multiple probability simulation.  Monte Carlo method was the first approach to use computer simulation for statistical problems. It was developed by John von Neumann, Stanisław Ulam, & Nicholas Metropolis, working on the Manhattan project during World War II.  \n",
    "\n",
    "Random sampling can be broken down into 4 further sections, as per SciPy.org., which themselves then contain further subdivisions.  These are Simple random data, Permutations, Distributions and Random generator.\n"
   ]
  },
  {
   "cell_type": "markdown",
   "metadata": {},
   "source": [
    "## Problem statement 2\n",
    "## Explain the use of the \"Simple random data\" and \"Permutations\" functions.\n",
    "\n",
    "### Simple random data\n",
    "The Simple Random Data generates random values, integers and floats which are dependant on the selected function.  Which function to use will be determined by the data used and what is the required output. \n",
    "\n",
    "np.random.rand will return values in a given shape from a predetermined parameter (uniform distribution). Here I have asked for random numbers in three columns and two rows. As a default, the numbers returned will be more than 0 but less than 1  But first NumPy has to be imported.\n"
   ]
  },
  {
   "cell_type": "code",
   "execution_count": 77,
   "metadata": {},
   "outputs": [
    {
     "data": {
      "text/plain": [
       "array([[0.0155583 , 0.97639318],\n",
       "       [0.0031806 , 0.04871093],\n",
       "       [0.06365064, 0.06096408]])"
      ]
     },
     "execution_count": 77,
     "metadata": {},
     "output_type": "execute_result"
    }
   ],
   "source": [
    "import numpy as np\n",
    "np.random.rand(3,2)"
   ]
  },
  {
   "cell_type": "code",
   "execution_count": 78,
   "metadata": {},
   "outputs": [
    {
     "data": {
      "text/plain": [
       "array([0.78144861, 0.38300154, 0.98851553, 0.54446675, 0.956628  ,\n",
       "       0.91170971, 0.33897642, 0.52501945, 0.92436389, 0.48325526,\n",
       "       0.85147082, 0.41327153, 0.6875073 , 0.64359083, 0.25781438,\n",
       "       0.56630491, 0.86522316, 0.88752076, 0.80277522, 0.71075094,\n",
       "       0.21156099, 0.27608674, 0.66306154, 0.70229285, 0.50782299,\n",
       "       0.44639347, 0.54585403, 0.1245745 , 0.96752905, 0.81054986,\n",
       "       0.75719892, 0.35879149, 0.93756461, 0.69417016, 0.15491616,\n",
       "       0.17200321, 0.49790788, 0.28975709, 0.84357888, 0.95306103,\n",
       "       0.1078613 , 0.35381884, 0.44660943, 0.44236845, 0.85012958,\n",
       "       0.33362503, 0.25398427, 0.55854594, 0.57681828, 0.32821686,\n",
       "       0.66520278, 0.40661976, 0.43992771, 0.66602029, 0.02832333,\n",
       "       0.84482512, 0.46374863, 0.83911801, 0.55775306, 0.91709773,\n",
       "       0.23860357, 0.46681635, 0.12053837, 0.42815746, 0.72799761,\n",
       "       0.90167083, 0.88668821, 0.54946261, 0.61901395, 0.05542924,\n",
       "       0.74525425, 0.71041142, 0.94940043, 0.11900192, 0.3118004 ,\n",
       "       0.68306797, 0.73919279, 0.59827321, 0.06343239, 0.71816087,\n",
       "       0.39001754, 0.41217088, 0.8504223 , 0.86931829, 0.13407152,\n",
       "       0.24407074, 0.09945354, 0.02717634, 0.17171278, 0.91000022,\n",
       "       0.34344439, 0.82277269, 0.07940774, 0.10947638, 0.71646305,\n",
       "       0.3450928 , 0.44304169, 0.32191398, 0.10236591, 0.2295181 ])"
      ]
     },
     "execution_count": 78,
     "metadata": {},
     "output_type": "execute_result"
    }
   ],
   "source": [
    "# Here I have asked for 100 random numbers\n",
    "x = np.random.rand (100)\n",
    "x"
   ]
  },
  {
   "cell_type": "code",
   "execution_count": 79,
   "metadata": {},
   "outputs": [
    {
     "data": {
      "image/png": "[encoded data removed]",
      "text/plain": [
       "<Figure size 432x288 with 1 Axes>"
      ]
     },
     "metadata": {
      "needs_background": "light"
     },
     "output_type": "display_data"
    }
   ],
   "source": [
    "#Plot the above information.\n",
    "\n",
    "%matplotlib inline\n",
    "\n",
    "import matplotlib.pyplot as plt\n",
    "\n",
    "plt.hist(x)\n",
    "plt.show()"
   ]
  },
  {
   "cell_type": "code",
   "execution_count": null,
   "metadata": {},
   "outputs": [],
   "source": []
  },
  {
   "cell_type": "markdown",
   "metadata": {},
   "source": [
    "numpy.random.randn() returns a sample (or samples) from a specific/standard normal distribution, the standard distribution.  It is  useful for adding random noise element into a dataset for initial testing of a machine learning model.  "
   ]
  },
  {
   "cell_type": "code",
   "execution_count": 80,
   "metadata": {},
   "outputs": [
    {
     "data": {
      "text/plain": [
       "array([-4.58654314e-01, -7.83655210e-02,  3.49673553e-04, -1.55407330e-01,\n",
       "       -1.91015466e-01,  3.64353541e-01,  9.34914754e-02, -1.74123015e+00,\n",
       "       -5.63971553e-01,  5.81479269e-01, -1.50209392e+00,  2.67982934e-01,\n",
       "       -1.44962749e+00, -4.91724737e-01, -1.00063025e+00, -3.78615019e-01,\n",
       "        2.65150976e+00, -1.33976491e+00,  2.79553723e-01,  1.81865901e-01,\n",
       "       -6.88218116e-01,  2.06876909e+00,  2.56242313e-01, -2.17009008e+00,\n",
       "       -5.54222492e-01,  6.66320355e-01, -2.46191580e-01, -7.99503314e-01,\n",
       "        1.79577798e+00, -4.27707271e-01,  6.25049426e-01, -1.13899574e+00,\n",
       "        1.64374805e-02, -1.39060475e+00, -1.29752162e-01,  1.17091551e-01,\n",
       "       -2.37349263e+00,  1.06226014e+00,  4.34211320e-01,  1.79495665e-01,\n",
       "        6.75468534e-01,  1.15772681e-01,  3.80250612e-02,  3.35050576e-01,\n",
       "       -1.03125153e+00,  3.96028817e-02,  7.75028626e-01,  5.62701128e-01,\n",
       "       -1.21428324e+00, -1.29430547e+00,  1.17166191e+00,  8.97426791e-02,\n",
       "       -2.34339701e-01, -2.21207937e-01, -2.26365886e+00, -1.19332803e+00,\n",
       "       -2.10149123e+00,  4.36064840e-01,  6.56448712e-01,  3.09103586e-01,\n",
       "        5.04324374e-01,  7.73406878e-01,  1.37766326e+00, -4.88693210e-01,\n",
       "        3.76362099e-02, -1.23635895e+00,  9.49847572e-01,  5.63270664e-01,\n",
       "       -7.18883004e-02, -9.95808491e-01,  7.73378561e-01, -1.12582407e+00,\n",
       "        2.52276085e-01, -1.74552212e+00,  1.68245574e+00,  5.77797690e-01,\n",
       "       -9.09302408e-01,  1.01162390e+00, -6.21265877e-02, -1.71993272e+00,\n",
       "       -7.00927509e-01, -5.55429285e-01,  1.07411105e+00,  5.95234183e-01,\n",
       "        1.36380323e+00,  3.03821698e-01,  2.09755564e-01, -4.65280890e-01,\n",
       "        2.55234178e+00, -5.01546267e-01, -2.58742188e-01,  1.09536309e+00,\n",
       "        7.29011855e-01,  7.91419088e-01,  3.58066386e-01, -1.18212760e+00,\n",
       "        1.59086455e-01, -1.59099324e-01, -1.03774701e+00,  6.94148643e-01])"
      ]
     },
     "execution_count": 80,
     "metadata": {},
     "output_type": "execute_result"
    }
   ],
   "source": [
    "# Here I have asked for 100 random numbers.\n",
    "x = np.random.randn (100)\n",
    "x"
   ]
  },
  {
   "cell_type": "code",
   "execution_count": 81,
   "metadata": {
    "scrolled": true
   },
   "outputs": [
    {
     "data": {
      "image/png": "[encoded data removed]",
      "text/plain": [
       "<Figure size 432x288 with 1 Axes>"
      ]
     },
     "metadata": {
      "needs_background": "light"
     },
     "output_type": "display_data"
    }
   ],
   "source": [
    "#A histogram to show the above numbers.\n",
    "plt.hist(x)\n",
    "plt.show()"
   ]
  },
  {
   "cell_type": "markdown",
   "metadata": {},
   "source": [
    "numpy.random.randint returns a random integer in the provided range, here I have given it 1 to 100 to select from.  If you were trying to simulate the throw of a dice, you would use (1, 6)"
   ]
  },
  {
   "cell_type": "code",
   "execution_count": 82,
   "metadata": {},
   "outputs": [
    {
     "data": {
      "text/plain": [
       "89"
      ]
     },
     "execution_count": 82,
     "metadata": {},
     "output_type": "execute_result"
    }
   ],
   "source": [
    "x = np.random.randint(1,100)\n",
    "x"
   ]
  },
  {
   "cell_type": "markdown",
   "metadata": {},
   "source": [
    "numpy.random.random_integers is similar to random_integers.\n",
    "\n",
    "I have asked for two rows of 4 numbers between 2 and 8."
   ]
  },
  {
   "cell_type": "code",
   "execution_count": 83,
   "metadata": {},
   "outputs": [
    {
     "name": "stderr",
     "output_type": "stream",
     "text": [
      "C:\\Users\\Rebecca\\Anaconda3\\lib\\site-packages\\ipykernel_launcher.py:1: DeprecationWarning: This function is deprecated. Please call randint(2, 8 + 1) instead\n",
      "  \"\"\"Entry point for launching an IPython kernel.\n"
     ]
    },
    {
     "data": {
      "text/plain": [
       "array([[2, 8, 8, 7],\n",
       "       [5, 3, 2, 2]])"
      ]
     },
     "execution_count": 83,
     "metadata": {},
     "output_type": "execute_result"
    }
   ],
   "source": [
    "np.random.random_integers (2,8,(2,4))"
   ]
  },
  {
   "cell_type": "code",
   "execution_count": 84,
   "metadata": {},
   "outputs": [
    {
     "data": {
      "text/plain": [
       "array([[5, 7, 2, 3],\n",
       "       [6, 4, 5, 2]])"
      ]
     },
     "execution_count": 84,
     "metadata": {},
     "output_type": "execute_result"
    }
   ],
   "source": [
    "# I used randint instead of random_integers here as random_integers resulted in an error warning saying that that function was deprecated\n",
    "np.random.randint(2,8, size=(2,4))"
   ]
  },
  {
   "cell_type": "markdown",
   "metadata": {},
   "source": [
    "Here I have asked for 3 columns and 2 rows of random numbers with 15 being the highest random number to choose from and starting from 1. "
   ]
  },
  {
   "cell_type": "code",
   "execution_count": 85,
   "metadata": {},
   "outputs": [
    {
     "name": "stderr",
     "output_type": "stream",
     "text": [
      "C:\\Users\\Rebecca\\Anaconda3\\lib\\site-packages\\ipykernel_launcher.py:1: DeprecationWarning: This function is deprecated. Please call randint(1, 15 + 1) instead\n",
      "  \"\"\"Entry point for launching an IPython kernel.\n"
     ]
    },
    {
     "data": {
      "text/plain": [
       "array([[ 7, 14],\n",
       "       [10,  1],\n",
       "       [ 1, 12]])"
      ]
     },
     "execution_count": 85,
     "metadata": {},
     "output_type": "execute_result"
    }
   ],
   "source": [
    "np.random.random_integers(15, size=(3,2))"
   ]
  },
  {
   "cell_type": "code",
   "execution_count": 86,
   "metadata": {},
   "outputs": [
    {
     "data": {
      "text/plain": [
       "array([[5, 8],\n",
       "       [4, 9],\n",
       "       [1, 0]])"
      ]
     },
     "execution_count": 86,
     "metadata": {},
     "output_type": "execute_result"
    }
   ],
   "source": [
    "np.random.randint(15, size=(3,2))"
   ]
  },
  {
   "cell_type": "markdown",
   "metadata": {},
   "source": [
    "numpy.random.random_sample, numpy.random.random, numpy.random.ranf and numpy.random.sample are just different names for the same thing.\n",
    "\n",
    "random_sample([size]) Return random floats in the half-open interval [0.0, 1.0).\n",
    "random([size]) Return random floats in the half-open interval [0.0, 1.0).\n",
    "ranf([size]) Return random floats in the half-open interval [0.0, 1.0).\n",
    "sample([size]) Return random floats in the half-open interval [0.0, 1.0)."
   ]
  },
  {
   "cell_type": "code",
   "execution_count": 87,
   "metadata": {},
   "outputs": [
    {
     "data": {
      "text/plain": [
       "<function RandomState.random_sample>"
      ]
     },
     "execution_count": 87,
     "metadata": {},
     "output_type": "execute_result"
    }
   ],
   "source": [
    "np.random.random_sample"
   ]
  },
  {
   "cell_type": "code",
   "execution_count": 88,
   "metadata": {},
   "outputs": [
    {
     "data": {
      "text/plain": [
       "<function RandomState.random_sample>"
      ]
     },
     "execution_count": 88,
     "metadata": {},
     "output_type": "execute_result"
    }
   ],
   "source": [
    "np.random.random"
   ]
  },
  {
   "cell_type": "code",
   "execution_count": 89,
   "metadata": {},
   "outputs": [
    {
     "data": {
      "text/plain": [
       "<function RandomState.random_sample>"
      ]
     },
     "execution_count": 89,
     "metadata": {},
     "output_type": "execute_result"
    }
   ],
   "source": [
    "np.random.ranf"
   ]
  },
  {
   "cell_type": "code",
   "execution_count": 90,
   "metadata": {},
   "outputs": [
    {
     "data": {
      "text/plain": [
       "<function RandomState.random_sample>"
      ]
     },
     "execution_count": 90,
     "metadata": {},
     "output_type": "execute_result"
    }
   ],
   "source": [
    "np.random.sample"
   ]
  },
  {
   "cell_type": "code",
   "execution_count": 91,
   "metadata": {},
   "outputs": [
    {
     "data": {
      "text/plain": [
       "True"
      ]
     },
     "execution_count": 91,
     "metadata": {},
     "output_type": "execute_result"
    }
   ],
   "source": [
    "np.random.random_sample is np.random.random"
   ]
  },
  {
   "cell_type": "code",
   "execution_count": 92,
   "metadata": {},
   "outputs": [
    {
     "data": {
      "text/plain": [
       "True"
      ]
     },
     "execution_count": 92,
     "metadata": {},
     "output_type": "execute_result"
    }
   ],
   "source": [
    "np.random.random_sample is np.random.ranf"
   ]
  },
  {
   "cell_type": "code",
   "execution_count": 93,
   "metadata": {},
   "outputs": [
    {
     "data": {
      "text/plain": [
       "True"
      ]
     },
     "execution_count": 93,
     "metadata": {},
     "output_type": "execute_result"
    }
   ],
   "source": [
    "np.random.random_sample is np.random.sample"
   ]
  },
  {
   "cell_type": "code",
   "execution_count": null,
   "metadata": {},
   "outputs": [],
   "source": []
  },
  {
   "cell_type": "code",
   "execution_count": 94,
   "metadata": {},
   "outputs": [
    {
     "data": {
      "text/plain": [
       "0.8843919346874313"
      ]
     },
     "execution_count": 94,
     "metadata": {},
     "output_type": "execute_result"
    }
   ],
   "source": [
    "np.random.random_sample()"
   ]
  },
  {
   "cell_type": "markdown",
   "metadata": {},
   "source": [
    "The below script asks to select 4 columns with 2 rows of random numbers."
   ]
  },
  {
   "cell_type": "code",
   "execution_count": 95,
   "metadata": {},
   "outputs": [
    {
     "data": {
      "text/plain": [
       "array([[0.26998232, 0.31398565],\n",
       "       [0.03309085, 0.46888622],\n",
       "       [0.17658695, 0.9508012 ],\n",
       "       [0.28506332, 0.43951006]])"
      ]
     },
     "execution_count": 95,
     "metadata": {},
     "output_type": "execute_result"
    }
   ],
   "source": [
    "np.random.random_sample((4,2))"
   ]
  },
  {
   "cell_type": "markdown",
   "metadata": {},
   "source": [
    "numpy.random.choice\n",
    "\n",
    "Here I ask to select 4 random numbers up to 7.  The numbers that could be selected begin at 0 and go up to and include 6."
   ]
  },
  {
   "cell_type": "code",
   "execution_count": 96,
   "metadata": {},
   "outputs": [
    {
     "data": {
      "text/plain": [
       "array([0, 4, 3, 5])"
      ]
     },
     "execution_count": 96,
     "metadata": {},
     "output_type": "execute_result"
    }
   ],
   "source": [
    "np.random.choice(7, 4)"
   ]
  },
  {
   "cell_type": "markdown",
   "metadata": {},
   "source": [
    "To see what else it is capable of, this code resembles a roulette wheel and the different possible outcomes.  Also included are the weights of the three colours which are used.  The wheel is spun 12 times and the results are printed to the screen."
   ]
  },
  {
   "cell_type": "code",
   "execution_count": 97,
   "metadata": {},
   "outputs": [
    {
     "name": "stdout",
     "output_type": "stream",
     "text": [
      "['Red', 'Green', 'Red', 'Red', 'Red', 'Black', 'Green', 'Red', 'Black', 'Red', 'Black', 'Black']\n"
     ]
    }
   ],
   "source": [
    "import random\n",
    "colours = [\"Red\", \"Black\", \"Green\"]\n",
    "results = random.choices(colours, weights=[18, 18, 2], k=12)\n",
    "print (results)"
   ]
  },
  {
   "cell_type": "markdown",
   "metadata": {},
   "source": [
    "numpy.random.bytes returns random bytes"
   ]
  },
  {
   "cell_type": "code",
   "execution_count": 98,
   "metadata": {},
   "outputs": [
    {
     "data": {
      "text/plain": [
       "b'\\x19\\xe6\\xc6\\x99\\\\'"
      ]
     },
     "execution_count": 98,
     "metadata": {},
     "output_type": "execute_result"
    }
   ],
   "source": [
    "np.random.bytes(5)"
   ]
  },
  {
   "cell_type": "markdown",
   "metadata": {},
   "source": [
    "And to take it a step further with bytes, an alternative way to generate a secure random sequence. Using the standard library secrets module for use in  passwords, account authentication, security tokens, and related secrets."
   ]
  },
  {
   "cell_type": "code",
   "execution_count": 99,
   "metadata": {},
   "outputs": [
    {
     "data": {
      "text/plain": [
       "b'\\x11?\\x95\\x10'"
      ]
     },
     "execution_count": 99,
     "metadata": {},
     "output_type": "execute_result"
    }
   ],
   "source": [
    "import secrets\n",
    "b\"\\x11\" + secrets.token_bytes(2) + b\"\\x10\""
   ]
  },
  {
   "cell_type": "markdown",
   "metadata": {},
   "source": [
    "## Permutations"
   ]
  },
  {
   "cell_type": "code",
   "execution_count": 100,
   "metadata": {},
   "outputs": [
    {
     "data": {
      "text/plain": [
       "array([ 2,  0, 16,  0,  5,  1])"
      ]
     },
     "execution_count": 100,
     "metadata": {},
     "output_type": "execute_result"
    }
   ],
   "source": [
    "# Ask to randomly choose numbers from the following array.\n",
    "np.random.permutation([0, 1, 0, 2, 5, 16])\n"
   ]
  },
  {
   "cell_type": "code",
   "execution_count": 101,
   "metadata": {},
   "outputs": [
    {
     "data": {
      "text/plain": [
       "array([[14, 15],\n",
       "       [ 0,  1],\n",
       "       [12, 13],\n",
       "       [ 2,  3],\n",
       "       [ 4,  5],\n",
       "       [10, 11],\n",
       "       [ 6,  7],\n",
       "       [ 8,  9]])"
      ]
     },
     "execution_count": 101,
     "metadata": {},
     "output_type": "execute_result"
    }
   ],
   "source": [
    "# Randomly arrange numbers ranging from 0 to 15, in groups of two, for 8 columns\n",
    "arr = np.arange(16).reshape((8, 2))\n",
    "np.random.permutation(arr)"
   ]
  },
  {
   "cell_type": "markdown",
   "metadata": {},
   "source": [
    "\n",
    "Takes a list as an input and return an object list of tuples that contain all permutation in a list form, it arranges the elements of an ordered list into a one on one mapping with itself.\n",
    "\n",
    "np.random.permutation has two differences from np.random.shuffle:\n",
    "\n",
    "if passed an array, it will return a shuffled copy of the array; np.random.shuffle shuffles the array inplace if passed an integer, it will return a shuffled range i.e. np.random.shuffle(np.arange(n))\n",
    "\n",
    "np.random.permutation is useful when you need to shuffle ordered pairs, eg. for classification:"
   ]
  },
  {
   "cell_type": "code",
   "execution_count": 102,
   "metadata": {},
   "outputs": [
    {
     "data": {
      "text/html": [
       "<div>\n",
       "<style scoped>\n",
       "    .dataframe tbody tr th:only-of-type {\n",
       "        vertical-align: middle;\n",
       "    }\n",
       "\n",
       "    .dataframe tbody tr th {\n",
       "        vertical-align: top;\n",
       "    }\n",
       "\n",
       "    .dataframe thead th {\n",
       "        text-align: right;\n",
       "    }\n",
       "</style>\n",
       "<table border=\"1\" class=\"dataframe\">\n",
       "  <thead>\n",
       "    <tr style=\"text-align: right;\">\n",
       "      <th></th>\n",
       "      <th>country</th>\n",
       "      <th>place</th>\n",
       "    </tr>\n",
       "  </thead>\n",
       "  <tbody>\n",
       "    <tr>\n",
       "      <th>A</th>\n",
       "      <td>England</td>\n",
       "      <td>8</td>\n",
       "    </tr>\n",
       "    <tr>\n",
       "      <th>B</th>\n",
       "      <td>Austraila</td>\n",
       "      <td>7</td>\n",
       "    </tr>\n",
       "    <tr>\n",
       "      <th>C</th>\n",
       "      <td>New Zeland</td>\n",
       "      <td>5</td>\n",
       "    </tr>\n",
       "    <tr>\n",
       "      <th>D</th>\n",
       "      <td>Wales</td>\n",
       "      <td>5</td>\n",
       "    </tr>\n",
       "    <tr>\n",
       "      <th>E</th>\n",
       "      <td>France</td>\n",
       "      <td>4</td>\n",
       "    </tr>\n",
       "    <tr>\n",
       "      <th>F</th>\n",
       "      <td>Japan</td>\n",
       "      <td>3</td>\n",
       "    </tr>\n",
       "    <tr>\n",
       "      <th>G</th>\n",
       "      <td>South Africa</td>\n",
       "      <td>2</td>\n",
       "    </tr>\n",
       "    <tr>\n",
       "      <th>H</th>\n",
       "      <td>Ireland</td>\n",
       "      <td>1</td>\n",
       "    </tr>\n",
       "  </tbody>\n",
       "</table>\n",
       "</div>"
      ],
      "text/plain": [
       "        country place\n",
       "A       England     8\n",
       "B     Austraila     7\n",
       "C    New Zeland     5\n",
       "D         Wales     5\n",
       "E        France     4\n",
       "F         Japan     3\n",
       "G  South Africa     2\n",
       "H       Ireland     1"
      ]
     },
     "execution_count": 102,
     "metadata": {},
     "output_type": "execute_result"
    }
   ],
   "source": [
    "# Create a table and take a look at it\n",
    "import pandas as pd\n",
    "raw_data = {\n",
    "    \"country\": [\"England\", \"Austraila\", \"New Zeland\",  \"Wales\", \"France\", \"Japan\", \"South Africa\", \"Ireland\"],\n",
    "    \"place\": [\"8\", \"7\", \"5\", \"5\", \"4\", \"3\", \"2\", \"1\"]\n",
    "    }\n",
    "df = pd.DataFrame (raw_data,\n",
    "                  index = pd.Index([\"A\", \"B\", \"C\", \"D\", \"E\", \"F\", \"G\", \"H\"]))\n",
    "df"
   ]
  },
  {
   "cell_type": "code",
   "execution_count": 103,
   "metadata": {},
   "outputs": [
    {
     "data": {
      "text/html": [
       "<div>\n",
       "<style scoped>\n",
       "    .dataframe tbody tr th:only-of-type {\n",
       "        vertical-align: middle;\n",
       "    }\n",
       "\n",
       "    .dataframe tbody tr th {\n",
       "        vertical-align: top;\n",
       "    }\n",
       "\n",
       "    .dataframe thead th {\n",
       "        text-align: right;\n",
       "    }\n",
       "</style>\n",
       "<table border=\"1\" class=\"dataframe\">\n",
       "  <thead>\n",
       "    <tr style=\"text-align: right;\">\n",
       "      <th></th>\n",
       "      <th>country</th>\n",
       "      <th>place</th>\n",
       "    </tr>\n",
       "  </thead>\n",
       "  <tbody>\n",
       "    <tr>\n",
       "      <th>A</th>\n",
       "      <td>England</td>\n",
       "      <td>8</td>\n",
       "    </tr>\n",
       "    <tr>\n",
       "      <th>B</th>\n",
       "      <td>Austraila</td>\n",
       "      <td>7</td>\n",
       "    </tr>\n",
       "    <tr>\n",
       "      <th>C</th>\n",
       "      <td>New Zeland</td>\n",
       "      <td>5</td>\n",
       "    </tr>\n",
       "    <tr>\n",
       "      <th>D</th>\n",
       "      <td>Wales</td>\n",
       "      <td>5</td>\n",
       "    </tr>\n",
       "    <tr>\n",
       "      <th>E</th>\n",
       "      <td>France</td>\n",
       "      <td>4</td>\n",
       "    </tr>\n",
       "    <tr>\n",
       "      <th>F</th>\n",
       "      <td>Japan</td>\n",
       "      <td>3</td>\n",
       "    </tr>\n",
       "    <tr>\n",
       "      <th>G</th>\n",
       "      <td>South Africa</td>\n",
       "      <td>2</td>\n",
       "    </tr>\n",
       "    <tr>\n",
       "      <th>H</th>\n",
       "      <td>Ireland</td>\n",
       "      <td>1</td>\n",
       "    </tr>\n",
       "  </tbody>\n",
       "</table>\n",
       "</div>"
      ],
      "text/plain": [
       "        country place\n",
       "A       England     8\n",
       "B     Austraila     7\n",
       "C    New Zeland     5\n",
       "D         Wales     5\n",
       "E        France     4\n",
       "F         Japan     3\n",
       "G  South Africa     2\n",
       "H       Ireland     1"
      ]
     },
     "execution_count": 103,
     "metadata": {},
     "output_type": "execute_result"
    }
   ],
   "source": [
    "# Take a look at the shape of the table.\n",
    "nrows = df.shape[0]\n",
    "df"
   ]
  },
  {
   "cell_type": "markdown",
   "metadata": {},
   "source": [
    "Randomise the sequence of the rows"
   ]
  },
  {
   "cell_type": "code",
   "execution_count": 104,
   "metadata": {},
   "outputs": [],
   "source": [
    "# Randomise the sequence of the rows\n",
    "\n",
    "b = np.random.permutation(nrows)"
   ]
  },
  {
   "cell_type": "code",
   "execution_count": 105,
   "metadata": {},
   "outputs": [
    {
     "data": {
      "text/plain": [
       "array([3, 0, 2, 5, 4, 7, 1, 6])"
      ]
     },
     "execution_count": 105,
     "metadata": {},
     "output_type": "execute_result"
    }
   ],
   "source": [
    "b"
   ]
  },
  {
   "cell_type": "markdown",
   "metadata": {},
   "source": [
    "\n",
    "Print out the data frame based on the array created above with permutation. Take function takes the indeces and change the order of the rows according to the indeces that we pass it."
   ]
  },
  {
   "cell_type": "code",
   "execution_count": 106,
   "metadata": {},
   "outputs": [
    {
     "data": {
      "text/html": [
       "<div>\n",
       "<style scoped>\n",
       "    .dataframe tbody tr th:only-of-type {\n",
       "        vertical-align: middle;\n",
       "    }\n",
       "\n",
       "    .dataframe tbody tr th {\n",
       "        vertical-align: top;\n",
       "    }\n",
       "\n",
       "    .dataframe thead th {\n",
       "        text-align: right;\n",
       "    }\n",
       "</style>\n",
       "<table border=\"1\" class=\"dataframe\">\n",
       "  <thead>\n",
       "    <tr style=\"text-align: right;\">\n",
       "      <th></th>\n",
       "      <th>country</th>\n",
       "      <th>place</th>\n",
       "    </tr>\n",
       "  </thead>\n",
       "  <tbody>\n",
       "    <tr>\n",
       "      <th>D</th>\n",
       "      <td>Wales</td>\n",
       "      <td>5</td>\n",
       "    </tr>\n",
       "    <tr>\n",
       "      <th>A</th>\n",
       "      <td>England</td>\n",
       "      <td>8</td>\n",
       "    </tr>\n",
       "    <tr>\n",
       "      <th>C</th>\n",
       "      <td>New Zeland</td>\n",
       "      <td>5</td>\n",
       "    </tr>\n",
       "    <tr>\n",
       "      <th>F</th>\n",
       "      <td>Japan</td>\n",
       "      <td>3</td>\n",
       "    </tr>\n",
       "    <tr>\n",
       "      <th>E</th>\n",
       "      <td>France</td>\n",
       "      <td>4</td>\n",
       "    </tr>\n",
       "    <tr>\n",
       "      <th>H</th>\n",
       "      <td>Ireland</td>\n",
       "      <td>1</td>\n",
       "    </tr>\n",
       "    <tr>\n",
       "      <th>B</th>\n",
       "      <td>Austraila</td>\n",
       "      <td>7</td>\n",
       "    </tr>\n",
       "    <tr>\n",
       "      <th>G</th>\n",
       "      <td>South Africa</td>\n",
       "      <td>2</td>\n",
       "    </tr>\n",
       "  </tbody>\n",
       "</table>\n",
       "</div>"
      ],
      "text/plain": [
       "        country place\n",
       "D         Wales     5\n",
       "A       England     8\n",
       "C    New Zeland     5\n",
       "F         Japan     3\n",
       "E        France     4\n",
       "H       Ireland     1\n",
       "B     Austraila     7\n",
       "G  South Africa     2"
      ]
     },
     "execution_count": 106,
     "metadata": {},
     "output_type": "execute_result"
    }
   ],
   "source": [
    "# Print out the data frame based on the array created above with permutation. The function takes the indeces and changes order of the rows according to the indeces that we pass it.\n",
    "\n",
    "df.take(b)"
   ]
  },
  {
   "cell_type": "code",
   "execution_count": 107,
   "metadata": {},
   "outputs": [
    {
     "data": {
      "text/plain": [
       "Index(['A', 'B', 'C', 'D', 'E', 'F', 'G', 'H'], dtype='object')"
      ]
     },
     "execution_count": 107,
     "metadata": {},
     "output_type": "execute_result"
    }
   ],
   "source": [
    "# Ransomise the index and print out table based on that.\n",
    "\n",
    "df.index"
   ]
  },
  {
   "cell_type": "code",
   "execution_count": 108,
   "metadata": {},
   "outputs": [
    {
     "data": {
      "text/plain": [
       "array(['A', 'C', 'D', 'H', 'B', 'F', 'E', 'G'], dtype=object)"
      ]
     },
     "execution_count": 108,
     "metadata": {},
     "output_type": "execute_result"
    }
   ],
   "source": [
    "np.random.permutation(df.index)"
   ]
  },
  {
   "cell_type": "code",
   "execution_count": 109,
   "metadata": {},
   "outputs": [
    {
     "data": {
      "text/html": [
       "<div>\n",
       "<style scoped>\n",
       "    .dataframe tbody tr th:only-of-type {\n",
       "        vertical-align: middle;\n",
       "    }\n",
       "\n",
       "    .dataframe tbody tr th {\n",
       "        vertical-align: top;\n",
       "    }\n",
       "\n",
       "    .dataframe thead th {\n",
       "        text-align: right;\n",
       "    }\n",
       "</style>\n",
       "<table border=\"1\" class=\"dataframe\">\n",
       "  <thead>\n",
       "    <tr style=\"text-align: right;\">\n",
       "      <th></th>\n",
       "      <th>country</th>\n",
       "      <th>place</th>\n",
       "    </tr>\n",
       "  </thead>\n",
       "  <tbody>\n",
       "    <tr>\n",
       "      <th>C</th>\n",
       "      <td>New Zeland</td>\n",
       "      <td>5</td>\n",
       "    </tr>\n",
       "    <tr>\n",
       "      <th>H</th>\n",
       "      <td>Ireland</td>\n",
       "      <td>1</td>\n",
       "    </tr>\n",
       "    <tr>\n",
       "      <th>F</th>\n",
       "      <td>Japan</td>\n",
       "      <td>3</td>\n",
       "    </tr>\n",
       "    <tr>\n",
       "      <th>G</th>\n",
       "      <td>South Africa</td>\n",
       "      <td>2</td>\n",
       "    </tr>\n",
       "    <tr>\n",
       "      <th>B</th>\n",
       "      <td>Austraila</td>\n",
       "      <td>7</td>\n",
       "    </tr>\n",
       "    <tr>\n",
       "      <th>D</th>\n",
       "      <td>Wales</td>\n",
       "      <td>5</td>\n",
       "    </tr>\n",
       "    <tr>\n",
       "      <th>E</th>\n",
       "      <td>France</td>\n",
       "      <td>4</td>\n",
       "    </tr>\n",
       "    <tr>\n",
       "      <th>A</th>\n",
       "      <td>England</td>\n",
       "      <td>8</td>\n",
       "    </tr>\n",
       "  </tbody>\n",
       "</table>\n",
       "</div>"
      ],
      "text/plain": [
       "        country place\n",
       "C    New Zeland     5\n",
       "H       Ireland     1\n",
       "F         Japan     3\n",
       "G  South Africa     2\n",
       "B     Austraila     7\n",
       "D         Wales     5\n",
       "E        France     4\n",
       "A       England     8"
      ]
     },
     "execution_count": 109,
     "metadata": {},
     "output_type": "execute_result"
    }
   ],
   "source": [
    "# Reindex function changes the order of the index, giving an alternative method ov viewing it.\n",
    "\n",
    "df.reindex(np.random.permutation(df.index))"
   ]
  },
  {
   "cell_type": "code",
   "execution_count": 110,
   "metadata": {},
   "outputs": [
    {
     "data": {
      "text/html": [
       "<div>\n",
       "<style scoped>\n",
       "    .dataframe tbody tr th:only-of-type {\n",
       "        vertical-align: middle;\n",
       "    }\n",
       "\n",
       "    .dataframe tbody tr th {\n",
       "        vertical-align: top;\n",
       "    }\n",
       "\n",
       "    .dataframe thead th {\n",
       "        text-align: right;\n",
       "    }\n",
       "</style>\n",
       "<table border=\"1\" class=\"dataframe\">\n",
       "  <thead>\n",
       "    <tr style=\"text-align: right;\">\n",
       "      <th></th>\n",
       "      <th>country</th>\n",
       "      <th>place</th>\n",
       "    </tr>\n",
       "  </thead>\n",
       "  <tbody>\n",
       "    <tr>\n",
       "      <th>A</th>\n",
       "      <td>England</td>\n",
       "      <td>8</td>\n",
       "    </tr>\n",
       "    <tr>\n",
       "      <th>H</th>\n",
       "      <td>Ireland</td>\n",
       "      <td>1</td>\n",
       "    </tr>\n",
       "    <tr>\n",
       "      <th>F</th>\n",
       "      <td>Japan</td>\n",
       "      <td>3</td>\n",
       "    </tr>\n",
       "    <tr>\n",
       "      <th>B</th>\n",
       "      <td>Austraila</td>\n",
       "      <td>7</td>\n",
       "    </tr>\n",
       "    <tr>\n",
       "      <th>E</th>\n",
       "      <td>France</td>\n",
       "      <td>4</td>\n",
       "    </tr>\n",
       "    <tr>\n",
       "      <th>G</th>\n",
       "      <td>South Africa</td>\n",
       "      <td>2</td>\n",
       "    </tr>\n",
       "    <tr>\n",
       "      <th>C</th>\n",
       "      <td>New Zeland</td>\n",
       "      <td>5</td>\n",
       "    </tr>\n",
       "    <tr>\n",
       "      <th>D</th>\n",
       "      <td>Wales</td>\n",
       "      <td>5</td>\n",
       "    </tr>\n",
       "  </tbody>\n",
       "</table>\n",
       "</div>"
      ],
      "text/plain": [
       "        country place\n",
       "A       England     8\n",
       "H       Ireland     1\n",
       "F         Japan     3\n",
       "B     Austraila     7\n",
       "E        France     4\n",
       "G  South Africa     2\n",
       "C    New Zeland     5\n",
       "D         Wales     5"
      ]
     },
     "execution_count": 110,
     "metadata": {},
     "output_type": "execute_result"
    }
   ],
   "source": [
    "# Sample method of randomistaion. Show a random sample using all the rows\n",
    "\n",
    "df.sample(n=nrows)"
   ]
  },
  {
   "cell_type": "code",
   "execution_count": 111,
   "metadata": {},
   "outputs": [
    {
     "name": "stdout",
     "output_type": "stream",
     "text": [
      "Password is = cbearbccce\n",
      "Password is = crceeceeceec\n"
     ]
    }
   ],
   "source": [
    "# Create a random password of first 10 then 12 letters from predefined letters\n",
    "\n",
    "def randString(length=10):\n",
    "    #Select letters to be used in the string\n",
    "    letters='rebecca'\n",
    "    return ''.join((random.choice(letters) for i in range(length)))\n",
    "print('Password is =',  randString() )\n",
    "print ('Password is =', randString(12) )  "
   ]
  },
  {
   "cell_type": "code",
   "execution_count": 112,
   "metadata": {},
   "outputs": [
    {
     "name": "stdout",
     "output_type": "stream",
     "text": [
      "Generated password = ['A' 'C' 'R' 'B' 'C']\n"
     ]
    }
   ],
   "source": [
    "# An example of a way to create a password using the permutation function from predefined letters in a preselected lenght.\n",
    "\n",
    "Letters = np.array(['R', 'E', 'B', 'E', 'C', 'C', 'A',])\n",
    "Order = np.random.permutation(Letters)\n",
    "print('Generated password =', Order[2:12])"
   ]
  },
  {
   "cell_type": "markdown",
   "metadata": {},
   "source": [
    "A different tool is used here, an itertool. Iterators are data types that can be used in a for loop. The most common iterator in Python is the list. This doesn't relate really to the assignment but I went down a bit of a rabbit hole and was interested to see what it could produce."
   ]
  },
  {
   "cell_type": "code",
   "execution_count": 113,
   "metadata": {},
   "outputs": [
    {
     "data": {
      "text/plain": [
       "[('Ireland', 'Win', 1),\n",
       " ('Ireland', 'Win', 2),\n",
       " ('Ireland', 'Win', 3),\n",
       " ('Ireland', 'Loose', 1),\n",
       " ('Ireland', 'Loose', 2),\n",
       " ('Ireland', 'Loose', 3),\n",
       " ('Ireland', 'Draw', 1),\n",
       " ('Ireland', 'Draw', 2),\n",
       " ('Ireland', 'Draw', 3),\n",
       " ('England', 'Win', 1),\n",
       " ('England', 'Win', 2),\n",
       " ('England', 'Win', 3),\n",
       " ('England', 'Loose', 1),\n",
       " ('England', 'Loose', 2),\n",
       " ('England', 'Loose', 3),\n",
       " ('England', 'Draw', 1),\n",
       " ('England', 'Draw', 2),\n",
       " ('England', 'Draw', 3),\n",
       " ('New Zeland', 'Win', 1),\n",
       " ('New Zeland', 'Win', 2),\n",
       " ('New Zeland', 'Win', 3),\n",
       " ('New Zeland', 'Loose', 1),\n",
       " ('New Zeland', 'Loose', 2),\n",
       " ('New Zeland', 'Loose', 3),\n",
       " ('New Zeland', 'Draw', 1),\n",
       " ('New Zeland', 'Draw', 2),\n",
       " ('New Zeland', 'Draw', 3)]"
      ]
     },
     "execution_count": 113,
     "metadata": {},
     "output_type": "execute_result"
    }
   ],
   "source": [
    "import itertools\n",
    "a = [[\"Ireland\", \"England\", \"New Zeland\"], [\"Win\", \"Loose\", \"Draw\"], [1, 2, 3]]\n",
    "list(itertools.product(*a))"
   ]
  },
  {
   "cell_type": "code",
   "execution_count": 114,
   "metadata": {},
   "outputs": [
    {
     "data": {
      "text/plain": [
       "array([['Win', 'Loose', 'Draw'],\n",
       "       ['1', '2', '3'],\n",
       "       ['Ireland', 'England', 'New Zeland']], dtype='<U10')"
      ]
     },
     "execution_count": 114,
     "metadata": {},
     "output_type": "execute_result"
    }
   ],
   "source": [
    "# Another way to look at permutations, passing three separate statements, each with their own sub-statements. I just put this in to see how it would look in comparision with the other ways I used the same function above. \n",
    "\n",
    "import numpy as np\n",
    "np.random.permutation ([(\"Ireland\", \"England\", \"New Zeland\"), (\"Win\", \"Loose\", \"Draw\"), (1, 2, 3)])"
   ]
  },
  {
   "cell_type": "code",
   "execution_count": null,
   "metadata": {},
   "outputs": [],
   "source": []
  },
  {
   "cell_type": "code",
   "execution_count": null,
   "metadata": {},
   "outputs": [],
   "source": []
  },
  {
   "attachments": {
    "normal%20probability%20density.svg": {
     "image/svg+xml": [
      "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"
     ]
    }
   },
   "cell_type": "markdown",
   "metadata": {},
   "source": [
    "## Problem Statement 4\n",
    "## Explain the use and purpose of at least five \"Distributions\" functions\n",
    "\n",
    "\n",
    "\n",
    "### Numpy.random.normal\n",
    "\n",
    "Numpy.random.normal Enables the creation of an array in which the data looks to be distributed normally aka the bell curve or Gaussian distribution.\n",
    "A list of random samples are selected from a normal distribution. Different results will be drawn each time the function is executed (this is due to the random part) but will generally be the same shape. The peak is always in the middle and the curve is always symmetrical.\n",
    "A larger size will give a better, more accurate result. Bell curve provide a quick way to visualize the mean, mode and median.\n",
    "If the distribution is normal the mean, median and mode are the same.\n",
    "\n",
    "There are 3 key arguments which influence it. Loc, scale and size. The syntax will look like: np.random.normal (loc=, scale=, size=) np.random.normal is the function name, this is how we call it. Loc=, sets the mean of the data, which defaults to 0 if no other value is chosen. This is the very top of the curve. In a normal distribution, fifty percent of the distribution lies to the right of the mean and fifty percent to the left.\n",
    "\n",
    "Scale=, standard deviation of normal distribution, set to 1 as default. Shows how much variation from the average.\n",
    "If the data points were very close to the mean it shows a low standard deviation and if the data points were spread out it has a high standard deviation.\n",
    "\n",
    "<img src=\"bell curve 1.png\" style=\"width:300px; height:300px\"/>\n",
    "\n",
    "\n",
    "\n",
    "The size controls the size and shape of the array. This array can be modelled on a 1 dimensional or multi dimensional depending on the integers provided.\n",
    "\n",
    "<img src=\"bell curve.png\" style=\"width:300px; height:300px\"/>\n",
    "\n",
    "\n",
    "\n",
    "The probability density of the normal distribution is\n",
    "\n",
    "<img src=\"normal probability density.png\" style=\"width:300px; height:300px\"/>\n",
    "\n",
    "\n",
    "<img src=\"bell curve.png\" style=\"width:300px; height:300px\"/>\n",
    "\n",
    "![normal%20probability%20density.svg](attachment:normal%20probability%20density.svg)\n",
    "\n",
    "\n",
    "\\begin{align}\n",
    "\\ \\mu \\\\ \n",
    "\\end{align} is the mean or expectation of the distribution (and also its median and mode)\n",
    "\n",
    "\n",
    "\\begin{align}\n",
    "\\ \\sigma \\\\ \n",
    "\\end{align}\n",
    "is the standard deviation\n",
    "\n",
    "\\begin{align}\n",
    "\\ \\sigma ^2\\\\ \n",
    "\\end{align}\n",
    "is the variance\n",
    "\n",
    "\n",
    "\n",
    "\n",
    "https://en.wikipedia.org/wiki/Normal_distribution\n"
   ]
  },
  {
   "cell_type": "markdown",
   "metadata": {},
   "source": []
  },
  {
   "cell_type": "code",
   "execution_count": 115,
   "metadata": {},
   "outputs": [
    {
     "data": {
      "text/plain": [
       "array([0.2972623])"
      ]
     },
     "execution_count": 115,
     "metadata": {},
     "output_type": "execute_result"
    }
   ],
   "source": [
    "#Generate a single number from normal distribution. \n",
    "\n",
    "np.random.normal(size = 1, loc = 0, scale = 1)"
   ]
  },
  {
   "cell_type": "code",
   "execution_count": 116,
   "metadata": {},
   "outputs": [
    {
     "ename": "SyntaxError",
     "evalue": "invalid syntax (<ipython-input-116-0af7d628ca6d>, line 2)",
     "output_type": "error",
     "traceback": [
      "\u001b[1;36m  File \u001b[1;32m\"<ipython-input-116-0af7d628ca6d>\"\u001b[1;36m, line \u001b[1;32m2\u001b[0m\n\u001b[1;33m    .random.normal(size = 5, loc = 0, scale = 1)\u001b[0m\n\u001b[1;37m    ^\u001b[0m\n\u001b[1;31mSyntaxError\u001b[0m\u001b[1;31m:\u001b[0m invalid syntax\n"
     ]
    }
   ],
   "source": [
    "#Generate an array of 5 numbers.\n",
    ".random.normal(size = 5, loc = 0, scale = 1)"
   ]
  },
  {
   "cell_type": "code",
   "execution_count": null,
   "metadata": {},
   "outputs": [],
   "source": [
    "# We ask for 1000 numbers with a mean of 50.  The bigger the size gives a more accurate result.\n",
    "# if we seed it then the same numbers will return each time the script is run, without it a different range will appear each time. Just a personal preference.\n",
    "np.random.seed(1)\n",
    "df=np.random.normal(size = 1000, loc = 50)\n",
    "print (df)"
   ]
  },
  {
   "cell_type": "code",
   "execution_count": null,
   "metadata": {},
   "outputs": [],
   "source": [
    " # We can see the mean is 50\n",
    "df.mean()"
   ]
  },
  {
   "cell_type": "code",
   "execution_count": null,
   "metadata": {},
   "outputs": [],
   "source": [
    "#np.random.seed(42)\n",
    "np.random.normal(size = 1000, scale = 100).std()"
   ]
  },
  {
   "cell_type": "code",
   "execution_count": null,
   "metadata": {},
   "outputs": [],
   "source": [
    "#np.random.seed(42)\n",
    "np.random.normal(size = 1000, loc = 50, scale = 100)"
   ]
  },
  {
   "cell_type": "code",
   "execution_count": null,
   "metadata": {},
   "outputs": [],
   "source": [
    "# Plot a histogram of 1000 numbers with a mean of 50 and a standard deviation of 10\n",
    "import seaborn as sns\n",
    "\n",
    "plt.title(\"Example of normal distribution\")\n",
    "plt.show (sns.distplot(np.random.normal(50, 10.0, 1000), bins=20, color='b'))"
   ]
  },
  {
   "cell_type": "markdown",
   "metadata": {},
   "source": [
    "\n",
    "### numpy.random.exponential"
   ]
  },
  {
   "cell_type": "markdown",
   "metadata": {},
   "source": [
    "\n",
    "The exponential is a continuous distribution describing the probability of an event occuring during a timeframe by looking at the the time or distance between the events. It is often used in conjunction with a Poisson distribution which creates a model of the the number of occurrences in a fixed period of time, it is discrete and defined in integers. There is a strong relationship between the two distributions which describe the same thing but from different perspectives.\n",
    "\n",
    "Non-negative numbers within an exponential distribution are memoryless. The past has no impact on any future behaviour. If a certain period of time was to pass before an event occurs, with memoryless, this would have no effect on when the event was to happen. eg. if a plane crashed, some people may think that the probability of it happening again to the same company would be greatly reduced but in reality, the chances if it happening at any given time have not changed.\n",
    "\n",
    "Its probability density function is: \n",
    "\n",
    "\\begin{equation*}\n",
    "f(x; \\frac{1}{\\beta}) = \\frac{1}{\\beta} \\exp(-\\frac{x}{\\beta})\n",
    "\\end{equation*}\n",
    "\n",
    "\n",
    "\n",
    "for x > 0 and 0 elsewhere. \\beta is the scale parameter, which is the inverse of the rate parameter \\lambda = 1/\\beta. The rate parameter is an alternative, widely used parameterization of the exponential distribution.\n",
    "\n",
    "https://docs.scipy.org/doc/numpy-1.15.0/reference/generated/numpy.random.exponential.html\n",
    "\n",
    "An example of exponential could look at the number of times a website is accessed in a 30 minute period. We say it will get 180 views each hour so that is 90 views per 30 minutes. lambada = 3 (90 views per 1/2 hour / 30 minutes = 3 views per minute)."
   ]
  },
  {
   "cell_type": "code",
   "execution_count": 117,
   "metadata": {},
   "outputs": [
    {
     "data": {
      "text/plain": [
       "array([4.78763075, 5.52912777, 2.69798422, 2.18961686, 1.022656  ,\n",
       "       1.14526348, 1.96443189, 0.75200988])"
      ]
     },
     "execution_count": 117,
     "metadata": {},
     "output_type": "execute_result"
    }
   ],
   "source": [
    "np.random.exponential(2, 8)"
   ]
  },
  {
   "cell_type": "code",
   "execution_count": 118,
   "metadata": {},
   "outputs": [
    {
     "data": {
      "image/png": "[encoded data removed]",
      "text/plain": [
       "<Figure size 432x288 with 1 Axes>"
      ]
     },
     "metadata": {
      "needs_background": "light"
     },
     "output_type": "display_data"
    }
   ],
   "source": [
    "# 500 events, going in increments of 5\n",
    "\n",
    "plt.show(plt.hist(np.random.exponential(5, 500), bins=40, color='B', alpha=.3))\n",
    "\n",
    "\n",
    "\n",
    "\n",
    "\n",
    "\n"
   ]
  },
  {
   "cell_type": "code",
   "execution_count": 119,
   "metadata": {},
   "outputs": [
    {
     "data": {
      "image/png": "[encoded data removed]",
      "text/plain": [
       "<Figure size 432x288 with 1 Axes>"
      ]
     },
     "metadata": {
      "needs_background": "light"
     },
     "output_type": "display_data"
    }
   ],
   "source": [
    "lam = 3\n",
    "x = np.arange(0, 10, .1)\n",
    "y = lam * np.exp(- lam* x) \n",
    "plt.plot(x,y)\n",
    "plt.title('Exponential: $\\lambda$ =%.2f' % lam)\n",
    "plt.xlabel('x')\n",
    "plt.ylabel('Probability density')\n",
    "plt.show()"
   ]
  },
  {
   "cell_type": "code",
   "execution_count": 120,
   "metadata": {},
   "outputs": [
    {
     "data": {
      "text/plain": [
       "[Text(0, 0.5, 'Occurance Freq'), Text(0.5, 0, 'Poisson')]"
      ]
     },
     "execution_count": 120,
     "metadata": {},
     "output_type": "execute_result"
    },
    {
     "data": {
      "image/png": "[encoded data removed]",
      "text/plain": [
       "<Figure size 432x288 with 1 Axes>"
      ]
     },
     "metadata": {
      "needs_background": "light"
     },
     "output_type": "display_data"
    }
   ],
   "source": [
    "# an example of a standard poisson distribution, the event can only be measured as occurring or not as occurring\n",
    "from scipy.stats import poisson\n",
    "import seaborn as sb\n",
    "data_binom = poisson.rvs(mu=4, size=1000)\n",
    "ax = sb.distplot(data_binom,\n",
    "                  kde=True,\n",
    "                  color='blue',\n",
    "                  hist_kws={\"linewidth\": 5,'alpha':1})\n",
    "ax.set(xlabel='Poisson', ylabel='Occurance Freq')"
   ]
  },
  {
   "cell_type": "markdown",
   "metadata": {},
   "source": [
    "### numpy.random.multinomial\n",
    "\n",
    "numpy.random.multinomial is used when there are several possible outcomes. It is similar to but different from Binomial, which has only two outcomes (success and failure). Eg. a dice is rolled 10 times. There are 6 possibilities (1, 2, 3, 4, 5, 6). That would be classed as a multinimial experiment. If the die was rolled 10 times to see how often 2 comes up, it would be classed as a binomial experiment (2 = success, 1, 3, 4, 5,6 = failure).\n",
    "\n",
    "\n",
    "\\begin{equation*}\n",
    "p=  \\frac{n!}{(n_1!)(n_2!)(n_3!)}\n",
    "p_1^{n1} p_2^{n2} p_3^{n3}\n",
    "\\end{equation*}\n",
    "\n",
    "where\n",
    "p is the probability,\n",
    "n is the total number of events\n",
    "n1 is the number of times Outcome 1 occurs,\n",
    "n2 is the number of times Outcome 2 occurs,\n",
    "n3 is the number of times Outcome 3 occurs,\n",
    "p1 is the probability of Outcome 1\n",
    "p2 is the probability of Outcome 2, and\n",
    "p3 is the probability of Outcome 3.\n",
    "\n",
    "http://onlinestatbook.com/2/probability/multinomial.html"
   ]
  },
  {
   "cell_type": "code",
   "execution_count": 121,
   "metadata": {},
   "outputs": [
    {
     "data": {
      "text/plain": [
       "array([[0, 4, 1, 2, 1, 2]])"
      ]
     },
     "execution_count": 121,
     "metadata": {},
     "output_type": "execute_result"
    }
   ],
   "source": [
    "# A dice is thrown 10 times, it landed on 1 once, 2 once, 3 twice, 4 three times, etc\n",
    "\n",
    "np.random.multinomial(10, [1/6.]*6, size=1)"
   ]
  },
  {
   "cell_type": "code",
   "execution_count": 128,
   "metadata": {},
   "outputs": [
    {
     "name": "stdout",
     "output_type": "stream",
     "text": [
      "[[1 1 1 2 0 5]\n",
      " [2 1 1 1 2 3]]\n"
     ]
    }
   ],
   "source": [
    "# Dice is now thrown 10 times and then 10 again \n",
    "# The first round of 10 it landed on 1 twice, 2 three times, 4 once etc. and in the second round of 10 it landed on 1 once, 2 twice, 3 zero times.\n",
    "\n",
    "x=np.random.multinomial(10, [1/6.]*6, size=2)\n",
    "print (x)"
   ]
  },
  {
   "cell_type": "code",
   "execution_count": null,
   "metadata": {},
   "outputs": [],
   "source": []
  },
  {
   "cell_type": "code",
   "execution_count": null,
   "metadata": {},
   "outputs": [],
   "source": []
  },
  {
   "cell_type": "code",
   "execution_count": null,
   "metadata": {},
   "outputs": [],
   "source": [
    "# just as an aside, while researching multinominal I came across this bit of code which seems to indicate that\n",
    "# np.random.multinomial is faster than np.random.choice\n",
    "\n",
    "print(np.__version__)\n",
    "probs = [1/100.] * 100\n",
    "%timeit -n 1 -r 1 [np.random.choice(100, p=probs) for x in range(10000)]\n",
    "%timeit -n 1 -r 1 [np.random.multinomial(1, probs).argmax() for x in range(10000)]\n",
    "\n",
    "# https://github.com/numpy/numpy/issues/7543"
   ]
  },
  {
   "cell_type": "markdown",
   "metadata": {},
   "source": [
    "### numpy.random.uniform\n",
    "\n",
    "numpy.random.uniform is a type of probability distribution which each variable has the identical probability that it will be the outcome, all of the possible outcomes are equally likely. e.g. a coin has an equal probability of getting heads or tails so it can be classed as having a uniform distribution. The same can be said about a deck of cards. There are four suits and the chances of choosing either a diamond, heart, spade or club are the same.\n",
    "\n",
    "There are 2 types of uniform distributions: continuous and discrete. With continuous each variable has an equal chance of being chosen and there can be a infinite number of permutations.\n",
    "\n",
    "Discrete distribution has a fixed list of possible values, it can not be subdivided and there may be a repeat of a value. e.g. with the throw of a dice it will always be between 1 and 6."
   ]
  },
  {
   "cell_type": "markdown",
   "metadata": {},
   "source": [
    "\n",
    "The random.random() function takes no parameters while random.uniform() takes two parameters, i.e., start and stop. The random.random() function generates a random float number between 0.0 to 1.0, but never returns 1.0. random.uniform(start, stop) generates a random float number between the start (a) and stop (b) number. Rounding may end up giving you b.\n",
    "\n",
    "The probability density function of the uniform distribution is:\n",
    "\n",
    "\\begin{equation*}\n",
    "p(x)= \\frac{1}{b-a}\n",
    "\\end{equation*}\n",
    "\n"
   ]
  },
  {
   "cell_type": "code",
   "execution_count": 130,
   "metadata": {},
   "outputs": [
    {
     "name": "stdout",
     "output_type": "stream",
     "text": [
      "Random float number is  0.2856037339109023\n"
     ]
    }
   ],
   "source": [
    "# random float from a uniform distribution between 0 and 1\n",
    "\n",
    "print(\"Random float number is \", np.random.uniform())"
   ]
  },
  {
   "cell_type": "code",
   "execution_count": 142,
   "metadata": {},
   "outputs": [
    {
     "data": {
      "text/plain": [
       "array([-2.01694782, -0.39447404, -2.61733235, -3.66013743,  1.14333237,\n",
       "       -2.89654542])"
      ]
     },
     "execution_count": 142,
     "metadata": {},
     "output_type": "execute_result"
    }
   ],
   "source": [
    "# 6 random floats from  -5 to  5.\n",
    "\n",
    "np.random.uniform(-5.0, 5, 6)"
   ]
  },
  {
   "cell_type": "code",
   "execution_count": 143,
   "metadata": {},
   "outputs": [
    {
     "data": {
      "text/plain": [
       "array([-2.28414146,  4.04536895,  1.44401262,  4.01849599, -0.11443107,\n",
       "        0.41920975])"
      ]
     },
     "execution_count": 143,
     "metadata": {},
     "output_type": "execute_result"
    }
   ],
   "source": [
    "#Another way to get 6 random floats from -5 to 5.\n",
    "\n",
    "np.random.uniform(low=-5, high=5, size=(6,))"
   ]
  },
  {
   "cell_type": "code",
   "execution_count": 132,
   "metadata": {},
   "outputs": [
    {
     "name": "stdout",
     "output_type": "stream",
     "text": [
      "Random float number with two decimal places is  0.42\n",
      "Random float number between 5 and 30.5 with three decimal places is  27.537\n"
     ]
    }
   ],
   "source": [
    "print(\"Random float number with two decimal places is \", round(random.random(), 2))\n",
    "print(\"Random float number between 5 and 30.5 with three decimal places is \", round(random.uniform(5,30.5), 3))"
   ]
  },
  {
   "cell_type": "code",
   "execution_count": null,
   "metadata": {},
   "outputs": [],
   "source": []
  },
  {
   "cell_type": "code",
   "execution_count": 146,
   "metadata": {},
   "outputs": [
    {
     "name": "stdout",
     "output_type": "stream",
     "text": [
      "it took:  0.012964725494384766\n",
      "it took:  0.05985426902770996\n"
     ]
    }
   ],
   "source": [
    "#For loop in list comprehension takes time and makes it slow. Faster to use numpy parameters (low, high, size, ..etc)\n",
    "\n",
    "import numpy as np\n",
    "import time\n",
    "rang = 5000\n",
    "tic = time.time()\n",
    "for i in range(rang):\n",
    "    sampl = np.random.uniform(low=5,high=10,size=(10))\n",
    "print(\"it took: \", time.time() - tic)\n",
    "\n",
    "tic = time.time()\n",
    "for i in range(rang):\n",
    "    ran_floats = [np.random.uniform(0,3) for _ in range(10)]\n",
    "print(\"it took: \", time.time() - tic)"
   ]
  },
  {
   "cell_type": "code",
   "execution_count": 135,
   "metadata": {},
   "outputs": [
    {
     "data": {
      "image/png": "[encoded data removed]",
      "text/plain": [
       "<Figure size 432x288 with 1 Axes>"
      ]
     },
     "metadata": {
      "needs_background": "light"
     },
     "output_type": "display_data"
    }
   ],
   "source": [
    "# Sample of a histogram representing uniform distribution\n",
    "plt.hist(np.random.uniform(low=0.0, high=1.0, size=1000), bins=35,color='Y', alpha=1)\n",
    "plt.xlabel(\"Probability\")\n",
    "plt.title(\"Uniform Distribution\")\n",
    "plt.show()"
   ]
  },
  {
   "cell_type": "markdown",
   "metadata": {},
   "source": [
    "### numpy.random.standard_t"
   ]
  },
  {
   "attachments": {
    "standardt%20density.png": {
     "image/png": "[encoded data removed]"
    }
   },
   "cell_type": "markdown",
   "metadata": {},
   "source": [
    "Also referred to as the Student's T Distribution.  It is very similar to the normal distribution curve but looks a little shorter and wider, showing values which are further away from the mean, but both are symmetrical and have a single peak.  If the sample size is too small, less than 30, then it is harder to produce an accurate, reliable result.  Therefore random standard t is used as it can work better with non-normal distribution. Also, if and/or the population variance is unknown (ie. how data points are spread out).  But both normal and standard t distribution will show how far from the mean the standard deviations are.  \n",
    "\n",
    "The probability density function for the t distribution is:\n",
    "\n",
    "t = [ x - μ ] / [ s / sqrt( n ) ]\n",
    "\n",
    "where x is the sample mean, μ is the population mean, s is the standard deviation of the sample, n is the sample size, and degrees of freedom are equal to n - 1.\n",
    "\n",
    "https://stattrek.com/probability-distributions/t-distribution.aspx\n",
    "\n",
    "There are different t distributions. The particular form of the t distribution is determined by its degrees of freedom. The degrees of freedom refers to the number of independent observations in a set of data.  The higher the degrees of freedom, the closer that distribution will resemble a standard normal distribution with a mean of 0, and a standard deviation of 1. T distribution differs from the normal distribution by its degrees of freedom. \n",
    "\n",
    "![standardt%20density.png](attachment:standardt%20density.png)"
   ]
  },
  {
   "cell_type": "code",
   "execution_count": 161,
   "metadata": {},
   "outputs": [
    {
     "data": {
      "text/html": [
       "\n",
       "        <iframe\n",
       "            width=\"700\"\n",
       "            height=\"300\"\n",
       "            src=\"http://www.meracalculator.com/math/t-distribution-critical-value-table.php\"\n",
       "            frameborder=\"0\"\n",
       "            allowfullscreen\n",
       "        ></iframe>\n",
       "        "
      ],
      "text/plain": [
       "<IPython.lib.display.IFrame at 0x21edc2d2128>"
      ]
     },
     "execution_count": 161,
     "metadata": {},
     "output_type": "execute_result"
    }
   ],
   "source": [
    "from IPython.display import IFrame \n",
    "IFrame (\"http://www.meracalculator.com/math/t-distribution-critical-value-table.php\", width=700, height=300)"
   ]
  },
  {
   "cell_type": "code",
   "execution_count": 147,
   "metadata": {},
   "outputs": [
    {
     "data": {
      "text/plain": [
       "<function RandomState.standard_t>"
      ]
     },
     "execution_count": 147,
     "metadata": {},
     "output_type": "execute_result"
    }
   ],
   "source": [
    "np.random.standard_t"
   ]
  },
  {
   "cell_type": "code",
   "execution_count": null,
   "metadata": {},
   "outputs": [],
   "source": []
  },
  {
   "cell_type": "code",
   "execution_count": 168,
   "metadata": {},
   "outputs": [
    {
     "data": {
      "text/plain": [
       "array([ 0.02072033,  0.18159957,  0.42472139, -0.89831857,  0.1017563 ,\n",
       "       -0.65608338, -0.87284157, -1.04325255,  0.59532475, -0.75461869])"
      ]
     },
     "execution_count": 168,
     "metadata": {},
     "output_type": "execute_result"
    }
   ],
   "source": [
    "np.random.standard_t(25, size=10)\n"
   ]
  },
  {
   "cell_type": "code",
   "execution_count": 153,
   "metadata": {},
   "outputs": [
    {
     "data": {
      "image/png": "[encoded data removed]",
      "text/plain": [
       "<Figure size 432x288 with 1 Axes>"
      ]
     },
     "metadata": {
      "needs_background": "light"
     },
     "output_type": "display_data"
    }
   ],
   "source": [
    "plt.hist(np.random.standard_t(25, size=10), bins=35, color='Y', alpha=1)\n",
    "plt.xlabel(\"Probability\")\n",
    "plt.title(\"Standard Distribution\")\n",
    "plt.show()"
   ]
  },
  {
   "cell_type": "code",
   "execution_count": null,
   "metadata": {},
   "outputs": [],
   "source": []
  },
  {
   "cell_type": "code",
   "execution_count": null,
   "metadata": {},
   "outputs": [],
   "source": []
  },
  {
   "cell_type": "code",
   "execution_count": 175,
   "metadata": {},
   "outputs": [
    {
     "data": {
      "text/plain": [
       "(array(0.), array(1.11111111), array(0.), array(0.375))"
      ]
     },
     "execution_count": 175,
     "metadata": {},
     "output_type": "execute_result"
    }
   ],
   "source": [
    "#http://pytolearn.csd.auth.gr/d1-hyptest/11/t-distro.html\n",
    "from scipy.stats import t\n",
    "\n",
    "# Freeze for df=20, loc=0, scale=1 and get the first four moments from stats()\n",
    "rv = t(df=20, loc=0, scale=1)\n",
    "mean, var, skew, kurt = rv.stats(moments='mvsk')\n",
    "mean, var, skew, kurt"
   ]
  },
  {
   "cell_type": "code",
   "execution_count": 174,
   "metadata": {},
   "outputs": [
    {
     "data": {
      "text/plain": [
       "[<matplotlib.lines.Line2D at 0x21edd331710>]"
      ]
     },
     "execution_count": 174,
     "metadata": {},
     "output_type": "execute_result"
    },
    {
     "data": {
      "image/png": "[encoded data removed]",
      "text/plain": [
       "<Figure size 432x288 with 1 Axes>"
      ]
     },
     "metadata": {
      "needs_background": "light"
     },
     "output_type": "display_data"
    }
   ],
   "source": [
    "import numpy as np\n",
    "from scipy.stats import t\n",
    "import matplotlib.pyplot as plt\n",
    "%matplotlib inline\n",
    "\n",
    "rv = t(df=20, loc=0, scale=1)\n",
    "x = np.linspace(rv.ppf(0.0001), rv.ppf(0.9999), 100)\n",
    "y = rv.pdf(x) \n",
    "\n",
    "plt.xlim(-5,5)\n",
    "plt.plot(x,y)"
   ]
  },
  {
   "cell_type": "code",
   "execution_count": null,
   "metadata": {},
   "outputs": [],
   "source": []
  },
  {
   "cell_type": "code",
   "execution_count": 177,
   "metadata": {},
   "outputs": [],
   "source": [
    "#From Dalgaard page 83 [R272], suppose the daily energy intake for 11 women in Kj is:\n",
    "intake = np.array([5260., 5470, 5640, 6180, 6390, 6515, 6805, 7515, 7515, 8230, 8770])"
   ]
  },
  {
   "cell_type": "code",
   "execution_count": 178,
   "metadata": {},
   "outputs": [
    {
     "data": {
      "text/plain": [
       "6753.636363636364"
      ]
     },
     "execution_count": 178,
     "metadata": {},
     "output_type": "execute_result"
    }
   ],
   "source": [
    "#Does their energy intake deviate systematically from the recommended value of 7725 kJ?\n",
    "\n",
    "# We have 10 degrees of freedom, so is the sample mean within 95% of the recommended value?\n",
    "\n",
    "s = np.random.standard_t(10, size=100000)\n",
    "np.mean(intake)\n",
    "\n",
    "\n"
   ]
  },
  {
   "cell_type": "code",
   "execution_count": 179,
   "metadata": {},
   "outputs": [
    {
     "data": {
      "text/plain": [
       "1142.1232221373727"
      ]
     },
     "execution_count": 179,
     "metadata": {},
     "output_type": "execute_result"
    }
   ],
   "source": [
    "intake.std(ddof=1)"
   ]
  },
  {
   "cell_type": "code",
   "execution_count": 180,
   "metadata": {},
   "outputs": [
    {
     "data": {
      "image/png": "[encoded data removed]",
      "text/plain": [
       "<Figure size 432x288 with 1 Axes>"
      ]
     },
     "metadata": {
      "needs_background": "light"
     },
     "output_type": "display_data"
    }
   ],
   "source": [
    "#Calculate the t statistic, setting the ddof parameter to the unbiased value so the divisor in the standard deviation will be degrees of freedom, N-1.\n",
    "\n",
    "t = (np.mean(intake)-7725)/(intake.std(ddof=1)/np.sqrt(len(intake)))\n",
    "import matplotlib.pyplot as plt\n",
    "h = plt.hist(s, bins=100, density=True)"
   ]
  },
  {
   "cell_type": "code",
   "execution_count": 181,
   "metadata": {},
   "outputs": [
    {
     "data": {
      "text/plain": [
       "0.00883"
      ]
     },
     "execution_count": 181,
     "metadata": {},
     "output_type": "execute_result"
    }
   ],
   "source": [
    "# For a one-sided t-test, how far out in the distribution does the t statistic appear?\n",
    "\n",
    "np.sum(s<t) / float(len(s))"
   ]
  },
  {
   "cell_type": "code",
   "execution_count": 182,
   "metadata": {},
   "outputs": [],
   "source": [
    "# The p-value is about 0.009, which says the null hypothesis has a probability of about 99% of being true\n",
    "\n",
    "# Code from https://docs.scipy.org/doc/numpy-1.13.0/reference/generated/numpy.random.standard_t.html"
   ]
  },
  {
   "cell_type": "markdown",
   "metadata": {},
   "source": [
    "### Problem statement 5\n",
    "### Explain the use of seeds in generating psudorandom numbers\n",
    "\n",
    "\n",
    "Pseudorandom numbers are randomly generated numbers.  Random numbers are used to create noise or sampling and is very difficult to predetermine (nondeterministic) as there will be no pattern to the numbers.  Machines are predictable, deterministic and their random numbers are not so random.  Therefore many algorithms have been developed to artifically simulate random numbers.  With the middle-squares method, a seed or base number is chosen. Again while this seed seems to be random, it is usually selected from a predetermined starting point eg. the microseconds on the operating system clock.  This allows the PRNG to lock the generator for replicable analysis.  The seed is squared, the middle number of the result is then again squared and so on.  If the same sequence was commenced at the same time then the result would be the same resulting in a number which is not at all random, will be repeated and easy to predict.  This is of huge importance within computer security and an easily predictable generator should not be used for gambling or cryptology .  If an encryption key is generated psudorandomly, knowing what the seed is will make the key obsolete as it can be easily reproduced.   The period is the lenght before the psudorandom sequence repeats and is limited by the lenght of the original seed.  A 2 digit seed can produce 100 unique numbers before it begins to repeat.  3 digits has a maximum of 1,000 and 4 can to to 10,000 numbers. The larger the seed, the more numbers it will use before the sequence will begin to repeat itself. \n",
    "\n",
    "A deliberately shared random seed (secret key) between systems using the same psudorandom number generators create identical sequences which are then used to synchronize remote systems eg. GPS satellites. \n",
    "\n",
    "\n",
    "NumPy uses the Mersenne Twister algorithm which was designed in 1997  by M. Matsumoto and T. Nishimura."
   ]
  },
  {
   "cell_type": "code",
   "execution_count": null,
   "metadata": {},
   "outputs": [],
   "source": []
  },
  {
   "cell_type": "code",
   "execution_count": null,
   "metadata": {},
   "outputs": [],
   "source": [
    "# np.random.seed(1) sets the seed and produces the same numbers each time.\n",
    "\n",
    "np.random.seed(1) ; np.random.rand(5)"
   ]
  },
  {
   "cell_type": "code",
   "execution_count": null,
   "metadata": {},
   "outputs": [],
   "source": [
    "np.random.seed(1) ; np.random.rand(3)"
   ]
  },
  {
   "cell_type": "code",
   "execution_count": null,
   "metadata": {},
   "outputs": [],
   "source": [
    "# Different numbers appear each time if the random seed is not set\n",
    "np.random.rand(7)"
   ]
  },
  {
   "cell_type": "code",
   "execution_count": null,
   "metadata": {},
   "outputs": [],
   "source": [
    "np.random.rand(5)"
   ]
  },
  {
   "cell_type": "code",
   "execution_count": null,
   "metadata": {},
   "outputs": [],
   "source": []
  },
  {
   "cell_type": "code",
   "execution_count": null,
   "metadata": {},
   "outputs": [],
   "source": [
    "# Shows the internal state of the pnrg\n",
    "np.random.get_state()"
   ]
  },
  {
   "cell_type": "markdown",
   "metadata": {},
   "source": [
    "Conclusion\n",
    "\n",
    "I had used NumPy last semester but was not fully aware of all of its possibilities.  This assignment encouraged me to look deeper.  When starting the research, I first looked at the official documentation. The huge amount of data within here seemed overwhelming at first.  I broke it down into steps, taking each part of the problem individually. I followed the scrips on https://docs.scipy.org/doc/numpy-1.14.0/index.html.  Once I had a rudimental grasp of the topic at hand, I then went researching the topic further. I also had to reacquaint myself with statistical distributions, their uses and functions. \n",
    "\n",
    "When going through the five distribution functions I had decided to focus on I found there was some overlap between some of them.  Even though at first glance all the distribution functions seemed on the surface very similar each has its own niche to which it was specially designed for.  I could have spent the entire assignment going in depth on just any one of the distribution functions alone but I hope what is above will provide a concise synopsis of what I learned.  \n",
    "\n",
    "\n",
    "I also experienced various issues with syncing notebook to github and checkpoint, which left me having to start over from the beginning once and the second time using the information from a checkpoint to rebuild what failed to copy over.  While very frustrating it was a good lesson in making multiple backups for important information and how to proceed when it all goes wrong. \n",
    "\n",
    "\n",
    "Along with the weekly lectures and further recommended reading I used many websites and YouTube videos.  These have all been listed in readme.\n",
    "\n",
    "\n",
    "\n"
   ]
  }
 ],
 "metadata": {
  "kernelspec": {
   "display_name": "Python 3",
   "language": "python",
   "name": "python3"
  },
  "language_info": {
   "codemirror_mode": {
    "name": "ipython",
    "version": 3
   },
   "file_extension": ".py",
   "mimetype": "text/x-python",
   "name": "python",
   "nbconvert_exporter": "python",
   "pygments_lexer": "ipython3",
   "version": "3.7.1"
  }
 },
 "nbformat": 4,
 "nbformat_minor": 2
}
