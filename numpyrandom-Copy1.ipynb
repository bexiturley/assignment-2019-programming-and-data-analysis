{
 "cells": [
  {
   "cell_type": "markdown",
   "metadata": {},
   "source": [
    "Assignment 2019\n",
    "Programming for Data Analysis\n"
   ]
  },
  {
   "cell_type": "markdown",
   "metadata": {},
   "source": [
    "This contains all of the information for my 2019 submission for the Assignment for Programming for Data Analysis module.  Work on this began 13th October 2019 with a final submission date of November 11th."
   ]
  },
  {
   "cell_type": "markdown",
   "metadata": {},
   "source": [
    "NumPy, short for “Numerical Python” is a free to use, open source numerical library in python.  The library contains a large number of mathematical, algebriac and transformational functions.  Numpy contains a multi-dimensional array (more than one list, a list that can hold other lists, or lists within lists) and matrix data structures (numbers arranged in rows and columns).  Anaconda comes with NumPy preinstalled.  Otherwise it is necessary to install it via the pip install NumPy command line code.  Then import as np when using Python.  NumPy is utilised in data science and machine learning and to perform mathematical and statistical operations.  \n",
    "\n",
    "NumPy. Random is a module used for random sampling in NumPy, providing a way of creating random samples with the NumPy.   It gives a variety of functions to generate random numbers.  \n",
    "\n",
    "But the numbers may not be actually random, they just appear to be.  They may be pseudorandom or PRNG.  Pseudorandom number generators are algorithms that produce numbers that appear random, but are not really.  If the seed is reset each time (np.random.seed(0) ), the same set of numbers will always appear.  If random seed is not reset, different numbers will appear each time.   NumPy will generate a seed value from a part of your computer system such as the clock.\n",
    "\n",
    "The random function can be used to build customized random number generators, it’s the key ingredient for many of the functions in the random module.  Random adds unpredictability to simulations such as the Monte Carlo simulation.  In a Monte Carlo simulation, a model is built showing the different outcomes that are probable.  The process can be complicated and not easy to predict due to random variables.  It is also known as multiple probability simulation.  Monte Carlo method was the first approach to use computer simulation for statistical problems. It was developed by John von Neumann, Stanisław Ulam, & Nicholas Metropolis, working on the Manhattan project during World War II.  \n",
    "\n",
    "Random sampling can be broken down into 4 further sections, as per SciPy.org., which themselves then contain further subdivisions.  These are Simple random data, Permutations, Distributions and Random generator.\n"
   ]
  },
  {
   "cell_type": "markdown",
   "metadata": {},
   "source": [
    "The Simple Random Data generates random values, integers and floats which are dependant on the selected function.  Which function to use will be determined by the data used and what is the required output. \n",
    "Rand will return values in a given shape from a predetermined parameter (uniform distribution). Here I have asked for random numbers in three columns and two rows. As a default, the numbers returned will be more than 0 but less than 1  But first NumPy has to be imported.\n"
   ]
  },
  {
   "cell_type": "code",
   "execution_count": 156,
   "metadata": {},
   "outputs": [],
   "source": [
    "import numpy as np\n"
   ]
  },
  {
   "cell_type": "code",
   "execution_count": 157,
   "metadata": {},
   "outputs": [
    {
     "data": {
      "text/plain": [
       "array([[0.81684316, 0.78328138],\n",
       "       [0.06419555, 0.25775118],\n",
       "       [0.10305436, 0.01393907]])"
      ]
     },
     "execution_count": 157,
     "metadata": {},
     "output_type": "execute_result"
    }
   ],
   "source": [
    "np.random.rand(3,2)"
   ]
  },
  {
   "cell_type": "markdown",
   "metadata": {},
   "source": [
    "Here I have asked for 100 random numbers"
   ]
  },
  {
   "cell_type": "code",
   "execution_count": 158,
   "metadata": {},
   "outputs": [
    {
     "data": {
      "text/plain": [
       "array([0.13746414, 0.5723525 , 0.83949445, 0.34352935, 0.29660189,\n",
       "       0.1623636 , 0.25404656, 0.89219802, 0.78347781, 0.16772886,\n",
       "       0.37845995, 0.34075349, 0.46042397, 0.70161471, 0.61168498,\n",
       "       0.11807941, 0.276686  , 0.35977372, 0.91237323, 0.09119573,\n",
       "       0.05111629, 0.54814336, 0.49045841, 0.1302753 , 0.34825649,\n",
       "       0.45930014, 0.53014216, 0.36995682, 0.11840762, 0.59807687,\n",
       "       0.26300516, 0.90507205, 0.13976088, 0.39204525, 0.9951934 ,\n",
       "       0.21884173, 0.35423492, 0.40605345, 0.10142584, 0.31301838,\n",
       "       0.14448051, 0.62209335, 0.05575964, 0.24112146, 0.63386937,\n",
       "       0.9281932 , 0.42513566, 0.65223096, 0.98760119, 0.57523448,\n",
       "       0.00150836, 0.83845539, 0.62014974, 0.2592485 , 0.81275411,\n",
       "       0.01271805, 0.82009079, 0.41526516, 0.55791212, 0.40934826,\n",
       "       0.58230522, 0.15011613, 0.05318723, 0.62929083, 0.8789772 ,\n",
       "       0.46701207, 0.2926263 , 0.88580144, 0.27807044, 0.60770802,\n",
       "       0.72564326, 0.32017503, 0.51525848, 0.36138105, 0.85754984,\n",
       "       0.26064338, 0.93949382, 0.99727477, 0.68792529, 0.35892742,\n",
       "       0.10381613, 0.03078576, 0.85957516, 0.46584347, 0.43987135,\n",
       "       0.39948815, 0.39713938, 0.99291352, 0.08126475, 0.08136161,\n",
       "       0.89379658, 0.06914008, 0.82195066, 0.50239573, 0.16393581,\n",
       "       0.35359112, 0.40542044, 0.79349554, 0.43176355, 0.80065205])"
      ]
     },
     "execution_count": 158,
     "metadata": {},
     "output_type": "execute_result"
    }
   ],
   "source": [
    "x = np.random.rand (100)\n",
    "x"
   ]
  },
  {
   "cell_type": "code",
   "execution_count": 159,
   "metadata": {},
   "outputs": [
    {
     "data": {
      "image/png": "[encoded data removed]",
      "text/plain": [
       "<Figure size 432x288 with 1 Axes>"
      ]
     },
     "metadata": {
      "needs_background": "light"
     },
     "output_type": "display_data"
    }
   ],
   "source": [
    "%matplotlib inline\n",
    "\n",
    "import matplotlib.pyplot as plt\n",
    "\n",
    "plt.hist(x)\n",
    "plt.show()"
   ]
  },
  {
   "cell_type": "code",
   "execution_count": null,
   "metadata": {},
   "outputs": [],
   "source": []
  },
  {
   "cell_type": "markdown",
   "metadata": {},
   "source": [
    " numpy.random.randn() return a sample (or samples) from a specific/standard normal distribution, the standard distribution.  It is  useful for adding random noise element into a dataset for initial testing of a machine learning model.  "
   ]
  },
  {
   "cell_type": "code",
   "execution_count": 160,
   "metadata": {},
   "outputs": [
    {
     "data": {
      "text/plain": [
       "array([ 2.70046462e-01,  1.75091842e-03, -5.63172812e-01,  1.11477018e+00,\n",
       "        2.39404299e-01, -9.28447565e-01,  1.02971711e-02,  2.33543238e+00,\n",
       "       -3.53751546e-01,  7.09299984e-01,  6.13498158e-02, -9.85499079e-01,\n",
       "        9.38597453e-01, -1.00934644e+00, -6.75839778e-01, -2.21333282e-01,\n",
       "       -6.46435222e-01, -1.89222070e+00, -1.36714560e-01, -8.80608134e-01,\n",
       "       -8.89904756e-02,  1.66710574e+00,  1.23886118e+00, -1.08421504e+00,\n",
       "        5.31304222e-01,  5.55673130e-03, -8.27947931e-01,  5.78486776e-01,\n",
       "       -1.83858693e+00,  6.22881111e-01,  5.50653275e-02, -4.97004069e-01,\n",
       "        1.84715603e+00,  2.00135982e-01,  9.57380112e-01, -2.67181253e-01,\n",
       "        1.61255328e+00,  2.84466363e-01, -1.01511361e+00,  6.91779943e-02,\n",
       "        1.44105284e+00, -6.43650305e-01, -9.01962290e-01, -3.16231675e+00,\n",
       "        3.13357174e+00, -6.15461274e-01, -7.68516913e-01,  1.16206395e+00,\n",
       "       -1.41749249e+00,  1.81900099e-01,  2.63351180e+00,  1.03520570e+00,\n",
       "       -9.83296197e-01,  1.73546369e+00, -1.86151292e+00, -1.71118511e+00,\n",
       "        2.29492867e-01, -8.46903248e-01,  1.75953515e+00,  5.93458973e-01,\n",
       "        2.00031684e-01,  1.19904694e+00, -2.19350137e-01, -1.70593679e+00,\n",
       "        2.60942624e-01, -4.68874040e-01,  1.18473794e+00, -1.39148638e-01,\n",
       "        6.86392569e-01,  1.11447479e+00,  2.06490026e+00,  1.30039569e+00,\n",
       "       -1.79746210e-02,  2.67059325e-01, -3.23948827e-01, -4.35659949e-02,\n",
       "       -1.49671129e+00, -6.82515600e-01, -3.01665309e+00,  2.71296248e+00,\n",
       "       -1.13932784e+00,  8.04920935e-01,  4.54432245e-01, -8.88988654e-02,\n",
       "       -1.00702100e+00,  3.36355747e-01, -4.47626574e-01,  7.04388019e-01,\n",
       "       -1.19333819e+00,  1.20239752e+00,  3.99470477e-01, -7.31514807e-01,\n",
       "       -1.00347988e+00,  6.88820594e-01, -4.00262675e-01, -5.00490020e-02,\n",
       "       -1.45594622e+00,  3.92334926e-01, -1.11360954e+00,  1.37072152e-01])"
      ]
     },
     "execution_count": 160,
     "metadata": {},
     "output_type": "execute_result"
    }
   ],
   "source": [
    "x = np.random.randn (100)\n",
    "x"
   ]
  },
  {
   "cell_type": "code",
   "execution_count": 161,
   "metadata": {
    "scrolled": true
   },
   "outputs": [
    {
     "data": {
      "image/png": "[encoded data removed]",
      "text/plain": [
       "<Figure size 432x288 with 1 Axes>"
      ]
     },
     "metadata": {
      "needs_background": "light"
     },
     "output_type": "display_data"
    }
   ],
   "source": [
    "plt.hist(x)\n",
    "plt.show()"
   ]
  },
  {
   "cell_type": "markdown",
   "metadata": {},
   "source": [
    "numpy.random.randint returns a random integer in the provided range, here I have given it 1 to 100 to select from.  If you were trying to simulate the throw of a dice, you would use (1, 6)"
   ]
  },
  {
   "cell_type": "code",
   "execution_count": 162,
   "metadata": {},
   "outputs": [
    {
     "data": {
      "text/plain": [
       "69"
      ]
     },
     "execution_count": 162,
     "metadata": {},
     "output_type": "execute_result"
    }
   ],
   "source": [
    "x = np.random.randint(1,100)\n",
    "x"
   ]
  },
  {
   "cell_type": "markdown",
   "metadata": {},
   "source": [
    "numpy.random.random_integers is similar to random_integers"
   ]
  },
  {
   "cell_type": "code",
   "execution_count": 163,
   "metadata": {},
   "outputs": [
    {
     "name": "stderr",
     "output_type": "stream",
     "text": [
      "C:\\Users\\Rebecca\\Anaconda3\\lib\\site-packages\\ipykernel_launcher.py:1: DeprecationWarning: This function is deprecated. Please call randint(1, 2 + 1) instead\n",
      "  \"\"\"Entry point for launching an IPython kernel.\n"
     ]
    },
    {
     "data": {
      "text/plain": [
       "2"
      ]
     },
     "execution_count": 163,
     "metadata": {},
     "output_type": "execute_result"
    }
   ],
   "source": [
    "np.random.random_integers(2)"
   ]
  },
  {
   "cell_type": "markdown",
   "metadata": {},
   "source": [
    "Here I have asked for 3 columns and 2 rows of random numbers with 15 being the highest random number to choose from and starting from 1. "
   ]
  },
  {
   "cell_type": "code",
   "execution_count": 164,
   "metadata": {},
   "outputs": [
    {
     "name": "stderr",
     "output_type": "stream",
     "text": [
      "C:\\Users\\Rebecca\\Anaconda3\\lib\\site-packages\\ipykernel_launcher.py:1: DeprecationWarning: This function is deprecated. Please call randint(1, 15 + 1) instead\n",
      "  \"\"\"Entry point for launching an IPython kernel.\n"
     ]
    },
    {
     "data": {
      "text/plain": [
       "array([[ 7,  1],\n",
       "       [ 7,  1],\n",
       "       [13,  6]])"
      ]
     },
     "execution_count": 164,
     "metadata": {},
     "output_type": "execute_result"
    }
   ],
   "source": [
    "np.random.random_integers(15, size=(3,2))"
   ]
  },
  {
   "cell_type": "markdown",
   "metadata": {},
   "source": [
    "numpy.random.random_sample, numpy.random.random, numpy.random.ranf and numpy.random.sample are just different names for the same thing.\n",
    "\n",
    "random_sample([size]) Return random floats in the half-open interval [0.0, 1.0).\n",
    "random([size]) Return random floats in the half-open interval [0.0, 1.0).\n",
    "ranf([size]) Return random floats in the half-open interval [0.0, 1.0).\n",
    "sample([size]) Return random floats in the half-open interval [0.0, 1.0)."
   ]
  },
  {
   "cell_type": "code",
   "execution_count": 165,
   "metadata": {},
   "outputs": [
    {
     "data": {
      "text/plain": [
       "<function RandomState.random_sample>"
      ]
     },
     "execution_count": 165,
     "metadata": {},
     "output_type": "execute_result"
    }
   ],
   "source": [
    "np.random.random_sample"
   ]
  },
  {
   "cell_type": "code",
   "execution_count": 166,
   "metadata": {},
   "outputs": [
    {
     "data": {
      "text/plain": [
       "<function RandomState.random_sample>"
      ]
     },
     "execution_count": 166,
     "metadata": {},
     "output_type": "execute_result"
    }
   ],
   "source": [
    "np.random.random"
   ]
  },
  {
   "cell_type": "code",
   "execution_count": 167,
   "metadata": {},
   "outputs": [
    {
     "data": {
      "text/plain": [
       "<function RandomState.random_sample>"
      ]
     },
     "execution_count": 167,
     "metadata": {},
     "output_type": "execute_result"
    }
   ],
   "source": [
    "np.random.ranf"
   ]
  },
  {
   "cell_type": "code",
   "execution_count": 168,
   "metadata": {},
   "outputs": [
    {
     "data": {
      "text/plain": [
       "<function RandomState.random_sample>"
      ]
     },
     "execution_count": 168,
     "metadata": {},
     "output_type": "execute_result"
    }
   ],
   "source": [
    "np.random.sample"
   ]
  },
  {
   "cell_type": "code",
   "execution_count": 169,
   "metadata": {},
   "outputs": [
    {
     "data": {
      "text/plain": [
       "True"
      ]
     },
     "execution_count": 169,
     "metadata": {},
     "output_type": "execute_result"
    }
   ],
   "source": [
    "np.random.random_sample is np.random.random"
   ]
  },
  {
   "cell_type": "code",
   "execution_count": 170,
   "metadata": {},
   "outputs": [
    {
     "data": {
      "text/plain": [
       "True"
      ]
     },
     "execution_count": 170,
     "metadata": {},
     "output_type": "execute_result"
    }
   ],
   "source": [
    "np.random.random_sample is np.random.ranf"
   ]
  },
  {
   "cell_type": "code",
   "execution_count": 171,
   "metadata": {},
   "outputs": [
    {
     "data": {
      "text/plain": [
       "True"
      ]
     },
     "execution_count": 171,
     "metadata": {},
     "output_type": "execute_result"
    }
   ],
   "source": [
    "np.random.random_sample is np.random.sample"
   ]
  },
  {
   "cell_type": "code",
   "execution_count": null,
   "metadata": {},
   "outputs": [],
   "source": []
  },
  {
   "cell_type": "code",
   "execution_count": 172,
   "metadata": {},
   "outputs": [
    {
     "data": {
      "text/plain": [
       "0.7874384435958298"
      ]
     },
     "execution_count": 172,
     "metadata": {},
     "output_type": "execute_result"
    }
   ],
   "source": [
    "np.random.random_sample()"
   ]
  },
  {
   "cell_type": "markdown",
   "metadata": {},
   "source": [
    "The below script asks to select 4 columns with 2 rows of random numbers."
   ]
  },
  {
   "cell_type": "code",
   "execution_count": 173,
   "metadata": {},
   "outputs": [
    {
     "data": {
      "text/plain": [
       "array([[0.59574552, 0.0562696 ],\n",
       "       [0.51047365, 0.51353477],\n",
       "       [0.09621974, 0.61523007],\n",
       "       [0.5329441 , 0.9481135 ]])"
      ]
     },
     "execution_count": 173,
     "metadata": {},
     "output_type": "execute_result"
    }
   ],
   "source": [
    "np.random.random_sample((4,2))"
   ]
  },
  {
   "cell_type": "markdown",
   "metadata": {},
   "source": [
    "numpy.random.choice"
   ]
  },
  {
   "cell_type": "markdown",
   "metadata": {},
   "source": [
    "Here I ask to select 4 random numbers up to 7.  The numbers that could be selected begin at 0 and go up to and include 6."
   ]
  },
  {
   "cell_type": "code",
   "execution_count": 174,
   "metadata": {},
   "outputs": [
    {
     "data": {
      "text/plain": [
       "array([0, 1, 4, 4])"
      ]
     },
     "execution_count": 174,
     "metadata": {},
     "output_type": "execute_result"
    }
   ],
   "source": [
    "np.random.choice(7, 4)"
   ]
  },
  {
   "cell_type": "markdown",
   "metadata": {},
   "source": [
    "To see what else it is capable of, here I script code to resemble a roulette wheel and the different possible outcomes.  Also included are the weights of the three colours which are used.  The wheel is spun 12 times and the results are printed to the screen."
   ]
  },
  {
   "cell_type": "code",
   "execution_count": 175,
   "metadata": {},
   "outputs": [
    {
     "name": "stdout",
     "output_type": "stream",
     "text": [
      "['Black', 'Red', 'Red', 'Red', 'Black', 'Black', 'Red', 'Black', 'Red', 'Black', 'Red', 'Red']\n"
     ]
    }
   ],
   "source": [
    "import random\n",
    "colours = [\"Red\", \"Black\", \"Green\"]\n",
    "results = random.choices(colours, weights=[18, 18, 2], k=12)\n",
    "print (results)"
   ]
  },
  {
   "cell_type": "markdown",
   "metadata": {},
   "source": [
    "numpy.random.bytes returns random bytes"
   ]
  },
  {
   "cell_type": "code",
   "execution_count": 176,
   "metadata": {},
   "outputs": [
    {
     "data": {
      "text/plain": [
       "b'\\xeb:z\\xb7\\x1d'"
      ]
     },
     "execution_count": 176,
     "metadata": {},
     "output_type": "execute_result"
    }
   ],
   "source": [
    "np.random.bytes(5)"
   ]
  },
  {
   "cell_type": "markdown",
   "metadata": {},
   "source": [
    "And to take it a step further with bytes, an alternative way to generate a secure random sequence. Using the standard library secrets module for use in  passwords, account authentication, security tokens, and related secrets."
   ]
  },
  {
   "cell_type": "code",
   "execution_count": 177,
   "metadata": {},
   "outputs": [
    {
     "data": {
      "text/plain": [
       "b'\\x11\\xabl\\x10'"
      ]
     },
     "execution_count": 177,
     "metadata": {},
     "output_type": "execute_result"
    }
   ],
   "source": [
    "import secrets\n",
    "b\"\\x11\" + secrets.token_bytes(2) + b\"\\x10\""
   ]
  },
  {
   "cell_type": "markdown",
   "metadata": {},
   "source": [
    "Permutations"
   ]
  },
  {
   "cell_type": "code",
   "execution_count": 178,
   "metadata": {},
   "outputs": [
    {
     "data": {
      "text/plain": [
       "array([ 1,  0,  5,  0,  2, 16])"
      ]
     },
     "execution_count": 178,
     "metadata": {},
     "output_type": "execute_result"
    }
   ],
   "source": [
    " np.random.permutation([0, 1, 0, 2, 5, 16])\n"
   ]
  },
  {
   "cell_type": "code",
   "execution_count": 179,
   "metadata": {},
   "outputs": [
    {
     "data": {
      "text/plain": [
       "array([[ 0,  1],\n",
       "       [ 6,  7],\n",
       "       [ 8,  9],\n",
       "       [14, 15],\n",
       "       [ 2,  3],\n",
       "       [ 4,  5],\n",
       "       [10, 11],\n",
       "       [12, 13]])"
      ]
     },
     "execution_count": 179,
     "metadata": {},
     "output_type": "execute_result"
    }
   ],
   "source": [
    "arr = np.arange(16).reshape((8, 2))\n",
    "np.random.permutation(arr)"
   ]
  },
  {
   "cell_type": "markdown",
   "metadata": {},
   "source": [
    "\n",
    "takes a list as an input and return an object list of tuples that contain all permutation in a list form, it arranges the elements of an ordered list into a one on one mapping with itself.\n",
    "\n",
    "np.random.permutation has two differences from np.random.shuffle:\n",
    "\n",
    "if passed an array, it will return a shuffled copy of the array; np.random.shuffle shuffles the array inplace if passed an integer, it will return a shuffled range i.e. np.random.shuffle(np.arange(n))\n",
    "\n",
    "np.random.permutation is useful when you need to shuffle ordered pairs, eg. for classification:"
   ]
  },
  {
   "cell_type": "markdown",
   "metadata": {},
   "source": [
    "Create a table and take a look at it."
   ]
  },
  {
   "cell_type": "code",
   "execution_count": 180,
   "metadata": {},
   "outputs": [
    {
     "data": {
      "text/html": [
       "<div>\n",
       "<style scoped>\n",
       "    .dataframe tbody tr th:only-of-type {\n",
       "        vertical-align: middle;\n",
       "    }\n",
       "\n",
       "    .dataframe tbody tr th {\n",
       "        vertical-align: top;\n",
       "    }\n",
       "\n",
       "    .dataframe thead th {\n",
       "        text-align: right;\n",
       "    }\n",
       "</style>\n",
       "<table border=\"1\" class=\"dataframe\">\n",
       "  <thead>\n",
       "    <tr style=\"text-align: right;\">\n",
       "      <th></th>\n",
       "      <th>country</th>\n",
       "      <th>place</th>\n",
       "    </tr>\n",
       "  </thead>\n",
       "  <tbody>\n",
       "    <tr>\n",
       "      <th>A</th>\n",
       "      <td>England</td>\n",
       "      <td>8</td>\n",
       "    </tr>\n",
       "    <tr>\n",
       "      <th>B</th>\n",
       "      <td>Austraila</td>\n",
       "      <td>7</td>\n",
       "    </tr>\n",
       "    <tr>\n",
       "      <th>C</th>\n",
       "      <td>New Zeland</td>\n",
       "      <td>5</td>\n",
       "    </tr>\n",
       "    <tr>\n",
       "      <th>D</th>\n",
       "      <td>Wales</td>\n",
       "      <td>5</td>\n",
       "    </tr>\n",
       "    <tr>\n",
       "      <th>E</th>\n",
       "      <td>France</td>\n",
       "      <td>4</td>\n",
       "    </tr>\n",
       "    <tr>\n",
       "      <th>F</th>\n",
       "      <td>Japan</td>\n",
       "      <td>3</td>\n",
       "    </tr>\n",
       "    <tr>\n",
       "      <th>G</th>\n",
       "      <td>South Africa</td>\n",
       "      <td>2</td>\n",
       "    </tr>\n",
       "    <tr>\n",
       "      <th>H</th>\n",
       "      <td>Ireland</td>\n",
       "      <td>1</td>\n",
       "    </tr>\n",
       "  </tbody>\n",
       "</table>\n",
       "</div>"
      ],
      "text/plain": [
       "        country place\n",
       "A       England     8\n",
       "B     Austraila     7\n",
       "C    New Zeland     5\n",
       "D         Wales     5\n",
       "E        France     4\n",
       "F         Japan     3\n",
       "G  South Africa     2\n",
       "H       Ireland     1"
      ]
     },
     "execution_count": 180,
     "metadata": {},
     "output_type": "execute_result"
    }
   ],
   "source": [
    "import pandas as pd\n",
    "raw_data = {\n",
    "    \"country\": [\"England\", \"Austraila\", \"New Zeland\",  \"Wales\", \"France\", \"Japan\", \"South Africa\", \"Ireland\"],\n",
    "    \"place\": [\"8\", \"7\", \"5\", \"5\", \"4\", \"3\", \"2\", \"1\"]\n",
    "    }\n",
    "df = pd.DataFrame (raw_data,\n",
    "                  index = pd.Index([\"A\", \"B\", \"C\", \"D\", \"E\", \"F\", \"G\", \"H\"]))\n",
    "df"
   ]
  },
  {
   "cell_type": "code",
   "execution_count": 181,
   "metadata": {},
   "outputs": [
    {
     "data": {
      "text/html": [
       "<div>\n",
       "<style scoped>\n",
       "    .dataframe tbody tr th:only-of-type {\n",
       "        vertical-align: middle;\n",
       "    }\n",
       "\n",
       "    .dataframe tbody tr th {\n",
       "        vertical-align: top;\n",
       "    }\n",
       "\n",
       "    .dataframe thead th {\n",
       "        text-align: right;\n",
       "    }\n",
       "</style>\n",
       "<table border=\"1\" class=\"dataframe\">\n",
       "  <thead>\n",
       "    <tr style=\"text-align: right;\">\n",
       "      <th></th>\n",
       "      <th>country</th>\n",
       "      <th>place</th>\n",
       "    </tr>\n",
       "  </thead>\n",
       "  <tbody>\n",
       "    <tr>\n",
       "      <th>A</th>\n",
       "      <td>England</td>\n",
       "      <td>8</td>\n",
       "    </tr>\n",
       "    <tr>\n",
       "      <th>B</th>\n",
       "      <td>Austraila</td>\n",
       "      <td>7</td>\n",
       "    </tr>\n",
       "    <tr>\n",
       "      <th>C</th>\n",
       "      <td>New Zeland</td>\n",
       "      <td>5</td>\n",
       "    </tr>\n",
       "    <tr>\n",
       "      <th>D</th>\n",
       "      <td>Wales</td>\n",
       "      <td>5</td>\n",
       "    </tr>\n",
       "    <tr>\n",
       "      <th>E</th>\n",
       "      <td>France</td>\n",
       "      <td>4</td>\n",
       "    </tr>\n",
       "    <tr>\n",
       "      <th>F</th>\n",
       "      <td>Japan</td>\n",
       "      <td>3</td>\n",
       "    </tr>\n",
       "    <tr>\n",
       "      <th>G</th>\n",
       "      <td>South Africa</td>\n",
       "      <td>2</td>\n",
       "    </tr>\n",
       "    <tr>\n",
       "      <th>H</th>\n",
       "      <td>Ireland</td>\n",
       "      <td>1</td>\n",
       "    </tr>\n",
       "  </tbody>\n",
       "</table>\n",
       "</div>"
      ],
      "text/plain": [
       "        country place\n",
       "A       England     8\n",
       "B     Austraila     7\n",
       "C    New Zeland     5\n",
       "D         Wales     5\n",
       "E        France     4\n",
       "F         Japan     3\n",
       "G  South Africa     2\n",
       "H       Ireland     1"
      ]
     },
     "execution_count": 181,
     "metadata": {},
     "output_type": "execute_result"
    }
   ],
   "source": [
    "nrows = df.shape[0]\n",
    "df"
   ]
  },
  {
   "cell_type": "markdown",
   "metadata": {},
   "source": [
    "Randomise the sequence of the rows"
   ]
  },
  {
   "cell_type": "code",
   "execution_count": 182,
   "metadata": {},
   "outputs": [],
   "source": [
    "b = np.random.permutation(nrows)"
   ]
  },
  {
   "cell_type": "code",
   "execution_count": 183,
   "metadata": {},
   "outputs": [
    {
     "data": {
      "text/plain": [
       "array([0, 6, 3, 5, 4, 2, 7, 1])"
      ]
     },
     "execution_count": 183,
     "metadata": {},
     "output_type": "execute_result"
    }
   ],
   "source": [
    "b"
   ]
  },
  {
   "cell_type": "markdown",
   "metadata": {},
   "source": [
    "\n",
    "Print out the data frame based on the array created above with permutation. Take function takes the indeces and change the order of the rows according to the indeces that we pass it."
   ]
  },
  {
   "cell_type": "code",
   "execution_count": 184,
   "metadata": {},
   "outputs": [
    {
     "data": {
      "text/html": [
       "<div>\n",
       "<style scoped>\n",
       "    .dataframe tbody tr th:only-of-type {\n",
       "        vertical-align: middle;\n",
       "    }\n",
       "\n",
       "    .dataframe tbody tr th {\n",
       "        vertical-align: top;\n",
       "    }\n",
       "\n",
       "    .dataframe thead th {\n",
       "        text-align: right;\n",
       "    }\n",
       "</style>\n",
       "<table border=\"1\" class=\"dataframe\">\n",
       "  <thead>\n",
       "    <tr style=\"text-align: right;\">\n",
       "      <th></th>\n",
       "      <th>country</th>\n",
       "      <th>place</th>\n",
       "    </tr>\n",
       "  </thead>\n",
       "  <tbody>\n",
       "    <tr>\n",
       "      <th>A</th>\n",
       "      <td>England</td>\n",
       "      <td>8</td>\n",
       "    </tr>\n",
       "    <tr>\n",
       "      <th>G</th>\n",
       "      <td>South Africa</td>\n",
       "      <td>2</td>\n",
       "    </tr>\n",
       "    <tr>\n",
       "      <th>D</th>\n",
       "      <td>Wales</td>\n",
       "      <td>5</td>\n",
       "    </tr>\n",
       "    <tr>\n",
       "      <th>F</th>\n",
       "      <td>Japan</td>\n",
       "      <td>3</td>\n",
       "    </tr>\n",
       "    <tr>\n",
       "      <th>E</th>\n",
       "      <td>France</td>\n",
       "      <td>4</td>\n",
       "    </tr>\n",
       "    <tr>\n",
       "      <th>C</th>\n",
       "      <td>New Zeland</td>\n",
       "      <td>5</td>\n",
       "    </tr>\n",
       "    <tr>\n",
       "      <th>H</th>\n",
       "      <td>Ireland</td>\n",
       "      <td>1</td>\n",
       "    </tr>\n",
       "    <tr>\n",
       "      <th>B</th>\n",
       "      <td>Austraila</td>\n",
       "      <td>7</td>\n",
       "    </tr>\n",
       "  </tbody>\n",
       "</table>\n",
       "</div>"
      ],
      "text/plain": [
       "        country place\n",
       "A       England     8\n",
       "G  South Africa     2\n",
       "D         Wales     5\n",
       "F         Japan     3\n",
       "E        France     4\n",
       "C    New Zeland     5\n",
       "H       Ireland     1\n",
       "B     Austraila     7"
      ]
     },
     "execution_count": 184,
     "metadata": {},
     "output_type": "execute_result"
    }
   ],
   "source": [
    "df.take(b)"
   ]
  },
  {
   "cell_type": "markdown",
   "metadata": {},
   "source": [
    "Randomise the index and then print out the table based on that."
   ]
  },
  {
   "cell_type": "code",
   "execution_count": 185,
   "metadata": {},
   "outputs": [
    {
     "data": {
      "text/plain": [
       "Index(['A', 'B', 'C', 'D', 'E', 'F', 'G', 'H'], dtype='object')"
      ]
     },
     "execution_count": 185,
     "metadata": {},
     "output_type": "execute_result"
    }
   ],
   "source": [
    "df.index"
   ]
  },
  {
   "cell_type": "code",
   "execution_count": 186,
   "metadata": {},
   "outputs": [
    {
     "data": {
      "text/plain": [
       "array(['H', 'B', 'E', 'G', 'F', 'C', 'D', 'A'], dtype=object)"
      ]
     },
     "execution_count": 186,
     "metadata": {},
     "output_type": "execute_result"
    }
   ],
   "source": [
    "np.random.permutation(df.index)"
   ]
  },
  {
   "cell_type": "markdown",
   "metadata": {},
   "source": [
    "\n",
    "reindex function changes the order of the index. Its just another way of doing it."
   ]
  },
  {
   "cell_type": "code",
   "execution_count": 187,
   "metadata": {},
   "outputs": [
    {
     "data": {
      "text/html": [
       "<div>\n",
       "<style scoped>\n",
       "    .dataframe tbody tr th:only-of-type {\n",
       "        vertical-align: middle;\n",
       "    }\n",
       "\n",
       "    .dataframe tbody tr th {\n",
       "        vertical-align: top;\n",
       "    }\n",
       "\n",
       "    .dataframe thead th {\n",
       "        text-align: right;\n",
       "    }\n",
       "</style>\n",
       "<table border=\"1\" class=\"dataframe\">\n",
       "  <thead>\n",
       "    <tr style=\"text-align: right;\">\n",
       "      <th></th>\n",
       "      <th>country</th>\n",
       "      <th>place</th>\n",
       "    </tr>\n",
       "  </thead>\n",
       "  <tbody>\n",
       "    <tr>\n",
       "      <th>E</th>\n",
       "      <td>France</td>\n",
       "      <td>4</td>\n",
       "    </tr>\n",
       "    <tr>\n",
       "      <th>D</th>\n",
       "      <td>Wales</td>\n",
       "      <td>5</td>\n",
       "    </tr>\n",
       "    <tr>\n",
       "      <th>C</th>\n",
       "      <td>New Zeland</td>\n",
       "      <td>5</td>\n",
       "    </tr>\n",
       "    <tr>\n",
       "      <th>G</th>\n",
       "      <td>South Africa</td>\n",
       "      <td>2</td>\n",
       "    </tr>\n",
       "    <tr>\n",
       "      <th>F</th>\n",
       "      <td>Japan</td>\n",
       "      <td>3</td>\n",
       "    </tr>\n",
       "    <tr>\n",
       "      <th>A</th>\n",
       "      <td>England</td>\n",
       "      <td>8</td>\n",
       "    </tr>\n",
       "    <tr>\n",
       "      <th>B</th>\n",
       "      <td>Austraila</td>\n",
       "      <td>7</td>\n",
       "    </tr>\n",
       "    <tr>\n",
       "      <th>H</th>\n",
       "      <td>Ireland</td>\n",
       "      <td>1</td>\n",
       "    </tr>\n",
       "  </tbody>\n",
       "</table>\n",
       "</div>"
      ],
      "text/plain": [
       "        country place\n",
       "E        France     4\n",
       "D         Wales     5\n",
       "C    New Zeland     5\n",
       "G  South Africa     2\n",
       "F         Japan     3\n",
       "A       England     8\n",
       "B     Austraila     7\n",
       "H       Ireland     1"
      ]
     },
     "execution_count": 187,
     "metadata": {},
     "output_type": "execute_result"
    }
   ],
   "source": [
    "df.reindex(np.random.permutation(df.index))"
   ]
  },
  {
   "cell_type": "markdown",
   "metadata": {},
   "source": [
    "\n",
    "Sample method of randomisation. Give me a random sample using all the rows"
   ]
  },
  {
   "cell_type": "code",
   "execution_count": 188,
   "metadata": {},
   "outputs": [
    {
     "data": {
      "text/html": [
       "<div>\n",
       "<style scoped>\n",
       "    .dataframe tbody tr th:only-of-type {\n",
       "        vertical-align: middle;\n",
       "    }\n",
       "\n",
       "    .dataframe tbody tr th {\n",
       "        vertical-align: top;\n",
       "    }\n",
       "\n",
       "    .dataframe thead th {\n",
       "        text-align: right;\n",
       "    }\n",
       "</style>\n",
       "<table border=\"1\" class=\"dataframe\">\n",
       "  <thead>\n",
       "    <tr style=\"text-align: right;\">\n",
       "      <th></th>\n",
       "      <th>country</th>\n",
       "      <th>place</th>\n",
       "    </tr>\n",
       "  </thead>\n",
       "  <tbody>\n",
       "    <tr>\n",
       "      <th>B</th>\n",
       "      <td>Austraila</td>\n",
       "      <td>7</td>\n",
       "    </tr>\n",
       "    <tr>\n",
       "      <th>A</th>\n",
       "      <td>England</td>\n",
       "      <td>8</td>\n",
       "    </tr>\n",
       "    <tr>\n",
       "      <th>H</th>\n",
       "      <td>Ireland</td>\n",
       "      <td>1</td>\n",
       "    </tr>\n",
       "    <tr>\n",
       "      <th>F</th>\n",
       "      <td>Japan</td>\n",
       "      <td>3</td>\n",
       "    </tr>\n",
       "    <tr>\n",
       "      <th>C</th>\n",
       "      <td>New Zeland</td>\n",
       "      <td>5</td>\n",
       "    </tr>\n",
       "    <tr>\n",
       "      <th>E</th>\n",
       "      <td>France</td>\n",
       "      <td>4</td>\n",
       "    </tr>\n",
       "    <tr>\n",
       "      <th>D</th>\n",
       "      <td>Wales</td>\n",
       "      <td>5</td>\n",
       "    </tr>\n",
       "    <tr>\n",
       "      <th>G</th>\n",
       "      <td>South Africa</td>\n",
       "      <td>2</td>\n",
       "    </tr>\n",
       "  </tbody>\n",
       "</table>\n",
       "</div>"
      ],
      "text/plain": [
       "        country place\n",
       "B     Austraila     7\n",
       "A       England     8\n",
       "H       Ireland     1\n",
       "F         Japan     3\n",
       "C    New Zeland     5\n",
       "E        France     4\n",
       "D         Wales     5\n",
       "G  South Africa     2"
      ]
     },
     "execution_count": 188,
     "metadata": {},
     "output_type": "execute_result"
    }
   ],
   "source": [
    "df.sample(n=nrows)"
   ]
  },
  {
   "cell_type": "code",
   "execution_count": 189,
   "metadata": {},
   "outputs": [
    {
     "name": "stdout",
     "output_type": "stream",
     "text": [
      "Password is = ceerceb\n",
      "Password is = eccrabbecbbe\n"
     ]
    }
   ],
   "source": [
    "def randString(length=7):\n",
    "    #Select letters to be used in the string\n",
    "    letters='rebecca'\n",
    "    return ''.join((random.choice(letters) for i in range(length)))\n",
    "print('Password is =',  randString() )\n",
    "print ('Password is =', randString(12) )  "
   ]
  },
  {
   "cell_type": "code",
   "execution_count": 190,
   "metadata": {},
   "outputs": [
    {
     "name": "stdout",
     "output_type": "stream",
     "text": [
      "Generated password = ['A' 'E' 'E' 'B' 'R']\n"
     ]
    }
   ],
   "source": [
    "# An example of a way to create a password using the permutation function from predefined letters in a preselected lenght.\n",
    "\n",
    "Letters = np.array(['R', 'E', 'B', 'E', 'C', 'C', 'A',])\n",
    "Order = np.random.permutation(Letters)\n",
    "print('Generated password =', Order[2:12])"
   ]
  },
  {
   "cell_type": "markdown",
   "metadata": {},
   "source": [
    "A different tool is used here, an itertool. Iterators are data types that can be used in a for loop. The most common iterator in Python is the list. This doesn't relate really to the assignment but I went down a bit of a rabbit hole"
   ]
  },
  {
   "cell_type": "code",
   "execution_count": 191,
   "metadata": {},
   "outputs": [
    {
     "data": {
      "text/plain": [
       "[('Ireland', 'Win', 1),\n",
       " ('Ireland', 'Win', 2),\n",
       " ('Ireland', 'Win', 3),\n",
       " ('Ireland', 'Loose', 1),\n",
       " ('Ireland', 'Loose', 2),\n",
       " ('Ireland', 'Loose', 3),\n",
       " ('Ireland', 'Draw', 1),\n",
       " ('Ireland', 'Draw', 2),\n",
       " ('Ireland', 'Draw', 3),\n",
       " ('England', 'Win', 1),\n",
       " ('England', 'Win', 2),\n",
       " ('England', 'Win', 3),\n",
       " ('England', 'Loose', 1),\n",
       " ('England', 'Loose', 2),\n",
       " ('England', 'Loose', 3),\n",
       " ('England', 'Draw', 1),\n",
       " ('England', 'Draw', 2),\n",
       " ('England', 'Draw', 3),\n",
       " ('New Zeland', 'Win', 1),\n",
       " ('New Zeland', 'Win', 2),\n",
       " ('New Zeland', 'Win', 3),\n",
       " ('New Zeland', 'Loose', 1),\n",
       " ('New Zeland', 'Loose', 2),\n",
       " ('New Zeland', 'Loose', 3),\n",
       " ('New Zeland', 'Draw', 1),\n",
       " ('New Zeland', 'Draw', 2),\n",
       " ('New Zeland', 'Draw', 3)]"
      ]
     },
     "execution_count": 191,
     "metadata": {},
     "output_type": "execute_result"
    }
   ],
   "source": [
    "import itertools\n",
    "a = [[\"Ireland\", \"England\", \"New Zeland\"], [\"Win\", \"Loose\", \"Draw\"], [1, 2, 3]]\n",
    "list(itertools.product(*a))"
   ]
  },
  {
   "cell_type": "code",
   "execution_count": 192,
   "metadata": {},
   "outputs": [
    {
     "data": {
      "text/plain": [
       "array([['Ireland', 'England', 'New Zeland'],\n",
       "       ['1', '2', '3'],\n",
       "       ['Win', 'Loose', 'Draw']], dtype='<U10')"
      ]
     },
     "execution_count": 192,
     "metadata": {},
     "output_type": "execute_result"
    }
   ],
   "source": [
    "import numpy as np\n",
    "np.random.permutation ([(\"Ireland\", \"England\", \"New Zeland\"), (\"Win\", \"Loose\", \"Draw\"), (1, 2, 3)])"
   ]
  },
  {
   "cell_type": "code",
   "execution_count": 193,
   "metadata": {},
   "outputs": [
    {
     "data": {
      "image/png": "[encoded data removed]",
      "text/plain": [
       "<Figure size 432x288 with 1 Axes>"
      ]
     },
     "metadata": {
      "needs_background": "light"
     },
     "output_type": "display_data"
    }
   ],
   "source": [
    "import numpy as np\n",
    "loc, scale = 10, 1\n",
    "s = np.random.logistic(loc, scale, 10000)\n",
    "count, bins, ignored = plt.hist(s, bins=50)"
   ]
  },
  {
   "cell_type": "markdown",
   "metadata": {},
   "source": [
    "\n",
    "Numpy.random.normal Enables the creation of an array in which the data looks to be distributed normally aka the bell curve or Gaussian distribution.\n",
    "A list of random samples are selected from a normal distribution. Different results will be drawn each time the function is executed (this is due to the random part) but will generally be the same shape. The peak is always in the middle and the curve is always symmetrical.\n",
    "A larger size will give a better, more accurate result. Bell curve provide a quick way to visualize the mean, mode and median.\n",
    "If the distribution is normal the mean, median and mode are the same.\n",
    "\n",
    "There are 3 key arguments which influence it. Loc, scale and size. The syntax will look like: np.random.normal (loc=, scale=, size=) np.random.normal is the function name, this is how we call it. Loc=, sets the mean of the data, which defaults to 0 if no other value is chosen. This is the very top of the curve. In a normal distribution, fifty percent of the distribution lies to the right of the mean and fifty percent to the left.\n",
    "\n",
    "Scale=, standard deviation of normal distribution, set to 1 as default. Shows how much variation from the average.\n",
    "If the data points were very close to the mean it shows a low standard deviation and if the data points were spread out it has a high standard deviation.\n",
    "\n",
    "bell%20curve%201.png\n",
    "\n",
    "The size controls the size and shape of the array. This array can be modelled on a 1 dimensional or multi dimensional depending on the integers provided.\n",
    "\n",
    "bell%20curve.png"
   ]
  },
  {
   "cell_type": "code",
   "execution_count": 194,
   "metadata": {},
   "outputs": [
    {
     "data": {
      "text/plain": [
       "array([0.15056005])"
      ]
     },
     "execution_count": 194,
     "metadata": {},
     "output_type": "execute_result"
    }
   ],
   "source": [
    "#Generate a single number from normal distribution. \n",
    "\n",
    "np.random.normal(size = 1, loc = 0, scale = 1)"
   ]
  },
  {
   "cell_type": "code",
   "execution_count": 195,
   "metadata": {},
   "outputs": [
    {
     "data": {
      "text/plain": [
       "array([-1.32123187, -0.62702386, -0.32303006,  1.1973977 ,  0.12706206])"
      ]
     },
     "execution_count": 195,
     "metadata": {},
     "output_type": "execute_result"
    }
   ],
   "source": [
    "np.random.normal(size = 5, loc = 0, scale = 1)"
   ]
  },
  {
   "cell_type": "code",
   "execution_count": 196,
   "metadata": {},
   "outputs": [
    {
     "name": "stdout",
     "output_type": "stream",
     "text": [
      "[50.49671415 49.8617357  50.64768854 51.52302986 49.76584663 49.76586304\n",
      " 51.57921282 50.76743473 49.53052561 50.54256004 49.53658231 49.53427025\n",
      " 50.24196227 48.08671976 48.27508217 49.43771247 48.98716888 50.31424733\n",
      " 49.09197592 48.5876963  51.46564877 49.7742237  50.0675282  48.57525181\n",
      " 49.45561728 50.11092259 48.84900642 50.37569802 49.39936131 49.70830625\n",
      " 49.39829339 51.85227818 49.98650278 48.94228907 50.82254491 48.77915635\n",
      " 50.2088636  48.04032988 48.67181395 50.19686124 50.73846658 50.17136828\n",
      " 49.88435172 49.6988963  48.52147801 49.28015579 49.53936123 51.05712223\n",
      " 50.34361829 48.23695984 50.32408397 49.61491772 49.323078   50.61167629\n",
      " 51.03099952 50.93128012 49.16078248 49.69078762 50.33126343 50.97554513\n",
      " 49.52082576 49.81434102 48.89366503 48.80379338 50.81252582 51.35624003\n",
      " 49.92798988 51.0035329  50.36163603 49.35488025 50.36139561 51.53803657\n",
      " 49.96417396 51.56464366 47.3802549  50.8219025  50.08704707 49.70099265\n",
      " 50.09176078 48.01243109 49.78032811 50.35711257 51.47789404 49.48172978\n",
      " 49.1915064  49.49824296 50.91540212 50.32875111 49.4702398  50.51326743\n",
      " 50.09707755 50.96864499 49.29794691 49.67233785 49.60789185 48.53648505\n",
      " 50.29612028 50.26105527 50.00511346 49.76541287 48.58462926 49.57935468\n",
      " 49.65728548 49.19772273 49.83871429 50.40405086 51.8861859  50.17457781\n",
      " 50.25755039 49.92555408 48.08122878 49.97348612 50.06023021 52.46324211\n",
      " 49.80763904 50.30154734 49.96528823 48.83132196 51.14282281 50.75193303\n",
      " 50.79103195 49.09061255 51.40279431 48.59814894 50.58685709 52.19045563\n",
      " 49.00946367 49.43370227 50.09965137 49.49652435 48.44933657 50.06856297\n",
      " 48.93769629 50.47359243 49.08057577 51.54993441 49.21674671 49.67793848\n",
      " 50.81351722 48.76913568 50.22745993 51.30714275 48.39251677 50.18463386\n",
      " 50.25988279 50.78182287 48.76304929 48.67954339 50.52194157 50.29698467\n",
      " 50.25049285 50.34644821 49.31997528 50.2322537  50.29307247 49.28564858\n",
      " 51.86577451 50.47383292 48.8086965  50.65655361 49.02531833 50.7870846\n",
      " 51.15859558 49.17931768 50.96337613 50.41278093 50.82206016 51.89679298\n",
      " 49.75461188 49.24626384 49.11048557 49.18418972 49.92289829 50.34115197\n",
      " 50.2766908  50.82718325 50.01300189 51.45353408 49.73534317 52.72016917\n",
      " 50.62566735 49.14284244 48.9291075  50.48247242 49.77653721 50.71400049\n",
      " 50.47323762 49.92717109 49.15320628 48.48515278 49.55348505 50.85639879\n",
      " 50.21409374 48.75426122 50.17318093 50.38531738 49.11614256 50.15372511\n",
      " 50.05820872 48.8570297  50.35778736 50.56078453 51.08305124 51.05380205\n",
      " 48.62233063 49.06217496 50.51503527 50.51378595 50.51504769 53.85273149\n",
      " 50.57089051 51.13556564 50.95400176 50.65139125 49.68473076 50.75896922\n",
      " 49.22717479 49.76318139 49.51463645 50.08187414 52.31465857 48.13273481\n",
      " 50.68626019 48.38728413 49.52806813 51.0889506  50.06428002 48.92225522\n",
      " 49.28469629 50.67959775 49.26963337 50.21645859 50.04557184 49.34839965\n",
      " 52.14394409 50.63391902 47.97485741 50.18645431 49.33821354 50.85243333\n",
      " 49.20747926 49.88526356 50.50498728 50.86575519 48.79970359 49.66549876\n",
      " 49.52505469 49.34667077 51.76545424 50.40498171 48.73911605 50.91786195\n",
      " 52.1221562  51.03246526 48.48063003 49.51576593 51.26691115 49.29233053\n",
      " 50.44381943 50.77463405 49.07306953 49.94047464 46.75873266 48.97561236\n",
      " 49.74743185 48.75221682 51.6324113  48.56985862 49.55995551 50.13074058\n",
      " 51.44127329 48.56413785 51.16316375 50.01023306 49.01849135 50.46210347\n",
      " 50.1990597  49.39978312 50.06980208 49.6146864  50.11351735 50.66213067\n",
      " 51.58601682 48.7621845  52.13303337 48.0479122  49.8482149  50.58831721\n",
      " 50.28099187 49.37730048 49.79187775 49.50699907 49.41063524 50.8496021\n",
      " 50.35701549 49.3070904  50.89959988 50.30729952 50.81286212 50.62962884\n",
      " 49.17100499 49.43981896 50.74729361 50.61037027 49.97909841 50.11732738\n",
      " 51.2776649  49.40842861 50.54709738 49.79780735 49.7823188  51.09877685\n",
      " 50.82541635 50.81350964 51.30547881 50.02100384 50.68195297 49.68973324\n",
      " 50.32416635 49.86985695 50.09699596 50.59515703 49.18177932 52.09238728\n",
      " 48.99398262 48.78581139 51.15811087 50.79166269 50.62411982 50.62834551\n",
      " 49.98775323 49.10274563 50.07580456 49.32283829 50.97511973 49.85294262\n",
      " 49.1745028  49.67861416 50.41293145 49.43627545 49.1777796  50.24368721\n",
      " 50.24496657 49.49305682 49.52896169 50.23204994 48.55191566 48.59253623\n",
      " 49.28155578 49.78655285 50.31090757 51.47535622 50.85765962 49.84006147\n",
      " 49.98098379 48.99747064 49.98148686 49.71134136 50.32271856 49.17276906\n",
      " 50.51934651 51.53273891 49.89123985 50.40171172 50.69014399 49.59877953\n",
      " 50.22409248 50.0125924  50.0976761  49.22699022 50.02451017 50.49799829\n",
      " 51.45114361 50.95927083 52.15318246 49.23265244 50.87232064 50.18334201\n",
      " 52.18980293 49.19170171 49.16027816 49.40060735 47.87610428 49.47424498\n",
      " 49.24086734 50.15039379 50.34175598 51.87617084 50.95042384 49.42309634\n",
      " 49.10158533 50.49191917 48.67976679 51.83145877 51.17944012 49.53082435\n",
      " 48.28686547 51.35387237 49.88546015 51.23781631 48.40557234 49.40062498\n",
      " 50.0052437  50.04698059 49.54993453 50.62284993 48.93237957 49.85762051\n",
      " 50.12029563 50.51443883 50.71161488 48.87535791 48.46588583 51.27767682\n",
      " 50.33231401 49.25151346 51.55115198 50.11567463 51.17929718 50.06751848\n",
      " 52.06074792 51.75534084 49.75103585 50.97157095 50.64537595 51.36863156\n",
      " 49.03507654 50.68605146 51.05842449 48.24126051 48.81674149 47.96076782\n",
      " 49.73059317 50.71754226 51.50235705 50.07409478 51.62861555 48.61989854\n",
      " 48.29661756 49.9444523  50.38406545 49.96730525 47.9325579  49.91087996\n",
      " 48.6955305  50.66967255 50.36659825 49.06012021 49.48613308 48.94078648\n",
      " 49.9373209  50.95514232 49.01427395 50.50404652 49.46974238 49.20712717\n",
      " 49.89296964 48.96475768 49.44635069 48.80212211 51.96472513 50.03526355\n",
      " 49.30027449 50.21397991 49.88767195 49.7790304  50.6141667  50.75750771\n",
      " 49.46949885 49.42418176 49.7249483  47.69807884 48.48480894 51.36687427\n",
      " 51.64496771 49.75096396 50.57655696 50.31125015 53.07888081 51.11957491\n",
      " 49.87208241 49.04445956 48.39355368 50.20346364 49.24364925 48.57774629\n",
      " 49.35342712 48.918452   51.68714164 50.88163976 49.99202736 51.47994414\n",
      " 50.07736831 49.1387158  51.52312408 50.53891004 48.96275385 49.80966132\n",
      " 49.12438175 48.61720027 50.92617755 51.90941664 48.60143243 50.56296924\n",
      " 49.34935743 49.51287462 49.40760608 49.13600923 50.04852163 49.16904988\n",
      " 50.27045683 49.94976189 49.76105195 49.09243634 49.42322867 50.75539123\n",
      " 50.50091719 49.02244476 50.09933231 50.75138712 48.33059472 50.54336019\n",
      " 49.33737624 50.57059867 49.23674084 48.1951179  48.37245756 50.04808495\n",
      " 50.2597225  49.09568337 50.63859246 48.33847994 49.9339202  48.7889838\n",
      " 49.34816389 50.04739867 49.13958663 49.61544446 51.00629281 49.42310813\n",
      " 50.83569211 48.87029315 50.52980418 51.44156862 47.5283555  49.20310474\n",
      " 50.57707213 49.79695461 50.37114587 49.39601481 50.08658979 49.84432276\n",
      " 51.16778206 50.25442084 50.33760266 49.58812303 49.51239378 49.56744181\n",
      " 50.39445214 49.57901552 50.28977486 52.0754008  50.8711247  49.67397647\n",
      " 51.20121392 49.59192463 47.96187546 48.99191369 48.12920808 49.64848652\n",
      " 50.01841838 51.67643731 50.32692737 49.78089947 50.82940558 47.78886469\n",
      " 50.23561456 50.77086519 48.52141375 51.14375404 50.33849641 49.58471209\n",
      " 50.63278187 52.27069286 50.18186626 50.24822059 49.5406391  49.15015563\n",
      " 50.83033582 49.14391617 50.07156624 49.52234255 50.47897983 50.33366211\n",
      " 51.03753994 49.4899836  49.73012506 49.02123628 49.55570674 50.37730049\n",
      " 50.75698862 49.07783468 50.86960592 51.35563786 50.4134349  51.87679581\n",
      " 49.2262108  48.7553453  48.22127975 51.49604431 50.65436566 49.94441533\n",
      " 50.27996863 48.87451095 52.44575198 50.12922118 50.10939479 50.72576662\n",
      " 50.48100923 50.22388402 49.20952554 50.47146836 51.8820245  51.34542005\n",
      " 51.59318663 49.48878432 49.01039518 49.87421308 50.05572491 51.09419152\n",
      " 48.30753537 51.52955032 49.8419921  49.57311893 48.98789562 48.34514333\n",
      " 50.82317058 50.07331797 48.7100391  48.70492123 49.6642153  51.66902153\n",
      " 49.74040865 48.49685705 49.75425694 49.72727643 47.30311336 49.94570513\n",
      " 49.76906547 50.69620636 51.84895609 51.12656503 49.73111131 48.89347409\n",
      " 52.5733598  50.05921843 50.01392929 49.97587491 50.19808476 49.85563959\n",
      " 49.42633799 49.45314106 49.96724673 49.45657523 49.28715422 50.10643023\n",
      " 49.74502278 51.50399299 47.34903019 51.09150685 51.24608519 47.92660977\n",
      " 49.65731241 49.62855913 48.59248831 49.22218331 48.88942415 51.75227044\n",
      " 50.93567839 51.27155509 50.72167206 48.87094823 49.47547973 50.48937456\n",
      " 48.77787219 50.71299843 49.7596746  49.62517919 50.71095997 50.44426331\n",
      " 49.63903383 51.1593298  48.91893667 50.61593561 50.59310126 49.69045356\n",
      " 50.32613302 48.74888642 50.92402702 49.81509786 49.47727698 51.04900923\n",
      " 49.29565631 48.5915387  48.44337083 50.60600995 48.71957065 51.75479418\n",
      " 47.91807059 51.69645637 50.21101747 49.90328689 49.45508091 50.39913611\n",
      " 49.9623653  51.10330188 50.11422765 50.15030176 49.63638779 49.94305438\n",
      " 50.30780177 48.28983161 48.65181458 50.74326409 50.17086544 49.81601666\n",
      " 50.01843393 50.34758171 49.46024032 49.22169527 50.19584526 49.02162722\n",
      " 50.40825276 48.2974164  51.02915564 50.47259748 50.25602973 50.98269098\n",
      " 51.66547444 51.01437007 48.15912577 48.72042303 49.37518142 50.02609105\n",
      " 50.51765902 49.27425619 50.18676676 49.24461707 49.3884822  48.5933389\n",
      " 49.07676675 48.64831539 49.02412675 51.0536418  49.05060111 52.63238206\n",
      " 50.4933179  50.18483612 49.14164222 50.70030988 49.42436217 50.12200981\n",
      " 52.56008454 49.9039401  51.14927333 49.29682357 49.96501151 51.77080064\n",
      " 49.37303294 51.81244856 50.70775194 49.43753322 50.63240774 50.97255445\n",
      " 50.62180996 48.42977528 49.27286282 49.75248136 49.92556657 50.6206721\n",
      " 50.177701   48.66465564 50.38019785 50.61058575 50.55979045 51.08078073\n",
      " 50.83392215 50.45918008 49.92983429 48.33903907 50.42961822 50.20768769\n",
      " 50.27157884 48.72325142 48.91894346 51.05315285 49.96044485 50.6815007\n",
      " 50.02831838 50.02975614 50.93828381 49.48395527 50.09612078 49.53772471\n",
      " 49.56550377 49.69082788 50.22213377 49.52125138 51.25575613 49.1053927\n",
      " 49.81312836 49.56026894 51.44697788 50.19655478 51.03184454 48.51443963\n",
      " 50.26705027 50.8896308  50.08228399 51.06548038 49.48271155 51.40934744\n",
      " 52.29889812 49.63716144 49.55449748 51.45338448 51.57957215 49.47713997\n",
      " 49.57981318 49.71821539 48.65554949 49.08134805 48.99585923 49.23220243\n",
      " 49.96531511 50.23421473 51.55050049 49.00164596 50.9843224  49.78601116\n",
      " 49.95053629 50.67481949 48.87727798 50.38240975 50.16645221 50.49245126\n",
      " 50.28916864 52.45530014 49.36226002 49.46900304 49.37685947 49.44452288\n",
      " 49.36261287 51.18901653 51.42050425 49.42925371 49.16764443 50.47141556\n",
      " 49.44777696 50.63293182 50.20292302 48.48425589 51.5475052  51.79587767\n",
      " 49.38721131 49.61229844 50.28586539 50.33445679 50.65854427 52.01020454\n",
      " 49.82305277 49.20170276 48.62068077 49.26906996 49.96687303 51.79455786\n",
      " 49.4823887  50.22378795 49.9835771  51.18839327 52.52693243 49.46913123\n",
      " 49.51056056 51.04416088 50.68189149 51.84670733 50.58392819 49.64070791\n",
      " 50.59065483 51.10870358 50.82048218 50.50727403 51.06667469 51.16929559\n",
      " 51.38215899 50.64870989 49.83288192 50.14671369 51.20650897 49.18306433\n",
      " 50.36867331 49.60666119 50.02874482 51.27845186 50.19109907 50.04643655\n",
      " 48.64014386 50.74625357 50.64548418 52.16325472 49.69222177 50.21915033\n",
      " 50.24938368 51.57745328 49.90470447 50.27902153 50.60789651 50.18660912\n",
      " 49.55356639 50.19408999 51.07363175 48.9734847  50.13296967 49.29987919\n",
      " 51.19504663 48.4768131  49.44107815 50.37721188 51.56552403 49.93424974\n",
      " 49.44480047 51.88115707 48.5519861  47.80119404 50.44001445 49.49794578\n",
      " 48.97876718 50.70835645 50.24380071 49.43592137 48.7196956  50.87245733\n",
      " 50.65020118 49.90082414 51.846637   48.92991523 48.47447483 49.30809193\n",
      " 49.95441398 50.24333945 49.75876394 50.3520554  48.74846058 51.4437646\n",
      " 49.91784882 51.11729583 50.34272535 50.45675322 50.56976728 50.44770856\n",
      " 50.64272276 51.32915253 50.19652117 50.70900376 49.91026431 51.44011722\n",
      " 49.3236077  51.80094043 49.95984205 48.5692249  50.12810441 49.31894834\n",
      " 50.84064355 49.34737602 49.55381657 48.11045927 49.54769368 47.57612067\n",
      " 48.41609718 50.76041466 50.78580016 50.42545756 49.03302386 49.95228864\n",
      " 49.99639746 48.84163531 51.5033983  50.87736229 49.77903583 50.02688584\n",
      " 50.20838281 47.95826513 49.75282262 49.31801575 48.99837999 49.71889971\n",
      " 51.79768653 50.64084286 49.42882101 50.57258278]\n"
     ]
    }
   ],
   "source": [
    "# We ask for 1000 numbers with a mean of 50.  The bigger the size gives a more accurate result.\n",
    "np.random.seed(42)\n",
    "df=np.random.normal(size = 1000, loc = 50)\n",
    "print (df)"
   ]
  },
  {
   "cell_type": "code",
   "execution_count": 197,
   "metadata": {},
   "outputs": [
    {
     "data": {
      "text/plain": [
       "50.01933205582232"
      ]
     },
     "execution_count": 197,
     "metadata": {},
     "output_type": "execute_result"
    }
   ],
   "source": [
    " # We can see the mean is 50\n",
    "df.mean()"
   ]
  },
  {
   "cell_type": "code",
   "execution_count": 198,
   "metadata": {},
   "outputs": [
    {
     "data": {
      "text/plain": [
       "97.87262077473541"
      ]
     },
     "execution_count": 198,
     "metadata": {},
     "output_type": "execute_result"
    }
   ],
   "source": [
    "np.random.seed(42)\n",
    "np.random.normal(size = 1000, scale = 100).std()"
   ]
  },
  {
   "cell_type": "code",
   "execution_count": 199,
   "metadata": {},
   "outputs": [
    {
     "data": {
      "text/plain": [
       "array([ 9.96714153e+01,  3.61735699e+01,  1.14768854e+02,  2.02302986e+02,\n",
       "        2.65846625e+01,  2.65863043e+01,  2.07921282e+02,  1.26743473e+02,\n",
       "        3.05256141e+00,  1.04256004e+02,  3.65823072e+00,  3.42702464e+00,\n",
       "        7.41962272e+01, -1.41328024e+02, -1.22491783e+02, -6.22875292e+00,\n",
       "       -5.12831120e+01,  8.14247333e+01, -4.08024076e+01, -9.12303701e+01,\n",
       "        1.96564877e+02,  2.74223700e+01,  5.67528205e+01, -9.24748186e+01,\n",
       "       -4.43827245e+00,  6.10922590e+01, -6.50993577e+01,  8.75698018e+01,\n",
       "       -1.00638690e+01,  2.08306250e+01, -1.01706612e+01,  2.35227818e+02,\n",
       "        4.86502775e+01, -5.57710929e+01,  1.32254491e+02, -7.20843650e+01,\n",
       "        7.08863595e+01, -1.45967012e+02, -8.28186049e+01,  6.96861236e+01,\n",
       "        1.23846658e+02,  6.71368281e+01,  3.84351718e+01,  1.98896304e+01,\n",
       "       -9.78521990e+01, -2.19844208e+01,  3.93612290e+00,  1.55712223e+02,\n",
       "        8.43618290e+01, -1.26304016e+02,  8.24083969e+01,  1.14917720e+01,\n",
       "       -1.76922000e+01,  1.11167629e+02,  1.53099952e+02,  1.43128012e+02,\n",
       "       -3.39217523e+01,  1.90787624e+01,  8.31263431e+01,  1.47554513e+02,\n",
       "        2.08257622e+00,  3.14341023e+01, -6.06334974e+01, -6.96206624e+01,\n",
       "        1.31252582e+02,  1.85624003e+02,  4.27989878e+01,  1.50353290e+02,\n",
       "        8.61636025e+01, -1.45119755e+01,  8.61395606e+01,  2.03803657e+02,\n",
       "        4.64173961e+01,  2.06464366e+02, -2.11974510e+02,  1.32190250e+02,\n",
       "        5.87047068e+01,  2.00992650e+01,  5.91760777e+01, -1.48756891e+02,\n",
       "        2.80328112e+01,  8.57112572e+01,  1.97789404e+02, -1.82702183e+00,\n",
       "       -3.08493603e+01, -1.75704358e-01,  1.41540212e+02,  8.28751110e+01,\n",
       "       -2.97602038e+00,  1.01326743e+02,  5.97077549e+01,  1.46864499e+02,\n",
       "       -2.02053094e+01,  1.72337853e+01,  1.07891847e+01, -9.63514948e+01,\n",
       "        7.96120277e+01,  7.61055272e+01,  5.05113457e+01,  2.65412867e+01,\n",
       "       -9.15370742e+01,  7.93546772e+00,  1.57285483e+01, -3.02277269e+01,\n",
       "        3.38714288e+01,  9.04050857e+01,  2.38618590e+02,  6.74577813e+01,\n",
       "        7.57550391e+01,  4.25554084e+01, -1.41877122e+02,  4.73486125e+01,\n",
       "        5.60230210e+01,  2.96324211e+02,  3.07639035e+01,  8.01547342e+01,\n",
       "        4.65288230e+01, -6.68678038e+01,  1.64282281e+02,  1.25193303e+02,\n",
       "        1.29103195e+02, -4.09387455e+01,  1.90279431e+02, -9.01851063e+01,\n",
       "        1.08685709e+02,  2.69045563e+02, -4.90536325e+01, -6.62977296e+00,\n",
       "        5.99651365e+01, -3.47565412e-01, -1.05066343e+02,  5.68562975e+01,\n",
       "       -5.62303714e+01,  9.73592431e+01, -4.19424234e+01,  2.04993441e+02,\n",
       "       -2.83253292e+01,  1.77938484e+01,  1.31351722e+02, -7.30864316e+01,\n",
       "        7.27459935e+01,  1.80714275e+02, -1.10748323e+02,  6.84633859e+01,\n",
       "        7.59882794e+01,  1.28182287e+02, -7.36950711e+01, -8.20456613e+01,\n",
       "        1.02194157e+02,  7.96984673e+01,  7.50492850e+01,  8.46448209e+01,\n",
       "       -1.80024722e+01,  7.32253697e+01,  7.93072473e+01, -2.14351418e+01,\n",
       "        2.36577451e+02,  9.73832921e+01, -6.91303497e+01,  1.15655361e+02,\n",
       "       -4.74681670e+01,  1.28708460e+02,  1.65859558e+02, -3.20682318e+01,\n",
       "        1.46337613e+02,  9.12780927e+01,  1.32206016e+02,  2.39679298e+02,\n",
       "        2.54611884e+01, -2.53736164e+01, -3.89514430e+01, -3.15810285e+01,\n",
       "        4.22898291e+01,  8.41151975e+01,  7.76690799e+01,  1.32718325e+02,\n",
       "        5.13001892e+01,  1.95353408e+02,  2.35343167e+01,  3.22016917e+02,\n",
       "        1.12566735e+02, -3.57157556e+01, -5.70892498e+01,  9.82472415e+01,\n",
       "        2.76537215e+01,  1.21400049e+02,  9.73237625e+01,  4.27171087e+01,\n",
       "       -3.46793718e+01, -1.01484722e+02,  5.34850479e+00,  1.35639879e+02,\n",
       "        7.14093744e+01, -7.45738779e+01,  6.73180926e+01,  8.85317380e+01,\n",
       "       -3.83857436e+01,  6.53725106e+01,  5.58208718e+01, -6.42970298e+01,\n",
       "        8.57787360e+01,  1.06078453e+02,  1.58305124e+02,  1.55380205e+02,\n",
       "       -8.77669368e+01, -4.37825040e+01,  1.01503527e+02,  1.01378595e+02,\n",
       "        1.01504769e+02,  4.35273149e+02,  1.07089051e+02,  1.63556564e+02,\n",
       "        1.45400176e+02,  1.15139125e+02,  1.84730755e+01,  1.25896922e+02,\n",
       "       -2.72825215e+01,  2.63181393e+01,  1.46364522e+00,  5.81874139e+01,\n",
       "        2.81465857e+02, -1.36726519e+02,  1.18626019e+02, -1.11271587e+02,\n",
       "        2.80681342e+00,  1.58895060e+02,  5.64280019e+01, -5.77744778e+01,\n",
       "       -2.15303709e+01,  1.17959775e+02, -2.30366632e+01,  7.16458590e+01,\n",
       "        5.45571840e+01, -1.51600348e+01,  2.64394409e+02,  1.13391902e+02,\n",
       "       -1.52514259e+02,  6.86454315e+01, -1.61786465e+01,  1.35243333e+02,\n",
       "       -2.92520738e+01,  3.85263559e+01,  1.00498728e+02,  1.36575519e+02,\n",
       "       -7.00296407e+01,  1.65498764e+01,  2.50546888e+00, -1.53329233e+01,\n",
       "        2.26545424e+02,  9.04981711e+01, -7.60883954e+01,  1.41786195e+02,\n",
       "        2.62215620e+02,  1.53246526e+02, -1.01936997e+02,  1.57659271e+00,\n",
       "        1.76691115e+02, -2.07669466e+01,  9.43819428e+01,  1.27463405e+02,\n",
       "       -4.26930472e+01,  4.40474644e+01, -2.74126734e+02, -5.24387641e+01,\n",
       "        2.47431849e+01, -7.47783182e+01,  2.13241130e+02, -9.30141378e+01,\n",
       "        5.99555133e+00,  6.30740577e+01,  1.94127329e+02, -9.35862151e+01,\n",
       "        1.66316375e+02,  5.10233061e+01, -4.81508651e+01,  9.62103474e+01,\n",
       "        6.99059696e+01, -1.00216877e+01,  5.69802085e+01,  1.14686403e+01,\n",
       "        6.13517345e+01,  1.16213067e+02,  2.08601682e+02, -7.37815499e+01,\n",
       "        2.63303337e+02, -1.45208780e+02,  3.48214905e+01,  1.08831721e+02,\n",
       "        7.80991868e+01, -1.22699520e+01,  2.91877750e+01,  6.99906534e-01,\n",
       "       -8.93647569e+00,  1.34960210e+02,  8.57015486e+01, -1.92909595e+01,\n",
       "        1.39959988e+02,  8.07299521e+01,  1.31286212e+02,  1.12962884e+02,\n",
       "       -3.28995011e+01, -6.01810402e+00,  1.24729361e+02,  1.11037027e+02,\n",
       "        4.79098406e+01,  6.17327383e+01,  1.77766490e+02, -9.15713888e+00,\n",
       "        1.04709738e+02,  2.97807348e+01,  2.82318797e+01,  1.59877685e+02,\n",
       "        1.32541635e+02,  1.31350964e+02,  1.80547881e+02,  5.21003842e+01,\n",
       "        1.18195297e+02,  1.89733243e+01,  8.24166352e+01,  3.69856946e+01,\n",
       "        5.96995965e+01,  1.09515703e+02, -3.18220683e+01,  2.59238728e+02,\n",
       "       -5.06017381e+01, -7.14188613e+01,  1.65811087e+02,  1.29166269e+02,\n",
       "        1.12411982e+02,  1.12834551e+02,  4.87753227e+01, -3.97254371e+01,\n",
       "        5.75804558e+01, -1.77161712e+01,  1.47511973e+02,  3.52942618e+01,\n",
       "       -3.25497197e+01,  1.78614158e+01,  9.12931454e+01, -6.37245528e+00,\n",
       "       -3.22220396e+01,  7.43687211e+01,  7.44966571e+01, -6.94317537e-01,\n",
       "        2.89616944e+00,  7.32049937e+01, -9.48084341e+01, -9.07463774e+01,\n",
       "       -2.18444221e+01,  2.86552848e+01,  8.10907566e+01,  1.97535622e+02,\n",
       "        1.35765962e+02,  3.40061470e+01,  4.80983792e+01, -5.02529365e+01,\n",
       "        4.81486864e+01,  2.11341361e+01,  8.22718560e+01, -3.27230944e+01,\n",
       "        1.01934651e+02,  2.03273891e+02,  3.91239852e+01,  9.01711722e+01,\n",
       "        1.19014399e+02,  9.87795281e+00,  7.24092482e+01,  5.12592401e+01,\n",
       "        5.97676099e+01, -2.73009784e+01,  5.24510174e+01,  9.97998291e+01,\n",
       "        1.95114361e+02,  1.45927083e+02,  2.65318246e+02, -2.67347563e+01,\n",
       "        1.37232064e+02,  6.83342006e+01,  2.68980293e+02, -3.08298285e+01,\n",
       "       -3.39721842e+01, -9.93926454e+00, -1.62389572e+02, -2.57550217e+00,\n",
       "       -2.59132662e+01,  6.50393786e+01,  8.41755976e+01,  2.37617084e+02,\n",
       "        1.45042384e+02, -7.69036557e+00, -3.98414671e+01,  9.91919172e+01,\n",
       "       -8.20233207e+01,  2.33145877e+02,  1.67944012e+02,  3.08243479e+00,\n",
       "       -1.21313453e+02,  1.85387237e+02,  3.85460155e+01,  1.73781631e+02,\n",
       "       -1.09442766e+02, -9.93750230e+00,  5.05243700e+01,  5.46980594e+01,\n",
       "        4.99345285e+00,  1.12284993e+02, -5.67620429e+01,  3.57620515e+01,\n",
       "        6.20295632e+01,  1.01443883e+02,  1.21161488e+02, -6.24642092e+01,\n",
       "       -1.03411417e+02,  1.77767682e+02,  8.32314012e+01, -2.48486537e+01,\n",
       "        2.05115198e+02,  6.15674634e+01,  1.67929718e+02,  5.67518481e+01,\n",
       "        2.56074792e+02,  2.25534084e+02,  2.51035852e+01,  1.47157095e+02,\n",
       "        1.14537595e+02,  1.86863156e+02, -4.64923461e+01,  1.18605146e+02,\n",
       "        1.55842449e+02, -1.25873949e+02, -6.83258513e+01, -1.53923218e+02,\n",
       "        2.30593166e+01,  1.21754226e+02,  2.00235705e+02,  5.74094780e+01,\n",
       "        2.12861555e+02, -8.80101458e+01, -1.20338244e+02,  4.44452301e+01,\n",
       "        8.84065449e+01,  4.67305252e+01, -1.56744210e+02,  4.10879960e+01,\n",
       "       -8.04469501e+01,  1.16967255e+02,  8.66598246e+01, -4.39879786e+01,\n",
       "       -1.38669173e+00, -5.59213522e+01,  4.37320903e+01,  1.45514232e+02,\n",
       "       -4.85726046e+01,  1.00404652e+02, -3.02576184e+00, -2.92872832e+01,\n",
       "        3.92969640e+01, -5.35242322e+01, -5.36493053e+00, -6.97877893e+01,\n",
       "        2.46472513e+02,  5.35263552e+01, -1.99725508e+01,  7.13979911e+01,\n",
       "        3.87671950e+01,  2.79030400e+01,  1.11416670e+02,  1.25750771e+02,\n",
       "       -3.05011476e+00, -7.58182406e+00,  2.24948303e+01, -1.80192116e+02,\n",
       "       -1.01519106e+02,  1.86687427e+02,  2.14496771e+02,  2.50963960e+01,\n",
       "        1.07655696e+02,  8.11250155e+01,  3.57888081e+02,  1.61957491e+02,\n",
       "        3.72082409e+01, -4.55540441e+01, -1.10644632e+02,  7.03463636e+01,\n",
       "       -2.56350745e+01, -9.22253710e+01, -1.46572884e+01, -5.81548004e+01,\n",
       "        2.18714164e+02,  1.38163976e+02,  4.92027359e+01,  1.97994414e+02,\n",
       "        5.77368308e+01, -3.61284201e+01,  2.02312408e+02,  1.03891004e+02,\n",
       "       -5.37246154e+01,  3.09661322e+01, -3.75618253e+01, -8.82799731e+01,\n",
       "        1.42617755e+02,  2.40941664e+02, -8.98567574e+01,  1.06296924e+02,\n",
       "       -1.50642569e+01,  1.28746162e+00, -9.23939242e+00, -3.63990770e+01,\n",
       "        5.48521628e+01, -3.30950116e+01,  7.70456826e+01,  4.49761891e+01,\n",
       "        2.61051953e+01, -4.07563662e+01, -7.67713306e+00,  1.25539123e+02,\n",
       "        1.00091719e+02, -4.77555245e+01,  5.99332305e+01,  1.25138712e+02,\n",
       "       -1.16940528e+02,  1.04336019e+02, -1.62623759e+01,  1.07059867e+02,\n",
       "       -2.63259157e+01, -1.30488210e+02, -1.12754244e+02,  5.48084947e+01,\n",
       "        7.59722502e+01, -4.04316625e+01,  1.13859246e+02, -1.16152006e+02,\n",
       "        4.33920201e+01, -7.11016200e+01, -1.51836108e+01,  5.47398671e+01,\n",
       "       -3.60413365e+01,  1.15444456e+01,  1.50629281e+02, -7.68918695e+00,\n",
       "        1.33569211e+02, -6.29706855e+01,  1.02980418e+02,  1.94156862e+02,\n",
       "       -1.97164450e+02, -2.96895255e+01,  1.07707213e+02,  2.96954614e+01,\n",
       "        8.71145873e+01, -1.03985187e+01,  5.86589787e+01,  3.44322765e+01,\n",
       "        1.66778206e+02,  7.54420843e+01,  8.37602662e+01,  8.81230339e+00,\n",
       "        1.23937759e+00,  6.74418122e+00,  8.94452142e+01,  7.90155192e+00,\n",
       "        7.89774857e+01,  2.57540080e+02,  1.37112470e+02,  1.73976468e+01,\n",
       "        1.70121392e+02,  9.19246270e+00, -1.53812454e+02, -5.08086311e+01,\n",
       "       -1.37079192e+02,  1.48486516e+01,  5.18418379e+01,  2.17643731e+02,\n",
       "        8.26927374e+01,  2.80899471e+01,  1.32940558e+02, -1.71113531e+02,\n",
       "        7.35614558e+01,  1.27086519e+02, -9.78586246e+01,  1.64375404e+02,\n",
       "        8.38496407e+01,  8.47120861e+00,  1.13278187e+02,  2.77069286e+02,\n",
       "        6.81866255e+01,  7.48220586e+01,  4.06391005e+00, -3.49844369e+01,\n",
       "        1.33033582e+02, -3.56083826e+01,  5.71566237e+01,  2.23425532e+00,\n",
       "        9.78979826e+01,  8.33662105e+01,  1.53753994e+02, -1.00163989e+00,\n",
       "        2.30125065e+01, -4.78763716e+01,  5.57067399e+00,  8.77300493e+01,\n",
       "        1.25698862e+02, -4.22165324e+01,  1.36960592e+02,  1.85563786e+02,\n",
       "        9.13434903e+01,  2.37679581e+02, -2.73789199e+01, -7.44654703e+01,\n",
       "       -1.27872025e+02,  1.99604431e+02,  1.15436566e+02,  4.44415329e+01,\n",
       "        7.79968626e+01, -6.25489047e+01,  2.94575198e+02,  6.29221182e+01,\n",
       "        6.09394795e+01,  1.22576662e+02,  9.81009232e+01,  7.23884024e+01,\n",
       "       -2.90474455e+01,  9.71468357e+01,  2.38202450e+02,  1.84542005e+02,\n",
       "        2.09318663e+02, -1.12156764e+00, -4.89604820e+01,  3.74213080e+01,\n",
       "        5.55724912e+01,  1.59419152e+02, -1.19246463e+02,  2.02955032e+02,\n",
       "        3.41992101e+01,  7.31189301e+00, -5.12104375e+01, -1.15485667e+02,\n",
       "        1.32317058e+02,  5.73317967e+01, -7.89960900e+01, -7.95078772e+01,\n",
       "        1.64215301e+01,  2.16902153e+02,  2.40408649e+01, -1.00314295e+02,\n",
       "        2.54256936e+01,  2.27276430e+01, -2.19688664e+02,  4.45705133e+01,\n",
       "        2.69065470e+01,  1.19620636e+02,  2.34895609e+02,  1.62656503e+02,\n",
       "        2.31111309e+01, -6.06525909e+01,  3.07335980e+02,  5.59218434e+01,\n",
       "        5.13929292e+01,  4.75874913e+01,  6.98084761e+01,  3.55639588e+01,\n",
       "       -7.36620069e+00, -4.68589412e+00,  4.67246730e+01, -4.34247711e+00,\n",
       "       -2.12845783e+01,  6.06430228e+01,  2.45022783e+01,  2.00399299e+02,\n",
       "       -2.15096981e+02,  1.59150685e+02,  1.74608519e+02, -1.57339023e+02,\n",
       "        1.57312406e+01,  1.28559134e+01, -9.07511695e+01, -2.77816688e+01,\n",
       "       -6.10575845e+01,  2.25227044e+02,  1.43567839e+02,  1.77155509e+02,\n",
       "        1.22167206e+02, -6.29051771e+01, -2.45202663e+00,  9.89374561e+01,\n",
       "       -7.22127809e+01,  1.21299843e+02,  2.59674602e+01,  1.25179192e+01,\n",
       "        1.21095997e+02,  9.44263311e+01,  1.39033834e+01,  1.65932980e+02,\n",
       "       -5.81063328e+01,  1.11593561e+02,  1.09310126e+02,  1.90453561e+01,\n",
       "        8.26133022e+01, -7.51113576e+01,  1.42402702e+02,  3.15097864e+01,\n",
       "       -2.27230205e+00,  1.54900923e+02, -2.04343691e+01, -9.08461296e+01,\n",
       "       -1.05662917e+02,  1.10600995e+02, -7.80429352e+01,  2.25479418e+02,\n",
       "       -1.58192941e+02,  2.19645637e+02,  7.11017467e+01,  4.03286888e+01,\n",
       "       -4.49190868e+00,  8.99136114e+01,  4.62365298e+01,  1.60330188e+02,\n",
       "        6.14227649e+01,  6.50301761e+01,  1.36387788e+01,  4.43054376e+01,\n",
       "        8.07801769e+01, -1.21016839e+02, -8.48185422e+01,  1.24326409e+02,\n",
       "        6.70865438e+01,  3.16016664e+01,  5.18433933e+01,  8.47581705e+01,\n",
       "       -3.97596803e+00, -2.78304725e+01,  6.95845255e+01, -4.78372778e+01,\n",
       "        9.08252756e+01, -1.20258360e+02,  1.52915564e+02,  9.72597482e+01,\n",
       "        7.56029734e+01,  1.48269098e+02,  2.16547444e+02,  1.51437007e+02,\n",
       "       -1.34087423e+02, -7.79576967e+01, -1.24818578e+01,  5.26091050e+01,\n",
       "        1.01765902e+02, -2.25743813e+01,  6.86766764e+01, -2.55382932e+01,\n",
       "       -1.11517803e+01, -9.06661097e+01, -4.23233246e+01, -8.51684606e+01,\n",
       "       -4.75873253e+01,  1.55364180e+02, -4.49398889e+01,  3.13238206e+02,\n",
       "        9.93317901e+01,  6.84836124e+01, -3.58357780e+01,  1.20030988e+02,\n",
       "       -7.56378262e+00,  6.22009815e+01,  3.06008454e+02,  4.03940100e+01,\n",
       "        1.64927333e+02, -2.03176425e+01,  4.65011510e+01,  2.27080064e+02,\n",
       "       -1.26967058e+01,  2.31244856e+02,  1.20775194e+02, -6.24667759e+00,\n",
       "        1.13240774e+02,  1.47255445e+02,  1.12180996e+02, -1.07022472e+02,\n",
       "       -2.27137176e+01,  2.52481364e+01,  4.25566571e+01,  1.12067210e+02,\n",
       "        6.77701001e+01, -8.35344359e+01,  8.80197851e+01,  1.11058575e+02,\n",
       "        1.05979045e+02,  1.58078073e+02,  1.33392215e+02,  9.59180079e+01,\n",
       "        4.29834289e+01, -1.16096093e+02,  9.29618219e+01,  7.07687687e+01,\n",
       "        7.71578837e+01, -7.76748576e+01, -5.81056540e+01,  1.55315285e+02,\n",
       "        4.60444846e+01,  1.18150070e+02,  5.28318376e+01,  5.29756139e+01,\n",
       "        1.43828381e+02, -1.60447282e+00,  5.96120777e+01,  3.77247113e+00,\n",
       "        6.55037726e+00,  1.90827877e+01,  7.22133772e+01,  2.12513783e+00,\n",
       "        1.75575613e+02, -3.94607302e+01,  3.13128356e+01,  6.02689417e+00,\n",
       "        1.94697788e+02,  6.96554777e+01,  1.53184454e+02, -9.85560373e+01,\n",
       "        7.67050266e+01,  1.38963080e+02,  5.82283989e+01,  1.56548038e+02,\n",
       "       -1.72884501e+00,  1.90934744e+02,  2.79889812e+02,  1.37161440e+01,\n",
       "        5.44974786e+00,  1.95338448e+02,  2.07957215e+02, -2.28600272e+00,\n",
       "        7.98131829e+00,  2.18215391e+01, -8.44450511e+01, -4.18651946e+01,\n",
       "       -5.04140767e+01, -2.67797565e+01,  4.65315113e+01,  7.34214733e+01,\n",
       "        2.05050049e+02, -4.98354041e+01,  1.48432240e+02,  2.86011156e+01,\n",
       "        4.50536290e+01,  1.17481949e+02, -6.22722022e+01,  8.82409746e+01,\n",
       "        6.66452208e+01,  9.92451264e+01,  7.89168644e+01,  2.95530014e+02,\n",
       "       -1.37739984e+01, -3.09969550e+00, -1.23140526e+01, -5.54771192e+00,\n",
       "       -1.37387127e+01,  1.68901653e+02,  1.92050425e+02, -7.07462937e+00,\n",
       "       -3.32355573e+01,  9.71415556e+01, -5.22230443e+00,  1.13293182e+02,\n",
       "        7.02923021e+01, -1.01574411e+02,  2.04750520e+02,  2.29587767e+02,\n",
       "       -1.12788690e+01,  1.12298440e+01,  7.85865391e+01,  8.34456790e+01,\n",
       "        1.15854427e+02,  2.51020454e+02,  3.23052773e+01, -2.98297245e+01,\n",
       "       -8.79319228e+01, -2.30930040e+01,  4.66873027e+01,  2.29455786e+02,\n",
       "       -1.76112990e+00,  7.23787952e+01,  4.83577104e+01,  1.68839327e+02,\n",
       "        3.02693243e+02, -3.08687729e+00,  1.05605575e+00,  1.54416088e+02,\n",
       "        1.18189149e+02,  2.34670733e+02,  1.08392819e+02,  1.40707909e+01,\n",
       "        1.09065483e+02,  1.60870358e+02,  1.32048218e+02,  1.00727403e+02,\n",
       "        1.56667469e+02,  1.66929559e+02,  1.88215899e+02,  1.14870989e+02,\n",
       "        3.32881920e+01,  6.46713686e+01,  1.70650897e+02, -3.16935671e+01,\n",
       "        8.68673309e+01,  1.06661188e+01,  5.28744823e+01,  1.77845186e+02,\n",
       "        6.91099068e+01,  5.46436548e+01, -8.59856141e+01,  1.24625357e+02,\n",
       "        1.14548418e+02,  2.66325472e+02,  1.92221765e+01,  7.19150328e+01,\n",
       "        7.49383684e+01,  2.07745328e+02,  4.04704468e+01,  7.79021526e+01,\n",
       "        1.10789651e+02,  6.86609123e+01,  5.35663854e+00,  6.94089993e+01,\n",
       "        1.57363175e+02, -5.26515299e+01,  6.32969674e+01, -2.00120815e+01,\n",
       "        1.69504663e+02, -1.02318690e+02, -5.89218473e+00,  8.77211875e+01,\n",
       "        2.06552403e+02,  4.34249739e+01, -5.51995267e+00,  2.38115707e+02,\n",
       "       -9.48013900e+01, -1.69880596e+02,  9.40014450e+01, -2.05422435e-01,\n",
       "       -5.21232817e+01,  1.20835645e+02,  7.43800714e+01, -6.40786307e+00,\n",
       "       -7.80304399e+01,  1.37245733e+02,  1.15020118e+02,  4.00824136e+01,\n",
       "        2.34663700e+02, -5.70084766e+01, -1.02552517e+02, -1.91908070e+01,\n",
       "        4.54413984e+01,  7.43339449e+01,  2.58763942e+01,  8.52055397e+01,\n",
       "       -7.51539424e+01,  1.94376460e+02,  4.17848822e+01,  1.61729583e+02,\n",
       "        8.42725346e+01,  9.56753219e+01,  1.06976728e+02,  9.47708560e+01,\n",
       "        1.14272276e+02,  1.82915253e+02,  6.96521170e+01,  1.20900376e+02,\n",
       "        4.10264306e+01,  1.94011722e+02, -1.76392302e+01,  2.30094043e+02,\n",
       "        4.59842049e+01, -9.30775102e+01,  6.28104415e+01, -1.81051657e+01,\n",
       "        1.34064355e+02, -1.52623979e+01,  5.38165668e+00, -1.38954073e+02,\n",
       "        4.76936808e+00, -1.92387933e+02, -1.08390282e+02,  1.26041466e+02,\n",
       "        1.28580016e+02,  9.25457562e+01, -4.66976143e+01,  4.52288644e+01,\n",
       "        4.96397461e+01, -6.58364689e+01,  2.00339830e+02,  1.37736229e+02,\n",
       "        2.79035826e+01,  5.26885839e+01,  7.08382808e+01, -1.54173487e+02,\n",
       "        2.52822617e+01, -1.81984248e+01, -5.01620010e+01,  2.18899707e+01,\n",
       "        2.29768653e+02,  1.14084286e+02, -7.11789898e+00,  1.07258278e+02])"
      ]
     },
     "execution_count": 199,
     "metadata": {},
     "output_type": "execute_result"
    }
   ],
   "source": [
    "np.random.seed(42)\n",
    "np.random.normal(size = 1000, loc = 50, scale = 100)"
   ]
  },
  {
   "cell_type": "code",
   "execution_count": 200,
   "metadata": {},
   "outputs": [
    {
     "data": {
      "image/png": "[encoded data removed]",
      "text/plain": [
       "<Figure size 432x288 with 1 Axes>"
      ]
     },
     "metadata": {
      "needs_background": "light"
     },
     "output_type": "display_data"
    }
   ],
   "source": [
    "# Plot a histogram of 1000 numbers with a mean of 50 and a standard deviation of 10\n",
    "import seaborn as sns\n",
    "\n",
    "plt.title(\"Example of normal distribution\")\n",
    "plt.show (sns.distplot(np.random.normal(50, 10.0, 1000), bins=20, color='b'))"
   ]
  },
  {
   "cell_type": "markdown",
   "metadata": {},
   "source": [
    "\n",
    "numpy.random.exponential"
   ]
  },
  {
   "cell_type": "markdown",
   "metadata": {},
   "source": [
    "\n",
    "The exponential is a continuous distribution describing the probability of an event occuring during a timeframe by looking at the the time or distance between the events. It is often used in conjunction with a Poisson distribution which creates a model of the the number of occurrences in a fixed period of time, it is discrete and defined in integers. There is a strong relationship between the two distributions which describe the same thing but from different perspectives.\n",
    "\n",
    "Non-negative numbers within an exponential distribution are memoryless. The past has no impact on any future behaviour. If a certain period of time was to pass before an event occurs, with memoryless, this would have no effect on when the event was to happen. eg. if a plane crashed, some people may think that the probability of it happening again to the same company would be greatly reduced but in reality, the chances if it happening at any given time have not changed.\n",
    "\n",
    "Its probability density function is: f(x; \\frac{1}{\\beta}) = \\frac{1}{\\beta} \\exp(-\\frac{x}{\\beta}),\n",
    "\n",
    "for x > 0 and 0 elsewhere. \\beta is the scale parameter, which is the inverse of the rate parameter \\lambda = 1/\\beta. The rate parameter is an alternative, widely used parameterization of the exponential distribution\n",
    "\n",
    "An example of exponential could look at the number of times a website is accessed in a 30 minute period. We know it gets 180 views each hour so that is 90 views per 30 minutes. lambada = 3 (90 views per 1/2 hour / 30 minutes = 3 views per minute)"
   ]
  },
  {
   "cell_type": "code",
   "execution_count": 201,
   "metadata": {},
   "outputs": [
    {
     "data": {
      "text/plain": [
       "array([1.04548095, 0.13657876, 0.85793999, 0.23531181, 3.30297142,\n",
       "       5.90105997, 0.15012927, 6.20731247])"
      ]
     },
     "execution_count": 201,
     "metadata": {},
     "output_type": "execute_result"
    }
   ],
   "source": [
    "np.random.exponential(2, 8)"
   ]
  },
  {
   "cell_type": "code",
   "execution_count": 202,
   "metadata": {},
   "outputs": [
    {
     "data": {
      "image/png": "[encoded data removed]",
      "text/plain": [
       "<Figure size 432x288 with 1 Axes>"
      ]
     },
     "metadata": {
      "needs_background": "light"
     },
     "output_type": "display_data"
    },
    {
     "data": {
      "text/plain": [
       "Text(0, 0.5, 'f(x)')"
      ]
     },
     "execution_count": 202,
     "metadata": {},
     "output_type": "execute_result"
    },
    {
     "data": {
      "image/png": "[encoded data removed]",
      "text/plain": [
       "<Figure size 432x288 with 1 Axes>"
      ]
     },
     "metadata": {
      "needs_background": "light"
     },
     "output_type": "display_data"
    }
   ],
   "source": [
    "# 500 events, going in increments of 5\n",
    "\n",
    "plt.show(plt.hist(np.random.exponential(5, 500), bins=40, color='B', alpha=.3))\n",
    "plt.title('Exponential Distribution')\n",
    "plt.xlabel('x variables')\n",
    "plt.ylabel('f(x)')"
   ]
  },
  {
   "cell_type": "code",
   "execution_count": 203,
   "metadata": {},
   "outputs": [
    {
     "data": {
      "image/png": "[encoded data removed]",
      "text/plain": [
       "<Figure size 432x288 with 1 Axes>"
      ]
     },
     "metadata": {
      "needs_background": "light"
     },
     "output_type": "display_data"
    }
   ],
   "source": [
    "lam = 3\n",
    "x = np.arange(0, 10, .1)\n",
    "y = lam * np.exp(- lam* x) \n",
    "plt.plot(x,y)\n",
    "plt.title('Exponential: $\\lambda$ =%.2f' % lam)\n",
    "plt.xlabel('x')\n",
    "plt.ylabel('Probability density')\n",
    "plt.show()"
   ]
  },
  {
   "cell_type": "code",
   "execution_count": 204,
   "metadata": {},
   "outputs": [
    {
     "data": {
      "text/plain": [
       "[Text(0, 0.5, 'Occurance Freq'), Text(0.5, 0, 'Poisson')]"
      ]
     },
     "execution_count": 204,
     "metadata": {},
     "output_type": "execute_result"
    },
    {
     "data": {
      "image/png": "[encoded data removed]",
      "text/plain": [
       "<Figure size 432x288 with 1 Axes>"
      ]
     },
     "metadata": {
      "needs_background": "light"
     },
     "output_type": "display_data"
    }
   ],
   "source": [
    "# an example of a standard poisson distribution, the event can only be measured as occurring or not as occurring\n",
    "from scipy.stats import poisson\n",
    "import seaborn as sb\n",
    "data_binom = poisson.rvs(mu=4, size=1000)\n",
    "ax = sb.distplot(data_binom,\n",
    "                  kde=True,\n",
    "                  color='blue',\n",
    "                  hist_kws={\"linewidth\": 5,'alpha':1})\n",
    "ax.set(xlabel='Poisson', ylabel='Occurance Freq')"
   ]
  },
  {
   "cell_type": "markdown",
   "metadata": {},
   "source": [
    "numpy.random.multinomial is used when there are several possible outcomes. It is similar to but different from Binomial, which has only two outcomes (success and failure). Eg. a die is rolled 10 times. There are 6 possibilities (1, 2, 3, 4, 5, 6). That would be classed as a multinimial experiment. If the die was rolled 10 times to see how often 2 comes up, it would be classed as a binomial experiment (2 = success, 1, 3, 4, 5,6 = failure)"
   ]
  },
  {
   "cell_type": "code",
   "execution_count": 205,
   "metadata": {},
   "outputs": [
    {
     "data": {
      "text/plain": [
       "array([[2, 0, 4, 1, 2, 1]])"
      ]
     },
     "execution_count": 205,
     "metadata": {},
     "output_type": "execute_result"
    }
   ],
   "source": [
    "# A dice is thrown 10 times, it landed on 1 once, 2 once, 3 twice, 4 three times, etc\n",
    "\n",
    "np.random.multinomial(10, [1/6.]*6, size=1)"
   ]
  },
  {
   "cell_type": "code",
   "execution_count": 206,
   "metadata": {},
   "outputs": [
    {
     "name": "stdout",
     "output_type": "stream",
     "text": [
      "[[3 0 0 4 1 2]\n",
      " [0 2 2 0 2 4]]\n"
     ]
    }
   ],
   "source": [
    "# Dice is now thrown 10 times and then 10 again \n",
    "# The first round of 10 it landed on 1 twice, 2 three times, 4 once etc. and in the second round of 10 it landed on 1 once, 2 twice, 3 zero times.\n",
    "\n",
    "x=np.random.multinomial(10, [1/6.]*6, size=2)\n",
    "print (x)"
   ]
  },
  {
   "cell_type": "code",
   "execution_count": 207,
   "metadata": {},
   "outputs": [
    {
     "data": {
      "image/png": "[encoded data removed]",
      "text/plain": [
       "<Figure size 432x288 with 1 Axes>"
      ]
     },
     "metadata": {
      "needs_background": "light"
     },
     "output_type": "display_data"
    }
   ],
   "source": [
    "plt.show(plt.hist(x))"
   ]
  },
  {
   "cell_type": "code",
   "execution_count": 208,
   "metadata": {},
   "outputs": [
    {
     "name": "stdout",
     "output_type": "stream",
     "text": [
      "1.15.4\n",
      "194 ms ± 0 ns per loop (mean ± std. dev. of 1 run, 1 loop each)\n",
      "72.6 ms ± 0 ns per loop (mean ± std. dev. of 1 run, 1 loop each)\n"
     ]
    }
   ],
   "source": [
    "# just as an aside, while researching multinominal I came across this bit of code which seems to indicate that\n",
    "# np.random.multinomial is faster than np.random.choice\n",
    "\n",
    "print(np.__version__)\n",
    "probs = [1/100.] * 100\n",
    "%timeit -n 1 -r 1 [np.random.choice(100, p=probs) for x in range(10000)]\n",
    "%timeit -n 1 -r 1 [np.random.multinomial(1, probs).argmax() for x in range(10000)]\n",
    "\n",
    "# https://github.com/numpy/numpy/issues/7543"
   ]
  },
  {
   "cell_type": "markdown",
   "metadata": {},
   "source": [
    "\n",
    "numpy.random.uniform is a type of probability distribution which each variable has the identical probability that it will be the outcome, all of the possible outcomes are equally likely. eg. a coin has an equal probability of getting heads or tails so it can be classed as having a uniform distribution. The same can be said about a deck of cards. There are four suits and the chances of choosing either a diamond, heart, spade or club are the same.\n",
    "\n",
    "There are 2 types of uniform distributions: continuous and discrete. With continuous each variable has an equal chance of being chosen and there can be a infinite number of permutations.\n",
    "\n",
    "Discrete distribution has a fixed list of possible values, it can not be subdivided and there may be a repeat of a value. Eg. with the throw of a dice it will always be between 1 and 6."
   ]
  },
  {
   "cell_type": "markdown",
   "metadata": {},
   "source": [
    "\n",
    "The random.random() function takes no parameters while random.uniform() takes two parameters, i.e., start and stop. The random.random() function generates a random float number between 0.0 to 1.0, but never returns 1.0. random.uniform(start, stop) generates a random float number between the start (a) and stop (b) number. Rounding may end up giving you b."
   ]
  },
  {
   "cell_type": "code",
   "execution_count": 209,
   "metadata": {},
   "outputs": [
    {
     "name": "stdout",
     "output_type": "stream",
     "text": [
      "Random float number is  0.24245292641197957\n"
     ]
    }
   ],
   "source": [
    "# random float from a uniform distribution between 0 and 1\n",
    "\n",
    "\n",
    "print(\"Random float number is \", np.random.uniform())"
   ]
  },
  {
   "cell_type": "code",
   "execution_count": 210,
   "metadata": {},
   "outputs": [
    {
     "data": {
      "text/plain": [
       "array([ 2.33254931,  1.36354653, -1.57598191, -2.09703637, -1.23928989,\n",
       "       -0.7207314 ])"
      ]
     },
     "execution_count": 210,
     "metadata": {},
     "output_type": "execute_result"
    }
   ],
   "source": [
    "# 6 random floats from  -5 to  5\n",
    "\n",
    "np.random.uniform(-5.0, 5, 6)"
   ]
  },
  {
   "cell_type": "code",
   "execution_count": 211,
   "metadata": {},
   "outputs": [
    {
     "name": "stdout",
     "output_type": "stream",
     "text": [
      "Random float number with two decimal places is  0.29\n",
      "Random float number between 5 and 30.5 with three decimal places is  29.752\n"
     ]
    }
   ],
   "source": [
    "print(\"Random float number with two decimal places is \", round(random.random(), 2))\n",
    "print(\"Random float number between 5 and 30.5 with three decimal places is \", round(random.uniform(5,30.5), 3))"
   ]
  },
  {
   "cell_type": "code",
   "execution_count": 212,
   "metadata": {},
   "outputs": [
    {
     "name": "stdout",
     "output_type": "stream",
     "text": [
      "it took:  0.02593088150024414\n",
      "it took:  0.2134549617767334\n"
     ]
    }
   ],
   "source": [
    "import numpy as np\n",
    "import time\n",
    "rang = 10000\n",
    "tic = time.time()\n",
    "for i in range(rang):\n",
    "    sampl = np.random.uniform(low=0, high=5, size=(10))\n",
    "print(\"it took: \", time.time() - tic)\n",
    "\n",
    "tic = time.time()\n",
    "for i in range(rang):\n",
    "    ran_floats = [np.random.uniform(0,3) for _ in range(20)]\n",
    "print(\"it took: \", time.time() - tic)"
   ]
  },
  {
   "cell_type": "code",
   "execution_count": 213,
   "metadata": {},
   "outputs": [
    {
     "data": {
      "image/png": "[encoded data removed]",
      "text/plain": [
       "<Figure size 432x288 with 1 Axes>"
      ]
     },
     "metadata": {
      "needs_background": "light"
     },
     "output_type": "display_data"
    }
   ],
   "source": [
    "plt.hist(np.random.uniform(low=0.0, high=1.0, size=1000), bins=35, color='Y', alpha=1)\n",
    "plt.xlabel(\"Probability\")\n",
    "plt.title(\"Uniform Distribution\")\n",
    "plt.show()"
   ]
  },
  {
   "cell_type": "markdown",
   "metadata": {},
   "source": [
    "numpy.random.standard_t"
   ]
  },
  {
   "cell_type": "markdown",
   "metadata": {},
   "source": [
    "Also referred to as the Student's T Distribution.  It is very similar to the normal distribution curve but looks a little shorter and wider, showing values which are further away from the mean, but both are symmetrical and have a single peak.  If the sample size is too small, less than 30, then it is harder to produce an accurate, reliable result.  Therefore random standard t is used as it can work better with non-normal distribution. Also, if and/or the population variance is unknown (ie. How data points are spread out).  But both normal and standard t distribution will show how far from the mean the standard deviations are."
   ]
  },
  {
   "cell_type": "code",
   "execution_count": 214,
   "metadata": {},
   "outputs": [
    {
     "data": {
      "text/plain": [
       "<function RandomState.standard_t>"
      ]
     },
     "execution_count": 214,
     "metadata": {},
     "output_type": "execute_result"
    }
   ],
   "source": [
    "np.random.standard_t"
   ]
  },
  {
   "cell_type": "code",
   "execution_count": null,
   "metadata": {},
   "outputs": [],
   "source": []
  },
  {
   "cell_type": "code",
   "execution_count": 215,
   "metadata": {},
   "outputs": [
    {
     "data": {
      "text/plain": [
       "array([-0.94509684, -0.72821227,  0.17869763, -0.06497661,  2.62653435,\n",
       "        0.14879244, -0.44711202, -1.64213546, -2.23637622,  0.61789078])"
      ]
     },
     "execution_count": 215,
     "metadata": {},
     "output_type": "execute_result"
    }
   ],
   "source": [
    "np.random.standard_t(25, size=10)"
   ]
  },
  {
   "cell_type": "code",
   "execution_count": 216,
   "metadata": {},
   "outputs": [
    {
     "data": {
      "image/png": "[encoded data removed]",
      "text/plain": [
       "<Figure size 432x288 with 1 Axes>"
      ]
     },
     "metadata": {
      "needs_background": "light"
     },
     "output_type": "display_data"
    }
   ],
   "source": [
    "plt.hist(np.random.standard_t(25, size=10), bins=35, color='Y', alpha=1)\n",
    "plt.xlabel(\"Probability\")\n",
    "plt.title(\"Standard Distribution\")\n",
    "plt.show()"
   ]
  },
  {
   "cell_type": "code",
   "execution_count": 217,
   "metadata": {},
   "outputs": [
    {
     "ename": "TypeError",
     "evalue": "_parse_args() missing 1 required positional argument: 'df'",
     "output_type": "error",
     "traceback": [
      "\u001b[1;31m---------------------------------------------------------------------------\u001b[0m",
      "\u001b[1;31mTypeError\u001b[0m                                 Traceback (most recent call last)",
      "\u001b[1;32m<ipython-input-217-e8d49c059051>\u001b[0m in \u001b[0;36m<module>\u001b[1;34m\u001b[0m\n\u001b[0;32m     24\u001b[0m \u001b[0mplt\u001b[0m\u001b[1;33m.\u001b[0m\u001b[0mplot\u001b[0m\u001b[1;33m(\u001b[0m\u001b[0mxs_2\u001b[0m\u001b[1;33m,\u001b[0m \u001b[0mcritline\u001b[0m\u001b[1;33m,\u001b[0m\u001b[1;34m'r'\u001b[0m\u001b[1;33m,\u001b[0m \u001b[0mlabel\u001b[0m\u001b[1;33m=\u001b[0m\u001b[1;34m\"t* for dof=23\"\u001b[0m\u001b[1;33m)\u001b[0m\u001b[1;33m\u001b[0m\u001b[1;33m\u001b[0m\u001b[0m\n\u001b[0;32m     25\u001b[0m \u001b[0mplt\u001b[0m\u001b[1;33m.\u001b[0m\u001b[0mlegend\u001b[0m\u001b[1;33m(\u001b[0m\u001b[1;33m)\u001b[0m\u001b[1;33m\u001b[0m\u001b[1;33m\u001b[0m\u001b[0m\n\u001b[1;32m---> 26\u001b[1;33m \u001b[0mplt\u001b[0m\u001b[1;33m.\u001b[0m\u001b[0mvlines\u001b[0m\u001b[1;33m(\u001b[0m\u001b[1;33m[\u001b[0m\u001b[1;33m-\u001b[0m\u001b[0mtcrit\u001b[0m\u001b[1;33m,\u001b[0m \u001b[0mtcrit\u001b[0m\u001b[1;33m]\u001b[0m\u001b[1;33m,\u001b[0m \u001b[1;36m0.0\u001b[0m\u001b[1;33m,\u001b[0m \u001b[0mst\u001b[0m\u001b[1;33m.\u001b[0m\u001b[0mt\u001b[0m\u001b[1;33m.\u001b[0m\u001b[0mpdf\u001b[0m\u001b[1;33m(\u001b[0m\u001b[0mtcrit\u001b[0m\u001b[1;33m)\u001b[0m\u001b[1;33m,\u001b[0m \u001b[0mcolors\u001b[0m\u001b[1;33m=\u001b[0m\u001b[1;34m'r'\u001b[0m\u001b[1;33m)\u001b[0m\u001b[1;33m\u001b[0m\u001b[1;33m\u001b[0m\u001b[0m\n\u001b[0m",
      "\u001b[1;32m~\\Anaconda3\\lib\\site-packages\\scipy\\stats\\_distn_infrastructure.py\u001b[0m in \u001b[0;36mpdf\u001b[1;34m(self, x, *args, **kwds)\u001b[0m\n\u001b[0;32m   1646\u001b[0m \u001b[1;33m\u001b[0m\u001b[0m\n\u001b[0;32m   1647\u001b[0m         \"\"\"\n\u001b[1;32m-> 1648\u001b[1;33m         \u001b[0margs\u001b[0m\u001b[1;33m,\u001b[0m \u001b[0mloc\u001b[0m\u001b[1;33m,\u001b[0m \u001b[0mscale\u001b[0m \u001b[1;33m=\u001b[0m \u001b[0mself\u001b[0m\u001b[1;33m.\u001b[0m\u001b[0m_parse_args\u001b[0m\u001b[1;33m(\u001b[0m\u001b[1;33m*\u001b[0m\u001b[0margs\u001b[0m\u001b[1;33m,\u001b[0m \u001b[1;33m**\u001b[0m\u001b[0mkwds\u001b[0m\u001b[1;33m)\u001b[0m\u001b[1;33m\u001b[0m\u001b[1;33m\u001b[0m\u001b[0m\n\u001b[0m\u001b[0;32m   1649\u001b[0m         \u001b[0mx\u001b[0m\u001b[1;33m,\u001b[0m \u001b[0mloc\u001b[0m\u001b[1;33m,\u001b[0m \u001b[0mscale\u001b[0m \u001b[1;33m=\u001b[0m \u001b[0mmap\u001b[0m\u001b[1;33m(\u001b[0m\u001b[0masarray\u001b[0m\u001b[1;33m,\u001b[0m \u001b[1;33m(\u001b[0m\u001b[0mx\u001b[0m\u001b[1;33m,\u001b[0m \u001b[0mloc\u001b[0m\u001b[1;33m,\u001b[0m \u001b[0mscale\u001b[0m\u001b[1;33m)\u001b[0m\u001b[1;33m)\u001b[0m\u001b[1;33m\u001b[0m\u001b[1;33m\u001b[0m\u001b[0m\n\u001b[0;32m   1650\u001b[0m         \u001b[0margs\u001b[0m \u001b[1;33m=\u001b[0m \u001b[0mtuple\u001b[0m\u001b[1;33m(\u001b[0m\u001b[0mmap\u001b[0m\u001b[1;33m(\u001b[0m\u001b[0masarray\u001b[0m\u001b[1;33m,\u001b[0m \u001b[0margs\u001b[0m\u001b[1;33m)\u001b[0m\u001b[1;33m)\u001b[0m\u001b[1;33m\u001b[0m\u001b[1;33m\u001b[0m\u001b[0m\n",
      "\u001b[1;31mTypeError\u001b[0m: _parse_args() missing 1 required positional argument: 'df'"
     ]
    },
    {
     "data": {
      "image/png": "[encoded data removed]",
      "text/plain": [
       "<Figure size 432x288 with 1 Axes>"
      ]
     },
     "metadata": {
      "needs_background": "light"
     },
     "output_type": "display_data"
    }
   ],
   "source": [
    "## Basic T-Distribution\n",
    "import scipy.stats as st\n",
    "import matplotlib.pyplot as plt\n",
    "import numpy as np\n",
    "\n",
    "## Setup      \n",
    "dof = 23        # Degrees of freedom\n",
    "alpha = 0.05    # Significence level\n",
    "ntails = 2      # Number of tails \n",
    "\n",
    "## Calculate critical t-score\n",
    "tcrit = abs(st.t.ppf(alpha/ntails, dof))\n",
    "# +=2.068\n",
    "\n",
    "plt.figure()\n",
    "xs = np.linspace(-10,10,1000)\n",
    "plt.plot(xs, st.t.pdf(xs,dof), 'k', label=\"T-Distribution PDF\")\n",
    "\n",
    "## Plot some vertical lines representing critical t-score cutoff\n",
    "critline = np.linspace(0,alpha/ntails)  # y range for critical line, AKA probability from 0-p*\n",
    "xs_1 = len(critline) * [-tcrit]         # X ranges for plotting\n",
    "xs_2 = len(critline) * [tcrit]\n",
    "plt.plot(xs_1, critline, 'r', label=\"-t* for dof=23\")\n",
    "plt.plot(xs_2, critline,'r', label=\"t* for dof=23\")\n",
    "plt.legend()\n",
    "plt.vlines([-tcrit, tcrit], 0.0, st.t.pdf(tcrit), colors='r')"
   ]
  },
  {
   "cell_type": "code",
   "execution_count": null,
   "metadata": {},
   "outputs": [],
   "source": []
  },
  {
   "cell_type": "code",
   "execution_count": null,
   "metadata": {},
   "outputs": [],
   "source": [
    "#From Dalgaard page 83 [R272], suppose the daily energy intake for 11 women in Kj is:\n",
    "intake = np.array([5260., 5470, 5640, 6180, 6390, 6515, 6805, 7515, 7515, 8230, 8770])"
   ]
  },
  {
   "cell_type": "code",
   "execution_count": null,
   "metadata": {},
   "outputs": [],
   "source": [
    "#Does their energy intake deviate systematically from the recommended value of 7725 kJ?\n",
    "\n",
    "# We have 10 degrees of freedom, so is the sample mean within 95% of the recommended value?\n",
    "\n",
    "s = np.random.standard_t(10, size=100000)\n",
    "np.mean(intake)\n",
    "\n",
    "\n"
   ]
  },
  {
   "cell_type": "code",
   "execution_count": null,
   "metadata": {},
   "outputs": [],
   "source": [
    "intake.std(ddof=1)"
   ]
  },
  {
   "cell_type": "code",
   "execution_count": 218,
   "metadata": {},
   "outputs": [
    {
     "data": {
      "image/png": "[encoded data removed]",
      "text/plain": [
       "<Figure size 432x288 with 1 Axes>"
      ]
     },
     "metadata": {
      "needs_background": "light"
     },
     "output_type": "display_data"
    }
   ],
   "source": [
    "#Calculate the t statistic, setting the ddof parameter to the unbiased value so the divisor in the standard deviation will be degrees of freedom, N-1.\n",
    "\n",
    "t = (np.mean(intake)-7725)/(intake.std(ddof=1)/np.sqrt(len(intake)))\n",
    "import matplotlib.pyplot as plt\n",
    "h = plt.hist(s, bins=100, density=True)"
   ]
  },
  {
   "cell_type": "code",
   "execution_count": null,
   "metadata": {},
   "outputs": [],
   "source": [
    "# For a one-sided t-test, how far out in the distribution does the t statistic appear?\n",
    "\n",
    "np.sum(s<t) / float(len(s))"
   ]
  },
  {
   "cell_type": "code",
   "execution_count": 219,
   "metadata": {},
   "outputs": [],
   "source": [
    "# The p-value is about 0.009, which says the null hypothesis has a probability of about 99% of being true\n",
    "\n",
    "# Code from https://docs.scipy.org/doc/numpy-1.13.0/reference/generated/numpy.random.standard_t.html"
   ]
  },
  {
   "cell_type": "code",
   "execution_count": null,
   "metadata": {},
   "outputs": [],
   "source": []
  }
 ],
 "metadata": {
  "kernelspec": {
   "display_name": "Python 3",
   "language": "python",
   "name": "python3"
  },
  "language_info": {
   "codemirror_mode": {
    "name": "ipython",
    "version": 3
   },
   "file_extension": ".py",
   "mimetype": "text/x-python",
   "name": "python",
   "nbconvert_exporter": "python",
   "pygments_lexer": "ipython3",
   "version": "3.7.1"
  }
 },
 "nbformat": 4,
 "nbformat_minor": 2
}
