{
 "cells": [
  {
   "cell_type": "markdown",
   "metadata": {},
   "source": [
    "# Assignment 2019\n",
    "# Programming for Data Analysis\n"
   ]
  },
  {
   "cell_type": "markdown",
   "metadata": {},
   "source": [
    "This contains all of the information for my 2019 submission for the Assignment for Programming for Data Analysis module.  Work on this began 13th October 2019 with a final submission date of November 11th."
   ]
  },
  {
   "cell_type": "markdown",
   "metadata": {},
   "source": [
    "## Problem statement 1:\n",
    "## Explain the overall purpose of the package\n",
    "\n",
    "NumPy, short for “Numerical Python” is a free to use, open source numerical library in python.  The library contains a large number of mathematical, algebriac and transformational functions.  Numpy contains a multi-dimensional array (more than one list, a list that can hold other lists, or lists within lists) and matrix data structures (numbers arranged in rows and columns).  Anaconda comes with NumPy preinstalled.  Otherwise it is necessary to install it via the pip install NumPy command line code.  Then import as np when using Python.  NumPy is utilised in data science and machine learning and to perform mathematical and statistical operations.  \n",
    "\n",
    "NumPy. Random is a module used for random sampling in NumPy, providing a way of creating random samples with the NumPy.   It gives a variety of functions to generate random numbers.  \n",
    "\n",
    "But the numbers may not be actually random, they just appear to be.  They may be pseudorandom or PRNG.  Pseudorandom number generators are algorithms that produce numbers that appear random, but are not really.  If the seed is reset each time (np.random.seed(0) ), the same set of numbers will always appear.  If random seed is not reset, different numbers will appear each time.   NumPy will generate a seed value from a part of your computer system such as the clock.\n",
    "\n",
    "The random function can be used to build customized random number generators, it’s the key ingredient for many of the functions in the random module.  Random adds unpredictability to simulations such as the Monte Carlo simulation.  In a Monte Carlo simulation, a model is built showing the different outcomes that are probable.  The process can be complicated and not easy to predict due to random variables.  It is also known as multiple probability simulation.  Monte Carlo method was the first approach to use computer simulation for statistical problems. It was developed by John von Neumann, Stanisław Ulam, & Nicholas Metropolis, working on the Manhattan project during World War II.  \n",
    "\n",
    "Random sampling can be broken down into 4 further sections, as per SciPy.org., which themselves then contain further subdivisions.  These are Simple random data, Permutations, Distributions and Random generator.\n"
   ]
  },
  {
   "cell_type": "markdown",
   "metadata": {},
   "source": [
    "## Problem statement 2\n",
    "## Explain the use of the \"Simple random data\" and \"Permutations\" functions.\n",
    "\n",
    "### Simple random data\n",
    "The Simple Random Data generates random values, integers and floats which are dependant on the selected function.  Which function to use will be determined by the data used and what is the required output. \n",
    "\n",
    "np.random.rand will return values in a given shape from a predetermined parameter (uniform distribution). Here I have asked for random numbers in three columns and two rows. As a default, the numbers returned will be more than 0 but less than 1  But first NumPy has to be imported.\n"
   ]
  },
  {
   "cell_type": "code",
   "execution_count": 6,
   "metadata": {},
   "outputs": [
    {
     "data": {
      "text/plain": [
       "array([[0.41572674, 0.96421905],\n",
       "       [0.06528008, 0.18875349],\n",
       "       [0.67483164, 0.14731238]])"
      ]
     },
     "execution_count": 6,
     "metadata": {},
     "output_type": "execute_result"
    }
   ],
   "source": [
    "import numpy as np\n",
    "np.random.rand(3,2)"
   ]
  },
  {
   "cell_type": "code",
   "execution_count": 7,
   "metadata": {},
   "outputs": [
    {
     "data": {
      "text/plain": [
       "array([0.15362466, 0.29170195, 0.34428633, 0.72410833, 0.91317371,\n",
       "       0.89752412, 0.34337775, 0.15742707, 0.62365373, 0.94346293,\n",
       "       0.84308895, 0.26098926, 0.92204182, 0.08880268, 0.42347481,\n",
       "       0.69645582, 0.46825752, 0.8535483 , 0.39425083, 0.88678229,\n",
       "       0.03109042, 0.8177635 , 0.66418884, 0.7393474 , 0.07846566,\n",
       "       0.92757943, 0.51576855, 0.6773256 , 0.04074467, 0.90454746,\n",
       "       0.04514181, 0.68660264, 0.31386688, 0.31510164, 0.25483932,\n",
       "       0.64367064, 0.79052854, 0.02425606, 0.74114081, 0.11547997,\n",
       "       0.59448681, 0.08116824, 0.83850745, 0.37833086, 0.06214971,\n",
       "       0.79625842, 0.23000006, 0.03683889, 0.97199253, 0.38361217,\n",
       "       0.77122559, 0.50646623, 0.77371228, 0.63278219, 0.35178759,\n",
       "       0.45878633, 0.11719884, 0.9099008 , 0.66801472, 0.74204972,\n",
       "       0.56896353, 0.79404632, 0.03527213, 0.34566841, 0.92069368,\n",
       "       0.80882911, 0.17928243, 0.81198738, 0.68489191, 0.93446918,\n",
       "       0.3135414 , 0.01842039, 0.57006075, 0.48899602, 0.30783826,\n",
       "       0.81120933, 0.20429614, 0.38706847, 0.34032745, 0.3070225 ,\n",
       "       0.75410933, 0.3213965 , 0.50023957, 0.7273343 , 0.22299187,\n",
       "       0.46164907, 0.25895537, 0.97764772, 0.14318054, 0.24759132,\n",
       "       0.07987811, 0.98148682, 0.39167456, 0.57649031, 0.93540407,\n",
       "       0.0817963 , 0.08900428, 0.340645  , 0.11893145, 0.65197416])"
      ]
     },
     "execution_count": 7,
     "metadata": {},
     "output_type": "execute_result"
    }
   ],
   "source": [
    "# Here I have asked for 100 random numbers\n",
    "x = np.random.rand (100)\n",
    "x"
   ]
  },
  {
   "cell_type": "code",
   "execution_count": 8,
   "metadata": {},
   "outputs": [
    {
     "data": {
      "image/png": "[encoded data removed]",
      "text/plain": [
       "<Figure size 432x288 with 1 Axes>"
      ]
     },
     "metadata": {
      "needs_background": "light"
     },
     "output_type": "display_data"
    }
   ],
   "source": [
    "%matplotlib inline\n",
    "\n",
    "import matplotlib.pyplot as plt\n",
    "\n",
    "plt.hist(x)\n",
    "plt.show()"
   ]
  },
  {
   "cell_type": "code",
   "execution_count": null,
   "metadata": {},
   "outputs": [],
   "source": []
  },
  {
   "cell_type": "markdown",
   "metadata": {},
   "source": [
    "numpy.random.randn() returns a sample (or samples) from a specific/standard normal distribution, the standard distribution.  It is  useful for adding random noise element into a dataset for initial testing of a machine learning model.  "
   ]
  },
  {
   "cell_type": "code",
   "execution_count": 9,
   "metadata": {},
   "outputs": [
    {
     "data": {
      "text/plain": [
       "array([-1.02012621e+00, -5.98862492e-01, -6.44412955e-01,  9.67736343e-01,\n",
       "        9.31789490e-02, -1.77003128e-01,  4.01332479e-01,  1.98844200e+00,\n",
       "        1.51694804e-01,  1.09692243e+00, -5.63061407e-01,  8.35606573e-01,\n",
       "        6.94742836e-02, -6.87263795e-01, -1.68239734e-01,  1.26385294e-01,\n",
       "       -1.15046291e+00,  7.38648498e-01,  9.77769674e-01,  1.29886651e+00,\n",
       "       -4.03698469e-01, -1.68881758e+00,  1.13760437e+00,  8.61946087e-01,\n",
       "       -2.97856468e-02, -1.28315005e-02, -6.81781791e-01, -5.91154700e-01,\n",
       "        3.51774168e-01, -1.54737293e+00, -1.29242209e+00, -8.03917940e-01,\n",
       "       -1.64136731e-01,  8.72438783e-01, -7.82853009e-01, -5.40021981e-03,\n",
       "        1.11885197e+00,  6.86464920e-02,  9.11418310e-01,  5.20875373e-01,\n",
       "       -4.91707654e-02, -6.82523807e-01,  1.16651670e+00,  1.04776705e+00,\n",
       "        1.40767999e+00, -5.50175158e-01,  2.00907323e-01,  2.22402909e+00,\n",
       "       -7.21909838e-02,  8.42423691e-01,  3.73485548e-02,  1.32931319e-01,\n",
       "        2.69214572e+00, -5.00293712e-01,  4.79599528e-01,  1.20194852e-01,\n",
       "        3.37158985e-01, -2.57616937e-01, -9.48141121e-01, -1.67335017e-03,\n",
       "        2.44751238e-01,  1.08707248e-01,  1.99081765e-01,  1.77441161e+00,\n",
       "        6.64793877e-02, -6.18211314e-01, -5.97343172e-01, -1.31442518e+00,\n",
       "       -4.82363215e-01,  3.45752122e-02,  1.10542912e+00,  3.03487703e-01,\n",
       "        1.12238568e+00, -1.15547048e-03, -2.54994224e-01, -1.51958634e+00,\n",
       "       -2.57561794e-01, -1.62324780e+00, -2.60736456e+00, -1.96541733e+00,\n",
       "        3.40222365e-01, -3.11317543e-01,  1.11573043e+00,  1.71233189e-01,\n",
       "       -1.33696327e+00,  3.76640254e-01,  6.97321684e-01, -1.42541354e+00,\n",
       "       -7.53388073e-01, -5.46450297e-01,  1.32915452e-01, -6.42598670e-01,\n",
       "       -6.73234993e-01, -1.23172255e+00,  1.60720140e+00, -1.22063202e+00,\n",
       "        1.01454996e+00,  1.84663632e-01, -5.22243411e-01, -2.26143985e+00])"
      ]
     },
     "execution_count": 9,
     "metadata": {},
     "output_type": "execute_result"
    }
   ],
   "source": [
    "x = np.random.randn (100)\n",
    "x"
   ]
  },
  {
   "cell_type": "code",
   "execution_count": 10,
   "metadata": {
    "scrolled": true
   },
   "outputs": [
    {
     "data": {
      "image/png": "[encoded data removed]",
      "text/plain": [
       "<Figure size 432x288 with 1 Axes>"
      ]
     },
     "metadata": {
      "needs_background": "light"
     },
     "output_type": "display_data"
    }
   ],
   "source": [
    "plt.hist(x)\n",
    "plt.show()"
   ]
  },
  {
   "cell_type": "markdown",
   "metadata": {},
   "source": [
    "numpy.random.randint returns a random integer in the provided range, here I have given it 1 to 100 to select from.  If you were trying to simulate the throw of a dice, you would use (1, 6)"
   ]
  },
  {
   "cell_type": "code",
   "execution_count": 11,
   "metadata": {},
   "outputs": [
    {
     "data": {
      "text/plain": [
       "87"
      ]
     },
     "execution_count": 11,
     "metadata": {},
     "output_type": "execute_result"
    }
   ],
   "source": [
    "x = np.random.randint(1,100)\n",
    "x"
   ]
  },
  {
   "cell_type": "markdown",
   "metadata": {},
   "source": [
    "numpy.random.random_integers is similar to random_integers.\n",
    "\n",
    "I have asked for two rows of 4 numbers between 2 and 8."
   ]
  },
  {
   "cell_type": "code",
   "execution_count": 12,
   "metadata": {},
   "outputs": [
    {
     "name": "stderr",
     "output_type": "stream",
     "text": [
      "C:\\Users\\Rebecca\\Anaconda3\\lib\\site-packages\\ipykernel_launcher.py:1: DeprecationWarning: This function is deprecated. Please call randint(2, 8 + 1) instead\n",
      "  \"\"\"Entry point for launching an IPython kernel.\n"
     ]
    },
    {
     "data": {
      "text/plain": [
       "array([[3, 5, 8, 8],\n",
       "       [3, 7, 2, 8]])"
      ]
     },
     "execution_count": 12,
     "metadata": {},
     "output_type": "execute_result"
    }
   ],
   "source": [
    "np.random.random_integers (2,8,(2,4))"
   ]
  },
  {
   "cell_type": "code",
   "execution_count": 13,
   "metadata": {},
   "outputs": [
    {
     "data": {
      "text/plain": [
       "array([[7, 3, 5, 3],\n",
       "       [2, 7, 2, 6]])"
      ]
     },
     "execution_count": 13,
     "metadata": {},
     "output_type": "execute_result"
    }
   ],
   "source": [
    "# I used randint instead of random_integers here as random_integers resulted in an error warning saying that that function was deprecated\n",
    "np.random.randint(2,8, size=(2,4))"
   ]
  },
  {
   "cell_type": "markdown",
   "metadata": {},
   "source": [
    "Here I have asked for 3 columns and 2 rows of random numbers with 15 being the highest random number to choose from and starting from 1. "
   ]
  },
  {
   "cell_type": "code",
   "execution_count": 14,
   "metadata": {},
   "outputs": [
    {
     "name": "stderr",
     "output_type": "stream",
     "text": [
      "C:\\Users\\Rebecca\\Anaconda3\\lib\\site-packages\\ipykernel_launcher.py:1: DeprecationWarning: This function is deprecated. Please call randint(1, 15 + 1) instead\n",
      "  \"\"\"Entry point for launching an IPython kernel.\n"
     ]
    },
    {
     "data": {
      "text/plain": [
       "array([[ 8,  1],\n",
       "       [13,  3],\n",
       "       [ 4, 14]])"
      ]
     },
     "execution_count": 14,
     "metadata": {},
     "output_type": "execute_result"
    }
   ],
   "source": [
    "np.random.random_integers(15, size=(3,2))"
   ]
  },
  {
   "cell_type": "code",
   "execution_count": 15,
   "metadata": {},
   "outputs": [
    {
     "data": {
      "text/plain": [
       "array([[ 6,  3],\n",
       "       [14,  7],\n",
       "       [11,  6]])"
      ]
     },
     "execution_count": 15,
     "metadata": {},
     "output_type": "execute_result"
    }
   ],
   "source": [
    "np.random.randint(15, size=(3,2))"
   ]
  },
  {
   "cell_type": "markdown",
   "metadata": {},
   "source": [
    "numpy.random.random_sample, numpy.random.random, numpy.random.ranf and numpy.random.sample are just different names for the same thing.\n",
    "\n",
    "random_sample([size]) Return random floats in the half-open interval [0.0, 1.0).\n",
    "random([size]) Return random floats in the half-open interval [0.0, 1.0).\n",
    "ranf([size]) Return random floats in the half-open interval [0.0, 1.0).\n",
    "sample([size]) Return random floats in the half-open interval [0.0, 1.0)."
   ]
  },
  {
   "cell_type": "code",
   "execution_count": 16,
   "metadata": {},
   "outputs": [
    {
     "data": {
      "text/plain": [
       "<function RandomState.random_sample>"
      ]
     },
     "execution_count": 16,
     "metadata": {},
     "output_type": "execute_result"
    }
   ],
   "source": [
    "np.random.random_sample"
   ]
  },
  {
   "cell_type": "code",
   "execution_count": 17,
   "metadata": {},
   "outputs": [
    {
     "data": {
      "text/plain": [
       "<function RandomState.random_sample>"
      ]
     },
     "execution_count": 17,
     "metadata": {},
     "output_type": "execute_result"
    }
   ],
   "source": [
    "np.random.random"
   ]
  },
  {
   "cell_type": "code",
   "execution_count": 18,
   "metadata": {},
   "outputs": [
    {
     "data": {
      "text/plain": [
       "<function RandomState.random_sample>"
      ]
     },
     "execution_count": 18,
     "metadata": {},
     "output_type": "execute_result"
    }
   ],
   "source": [
    "np.random.ranf"
   ]
  },
  {
   "cell_type": "code",
   "execution_count": 19,
   "metadata": {},
   "outputs": [
    {
     "data": {
      "text/plain": [
       "<function RandomState.random_sample>"
      ]
     },
     "execution_count": 19,
     "metadata": {},
     "output_type": "execute_result"
    }
   ],
   "source": [
    "np.random.sample"
   ]
  },
  {
   "cell_type": "code",
   "execution_count": 20,
   "metadata": {},
   "outputs": [
    {
     "data": {
      "text/plain": [
       "True"
      ]
     },
     "execution_count": 20,
     "metadata": {},
     "output_type": "execute_result"
    }
   ],
   "source": [
    "np.random.random_sample is np.random.random"
   ]
  },
  {
   "cell_type": "code",
   "execution_count": 21,
   "metadata": {},
   "outputs": [
    {
     "data": {
      "text/plain": [
       "True"
      ]
     },
     "execution_count": 21,
     "metadata": {},
     "output_type": "execute_result"
    }
   ],
   "source": [
    "np.random.random_sample is np.random.ranf"
   ]
  },
  {
   "cell_type": "code",
   "execution_count": 22,
   "metadata": {},
   "outputs": [
    {
     "data": {
      "text/plain": [
       "True"
      ]
     },
     "execution_count": 22,
     "metadata": {},
     "output_type": "execute_result"
    }
   ],
   "source": [
    "np.random.random_sample is np.random.sample"
   ]
  },
  {
   "cell_type": "code",
   "execution_count": null,
   "metadata": {},
   "outputs": [],
   "source": []
  },
  {
   "cell_type": "code",
   "execution_count": 23,
   "metadata": {},
   "outputs": [
    {
     "data": {
      "text/plain": [
       "0.21032800850264222"
      ]
     },
     "execution_count": 23,
     "metadata": {},
     "output_type": "execute_result"
    }
   ],
   "source": [
    "np.random.random_sample()"
   ]
  },
  {
   "cell_type": "markdown",
   "metadata": {},
   "source": [
    "The below script asks to select 4 columns with 2 rows of random numbers."
   ]
  },
  {
   "cell_type": "code",
   "execution_count": 24,
   "metadata": {},
   "outputs": [
    {
     "data": {
      "text/plain": [
       "array([[0.00217043, 0.28745133],\n",
       "       [0.71692975, 0.08129495],\n",
       "       [0.58198372, 0.75054901],\n",
       "       [0.87395551, 0.87420258]])"
      ]
     },
     "execution_count": 24,
     "metadata": {},
     "output_type": "execute_result"
    }
   ],
   "source": [
    "np.random.random_sample((4,2))"
   ]
  },
  {
   "cell_type": "markdown",
   "metadata": {},
   "source": [
    "numpy.random.choice\n",
    "\n",
    "Here I ask to select 4 random numbers up to 7.  The numbers that could be selected begin at 0 and go up to and include 6."
   ]
  },
  {
   "cell_type": "code",
   "execution_count": 25,
   "metadata": {},
   "outputs": [
    {
     "data": {
      "text/plain": [
       "array([1, 6, 3, 1])"
      ]
     },
     "execution_count": 25,
     "metadata": {},
     "output_type": "execute_result"
    }
   ],
   "source": [
    "np.random.choice(7, 4)"
   ]
  },
  {
   "cell_type": "markdown",
   "metadata": {},
   "source": [
    "To see what else it is capable of, this code resembles a roulette wheel and the different possible outcomes.  Also included are the weights of the three colours which are used.  The wheel is spun 12 times and the results are printed to the screen."
   ]
  },
  {
   "cell_type": "code",
   "execution_count": 26,
   "metadata": {},
   "outputs": [
    {
     "name": "stdout",
     "output_type": "stream",
     "text": [
      "['Red', 'Black', 'Red', 'Black', 'Red', 'Red', 'Red', 'Red', 'Black', 'Black', 'Black', 'Red']\n"
     ]
    }
   ],
   "source": [
    "import random\n",
    "colours = [\"Red\", \"Black\", \"Green\"]\n",
    "results = random.choices(colours, weights=[18, 18, 2], k=12)\n",
    "print (results)"
   ]
  },
  {
   "cell_type": "markdown",
   "metadata": {},
   "source": [
    "numpy.random.bytes returns random bytes"
   ]
  },
  {
   "cell_type": "code",
   "execution_count": 27,
   "metadata": {},
   "outputs": [
    {
     "data": {
      "text/plain": [
       "b'\\xc0\\xa1\\xf2\\xe4;'"
      ]
     },
     "execution_count": 27,
     "metadata": {},
     "output_type": "execute_result"
    }
   ],
   "source": [
    "np.random.bytes(5)"
   ]
  },
  {
   "cell_type": "markdown",
   "metadata": {},
   "source": [
    "And to take it a step further with bytes, an alternative way to generate a secure random sequence. Using the standard library secrets module for use in  passwords, account authentication, security tokens, and related secrets."
   ]
  },
  {
   "cell_type": "code",
   "execution_count": 28,
   "metadata": {},
   "outputs": [
    {
     "data": {
      "text/plain": [
       "b'\\x11lr\\x10'"
      ]
     },
     "execution_count": 28,
     "metadata": {},
     "output_type": "execute_result"
    }
   ],
   "source": [
    "import secrets\n",
    "b\"\\x11\" + secrets.token_bytes(2) + b\"\\x10\""
   ]
  },
  {
   "cell_type": "markdown",
   "metadata": {},
   "source": [
    "## Permutations"
   ]
  },
  {
   "cell_type": "code",
   "execution_count": 29,
   "metadata": {},
   "outputs": [
    {
     "data": {
      "text/plain": [
       "array([ 1,  0,  2,  5,  0, 16])"
      ]
     },
     "execution_count": 29,
     "metadata": {},
     "output_type": "execute_result"
    }
   ],
   "source": [
    " np.random.permutation([0, 1, 0, 2, 5, 16])\n"
   ]
  },
  {
   "cell_type": "code",
   "execution_count": 30,
   "metadata": {},
   "outputs": [
    {
     "data": {
      "text/plain": [
       "array([[ 2,  3],\n",
       "       [ 4,  5],\n",
       "       [ 0,  1],\n",
       "       [14, 15],\n",
       "       [12, 13],\n",
       "       [ 6,  7],\n",
       "       [ 8,  9],\n",
       "       [10, 11]])"
      ]
     },
     "execution_count": 30,
     "metadata": {},
     "output_type": "execute_result"
    }
   ],
   "source": [
    "arr = np.arange(16).reshape((8, 2))\n",
    "np.random.permutation(arr)"
   ]
  },
  {
   "cell_type": "markdown",
   "metadata": {},
   "source": [
    "\n",
    "Takes a list as an input and return an object list of tuples that contain all permutation in a list form, it arranges the elements of an ordered list into a one on one mapping with itself.\n",
    "\n",
    "np.random.permutation has two differences from np.random.shuffle:\n",
    "\n",
    "if passed an array, it will return a shuffled copy of the array; np.random.shuffle shuffles the array inplace if passed an integer, it will return a shuffled range i.e. np.random.shuffle(np.arange(n))\n",
    "\n",
    "np.random.permutation is useful when you need to shuffle ordered pairs, eg. for classification:"
   ]
  },
  {
   "cell_type": "code",
   "execution_count": 31,
   "metadata": {},
   "outputs": [
    {
     "data": {
      "text/html": [
       "<div>\n",
       "<style scoped>\n",
       "    .dataframe tbody tr th:only-of-type {\n",
       "        vertical-align: middle;\n",
       "    }\n",
       "\n",
       "    .dataframe tbody tr th {\n",
       "        vertical-align: top;\n",
       "    }\n",
       "\n",
       "    .dataframe thead th {\n",
       "        text-align: right;\n",
       "    }\n",
       "</style>\n",
       "<table border=\"1\" class=\"dataframe\">\n",
       "  <thead>\n",
       "    <tr style=\"text-align: right;\">\n",
       "      <th></th>\n",
       "      <th>country</th>\n",
       "      <th>place</th>\n",
       "    </tr>\n",
       "  </thead>\n",
       "  <tbody>\n",
       "    <tr>\n",
       "      <th>A</th>\n",
       "      <td>England</td>\n",
       "      <td>8</td>\n",
       "    </tr>\n",
       "    <tr>\n",
       "      <th>B</th>\n",
       "      <td>Austraila</td>\n",
       "      <td>7</td>\n",
       "    </tr>\n",
       "    <tr>\n",
       "      <th>C</th>\n",
       "      <td>New Zeland</td>\n",
       "      <td>5</td>\n",
       "    </tr>\n",
       "    <tr>\n",
       "      <th>D</th>\n",
       "      <td>Wales</td>\n",
       "      <td>5</td>\n",
       "    </tr>\n",
       "    <tr>\n",
       "      <th>E</th>\n",
       "      <td>France</td>\n",
       "      <td>4</td>\n",
       "    </tr>\n",
       "    <tr>\n",
       "      <th>F</th>\n",
       "      <td>Japan</td>\n",
       "      <td>3</td>\n",
       "    </tr>\n",
       "    <tr>\n",
       "      <th>G</th>\n",
       "      <td>South Africa</td>\n",
       "      <td>2</td>\n",
       "    </tr>\n",
       "    <tr>\n",
       "      <th>H</th>\n",
       "      <td>Ireland</td>\n",
       "      <td>1</td>\n",
       "    </tr>\n",
       "  </tbody>\n",
       "</table>\n",
       "</div>"
      ],
      "text/plain": [
       "        country place\n",
       "A       England     8\n",
       "B     Austraila     7\n",
       "C    New Zeland     5\n",
       "D         Wales     5\n",
       "E        France     4\n",
       "F         Japan     3\n",
       "G  South Africa     2\n",
       "H       Ireland     1"
      ]
     },
     "execution_count": 31,
     "metadata": {},
     "output_type": "execute_result"
    }
   ],
   "source": [
    "# Create a table and take a look at it\n",
    "import pandas as pd\n",
    "raw_data = {\n",
    "    \"country\": [\"England\", \"Austraila\", \"New Zeland\",  \"Wales\", \"France\", \"Japan\", \"South Africa\", \"Ireland\"],\n",
    "    \"place\": [\"8\", \"7\", \"5\", \"5\", \"4\", \"3\", \"2\", \"1\"]\n",
    "    }\n",
    "df = pd.DataFrame (raw_data,\n",
    "                  index = pd.Index([\"A\", \"B\", \"C\", \"D\", \"E\", \"F\", \"G\", \"H\"]))\n",
    "df"
   ]
  },
  {
   "cell_type": "code",
   "execution_count": 32,
   "metadata": {},
   "outputs": [
    {
     "data": {
      "text/html": [
       "<div>\n",
       "<style scoped>\n",
       "    .dataframe tbody tr th:only-of-type {\n",
       "        vertical-align: middle;\n",
       "    }\n",
       "\n",
       "    .dataframe tbody tr th {\n",
       "        vertical-align: top;\n",
       "    }\n",
       "\n",
       "    .dataframe thead th {\n",
       "        text-align: right;\n",
       "    }\n",
       "</style>\n",
       "<table border=\"1\" class=\"dataframe\">\n",
       "  <thead>\n",
       "    <tr style=\"text-align: right;\">\n",
       "      <th></th>\n",
       "      <th>country</th>\n",
       "      <th>place</th>\n",
       "    </tr>\n",
       "  </thead>\n",
       "  <tbody>\n",
       "    <tr>\n",
       "      <th>A</th>\n",
       "      <td>England</td>\n",
       "      <td>8</td>\n",
       "    </tr>\n",
       "    <tr>\n",
       "      <th>B</th>\n",
       "      <td>Austraila</td>\n",
       "      <td>7</td>\n",
       "    </tr>\n",
       "    <tr>\n",
       "      <th>C</th>\n",
       "      <td>New Zeland</td>\n",
       "      <td>5</td>\n",
       "    </tr>\n",
       "    <tr>\n",
       "      <th>D</th>\n",
       "      <td>Wales</td>\n",
       "      <td>5</td>\n",
       "    </tr>\n",
       "    <tr>\n",
       "      <th>E</th>\n",
       "      <td>France</td>\n",
       "      <td>4</td>\n",
       "    </tr>\n",
       "    <tr>\n",
       "      <th>F</th>\n",
       "      <td>Japan</td>\n",
       "      <td>3</td>\n",
       "    </tr>\n",
       "    <tr>\n",
       "      <th>G</th>\n",
       "      <td>South Africa</td>\n",
       "      <td>2</td>\n",
       "    </tr>\n",
       "    <tr>\n",
       "      <th>H</th>\n",
       "      <td>Ireland</td>\n",
       "      <td>1</td>\n",
       "    </tr>\n",
       "  </tbody>\n",
       "</table>\n",
       "</div>"
      ],
      "text/plain": [
       "        country place\n",
       "A       England     8\n",
       "B     Austraila     7\n",
       "C    New Zeland     5\n",
       "D         Wales     5\n",
       "E        France     4\n",
       "F         Japan     3\n",
       "G  South Africa     2\n",
       "H       Ireland     1"
      ]
     },
     "execution_count": 32,
     "metadata": {},
     "output_type": "execute_result"
    }
   ],
   "source": [
    "nrows = df.shape[0]\n",
    "df"
   ]
  },
  {
   "cell_type": "markdown",
   "metadata": {},
   "source": [
    "Randomise the sequence of the rows"
   ]
  },
  {
   "cell_type": "code",
   "execution_count": 33,
   "metadata": {},
   "outputs": [],
   "source": [
    "# Randomise the sequence of the rows\n",
    "\n",
    "b = np.random.permutation(nrows)"
   ]
  },
  {
   "cell_type": "code",
   "execution_count": 34,
   "metadata": {},
   "outputs": [
    {
     "data": {
      "text/plain": [
       "array([4, 5, 2, 0, 1, 6, 3, 7])"
      ]
     },
     "execution_count": 34,
     "metadata": {},
     "output_type": "execute_result"
    }
   ],
   "source": [
    "b"
   ]
  },
  {
   "cell_type": "markdown",
   "metadata": {},
   "source": [
    "\n",
    "Print out the data frame based on the array created above with permutation. Take function takes the indeces and change the order of the rows according to the indeces that we pass it."
   ]
  },
  {
   "cell_type": "code",
   "execution_count": 35,
   "metadata": {},
   "outputs": [
    {
     "data": {
      "text/html": [
       "<div>\n",
       "<style scoped>\n",
       "    .dataframe tbody tr th:only-of-type {\n",
       "        vertical-align: middle;\n",
       "    }\n",
       "\n",
       "    .dataframe tbody tr th {\n",
       "        vertical-align: top;\n",
       "    }\n",
       "\n",
       "    .dataframe thead th {\n",
       "        text-align: right;\n",
       "    }\n",
       "</style>\n",
       "<table border=\"1\" class=\"dataframe\">\n",
       "  <thead>\n",
       "    <tr style=\"text-align: right;\">\n",
       "      <th></th>\n",
       "      <th>country</th>\n",
       "      <th>place</th>\n",
       "    </tr>\n",
       "  </thead>\n",
       "  <tbody>\n",
       "    <tr>\n",
       "      <th>E</th>\n",
       "      <td>France</td>\n",
       "      <td>4</td>\n",
       "    </tr>\n",
       "    <tr>\n",
       "      <th>F</th>\n",
       "      <td>Japan</td>\n",
       "      <td>3</td>\n",
       "    </tr>\n",
       "    <tr>\n",
       "      <th>C</th>\n",
       "      <td>New Zeland</td>\n",
       "      <td>5</td>\n",
       "    </tr>\n",
       "    <tr>\n",
       "      <th>A</th>\n",
       "      <td>England</td>\n",
       "      <td>8</td>\n",
       "    </tr>\n",
       "    <tr>\n",
       "      <th>B</th>\n",
       "      <td>Austraila</td>\n",
       "      <td>7</td>\n",
       "    </tr>\n",
       "    <tr>\n",
       "      <th>G</th>\n",
       "      <td>South Africa</td>\n",
       "      <td>2</td>\n",
       "    </tr>\n",
       "    <tr>\n",
       "      <th>D</th>\n",
       "      <td>Wales</td>\n",
       "      <td>5</td>\n",
       "    </tr>\n",
       "    <tr>\n",
       "      <th>H</th>\n",
       "      <td>Ireland</td>\n",
       "      <td>1</td>\n",
       "    </tr>\n",
       "  </tbody>\n",
       "</table>\n",
       "</div>"
      ],
      "text/plain": [
       "        country place\n",
       "E        France     4\n",
       "F         Japan     3\n",
       "C    New Zeland     5\n",
       "A       England     8\n",
       "B     Austraila     7\n",
       "G  South Africa     2\n",
       "D         Wales     5\n",
       "H       Ireland     1"
      ]
     },
     "execution_count": 35,
     "metadata": {},
     "output_type": "execute_result"
    }
   ],
   "source": [
    "# Print out the data frame based on the array created above with permutation. The function takes the indeces and changes order of the rows according to the indeces that we pass it.\n",
    "\n",
    "df.take(b)"
   ]
  },
  {
   "cell_type": "code",
   "execution_count": 36,
   "metadata": {},
   "outputs": [
    {
     "data": {
      "text/plain": [
       "Index(['A', 'B', 'C', 'D', 'E', 'F', 'G', 'H'], dtype='object')"
      ]
     },
     "execution_count": 36,
     "metadata": {},
     "output_type": "execute_result"
    }
   ],
   "source": [
    "# Ransomise the index and print out table based on that.\n",
    "\n",
    "df.index"
   ]
  },
  {
   "cell_type": "code",
   "execution_count": 37,
   "metadata": {},
   "outputs": [
    {
     "data": {
      "text/plain": [
       "array(['E', 'A', 'B', 'D', 'F', 'H', 'G', 'C'], dtype=object)"
      ]
     },
     "execution_count": 37,
     "metadata": {},
     "output_type": "execute_result"
    }
   ],
   "source": [
    "np.random.permutation(df.index)"
   ]
  },
  {
   "cell_type": "code",
   "execution_count": 38,
   "metadata": {},
   "outputs": [
    {
     "data": {
      "text/html": [
       "<div>\n",
       "<style scoped>\n",
       "    .dataframe tbody tr th:only-of-type {\n",
       "        vertical-align: middle;\n",
       "    }\n",
       "\n",
       "    .dataframe tbody tr th {\n",
       "        vertical-align: top;\n",
       "    }\n",
       "\n",
       "    .dataframe thead th {\n",
       "        text-align: right;\n",
       "    }\n",
       "</style>\n",
       "<table border=\"1\" class=\"dataframe\">\n",
       "  <thead>\n",
       "    <tr style=\"text-align: right;\">\n",
       "      <th></th>\n",
       "      <th>country</th>\n",
       "      <th>place</th>\n",
       "    </tr>\n",
       "  </thead>\n",
       "  <tbody>\n",
       "    <tr>\n",
       "      <th>G</th>\n",
       "      <td>South Africa</td>\n",
       "      <td>2</td>\n",
       "    </tr>\n",
       "    <tr>\n",
       "      <th>A</th>\n",
       "      <td>England</td>\n",
       "      <td>8</td>\n",
       "    </tr>\n",
       "    <tr>\n",
       "      <th>H</th>\n",
       "      <td>Ireland</td>\n",
       "      <td>1</td>\n",
       "    </tr>\n",
       "    <tr>\n",
       "      <th>D</th>\n",
       "      <td>Wales</td>\n",
       "      <td>5</td>\n",
       "    </tr>\n",
       "    <tr>\n",
       "      <th>F</th>\n",
       "      <td>Japan</td>\n",
       "      <td>3</td>\n",
       "    </tr>\n",
       "    <tr>\n",
       "      <th>B</th>\n",
       "      <td>Austraila</td>\n",
       "      <td>7</td>\n",
       "    </tr>\n",
       "    <tr>\n",
       "      <th>E</th>\n",
       "      <td>France</td>\n",
       "      <td>4</td>\n",
       "    </tr>\n",
       "    <tr>\n",
       "      <th>C</th>\n",
       "      <td>New Zeland</td>\n",
       "      <td>5</td>\n",
       "    </tr>\n",
       "  </tbody>\n",
       "</table>\n",
       "</div>"
      ],
      "text/plain": [
       "        country place\n",
       "G  South Africa     2\n",
       "A       England     8\n",
       "H       Ireland     1\n",
       "D         Wales     5\n",
       "F         Japan     3\n",
       "B     Austraila     7\n",
       "E        France     4\n",
       "C    New Zeland     5"
      ]
     },
     "execution_count": 38,
     "metadata": {},
     "output_type": "execute_result"
    }
   ],
   "source": [
    "# Reindex function changes the order of the index, giving an alternative method ov viewing it.\n",
    "\n",
    "df.reindex(np.random.permutation(df.index))"
   ]
  },
  {
   "cell_type": "code",
   "execution_count": 39,
   "metadata": {},
   "outputs": [
    {
     "data": {
      "text/html": [
       "<div>\n",
       "<style scoped>\n",
       "    .dataframe tbody tr th:only-of-type {\n",
       "        vertical-align: middle;\n",
       "    }\n",
       "\n",
       "    .dataframe tbody tr th {\n",
       "        vertical-align: top;\n",
       "    }\n",
       "\n",
       "    .dataframe thead th {\n",
       "        text-align: right;\n",
       "    }\n",
       "</style>\n",
       "<table border=\"1\" class=\"dataframe\">\n",
       "  <thead>\n",
       "    <tr style=\"text-align: right;\">\n",
       "      <th></th>\n",
       "      <th>country</th>\n",
       "      <th>place</th>\n",
       "    </tr>\n",
       "  </thead>\n",
       "  <tbody>\n",
       "    <tr>\n",
       "      <th>E</th>\n",
       "      <td>France</td>\n",
       "      <td>4</td>\n",
       "    </tr>\n",
       "    <tr>\n",
       "      <th>C</th>\n",
       "      <td>New Zeland</td>\n",
       "      <td>5</td>\n",
       "    </tr>\n",
       "    <tr>\n",
       "      <th>D</th>\n",
       "      <td>Wales</td>\n",
       "      <td>5</td>\n",
       "    </tr>\n",
       "    <tr>\n",
       "      <th>B</th>\n",
       "      <td>Austraila</td>\n",
       "      <td>7</td>\n",
       "    </tr>\n",
       "    <tr>\n",
       "      <th>H</th>\n",
       "      <td>Ireland</td>\n",
       "      <td>1</td>\n",
       "    </tr>\n",
       "    <tr>\n",
       "      <th>G</th>\n",
       "      <td>South Africa</td>\n",
       "      <td>2</td>\n",
       "    </tr>\n",
       "    <tr>\n",
       "      <th>A</th>\n",
       "      <td>England</td>\n",
       "      <td>8</td>\n",
       "    </tr>\n",
       "    <tr>\n",
       "      <th>F</th>\n",
       "      <td>Japan</td>\n",
       "      <td>3</td>\n",
       "    </tr>\n",
       "  </tbody>\n",
       "</table>\n",
       "</div>"
      ],
      "text/plain": [
       "        country place\n",
       "E        France     4\n",
       "C    New Zeland     5\n",
       "D         Wales     5\n",
       "B     Austraila     7\n",
       "H       Ireland     1\n",
       "G  South Africa     2\n",
       "A       England     8\n",
       "F         Japan     3"
      ]
     },
     "execution_count": 39,
     "metadata": {},
     "output_type": "execute_result"
    }
   ],
   "source": [
    "# Sample method of randomistaion. Show a random sample using all the rows\n",
    "\n",
    "df.sample(n=nrows)"
   ]
  },
  {
   "cell_type": "code",
   "execution_count": 40,
   "metadata": {},
   "outputs": [
    {
     "name": "stdout",
     "output_type": "stream",
     "text": [
      "Password is = aaeeacrbre\n",
      "Password is = cacecebcceee\n"
     ]
    }
   ],
   "source": [
    "# Create a random password of first 10 then 12 letters from predefined letters\n",
    "\n",
    "def randString(length=10):\n",
    "    #Select letters to be used in the string\n",
    "    letters='rebecca'\n",
    "    return ''.join((random.choice(letters) for i in range(length)))\n",
    "print('Password is =',  randString() )\n",
    "print ('Password is =', randString(12) )  "
   ]
  },
  {
   "cell_type": "code",
   "execution_count": 41,
   "metadata": {},
   "outputs": [
    {
     "name": "stdout",
     "output_type": "stream",
     "text": [
      "Generated password = ['E' 'C' 'E' 'B' 'A']\n"
     ]
    }
   ],
   "source": [
    "# An example of a way to create a password using the permutation function from predefined letters in a preselected lenght.\n",
    "\n",
    "Letters = np.array(['R', 'E', 'B', 'E', 'C', 'C', 'A',])\n",
    "Order = np.random.permutation(Letters)\n",
    "print('Generated password =', Order[2:12])"
   ]
  },
  {
   "cell_type": "markdown",
   "metadata": {},
   "source": [
    "A different tool is used here, an itertool. Iterators are data types that can be used in a for loop. The most common iterator in Python is the list. This doesn't relate really to the assignment but I went down a bit of a rabbit hole and was interested to see what it could produce."
   ]
  },
  {
   "cell_type": "code",
   "execution_count": 42,
   "metadata": {},
   "outputs": [
    {
     "data": {
      "text/plain": [
       "[('Ireland', 'Win', 1),\n",
       " ('Ireland', 'Win', 2),\n",
       " ('Ireland', 'Win', 3),\n",
       " ('Ireland', 'Loose', 1),\n",
       " ('Ireland', 'Loose', 2),\n",
       " ('Ireland', 'Loose', 3),\n",
       " ('Ireland', 'Draw', 1),\n",
       " ('Ireland', 'Draw', 2),\n",
       " ('Ireland', 'Draw', 3),\n",
       " ('England', 'Win', 1),\n",
       " ('England', 'Win', 2),\n",
       " ('England', 'Win', 3),\n",
       " ('England', 'Loose', 1),\n",
       " ('England', 'Loose', 2),\n",
       " ('England', 'Loose', 3),\n",
       " ('England', 'Draw', 1),\n",
       " ('England', 'Draw', 2),\n",
       " ('England', 'Draw', 3),\n",
       " ('New Zeland', 'Win', 1),\n",
       " ('New Zeland', 'Win', 2),\n",
       " ('New Zeland', 'Win', 3),\n",
       " ('New Zeland', 'Loose', 1),\n",
       " ('New Zeland', 'Loose', 2),\n",
       " ('New Zeland', 'Loose', 3),\n",
       " ('New Zeland', 'Draw', 1),\n",
       " ('New Zeland', 'Draw', 2),\n",
       " ('New Zeland', 'Draw', 3)]"
      ]
     },
     "execution_count": 42,
     "metadata": {},
     "output_type": "execute_result"
    }
   ],
   "source": [
    "import itertools\n",
    "a = [[\"Ireland\", \"England\", \"New Zeland\"], [\"Win\", \"Loose\", \"Draw\"], [1, 2, 3]]\n",
    "list(itertools.product(*a))"
   ]
  },
  {
   "cell_type": "code",
   "execution_count": 43,
   "metadata": {},
   "outputs": [
    {
     "data": {
      "text/plain": [
       "array([['Win', 'Loose', 'Draw'],\n",
       "       ['1', '2', '3'],\n",
       "       ['Ireland', 'England', 'New Zeland']], dtype='<U10')"
      ]
     },
     "execution_count": 43,
     "metadata": {},
     "output_type": "execute_result"
    }
   ],
   "source": [
    "# Another way to look at permutations, passing three separate statements, each with their own sub-statements. I just put this in to see how it would look in comparision with the other ways I used the same function above. \n",
    "\n",
    "import numpy as np\n",
    "np.random.permutation ([(\"Ireland\", \"England\", \"New Zeland\"), (\"Win\", \"Loose\", \"Draw\"), (1, 2, 3)])"
   ]
  },
  {
   "cell_type": "code",
   "execution_count": null,
   "metadata": {},
   "outputs": [],
   "source": []
  },
  {
   "cell_type": "code",
   "execution_count": null,
   "metadata": {},
   "outputs": [],
   "source": []
  },
  {
   "attachments": {
    "bell%20curve%201.png": {
     "image/png": "[encoded data removed]"
    },
    "bell%20curve.png": {
     "image/png": "[encoded data removed]"
    },
    "normal%20probability%20density.svg": {
     "image/svg+xml": [
      "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"
     ]
    }
   },
   "cell_type": "markdown",
   "metadata": {},
   "source": [
    "## Problem Statement 4\n",
    "## Explain the use and purpose of at least five \"Distributions\" functions\n",
    "\n",
    "\n",
    "\n",
    "### Numpy.random.normal\n",
    "\n",
    "Numpy.random.normal Enables the creation of an array in which the data looks to be distributed normally aka the bell curve or Gaussian distribution.\n",
    "A list of random samples are selected from a normal distribution. Different results will be drawn each time the function is executed (this is due to the random part) but will generally be the same shape. The peak is always in the middle and the curve is always symmetrical.\n",
    "A larger size will give a better, more accurate result. Bell curve provide a quick way to visualize the mean, mode and median.\n",
    "If the distribution is normal the mean, median and mode are the same.\n",
    "\n",
    "There are 3 key arguments which influence it. Loc, scale and size. The syntax will look like: np.random.normal (loc=, scale=, size=) np.random.normal is the function name, this is how we call it. Loc=, sets the mean of the data, which defaults to 0 if no other value is chosen. This is the very top of the curve. In a normal distribution, fifty percent of the distribution lies to the right of the mean and fifty percent to the left.\n",
    "\n",
    "Scale=, standard deviation of normal distribution, set to 1 as default. Shows how much variation from the average.\n",
    "If the data points were very close to the mean it shows a low standard deviation and if the data points were spread out it has a high standard deviation.\n",
    "\n",
    "<img src=\"bell curve 1.png\" style=\"width:300px; height:300px\"/>\n",
    "\n",
    "![bell%20curve%201.png](attachment:bell%20curve%201.png)\n",
    "\n",
    "The size controls the size and shape of the array. This array can be modelled on a 1 dimensional or multi dimensional depending on the integers provided.\n",
    "\n",
    "<img src=\"bell curve.png\" style=\"width:300px; height:300px\"/>\n",
    "\n",
    "![bell%20curve.png](attachment:bell%20curve.png)\n",
    "\n",
    "The probability density of the normal distribution is\n",
    "\n",
    "<img src=\"normal probability density.png\" style=\"width:300px; height:300px\"/>\n",
    "\n",
    "\n",
    "![normal%20probability%20density.svg](attachment:normal%20probability%20density.svg)\n",
    "\n",
    "\n",
    "\\begin{align}\n",
    "\\ \\mu \\\\ \n",
    "\\end{align} is the mean or expectation of the distribution (and also its median and mode)\n",
    "\n",
    "\n",
    "\\begin{align}\n",
    "\\ \\sigma \\\\ \n",
    "\\end{align}\n",
    "is the standard deviation\n",
    "\n",
    "\\begin{align}\n",
    "\\ \\sigma ^2\\\\ \n",
    "\\end{align}\n",
    "is the variance\n",
    "\n",
    "\n",
    "\n",
    "\n",
    "https://en.wikipedia.org/wiki/Normal_distribution\n"
   ]
  },
  {
   "cell_type": "markdown",
   "metadata": {},
   "source": []
  },
  {
   "cell_type": "code",
   "execution_count": 44,
   "metadata": {},
   "outputs": [
    {
     "data": {
      "text/plain": [
       "array([-0.87231123])"
      ]
     },
     "execution_count": 44,
     "metadata": {},
     "output_type": "execute_result"
    }
   ],
   "source": [
    "#Generate a single number from normal distribution. \n",
    "\n",
    "np.random.normal(size = 1, loc = 0, scale = 1)"
   ]
  },
  {
   "cell_type": "code",
   "execution_count": 45,
   "metadata": {},
   "outputs": [
    {
     "data": {
      "text/plain": [
       "array([ 2.2159028 , -0.21625924, -0.92628758, -1.02523429, -0.43301143])"
      ]
     },
     "execution_count": 45,
     "metadata": {},
     "output_type": "execute_result"
    }
   ],
   "source": [
    "np.random.normal(size = 5, loc = 0, scale = 1)"
   ]
  },
  {
   "cell_type": "code",
   "execution_count": 82,
   "metadata": {},
   "outputs": [
    {
     "name": "stdout",
     "output_type": "stream",
     "text": [
      "[51.62434536 49.38824359 49.47182825 48.92703138 50.86540763 47.6984613\n",
      " 51.74481176 49.2387931  50.3190391  49.75062962 51.46210794 47.93985929\n",
      " 49.6775828  49.61594565 51.13376944 48.90010873 49.82757179 49.12214158\n",
      " 50.04221375 50.58281521 48.89938082 51.14472371 50.90159072 50.50249434\n",
      " 50.90085595 49.31627214 49.87710977 49.06423057 49.73211192 50.53035547\n",
      " 49.30833925 49.60324647 49.3128273  49.15479436 49.32875387 49.9873354\n",
      " 48.88268965 50.2344157  51.65980218 50.74204416 49.80816445 49.11237104\n",
      " 49.25284171 51.6924546  50.05080775 49.36300435 50.19091548 52.10025514\n",
      " 50.12015895 50.61720311 50.30017032 49.64775015 48.8574818  49.65065728\n",
      " 49.79110577 50.58662319 50.83898341 50.93110208 50.28558733 50.88514116\n",
      " 49.24560206 51.25286816 50.51292982 49.70190716 50.48851815 49.92442829\n",
      " 51.13162939 51.51981682 52.18557541 48.60350366 48.55588619 49.49553414\n",
      " 50.16003707 50.87616892 50.31563495 47.97779878 49.69379599 50.82797464\n",
      " 50.23009474 50.76201118 49.77767186 49.79924193 50.18656139 50.41005165\n",
      " 50.19829972 50.11900865 49.32933771 50.37756379 50.12182127 51.12948391\n",
      " 51.19891788 50.18515642 49.62471505 49.36126959 50.42349435 50.07734007\n",
      " 49.65614632 50.04359686 49.37999916 50.69803203 49.55287144 51.2245077\n",
      " 50.40349164 50.59357852 48.90508815 50.16938243 50.74055645 49.0462994\n",
      " 49.73378149 50.03261455 48.62688268 50.31515939 50.84616065 49.14048406\n",
      " 50.35054598 48.68771659 49.96130449 48.38422765 51.12141771 50.40890054\n",
      " 49.97538304 49.22483838 51.27375593 51.96710175 48.14201814 51.23616403\n",
      " 51.62765075 50.3380117  48.80073197 50.86334532 49.8190797  49.39607937\n",
      " 48.76994186 50.5505375  50.79280687 49.37646927 50.52057634 48.85565861\n",
      " 50.80186103 50.0465673  49.81343023 49.89825413 50.86888616 50.75041164\n",
      " 50.52946532 50.13770121 50.07782113 50.61838026 50.23249456 50.68255141\n",
      " 49.68988323 47.56516224 51.0388246  52.18697965 50.44136444 49.89984477\n",
      " 49.86355526 49.88094581 50.01740941 48.87798127 49.48290554 49.00297317\n",
      " 50.24879916 49.70335885 50.49521132 49.82529684 50.98633519 50.2135339\n",
      " 52.19069973 48.10363908 49.35308331 50.90148689 52.52832571 49.75136522\n",
      " 50.04366899 49.77368576 51.33145711 49.71269214 50.68006984 49.6801984\n",
      " 48.72744124 50.31354772 50.50318481 51.29322588 49.88955297 49.38263794\n",
      " 50.5627611  50.24073709 50.28066508 49.9268873  51.16033857 50.36949272\n",
      " 51.90465871 51.1110567  50.6590498  48.37256166 50.60231928 50.4202822\n",
      " 50.81095167 51.04444209 49.59912181 50.82400562 49.43769457 51.95487808\n",
      " 48.66804833 48.23931144 48.34927873 49.10944442 48.8808846  51.9560789\n",
      " 49.6735005  48.65732421 51.11438298 49.41347606 48.76314662 50.87583893\n",
      " 50.62336218 49.56504332 51.40754    50.12910158 51.6169496  50.50274088\n",
      " 51.55880554 50.1094027  48.7802556  52.44936865 49.45422583 49.80116214\n",
      " 49.2996015  49.79660555 50.24266944 50.20183018 50.66102029 51.79215821\n",
      " 49.87953543 48.76687926 48.81768187 49.33424548 48.32580419 50.82502982\n",
      " 49.50178644 49.68901502 49.99810852 48.60337958 49.13868364 50.67471153\n",
      " 50.61853913 49.55682807 51.81053491 48.69427308 49.65501279 49.76916026\n",
      " 47.206915   51.93752881 50.36633201 48.95541062 52.05117344 50.585662\n",
      " 50.42952614 49.3930016  50.10622272 48.47431968 50.79502609 49.62556168\n",
      " 50.1340482  51.20205486 50.28474811 50.26246745 50.2764993  49.2667284\n",
      " 50.83600472 51.54335911 50.75880566 50.88490881 49.12271848 49.13221278\n",
      " 48.55912398 51.23225307 49.74582013 51.39984394 49.21808832 49.56249102\n",
      " 50.09542509 50.92145007 50.0607502  50.21112476 50.01652757 50.17718772\n",
      " 48.88352998 50.0809271  49.81342101 49.94317552 50.49233656 49.31932186\n",
      " 49.91549197 49.70263812 50.417302   50.78477065 49.04457474 50.58591043\n",
      " 52.06578332 48.52884307 49.1698281  49.1194224  49.72090228 51.62284909\n",
      " 50.01335268 49.3053064  50.6218035  49.40019547 51.12341216 50.30526704\n",
      " 51.3887794  49.33865576 53.03085711 50.82458463 50.65458015 49.94881155\n",
      " 49.27440288 49.13223132 49.86402267 49.20273021 50.28267571 49.17390257\n",
      " 50.6210827  50.9561217  49.29415949 51.19268607 49.76205806 51.15528789\n",
      " 50.43816635 51.12232832 49.0029802  49.89320601 51.45142926 49.38196315\n",
      " 47.96279877 48.05741082 47.49355935 47.88583608 49.58836084 51.27852808\n",
      " 49.55777072 50.32352735 49.89000851 50.00854895 49.83180116 49.82581966\n",
      " 50.4611641  48.82401733 51.01012718 50.92001793 49.80494266 50.80539342\n",
      " 49.29865557 49.46277698 50.15626385 49.80977897 49.55126197 49.32755196\n",
      " 49.44250528 50.93916874 48.05667659 50.35249436 49.76356305 50.7278135\n",
      " 50.51507361 47.21746553 50.58464661 50.32427424 50.02186284 49.53132618\n",
      " 50.85328122 49.58697069 51.83471763 50.56438286 52.13782807 49.214466\n",
      " 48.24407436 50.7147896  50.85270406 50.0353601  48.46120675 49.55210482\n",
      " 50.61798553 49.81582367 49.88401481 49.82454103 49.06608534 49.46697967\n",
      " 48.57344458 51.76795995 49.52462712 50.47761018 48.97811406 50.79452824\n",
      " 48.12683902 50.92061512 49.96463208 52.11060505 48.69346593 50.07638048\n",
      " 50.36723181 51.23289919 49.57714304 50.08646441 47.85753327 49.16983114\n",
      " 50.45161595 51.10417433 49.71826373 52.05635552 51.76024923 49.93934751\n",
      " 47.586497   48.22243362 49.22214117 51.11584111 50.31027229 47.90575218\n",
      " 49.77123417 51.61336137 49.62519531 49.25003038 52.0546241  50.05340954\n",
      " 49.5208429  50.35016716 50.01716473 49.57085772 51.20845633 51.1157018\n",
      " 50.84086156 49.89711278 51.14690038 49.95029742 50.46664327 51.03368687\n",
      " 50.80884436 51.78975468 50.45128402 48.31594001 48.8398299  51.35010682\n",
      " 49.66871683 50.38653915 49.14854434 51.00088142 49.61516775 51.45810824\n",
      " 49.46776598 51.1181334  50.6743961  49.27760809 51.09899633 49.09836551\n",
      " 49.17753281 50.72171129 49.374658   49.40615693 49.65609929 48.99983081\n",
      " 51.04499441 50.6085147  49.9306713  49.89160793 50.45015551 51.7653351\n",
      " 50.8709698  49.49154287 50.77741921 49.88122883 49.80100182 51.86647138\n",
      " 49.5810621  49.52081508 48.04789471 48.59767085 50.45112294 49.3050791\n",
      " 50.5154138  48.88512895 49.23269017 50.67457071 51.46089238 50.5924728\n",
      " 51.19783084 51.70459417 51.04008915 49.08155996 49.89465529 50.63019567\n",
      " 49.5851531  50.45194604 48.42084371 49.17137202 50.52887975 47.76291349\n",
      " 48.8922875  49.98228168 48.28060553 50.057121   49.20045251 49.7084054\n",
      " 49.74101715 50.1892932  49.43621127 50.08968641 49.3988432  50.55607351\n",
      " 51.69380911 50.19686978 50.16986926 48.83599203 50.69336623 49.24193267\n",
      " 49.1911528  50.55743945 50.18103874 51.10717545 51.44287693 49.46031844\n",
      " 50.12837699 51.76041518 50.96653925 50.71304905 51.30620607 49.39539703\n",
      " 50.63658341 51.40925339 51.62091229 49.19381518 49.74832579 50.38271517\n",
      " 49.71100266 49.60818376 50.68400133 49.64659002 48.21208711 50.36184732\n",
      " 49.57550721 49.26846902 48.43426185 51.01382247 47.77288737 48.3006664\n",
      " 49.72415394 51.22895559 51.30970591 48.84501737 49.8223678  48.48954362\n",
      " 51.01120706 48.52343734 49.85680425 51.03298378 49.77758597 51.47016034\n",
      " 49.12999178 50.36919047 50.85328219 49.86028827 51.38631426 50.54812958\n",
      " 48.36255041 53.9586027  50.64864364 50.10734329 48.60118718 50.08176782\n",
      " 49.54005717 50.64435367 50.37167029 51.85300949 50.14225137 50.51350548\n",
      " 50.37245685 49.8515102  49.8165998  51.1010002  50.78002714 49.3705584\n",
      " 48.8865639  49.93258998 51.16143998 49.97247061 51.74643509 49.22492971\n",
      " 50.14164054 47.48369614 49.40433212 49.69087868 50.51093777 51.71066184\n",
      " 50.03494359 51.45391758 50.66168108 50.98635218 49.53384514 51.38499134\n",
      " 48.92703572 50.49515861 49.0479379  49.48185445 48.5385964  49.48365209\n",
      " 50.3511169  49.93122954 48.65223506 51.47073986 50.33722094 51.00806543\n",
      " 50.78522692 49.33513223 48.05495304 49.08457563 51.22515585 48.94645393\n",
      " 50.81604368 49.38759303 50.39310924 48.17608015 51.16707517 49.9603313\n",
      " 50.8858258  50.18986165 50.7980638  49.89806796 50.74335654 48.49042732\n",
      " 48.91928931 50.725474   49.96082174 49.77124583 49.82038771 50.50172511\n",
      " 49.40665625 50.5103076  49.08420815 49.59274796 50.98495167 51.07125243\n",
      " 48.90284564 50.83863475 48.96081768 50.73302323 48.10118794 48.88288931\n",
      " 49.49102772 49.83351405 51.42361443 50.90399917 51.57546791 51.2066079\n",
      " 49.71713645 49.73367312 51.06897162 50.04037143 49.84300633 48.66479728\n",
      " 49.89353988 47.20900359 49.54388244 49.02010975 50.69257435 49.52132764\n",
      " 49.67094845 51.34710546 48.95093225 50.3166589  48.10473305 50.08972912\n",
      " 50.41026575 50.85987097 49.10131681 50.31965694 50.3181542  49.98076837\n",
      " 50.15001628 50.46353432 50.39788042 49.00398911 48.80413849 52.50598029\n",
      " 51.91979229 48.60830612 50.45021774 50.62743708 50.75133724 50.14039544\n",
      " 49.07312806 49.81757959 49.50887486 50.13437312 49.7316287  49.86832437\n",
      " 51.01855247 51.2305582  48.81889683 49.5400699  49.20920005 51.22372221\n",
      " 49.9406321  51.4489894  49.52241915 50.02599999 48.65130355 51.30253554\n",
      " 49.63738791 48.51484355 49.40753871 47.69509206 49.96818283 50.11248774\n",
      " 50.28807817 51.49810818 49.69902385 50.80745592 50.31223869 49.80667836\n",
      " 47.92319798 50.94750117 49.49602605 50.01795589 48.72953922 50.28299553\n",
      " 50.10803082 50.02941762 49.86520687 51.04921829 50.96622086 50.72591685\n",
      " 53.32107876 49.39977467 49.62048248 48.98519631 50.4359862  49.31251261\n",
      " 47.30163826 48.78666187 50.0722519  51.00978733 48.44305844 49.38755787\n",
      " 49.86064819 49.27146251 50.53116379 50.00400084 50.32126591 49.27478507\n",
      " 51.53653633 49.99962499 51.29354962 49.56100234 50.59003946 49.32061622\n",
      " 49.04909075 49.29564967 49.95413331 49.78126654 51.53920701 48.85129577\n",
      " 48.90966167 51.70018815 50.60878366 48.11858913 50.4972691  50.2373327\n",
      " 47.85555595 49.63043757 49.98254505 50.73140252 50.95449567 50.09574677\n",
      " 51.0334508  49.85372673 49.14250318 49.06581816 50.54264529 48.04183091\n",
      " 50.67780757 48.89342693 49.6407759  50.5053819  51.2179409  48.05931904\n",
      " 49.19382179 50.04906169 49.40391367 50.8616231  47.91360943 50.36180164\n",
      " 50.42592018 50.0490804  51.10223673 48.77042575 51.10861676 49.2970796\n",
      " 50.72555052 49.67579578 50.81434313 50.78046993 48.53594643 49.84550881\n",
      " 49.90756768 49.76212473 49.24433723 51.85143789 50.20909668 51.55501599\n",
      " 49.43085135 48.93820324 50.13224778 49.4367634  52.39014596 50.24542285\n",
      " 51.15259914 49.77576423 49.67393869 49.96908858 50.35571726 50.84958685\n",
      " 49.87784598 49.31914843 48.93212342 49.92332064 50.57296273 50.45794708\n",
      " 49.98218245 49.3998612  50.14676526 50.57180488 49.96318234 50.11236849\n",
      " 49.84949567 50.91549927 49.56179973 50.18553562 50.39442803 50.72552256\n",
      " 51.49588477 50.67545381 50.59921324 48.52976291 50.60640394 52.29371761\n",
      " 49.16998901 48.98048015 49.78534616 51.02124813 50.52475049 49.52287579\n",
      " 49.96400982 51.03703898 50.67261975 52.42887697 51.00568668 50.35356722\n",
      " 50.61472628 49.65101581 49.022227   50.17195713 50.49056104 48.60471697\n",
      " 49.47764353 49.6307441  50.2656424  49.73953394 50.44509671 50.09811225\n",
      " 51.06032751 48.28883234 51.65712464 51.41767401 50.05031709 50.65032321\n",
      " 50.6065484  49.26271037 50.16466507 50.77817418 50.30981676 51.05132077\n",
      " 50.09499611 50.08075099 49.23219625 49.63546195 49.54028232 51.70548352\n",
      " 50.24050555 49.0005735  50.39859839 49.8079963  46.94623562 50.47985237\n",
      " 48.44730122 50.57846442 49.0387364  48.54167554 50.49434165 48.50580623\n",
      " 49.5533008  50.20437739 50.61223252 50.74488454 49.96371871 49.16760465\n",
      " 51.92381543 49.39401868 51.80358898 49.54747503 51.16128569 51.06996554\n",
      " 48.95446575 50.35528451 50.75539203 50.70098212 49.80106255 50.30196005\n",
      " 49.60531032 48.82818662 50.98401224 49.44031858 51.37975819 50.6024509\n",
      " 49.10735333 49.83880168 49.71361508 49.12911235 50.50142959 49.52138593\n",
      " 51.63169151 50.86089124 49.11981094 49.98099948 49.77323981 48.43549215\n",
      " 50.93125568 50.94980882 50.92550121 49.54301214 51.06898597 49.79024706\n",
      " 50.93514778 51.81252782 50.14010988 48.58085122 49.6830988  50.64098587\n",
      " 51.21987438 48.86620796 49.8094517  50.23333913 50.43499832 50.9104236\n",
      " 49.05156034 49.5765217  51.00796648 50.39233491 50.44838065 51.1253235\n",
      " 50.10405339 50.52800342 49.68543614 48.65498998 48.70474211 50.07432055\n",
      " 49.80043928 49.34539683 50.3180143  49.10972845 50.11133727 49.98047744\n",
      " 49.16001109 47.70179412 51.45652739 50.31663724 47.33587406 49.57357138\n",
      " 50.39378773 49.77185931 50.58033011 49.02673241 50.17516773 49.94651631\n",
      " 49.81693801 49.7789711  50.19975956 50.93272141 49.4698802  49.59275998\n",
      " 50.16056499 49.87985002 50.38560229 50.71829074 51.2911889  49.88355585\n",
      " 47.722702   49.93037546 50.35387043 49.81304498]\n"
     ]
    }
   ],
   "source": [
    "# We ask for 1000 numbers with a mean of 50.  The bigger the size gives a more accurate result.\n",
    "# if we seed it then the same numbers will return each time the script is run, without it a different range will appear each time. Just a personal preference.\n",
    "np.random.seed(1)\n",
    "df=np.random.normal(size = 1000, loc = 50)\n",
    "print (df)"
   ]
  },
  {
   "cell_type": "code",
   "execution_count": 81,
   "metadata": {},
   "outputs": [
    {
     "data": {
      "text/plain": [
       "50.0388124761596"
      ]
     },
     "execution_count": 81,
     "metadata": {},
     "output_type": "execute_result"
    }
   ],
   "source": [
    " # We can see the mean is 50\n",
    "df.mean()"
   ]
  },
  {
   "cell_type": "code",
   "execution_count": 83,
   "metadata": {},
   "outputs": [
    {
     "data": {
      "text/plain": [
       "103.00374282169574"
      ]
     },
     "execution_count": 83,
     "metadata": {},
     "output_type": "execute_result"
    }
   ],
   "source": [
    "#np.random.seed(42)\n",
    "np.random.normal(size = 1000, scale = 100).std()"
   ]
  },
  {
   "cell_type": "code",
   "execution_count": 84,
   "metadata": {},
   "outputs": [
    {
     "data": {
      "text/plain": [
       "array([ 9.89516618e+01,  7.38795858e+01,  5.18881939e+00, -1.10795003e+01,\n",
       "       -1.52994507e+02,  1.10794659e+02,  1.45891116e+01,  6.52581490e+01,\n",
       "        1.00127485e+02, -2.86402771e+01,  1.51699569e+02,  6.13110582e+01,\n",
       "        1.99699525e+02,  6.68937668e+01,  8.18624695e+01,  2.26622862e+01,\n",
       "        1.97641399e+02, -1.60349278e+02, -3.28319611e+00,  1.94946006e+01,\n",
       "       -1.03042074e+02, -2.94702652e+01, -1.67212271e+02,  6.90387237e+01,\n",
       "       -9.05227544e+01,  8.69860474e+01,  2.38218304e+01, -3.32713513e+01,\n",
       "       -1.05378261e+02, -1.82847844e+01,  8.10623820e+01,  3.74552806e+01,\n",
       "        1.16624380e+02, -2.88330269e+01,  2.10599352e+02,  2.62046584e+01,\n",
       "       -3.45195429e+01,  1.81015923e+02,  1.85756648e+02,  4.09830683e+01,\n",
       "        1.56978833e+00,  1.41007464e+02, -3.94136968e+01,  1.43519154e+02,\n",
       "       -8.87180520e+01,  4.16606727e+01,  5.11755507e+01,  1.70809946e+02,\n",
       "       -1.32921963e+02,  7.34436722e+01,  3.79289533e+01,  5.02908287e+01,\n",
       "       -3.84105546e+01, -8.01894830e+01,  3.68629382e+00,  2.58336215e+01,\n",
       "        1.97518348e+02,  6.11381644e+01,  4.95723745e+01,  1.19834629e+02,\n",
       "       -1.11185464e+02,  1.22256645e+02,  1.41537614e+02,  1.40714387e+02,\n",
       "        1.67005938e+01, -7.35249996e+01, -4.84928506e+01,  7.47453869e+01,\n",
       "        1.03676485e+02,  1.77654978e+02,  2.02143405e+02,  1.37124828e+02,\n",
       "        5.33928798e+01,  7.64919957e+01,  2.64687630e+01,  1.55486845e+02,\n",
       "        1.09427155e+02,  7.15859672e+01, -7.55600538e+01,  1.54666138e+02,\n",
       "       -1.02688637e+02,  1.73178219e+02,  1.48462950e+02, -1.08706882e+02,\n",
       "        4.51535664e+01, -7.41394260e+01,  3.55380680e+01,  1.05516997e+02,\n",
       "        3.63361900e+01, -8.63868025e+01,  7.60827277e+01,  7.59487707e+01,\n",
       "        4.72765189e+01, -5.45138975e+01,  1.50218338e+01,  7.68527168e+01,\n",
       "        3.44950179e+01,  2.61262212e+02,  7.56079437e+01,  2.93238666e+01,\n",
       "        9.82597952e+01, -6.05432353e+01,  9.20755200e+01,  2.11679423e+02,\n",
       "       -3.83771319e+01,  7.98835019e+01,  1.26711310e+02, -1.19334871e+02,\n",
       "        2.13888893e+02, -5.44998189e+01,  1.64945942e+01,  8.80672178e+01,\n",
       "        2.67397116e+01,  1.30293667e+02,  6.50925417e+01,  1.06975129e+02,\n",
       "        5.74973424e+01,  1.97200161e+02, -1.51549801e+02,  8.64094247e+01,\n",
       "        1.99384872e+01, -4.59032617e+01, -3.11610011e+01, -7.19799782e+00,\n",
       "        1.07841054e+02, -3.96130436e+01,  3.36816424e+01,  7.75248870e+01,\n",
       "       -6.55791651e+01,  1.61234865e+02,  2.92158930e+02, -1.74017307e+01,\n",
       "        1.41944718e+02,  1.90320520e+01,  1.03336746e+02,  3.18294805e+01,\n",
       "        2.70866163e+02,  1.75668184e+01,  1.29393041e+02,  1.10736615e+02,\n",
       "       -5.83960137e+01, -1.66026941e+02,  1.07908722e+02,  1.34451844e+02,\n",
       "       -3.67054182e+00, -1.33374668e+01,  1.47680326e+02,  1.35283342e+02,\n",
       "        1.45587665e+02,  7.61402036e+01, -2.88276461e+01, -7.17973380e+01,\n",
       "       -1.49313655e+02,  4.42318242e+01,  2.41916876e+02,  9.77894556e+01,\n",
       "        4.20259756e+01, -1.02074622e+02, -1.67930067e+01,  5.04938776e+01,\n",
       "        2.77780524e+01,  1.40833969e+02,  3.41393230e+01,  1.19530600e+02,\n",
       "        3.85781740e+01,  3.10232834e+01,  1.75913353e+02, -2.51977434e+01,\n",
       "        2.16947132e+01, -7.92737403e+01,  5.96739355e+01,  1.56950100e+02,\n",
       "        1.18140191e+02,  1.23401181e+02,  1.55304238e+02,  1.12521819e+02,\n",
       "        1.25825943e+02,  9.03724077e+01, -4.75388545e+01,  1.02609510e+02,\n",
       "        1.44588637e+02, -3.91909655e+01,  7.35989981e+01,  1.58281307e+02,\n",
       "        1.26523545e+01, -8.21106574e+01,  5.61533972e+01,  2.09368556e+02,\n",
       "       -4.12945419e+01,  3.94609930e+01, -2.51030947e+01,  1.41032706e+01,\n",
       "        7.34771281e+01,  1.97681361e+02, -2.16644026e+01, -2.08654994e+01,\n",
       "       -3.72502440e+01, -5.93790445e+01, -1.03470006e+02, -3.51262199e+01,\n",
       "        3.94186731e+01,  5.40865387e+01,  1.67244919e+02, -3.21600485e+01,\n",
       "       -2.79938124e+01, -2.56837241e+01,  6.95745919e+01,  3.41527583e+01,\n",
       "        1.27720880e+02, -2.89140807e+01,  1.41325885e+02,  1.44251314e+02,\n",
       "        2.37532298e+01, -1.22537454e+01,  6.81169089e+01, -2.91533765e+01,\n",
       "        2.49220474e+02,  6.40887303e+01,  1.29244077e+02, -7.67107301e+01,\n",
       "       -1.25075758e+02,  1.18726621e+02,  1.01588672e+02, -2.60604757e+01,\n",
       "       -6.67756498e+00, -1.79943801e+01,  7.27826915e+01,  1.42385213e+02,\n",
       "       -1.04486021e+02,  9.78745131e+01, -3.74167721e+01, -3.09319643e+00,\n",
       "        3.39564792e+01, -8.61454040e+01,  3.34393857e+02,  2.92497747e+02,\n",
       "        1.25226986e+02,  1.15601518e+02, -5.43610193e+01,  2.87734888e+02,\n",
       "        5.18317265e+01,  3.76604490e+01,  1.70399358e+02,  7.60800066e+01,\n",
       "       -2.76603611e+01,  2.81078570e+01,  1.23914221e+01,  5.64655693e+01,\n",
       "        1.05445754e+02,  1.03275890e+02,  1.80120189e+02,  4.95896936e+01,\n",
       "        1.45806852e+02,  2.20666184e+02, -7.26022608e+01,  1.21257056e+02,\n",
       "       -5.72332110e+01, -1.00707559e+02,  2.08466204e+02,  1.63548397e+02,\n",
       "        1.02337294e+02,  2.30686024e+00,  2.00356122e+02, -8.67167725e+01,\n",
       "        5.67392920e+01,  9.85177554e+01,  1.78712693e+02, -1.02642770e+02,\n",
       "       -2.56414136e+02,  6.15370313e+01,  8.17427155e+01,  6.73680273e+01,\n",
       "       -3.77246861e+01,  4.55839200e+01, -1.04007907e+02,  9.20593392e+01,\n",
       "        1.39258840e+02, -2.32031885e+01, -1.50394177e+02,  3.70218290e+01,\n",
       "        3.01499681e+01,  4.19393006e+01,  1.80357545e+02,  6.38595479e+01,\n",
       "        2.58412285e+02,  8.80743453e+01, -5.87233671e+01,  1.63361346e+02,\n",
       "        4.09655632e+01,  1.12291427e+00,  7.79401351e+01,  6.14783811e+01,\n",
       "       -1.05859419e+02, -3.49518776e+01,  1.65200657e+02,  6.75927892e+01,\n",
       "        1.13898595e+02,  1.52015264e+02,  2.29261307e+02, -1.39096500e+01,\n",
       "       -2.03395059e+01, -4.24509595e+01, -1.00450542e+01, -4.12586767e+01,\n",
       "        4.84999268e+01,  3.91767231e+01,  1.08123827e+02, -6.90651234e+01,\n",
       "       -1.53824523e+01,  8.59461066e+01,  1.19864798e+02, -1.81661731e+02,\n",
       "       -1.02070622e+01,  2.46379610e+01, -1.54115418e+02,  9.48700357e+01,\n",
       "        1.70412753e+02, -1.44309941e+02, -1.06492877e+02,  1.45218213e+02,\n",
       "        1.63533923e+02, -7.72775637e+01, -4.87620713e+01,  1.15941881e+02,\n",
       "        2.56976268e+01, -2.13164308e+00,  2.09413738e+02,  7.97799038e+01,\n",
       "       -1.31944884e+02,  7.53313906e+01, -9.05257660e+01,  1.24205658e+02,\n",
       "        1.48199366e+02,  9.38561998e+01,  1.42781985e+02,  2.46427946e+02,\n",
       "        1.22667997e+02,  1.28040059e+01, -5.93303909e+01,  7.24450735e+01,\n",
       "       -5.35038170e+01, -9.38745273e+01,  3.81504951e+00, -1.27831813e+02,\n",
       "       -8.00473783e+01,  1.00115639e+02,  2.47447266e+00,  1.93365619e+01,\n",
       "        4.74083901e+01, -1.45419182e+02,  6.86223746e+01,  4.96170057e+01,\n",
       "        4.54793530e+01,  8.42846311e+01, -1.66492757e+02,  2.41182951e+02,\n",
       "        1.96648885e+01, -9.34213717e+01,  6.11529879e+01, -7.71167723e+01,\n",
       "        5.66392700e+01,  1.04060223e+02, -8.18896827e+01,  1.34542643e+02,\n",
       "        6.31092200e+01,  8.49083684e+01,  9.04068105e+01,  1.01243415e+02,\n",
       "        1.62036180e+02,  1.36045445e+02,  9.86910353e+01, -2.64339626e+01,\n",
       "        7.86331102e+01, -5.78339544e+00, -9.48752274e+01,  4.58623125e+01,\n",
       "       -4.12810097e+01,  1.63514139e+02,  4.62290806e+01,  5.45262569e+01,\n",
       "        1.27520612e+02,  8.18760781e+00,  2.43405142e+01,  1.66467116e+02,\n",
       "       -8.83678602e+01, -3.66955218e+01,  3.66306128e+01,  1.28478919e+02,\n",
       "        7.49792474e+01, -6.57516838e+01, -4.19773971e+01,  2.19446002e+02,\n",
       "        8.16269281e+01, -1.18441222e+01,  1.57224794e+00,  4.24024890e+02,\n",
       "        1.84027191e+02, -1.13647401e+02,  4.12250245e+00,  1.22282268e+02,\n",
       "        2.24518917e+01,  1.63905330e+02,  2.26424958e+02,  5.07560395e+01,\n",
       "        7.94739515e+01,  3.31337713e+01,  1.38279907e+02,  1.99992516e+02,\n",
       "        1.43439537e+02, -5.82977606e+01,  1.25436307e+02, -7.87539333e+00,\n",
       "        2.24836197e+02,  9.76283816e+01,  1.55812873e+02,  4.78940614e+01,\n",
       "        4.67662088e+01,  9.30777633e+01,  4.69198688e+01,  2.07891390e+02,\n",
       "       -6.42196301e+01,  1.18541645e+02, -8.66597964e+00,  1.36104624e+02,\n",
       "       -1.29711609e+02,  1.78612625e+02,  1.90631222e+01, -7.33673152e+01,\n",
       "        1.21668431e+02,  3.08223157e+01,  7.77138832e+01,  1.72790870e+02,\n",
       "       -5.91190557e+01, -2.36377135e+01,  5.80407130e+01,  1.06751540e+02,\n",
       "       -2.03614976e+01, -2.93145315e+01,  1.27133529e+02,  1.48363864e+02,\n",
       "        1.89727326e+02,  2.04864674e+01, -2.08223480e+02,  1.02339028e+02,\n",
       "        1.25993210e+02, -9.66823150e+01,  5.90380246e+01,  7.75308280e+01,\n",
       "        8.40354962e+01,  3.53055312e+00,  5.83433195e+01,  1.10039450e+02,\n",
       "       -1.27617344e+02,  1.41108243e+02,  1.34163346e+01,  1.26450212e+02,\n",
       "       -2.02620277e+01, -1.21176487e+02,  1.68113873e+02,  2.14113619e+02,\n",
       "       -1.36053074e+02, -7.92276621e+01,  5.94173158e+01, -5.49360322e+01,\n",
       "        1.26025175e+02, -2.97063899e+01, -1.75805259e+00,  7.11434969e+01,\n",
       "       -1.67822510e+02,  1.80077413e+01,  2.51464887e+02,  1.08688475e+02,\n",
       "       -4.99109513e+01,  1.54601512e+02,  2.56318544e+02,  1.77466848e+02,\n",
       "       -8.46108373e+00, -1.57596140e+01,  1.29523146e+01, -5.49053366e+01,\n",
       "        5.29215791e+01, -5.05689321e+01, -3.75239387e+01,  8.20818772e+01,\n",
       "       -6.36220582e+00,  2.95615186e+01,  2.64817824e+02,  8.68219489e+01,\n",
       "        1.69032323e+02,  9.37918132e+01,  1.10297902e+02, -8.49175207e+01,\n",
       "       -4.69719130e+00,  2.37746126e+01,  5.33733495e+00,  2.97091495e+01,\n",
       "        6.59901743e+01,  2.77387591e+01,  1.18959282e+02,  2.52202494e+01,\n",
       "        1.58395198e+02,  4.86904589e+01, -9.46762577e+00, -7.51390757e+01,\n",
       "       -2.69383624e+01,  2.45689284e+01,  1.70205935e+02, -7.71873578e+01,\n",
       "        1.54015274e+02,  4.08235807e+01, -3.31445080e+01, -8.19091230e+01,\n",
       "        1.04899513e+02, -1.40623285e+02,  3.84870295e+00,  5.96380687e+00,\n",
       "        3.36874994e+01,  1.08118494e+02, -1.14640925e+01,  6.20342428e+01,\n",
       "       -7.17846051e+01,  5.57692093e+01,  1.10835538e+02,  1.48308124e+01,\n",
       "        8.68665693e+01,  6.04632323e+01,  1.55710851e+01,  4.39182525e+01,\n",
       "        3.04979123e+01, -1.47424776e+02, -9.99162862e+01,  9.32852227e+01,\n",
       "       -1.58834704e+02,  1.65838179e+02, -9.09971138e+01,  5.30525288e+01,\n",
       "        9.72135916e+01, -1.36735024e+01,  1.66258855e+02, -8.70853549e+01,\n",
       "        1.40676638e+02,  6.48556549e+01,  3.48814178e+01,  1.51169595e+02,\n",
       "        1.03925382e+02, -7.04477437e+01,  1.91181061e+02,  1.50399640e+02,\n",
       "        6.03807681e+01,  6.49687529e+01,  1.83623672e+02,  2.15817225e+02,\n",
       "        1.11265849e+02, -6.62621434e+01,  6.20250147e+01,  1.32001991e+02,\n",
       "       -3.34498335e+01, -7.05866912e+01,  5.05778392e+01,  6.12363846e+01,\n",
       "        8.77829791e+01,  1.73029934e+02, -1.68242540e+02,  5.99861448e+01,\n",
       "        2.94322276e+01,  5.15749246e+01,  6.67433255e+01,  1.52574955e+02,\n",
       "        1.05893274e+02,  4.54300077e+01,  5.89117530e+01,  6.05357392e+01,\n",
       "        3.67034218e+01,  1.82201378e+02, -1.41223829e+02, -9.01496188e+01,\n",
       "        2.09763696e+02,  1.07365334e+02,  1.13064167e+02,  1.65818685e+02,\n",
       "       -1.51835505e+02,  1.93913540e+02, -6.66464149e+01, -4.82738970e+01,\n",
       "        1.53624278e+02, -6.55715954e+01,  1.03092121e+02,  1.92732939e+02,\n",
       "       -1.49593548e+01, -8.90801513e+00,  1.17202857e+02,  1.39632165e+02,\n",
       "        8.41725221e+01, -1.08136801e+02,  2.11020402e+02,  1.12249493e+02,\n",
       "       -1.85686491e+02, -3.99787493e+01, -5.60034261e+01, -2.77697619e+01,\n",
       "        7.56052386e+01, -2.15232141e+01,  1.72494701e+02,  1.60873793e+02,\n",
       "        5.74250682e+01, -5.53226974e+01,  4.99386995e+01,  9.06759726e+01,\n",
       "        1.66245739e+02,  3.57058977e+00,  5.79721962e+01, -4.96739771e+01,\n",
       "        3.90176269e+00,  1.66833817e+02,  2.09620348e+02,  1.55025880e+01,\n",
       "        2.35861057e+01, -2.60662166e+01, -1.02959798e+02,  8.72760482e+01,\n",
       "        9.72690317e+01,  1.10444708e+02,  5.26131980e+01,  1.02921130e+02,\n",
       "        6.65381900e+01,  1.74445906e+02,  8.74576112e+01,  1.95133512e+02,\n",
       "        1.57236187e+02,  8.59016544e+01, -7.42300512e+01,  1.01727231e+02,\n",
       "        8.20761981e+01,  2.41861953e+02,  1.24234157e+02, -6.31271208e+01,\n",
       "       -2.92863735e+01,  1.46393692e+02,  3.06887738e+01, -7.02890012e+01,\n",
       "        9.90761382e+01,  9.93649237e+01,  3.81458250e+01,  1.36159624e+02,\n",
       "        3.95766075e+01,  2.36481534e+02, -5.97509803e+01,  1.40792209e+02,\n",
       "        1.49098617e+02,  1.76686656e+02,  3.74745761e+01,  8.70056619e+00,\n",
       "        2.24067506e+02,  1.04656910e+02, -8.51352798e+00,  1.33235182e+02,\n",
       "        2.08708252e+02,  1.16638106e+02, -2.25980055e+01,  1.47942499e+02,\n",
       "       -1.03753484e+02,  1.27681928e+02,  1.47832754e+02,  2.78031100e+01,\n",
       "        7.77126501e+01,  6.50280307e+01, -3.57956620e+00, -3.57600320e+01,\n",
       "        2.21318652e+01, -1.22012154e+01,  2.01384075e+02, -8.55271464e+01,\n",
       "        2.29921181e+02,  2.64589042e+01, -2.71038513e+01, -4.42459108e+00,\n",
       "       -5.40962847e+01, -1.53216732e+02,  1.31598915e+02,  3.46352675e+01,\n",
       "       -3.38450291e+01, -8.05832953e+01, -6.28290444e+00, -7.51499404e+01,\n",
       "        1.79857162e+02, -1.39627793e+02, -4.58212816e+01, -3.83021730e+01,\n",
       "        9.75177393e+01,  7.53774808e+01,  3.55206886e+01,  3.27775011e+01,\n",
       "        8.98071788e+01, -2.95438935e+01,  9.83664733e+01, -8.22762420e+01,\n",
       "        1.04030552e+02, -7.25720269e-01,  1.62837854e+02, -7.23350572e+01,\n",
       "        4.64968811e+00, -3.20905371e+01,  1.44021891e+02, -9.11293467e+01,\n",
       "        1.38414780e+02,  9.63217223e+01,  1.06597321e+02, -1.88159307e+01,\n",
       "        9.75340517e+01,  2.25072180e+02, -1.91308538e+01,  7.53189548e+01,\n",
       "        2.36918747e+01, -6.00346396e+01, -3.24827594e+01,  1.02485095e+02,\n",
       "        4.54617443e+01, -1.95291986e+02,  1.03228818e+02,  1.82410672e+01,\n",
       "        1.41774711e+02, -1.43634167e+01,  2.80692727e+02, -4.48749252e+01,\n",
       "        1.26622619e+02, -5.75459817e+01,  6.94955615e+01, -6.47510058e+01,\n",
       "        1.75484875e+02,  4.78896181e+01,  1.99476918e+02,  4.02714155e+01,\n",
       "       -1.12435896e+02, -3.43117330e+01,  1.07831025e+01,  1.88149942e+02,\n",
       "        3.22946214e+02,  3.85842932e+01,  8.18016861e+01,  1.75011223e+02,\n",
       "       -6.41308322e+01,  1.84396791e+01,  1.16959270e+02,  8.53133254e+01,\n",
       "        4.15677467e+01, -4.77400710e+01,  6.04189976e+01,  1.21287730e+02,\n",
       "       -2.18420957e+01,  5.74477095e+01,  2.58974092e+02,  9.77336660e+01,\n",
       "        1.09312357e+02, -5.36188566e+01, -5.08756496e+00,  1.82533829e+01,\n",
       "       -3.38677408e+01, -7.09100459e+01, -1.06577484e+02,  2.92120162e+01,\n",
       "        1.33281874e+02,  1.11678056e+02,  1.17628151e+02,  1.41208686e+02,\n",
       "       -3.58823151e+01, -1.83270718e+01,  2.64414348e+01, -3.91257639e+01,\n",
       "        7.49671015e+01, -1.63155831e+01,  1.61395274e+02, -3.77851543e+01,\n",
       "        1.06254178e+02,  2.17876040e+02, -7.15225418e+01, -5.13231444e+00,\n",
       "       -2.68158476e+01, -5.60273819e+01,  7.60688481e+01,  1.00031952e+02,\n",
       "       -2.32807437e+01, -1.24826255e+00,  7.42410752e+01,  8.13961743e+01,\n",
       "       -6.11372932e+01,  2.80163450e+02,  2.66558951e+01,  5.88119704e+01,\n",
       "       -1.28069013e+01,  2.41304564e+01, -4.04288639e+01,  2.12823871e+02,\n",
       "       -1.34718751e+02,  3.15050636e+01,  1.16111446e+02, -1.09721424e+02,\n",
       "        9.61015964e+01,  1.81650640e+02,  7.96369672e+01,  5.00007512e+01,\n",
       "        4.65789200e+01,  2.18500679e+01,  1.08017764e+02, -3.63526597e+01,\n",
       "        8.26813062e+01,  1.61474275e+01, -8.16228503e+00, -6.56375592e+01,\n",
       "        1.17452822e+02, -9.06453788e+00,  1.57751998e+02,  4.71954581e+01,\n",
       "        4.96907762e+01, -5.97872709e+01, -5.00115720e+01,  1.04699823e+02,\n",
       "        4.03812307e+01,  5.58742431e+01,  1.15101451e+02,  1.02184484e+02,\n",
       "        1.44167696e+01,  3.39438619e+02,  3.63504734e+02,  9.40313109e+01,\n",
       "       -9.39194359e+01, -3.93610141e+01,  1.08173929e+02, -7.66068866e+00,\n",
       "        4.18297732e+01, -1.49674554e+02,  9.36181516e+01,  1.70844260e+02,\n",
       "       -7.14373363e+01,  1.56499974e+01,  1.40979393e+01, -1.98489541e+02,\n",
       "        2.43499227e+00, -6.91645557e+00, -8.93556967e+01, -3.74540521e+01,\n",
       "        7.46853271e+01,  8.41389047e+01,  8.24868552e+01, -7.59521962e+00,\n",
       "       -3.24904519e+01,  6.45387975e+01,  1.06857841e+01,  1.53641701e+02,\n",
       "        1.66430865e+02,  2.73868737e+00, -1.13348696e+02,  6.83359763e+01,\n",
       "       -1.68895500e+01,  1.32229707e+02,  1.20009952e+02, -5.50609359e+01,\n",
       "        1.54823056e+02,  1.89227734e+02,  8.86223883e+01,  1.11014604e+02,\n",
       "       -2.09280452e+00, -3.59160398e+01,  1.75488687e+02,  7.41109117e+01,\n",
       "        4.08324800e+01,  4.31074981e+01,  1.25276147e+02,  2.84348734e+01,\n",
       "        1.57209891e-01,  1.95256394e+01,  3.37502799e+01,  1.35286479e+00,\n",
       "        5.88282311e+01,  8.40137312e-01,  4.50721574e+00,  2.48653920e+02,\n",
       "        5.07260484e+01,  2.20798618e+02, -5.04764608e+01,  1.25481673e+02,\n",
       "        5.11318007e+01,  2.19101002e+02,  3.48136529e+00,  2.29232299e+02,\n",
       "       -8.86460985e+00,  5.07627448e+01, -6.56085933e+01,  4.65448848e+01,\n",
       "        2.93176896e+01, -6.09385823e+01, -1.34599655e+02,  1.39640694e+02,\n",
       "        9.95137578e+01, -1.96338517e+01,  3.93206364e+01, -2.25203846e+01,\n",
       "        3.61925344e+01,  7.50042689e+01,  8.53115657e+01, -9.76873616e-02,\n",
       "        2.90195623e+01,  1.01611688e+02, -1.59326451e+01, -5.55571155e+00,\n",
       "        5.81850209e+01,  9.94762249e+01,  7.60502488e+00,  1.29653080e+02,\n",
       "        4.29935884e+01, -1.72742530e+01,  5.94415407e+01, -9.56690294e+01,\n",
       "       -1.33589904e+02,  8.39025130e+01, -1.27632334e+02, -3.01947083e+01,\n",
       "        1.49867059e+02,  8.31694064e+01, -3.49966868e+01,  4.85009571e+01,\n",
       "       -9.33895728e+01, -6.39190314e+01,  3.32181903e+01,  1.08744955e+02,\n",
       "        4.66270479e+01,  4.15705733e+01, -1.50344330e+01,  5.74518243e+01,\n",
       "        1.29601782e+02,  1.60374802e+02,  8.42773411e+01,  6.21978189e+01,\n",
       "        8.55172678e+01,  1.02536021e+02,  1.82236259e+00,  1.30888084e+01,\n",
       "       -1.63444974e+01, -1.28799426e+01,  2.38302954e+02,  1.28493772e+02,\n",
       "       -1.84739706e+01,  5.42316779e+01,  8.07489203e+01,  4.10041567e+01,\n",
       "       -4.63754394e+01,  1.94652864e+02, -6.88424605e+01,  1.36834038e+02,\n",
       "        5.54036956e+01, -3.13471805e+01,  3.38495885e+01, -1.35049913e+02,\n",
       "        7.74972569e+01,  1.22846461e+02, -3.00609544e+00,  7.97857928e+01,\n",
       "       -1.99889427e+02, -3.13955414e+00, -8.37401590e+01,  1.42529260e+02,\n",
       "        6.94313187e+01,  4.52762421e+01,  3.10771302e+01,  2.57111614e+01,\n",
       "        1.28506248e+02, -5.41752805e+01,  1.43225313e+02,  1.19958889e+02,\n",
       "        1.53075433e+02,  1.52063332e+01,  1.58148592e+02,  1.50078593e+02,\n",
       "        9.49597692e+01,  1.62286975e+02,  5.86983563e+00,  4.26852108e+01,\n",
       "        1.84759958e+02,  2.51739038e+02, -1.14663478e+02,  1.43704344e+02,\n",
       "       -7.58115920e+01,  7.10291501e+01, -8.78981025e+00,  7.05689041e+01,\n",
       "        2.01761351e+01,  8.94073452e+01,  1.14974469e+02,  1.51844184e+01,\n",
       "        1.16856340e+02,  2.12424373e+01,  1.18481946e+02,  1.67745439e+02,\n",
       "        6.65085084e+01,  7.33112636e+01, -1.30272205e+02, -2.71890478e+01,\n",
       "       -1.22656578e+01,  3.49340386e+01, -9.00022887e+01, -8.01066079e+01])"
      ]
     },
     "execution_count": 84,
     "metadata": {},
     "output_type": "execute_result"
    }
   ],
   "source": [
    "#np.random.seed(42)\n",
    "np.random.normal(size = 1000, loc = 50, scale = 100)"
   ]
  },
  {
   "cell_type": "code",
   "execution_count": 85,
   "metadata": {},
   "outputs": [
    {
     "name": "stderr",
     "output_type": "stream",
     "text": [
      "C:\\Users\\Rebecca\\Anaconda3\\lib\\site-packages\\scipy\\stats\\stats.py:1713: FutureWarning: Using a non-tuple sequence for multidimensional indexing is deprecated; use `arr[tuple(seq)]` instead of `arr[seq]`. In the future this will be interpreted as an array index, `arr[np.array(seq)]`, which will result either in an error or a different result.\n",
      "  return np.add.reduce(sorted[indexer] * weights, axis=axis) / sumval\n"
     ]
    },
    {
     "data": {
      "image/png": "[encoded data removed]",
      "text/plain": [
       "<Figure size 432x288 with 1 Axes>"
      ]
     },
     "metadata": {
      "needs_background": "light"
     },
     "output_type": "display_data"
    }
   ],
   "source": [
    "# Plot a histogram of 1000 numbers with a mean of 50 and a standard deviation of 10\n",
    "import seaborn as sns\n",
    "\n",
    "plt.title(\"Example of normal distribution\")\n",
    "plt.show (sns.distplot(np.random.normal(50, 10.0, 1000), bins=20, color='b'))"
   ]
  },
  {
   "cell_type": "markdown",
   "metadata": {},
   "source": [
    "\n",
    "### numpy.random.exponential"
   ]
  },
  {
   "cell_type": "markdown",
   "metadata": {},
   "source": [
    "\n",
    "The exponential is a continuous distribution describing the probability of an event occuring during a timeframe by looking at the the time or distance between the events. It is often used in conjunction with a Poisson distribution which creates a model of the the number of occurrences in a fixed period of time, it is discrete and defined in integers. There is a strong relationship between the two distributions which describe the same thing but from different perspectives.\n",
    "\n",
    "Non-negative numbers within an exponential distribution are memoryless. The past has no impact on any future behaviour. If a certain period of time was to pass before an event occurs, with memoryless, this would have no effect on when the event was to happen. eg. if a plane crashed, some people may think that the probability of it happening again to the same company would be greatly reduced but in reality, the chances if it happening at any given time have not changed.\n",
    "\n",
    "Its probability density function is: \n",
    "\n",
    "\\begin{equation*}\n",
    "f(x; \\frac{1}{\\beta}) = \\frac{1}{\\beta} \\exp(-\\frac{x}{\\beta})\n",
    "\\end{equation*}\n",
    "\n",
    "\n",
    "\n",
    "for x > 0 and 0 elsewhere. \\beta is the scale parameter, which is the inverse of the rate parameter \\lambda = 1/\\beta. The rate parameter is an alternative, widely used parameterization of the exponential distribution.\n",
    "\n",
    "https://docs.scipy.org/doc/numpy-1.15.0/reference/generated/numpy.random.exponential.html\n",
    "\n",
    "An example of exponential could look at the number of times a website is accessed in a 30 minute period. We say it will get 180 views each hour so that is 90 views per 30 minutes. lambada = 3 (90 views per 1/2 hour / 30 minutes = 3 views per minute)."
   ]
  },
  {
   "cell_type": "code",
   "execution_count": 51,
   "metadata": {},
   "outputs": [
    {
     "data": {
      "text/plain": [
       "array([1.04548095, 0.13657876, 0.85793999, 0.23531181, 3.30297142,\n",
       "       5.90105997, 0.15012927, 6.20731247])"
      ]
     },
     "execution_count": 51,
     "metadata": {},
     "output_type": "execute_result"
    }
   ],
   "source": [
    "np.random.exponential(2, 8)"
   ]
  },
  {
   "cell_type": "code",
   "execution_count": 52,
   "metadata": {},
   "outputs": [
    {
     "data": {
      "image/png": "[encoded data removed]",
      "text/plain": [
       "<Figure size 432x288 with 1 Axes>"
      ]
     },
     "metadata": {
      "needs_background": "light"
     },
     "output_type": "display_data"
    },
    {
     "data": {
      "text/plain": [
       "Text(0, 0.5, 'f(x)')"
      ]
     },
     "execution_count": 52,
     "metadata": {},
     "output_type": "execute_result"
    },
    {
     "data": {
      "image/png": "[encoded data removed]",
      "text/plain": [
       "<Figure size 432x288 with 1 Axes>"
      ]
     },
     "metadata": {
      "needs_background": "light"
     },
     "output_type": "display_data"
    }
   ],
   "source": [
    "# 500 events, going in increments of 5\n",
    "\n",
    "plt.show(plt.hist(np.random.exponential(5, 500), bins=40, color='B', alpha=.3))\n",
    "plt.title('Exponential Distribution')\n",
    "plt.xlabel('x variables')\n",
    "plt.ylabel('f(x)')"
   ]
  },
  {
   "cell_type": "code",
   "execution_count": 53,
   "metadata": {},
   "outputs": [
    {
     "data": {
      "image/png": "[encoded data removed]",
      "text/plain": [
       "<Figure size 432x288 with 1 Axes>"
      ]
     },
     "metadata": {
      "needs_background": "light"
     },
     "output_type": "display_data"
    }
   ],
   "source": [
    "lam = 3\n",
    "x = np.arange(0, 10, .1)\n",
    "y = lam * np.exp(- lam* x) \n",
    "plt.plot(x,y)\n",
    "plt.title('Exponential: $\\lambda$ =%.2f' % lam)\n",
    "plt.xlabel('x')\n",
    "plt.ylabel('Probability density')\n",
    "plt.show()"
   ]
  },
  {
   "cell_type": "code",
   "execution_count": 54,
   "metadata": {},
   "outputs": [
    {
     "data": {
      "text/plain": [
       "[Text(0, 0.5, 'Occurance Freq'), Text(0.5, 0, 'Poisson')]"
      ]
     },
     "execution_count": 54,
     "metadata": {},
     "output_type": "execute_result"
    },
    {
     "data": {
      "image/png": "[encoded data removed]",
      "text/plain": [
       "<Figure size 432x288 with 1 Axes>"
      ]
     },
     "metadata": {
      "needs_background": "light"
     },
     "output_type": "display_data"
    }
   ],
   "source": [
    "# an example of a standard poisson distribution, the event can only be measured as occurring or not as occurring\n",
    "from scipy.stats import poisson\n",
    "import seaborn as sb\n",
    "data_binom = poisson.rvs(mu=4, size=1000)\n",
    "ax = sb.distplot(data_binom,\n",
    "                  kde=True,\n",
    "                  color='blue',\n",
    "                  hist_kws={\"linewidth\": 5,'alpha':1})\n",
    "ax.set(xlabel='Poisson', ylabel='Occurance Freq')"
   ]
  },
  {
   "cell_type": "markdown",
   "metadata": {},
   "source": [
    "### numpy.random.multinomial\n",
    "\n",
    "numpy.random.multinomial is used when there are several possible outcomes. It is similar to but different from Binomial, which has only two outcomes (success and failure). Eg. a die is rolled 10 times. There are 6 possibilities (1, 2, 3, 4, 5, 6). That would be classed as a multinimial experiment. If the die was rolled 10 times to see how often 2 comes up, it would be classed as a binomial experiment (2 = success, 1, 3, 4, 5,6 = failure)\n",
    "\n",
    "\n",
    "\\begin{equation*}\n",
    "p=  \\frac{n!}{(n_1!)(n_2!)(n_3!)}\n",
    "p_1^{n1} p_2^{n2} p_3^{n3}\n",
    "\\end{equation*}\n",
    "\n",
    "where\n",
    "p is the probability,\n",
    "n is the total number of events\n",
    "n1 is the number of times Outcome 1 occurs,\n",
    "n2 is the number of times Outcome 2 occurs,\n",
    "n3 is the number of times Outcome 3 occurs,\n",
    "p1 is the probability of Outcome 1\n",
    "p2 is the probability of Outcome 2, and\n",
    "p3 is the probability of Outcome 3.\n",
    "\n",
    "http://onlinestatbook.com/2/probability/multinomial.html"
   ]
  },
  {
   "cell_type": "code",
   "execution_count": 55,
   "metadata": {},
   "outputs": [
    {
     "data": {
      "text/plain": [
       "array([[2, 0, 4, 1, 2, 1]])"
      ]
     },
     "execution_count": 55,
     "metadata": {},
     "output_type": "execute_result"
    }
   ],
   "source": [
    "# A dice is thrown 10 times, it landed on 1 once, 2 once, 3 twice, 4 three times, etc\n",
    "\n",
    "np.random.multinomial(10, [1/6.]*6, size=1)"
   ]
  },
  {
   "cell_type": "code",
   "execution_count": 56,
   "metadata": {},
   "outputs": [
    {
     "name": "stdout",
     "output_type": "stream",
     "text": [
      "[[3 0 0 4 1 2]\n",
      " [0 2 2 0 2 4]]\n"
     ]
    }
   ],
   "source": [
    "# Dice is now thrown 10 times and then 10 again \n",
    "# The first round of 10 it landed on 1 twice, 2 three times, 4 once etc. and in the second round of 10 it landed on 1 once, 2 twice, 3 zero times.\n",
    "\n",
    "x=np.random.multinomial(10, [1/6.]*6, size=2)\n",
    "print (x)"
   ]
  },
  {
   "cell_type": "code",
   "execution_count": 57,
   "metadata": {},
   "outputs": [
    {
     "data": {
      "image/png": "[encoded data removed]",
      "text/plain": [
       "<Figure size 432x288 with 1 Axes>"
      ]
     },
     "metadata": {
      "needs_background": "light"
     },
     "output_type": "display_data"
    }
   ],
   "source": [
    "plt.show(plt.hist(x))"
   ]
  },
  {
   "cell_type": "code",
   "execution_count": 58,
   "metadata": {},
   "outputs": [
    {
     "name": "stdout",
     "output_type": "stream",
     "text": [
      "1.15.4\n",
      "198 ms ± 0 ns per loop (mean ± std. dev. of 1 run, 1 loop each)\n",
      "75.5 ms ± 0 ns per loop (mean ± std. dev. of 1 run, 1 loop each)\n"
     ]
    }
   ],
   "source": [
    "# just as an aside, while researching multinominal I came across this bit of code which seems to indicate that\n",
    "# np.random.multinomial is faster than np.random.choice\n",
    "\n",
    "print(np.__version__)\n",
    "probs = [1/100.] * 100\n",
    "%timeit -n 1 -r 1 [np.random.choice(100, p=probs) for x in range(10000)]\n",
    "%timeit -n 1 -r 1 [np.random.multinomial(1, probs).argmax() for x in range(10000)]\n",
    "\n",
    "# https://github.com/numpy/numpy/issues/7543"
   ]
  },
  {
   "cell_type": "markdown",
   "metadata": {},
   "source": [
    "### numpy.random.uniform\n",
    "\n",
    "numpy.random.uniform is a type of probability distribution which each variable has the identical probability that it will be the outcome, all of the possible outcomes are equally likely. eg. a coin has an equal probability of getting heads or tails so it can be classed as having a uniform distribution. The same can be said about a deck of cards. There are four suits and the chances of choosing either a diamond, heart, spade or club are the same.\n",
    "\n",
    "There are 2 types of uniform distributions: continuous and discrete. With continuous each variable has an equal chance of being chosen and there can be a infinite number of permutations.\n",
    "\n",
    "Discrete distribution has a fixed list of possible values, it can not be subdivided and there may be a repeat of a value. Eg. with the throw of a dice it will always be between 1 and 6."
   ]
  },
  {
   "cell_type": "markdown",
   "metadata": {},
   "source": [
    "\n",
    "The random.random() function takes no parameters while random.uniform() takes two parameters, i.e., start and stop. The random.random() function generates a random float number between 0.0 to 1.0, but never returns 1.0. random.uniform(start, stop) generates a random float number between the start (a) and stop (b) number. Rounding may end up giving you b."
   ]
  },
  {
   "cell_type": "code",
   "execution_count": 59,
   "metadata": {},
   "outputs": [
    {
     "name": "stdout",
     "output_type": "stream",
     "text": [
      "Random float number is  0.24245292641197957\n"
     ]
    }
   ],
   "source": [
    "# random float from a uniform distribution between 0 and 1\n",
    "\n",
    "\n",
    "print(\"Random float number is \", np.random.uniform())"
   ]
  },
  {
   "cell_type": "code",
   "execution_count": 60,
   "metadata": {},
   "outputs": [
    {
     "data": {
      "text/plain": [
       "array([ 2.33254931,  1.36354653, -1.57598191, -2.09703637, -1.23928989,\n",
       "       -0.7207314 ])"
      ]
     },
     "execution_count": 60,
     "metadata": {},
     "output_type": "execute_result"
    }
   ],
   "source": [
    "# 6 random floats from  -5 to  5\n",
    "\n",
    "np.random.uniform(-5.0, 5, 6)"
   ]
  },
  {
   "cell_type": "code",
   "execution_count": 61,
   "metadata": {},
   "outputs": [
    {
     "name": "stdout",
     "output_type": "stream",
     "text": [
      "Random float number with two decimal places is  0.06\n",
      "Random float number between 5 and 30.5 with three decimal places is  18.756\n"
     ]
    }
   ],
   "source": [
    "print(\"Random float number with two decimal places is \", round(random.random(), 2))\n",
    "print(\"Random float number between 5 and 30.5 with three decimal places is \", round(random.uniform(5,30.5), 3))"
   ]
  },
  {
   "cell_type": "code",
   "execution_count": 62,
   "metadata": {},
   "outputs": [
    {
     "name": "stdout",
     "output_type": "stream",
     "text": [
      "it took:  0.024931907653808594\n",
      "it took:  0.2129383087158203\n"
     ]
    }
   ],
   "source": [
    "import numpy as np\n",
    "import time\n",
    "rang = 10000\n",
    "tic = time.time()\n",
    "for i in range(rang):\n",
    "    sampl = np.random.uniform(low=0, high=5, size=(10))\n",
    "print(\"it took: \", time.time() - tic)\n",
    "\n",
    "tic = time.time()\n",
    "for i in range(rang):\n",
    "    ran_floats = [np.random.uniform(0,3) for _ in range(20)]\n",
    "print(\"it took: \", time.time() - tic)"
   ]
  },
  {
   "cell_type": "code",
   "execution_count": 63,
   "metadata": {},
   "outputs": [
    {
     "data": {
      "image/png": "[encoded data removed]",
      "text/plain": [
       "<Figure size 432x288 with 1 Axes>"
      ]
     },
     "metadata": {
      "needs_background": "light"
     },
     "output_type": "display_data"
    }
   ],
   "source": [
    "plt.hist(np.random.uniform(low=0.0, high=1.0, size=1000), bins=35, color='Y', alpha=1)\n",
    "plt.xlabel(\"Probability\")\n",
    "plt.title(\"Uniform Distribution\")\n",
    "plt.show()"
   ]
  },
  {
   "cell_type": "markdown",
   "metadata": {},
   "source": [
    "### numpy.random.standard_t"
   ]
  },
  {
   "cell_type": "markdown",
   "metadata": {},
   "source": [
    "Also referred to as the Student's T Distribution.  It is very similar to the normal distribution curve but looks a little shorter and wider, showing values which are further away from the mean, but both are symmetrical and have a single peak.  If the sample size is too small, less than 30, then it is harder to produce an accurate, reliable result.  Therefore random standard t is used as it can work better with non-normal distribution. Also, if and/or the population variance is unknown (ie. How data points are spread out).  But both normal and standard t distribution will show how far from the mean the standard deviations are."
   ]
  },
  {
   "cell_type": "code",
   "execution_count": 64,
   "metadata": {},
   "outputs": [
    {
     "data": {
      "text/plain": [
       "<function RandomState.standard_t>"
      ]
     },
     "execution_count": 64,
     "metadata": {},
     "output_type": "execute_result"
    }
   ],
   "source": [
    "np.random.standard_t"
   ]
  },
  {
   "cell_type": "code",
   "execution_count": null,
   "metadata": {},
   "outputs": [],
   "source": []
  },
  {
   "cell_type": "code",
   "execution_count": 65,
   "metadata": {},
   "outputs": [
    {
     "data": {
      "text/plain": [
       "array([-0.94509684, -0.72821227,  0.17869763, -0.06497661,  2.62653435,\n",
       "        0.14879244, -0.44711202, -1.64213546, -2.23637622,  0.61789078])"
      ]
     },
     "execution_count": 65,
     "metadata": {},
     "output_type": "execute_result"
    }
   ],
   "source": [
    "np.random.standard_t(25, size=10)"
   ]
  },
  {
   "cell_type": "code",
   "execution_count": 66,
   "metadata": {},
   "outputs": [
    {
     "data": {
      "image/png": "[encoded data removed]",
      "text/plain": [
       "<Figure size 432x288 with 1 Axes>"
      ]
     },
     "metadata": {
      "needs_background": "light"
     },
     "output_type": "display_data"
    }
   ],
   "source": [
    "plt.hist(np.random.standard_t(25, size=10), bins=35, color='Y', alpha=1)\n",
    "plt.xlabel(\"Probability\")\n",
    "plt.title(\"Standard Distribution\")\n",
    "plt.show()"
   ]
  },
  {
   "cell_type": "code",
   "execution_count": 67,
   "metadata": {},
   "outputs": [
    {
     "ename": "TypeError",
     "evalue": "_parse_args() missing 1 required positional argument: 'df'",
     "output_type": "error",
     "traceback": [
      "\u001b[1;31m---------------------------------------------------------------------------\u001b[0m",
      "\u001b[1;31mTypeError\u001b[0m                                 Traceback (most recent call last)",
      "\u001b[1;32m<ipython-input-67-e8d49c059051>\u001b[0m in \u001b[0;36m<module>\u001b[1;34m\u001b[0m\n\u001b[0;32m     24\u001b[0m \u001b[0mplt\u001b[0m\u001b[1;33m.\u001b[0m\u001b[0mplot\u001b[0m\u001b[1;33m(\u001b[0m\u001b[0mxs_2\u001b[0m\u001b[1;33m,\u001b[0m \u001b[0mcritline\u001b[0m\u001b[1;33m,\u001b[0m\u001b[1;34m'r'\u001b[0m\u001b[1;33m,\u001b[0m \u001b[0mlabel\u001b[0m\u001b[1;33m=\u001b[0m\u001b[1;34m\"t* for dof=23\"\u001b[0m\u001b[1;33m)\u001b[0m\u001b[1;33m\u001b[0m\u001b[1;33m\u001b[0m\u001b[0m\n\u001b[0;32m     25\u001b[0m \u001b[0mplt\u001b[0m\u001b[1;33m.\u001b[0m\u001b[0mlegend\u001b[0m\u001b[1;33m(\u001b[0m\u001b[1;33m)\u001b[0m\u001b[1;33m\u001b[0m\u001b[1;33m\u001b[0m\u001b[0m\n\u001b[1;32m---> 26\u001b[1;33m \u001b[0mplt\u001b[0m\u001b[1;33m.\u001b[0m\u001b[0mvlines\u001b[0m\u001b[1;33m(\u001b[0m\u001b[1;33m[\u001b[0m\u001b[1;33m-\u001b[0m\u001b[0mtcrit\u001b[0m\u001b[1;33m,\u001b[0m \u001b[0mtcrit\u001b[0m\u001b[1;33m]\u001b[0m\u001b[1;33m,\u001b[0m \u001b[1;36m0.0\u001b[0m\u001b[1;33m,\u001b[0m \u001b[0mst\u001b[0m\u001b[1;33m.\u001b[0m\u001b[0mt\u001b[0m\u001b[1;33m.\u001b[0m\u001b[0mpdf\u001b[0m\u001b[1;33m(\u001b[0m\u001b[0mtcrit\u001b[0m\u001b[1;33m)\u001b[0m\u001b[1;33m,\u001b[0m \u001b[0mcolors\u001b[0m\u001b[1;33m=\u001b[0m\u001b[1;34m'r'\u001b[0m\u001b[1;33m)\u001b[0m\u001b[1;33m\u001b[0m\u001b[1;33m\u001b[0m\u001b[0m\n\u001b[0m",
      "\u001b[1;32m~\\Anaconda3\\lib\\site-packages\\scipy\\stats\\_distn_infrastructure.py\u001b[0m in \u001b[0;36mpdf\u001b[1;34m(self, x, *args, **kwds)\u001b[0m\n\u001b[0;32m   1646\u001b[0m \u001b[1;33m\u001b[0m\u001b[0m\n\u001b[0;32m   1647\u001b[0m         \"\"\"\n\u001b[1;32m-> 1648\u001b[1;33m         \u001b[0margs\u001b[0m\u001b[1;33m,\u001b[0m \u001b[0mloc\u001b[0m\u001b[1;33m,\u001b[0m \u001b[0mscale\u001b[0m \u001b[1;33m=\u001b[0m \u001b[0mself\u001b[0m\u001b[1;33m.\u001b[0m\u001b[0m_parse_args\u001b[0m\u001b[1;33m(\u001b[0m\u001b[1;33m*\u001b[0m\u001b[0margs\u001b[0m\u001b[1;33m,\u001b[0m \u001b[1;33m**\u001b[0m\u001b[0mkwds\u001b[0m\u001b[1;33m)\u001b[0m\u001b[1;33m\u001b[0m\u001b[1;33m\u001b[0m\u001b[0m\n\u001b[0m\u001b[0;32m   1649\u001b[0m         \u001b[0mx\u001b[0m\u001b[1;33m,\u001b[0m \u001b[0mloc\u001b[0m\u001b[1;33m,\u001b[0m \u001b[0mscale\u001b[0m \u001b[1;33m=\u001b[0m \u001b[0mmap\u001b[0m\u001b[1;33m(\u001b[0m\u001b[0masarray\u001b[0m\u001b[1;33m,\u001b[0m \u001b[1;33m(\u001b[0m\u001b[0mx\u001b[0m\u001b[1;33m,\u001b[0m \u001b[0mloc\u001b[0m\u001b[1;33m,\u001b[0m \u001b[0mscale\u001b[0m\u001b[1;33m)\u001b[0m\u001b[1;33m)\u001b[0m\u001b[1;33m\u001b[0m\u001b[1;33m\u001b[0m\u001b[0m\n\u001b[0;32m   1650\u001b[0m         \u001b[0margs\u001b[0m \u001b[1;33m=\u001b[0m \u001b[0mtuple\u001b[0m\u001b[1;33m(\u001b[0m\u001b[0mmap\u001b[0m\u001b[1;33m(\u001b[0m\u001b[0masarray\u001b[0m\u001b[1;33m,\u001b[0m \u001b[0margs\u001b[0m\u001b[1;33m)\u001b[0m\u001b[1;33m)\u001b[0m\u001b[1;33m\u001b[0m\u001b[1;33m\u001b[0m\u001b[0m\n",
      "\u001b[1;31mTypeError\u001b[0m: _parse_args() missing 1 required positional argument: 'df'"
     ]
    },
    {
     "data": {
      "image/png": "[encoded data removed]",
      "text/plain": [
       "<Figure size 432x288 with 1 Axes>"
      ]
     },
     "metadata": {
      "needs_background": "light"
     },
     "output_type": "display_data"
    }
   ],
   "source": [
    "## Basic T-Distribution\n",
    "import scipy.stats as st\n",
    "import matplotlib.pyplot as plt\n",
    "import numpy as np\n",
    "\n",
    "## Setup      \n",
    "dof = 23        # Degrees of freedom\n",
    "alpha = 0.05    # Significence level\n",
    "ntails = 2      # Number of tails \n",
    "\n",
    "## Calculate critical t-score\n",
    "tcrit = abs(st.t.ppf(alpha/ntails, dof))\n",
    "# +=2.068\n",
    "\n",
    "plt.figure()\n",
    "xs = np.linspace(-10,10,1000)\n",
    "plt.plot(xs, st.t.pdf(xs,dof), 'k', label=\"T-Distribution PDF\")\n",
    "\n",
    "## Plot some vertical lines representing critical t-score cutoff\n",
    "critline = np.linspace(0,alpha/ntails)  # y range for critical line, AKA probability from 0-p*\n",
    "xs_1 = len(critline) * [-tcrit]         # X ranges for plotting\n",
    "xs_2 = len(critline) * [tcrit]\n",
    "plt.plot(xs_1, critline, 'r', label=\"-t* for dof=23\")\n",
    "plt.plot(xs_2, critline,'r', label=\"t* for dof=23\")\n",
    "plt.legend()\n",
    "plt.vlines([-tcrit, tcrit], 0.0, st.t.pdf(tcrit), colors='r')"
   ]
  },
  {
   "cell_type": "code",
   "execution_count": null,
   "metadata": {},
   "outputs": [],
   "source": []
  },
  {
   "cell_type": "code",
   "execution_count": null,
   "metadata": {},
   "outputs": [],
   "source": [
    "#From Dalgaard page 83 [R272], suppose the daily energy intake for 11 women in Kj is:\n",
    "intake = np.array([5260., 5470, 5640, 6180, 6390, 6515, 6805, 7515, 7515, 8230, 8770])"
   ]
  },
  {
   "cell_type": "code",
   "execution_count": null,
   "metadata": {},
   "outputs": [],
   "source": [
    "#Does their energy intake deviate systematically from the recommended value of 7725 kJ?\n",
    "\n",
    "# We have 10 degrees of freedom, so is the sample mean within 95% of the recommended value?\n",
    "\n",
    "s = np.random.standard_t(10, size=100000)\n",
    "np.mean(intake)\n",
    "\n",
    "\n"
   ]
  },
  {
   "cell_type": "code",
   "execution_count": null,
   "metadata": {},
   "outputs": [],
   "source": [
    "intake.std(ddof=1)"
   ]
  },
  {
   "cell_type": "code",
   "execution_count": null,
   "metadata": {},
   "outputs": [],
   "source": [
    "#Calculate the t statistic, setting the ddof parameter to the unbiased value so the divisor in the standard deviation will be degrees of freedom, N-1.\n",
    "\n",
    "t = (np.mean(intake)-7725)/(intake.std(ddof=1)/np.sqrt(len(intake)))\n",
    "import matplotlib.pyplot as plt\n",
    "h = plt.hist(s, bins=100, density=True)"
   ]
  },
  {
   "cell_type": "code",
   "execution_count": null,
   "metadata": {},
   "outputs": [],
   "source": [
    "# For a one-sided t-test, how far out in the distribution does the t statistic appear?\n",
    "\n",
    "np.sum(s<t) / float(len(s))"
   ]
  },
  {
   "cell_type": "code",
   "execution_count": null,
   "metadata": {},
   "outputs": [],
   "source": [
    "# The p-value is about 0.009, which says the null hypothesis has a probability of about 99% of being true\n",
    "\n",
    "# Code from https://docs.scipy.org/doc/numpy-1.13.0/reference/generated/numpy.random.standard_t.html"
   ]
  },
  {
   "cell_type": "markdown",
   "metadata": {},
   "source": [
    "### Problem statement 5\n",
    "### Explain the use of seeds in generating psudorandom numbers\n",
    "\n",
    "\n",
    "Pseudorandom numbers are randomly generated numbers.  Random numbers are used to create noise or sampling and is very difficult to predetermine (nondeterministic) as there will be no pattern to the numbers.  Machines are predictable, deterministic and their random numbers are not so random.  Therefore many algorithms have been developed to artifically simulate random numbers.  With the middle-squares method, a seed or base number is chosen. Again while this seed seems to be random, it is usually selected from a predetermined starting point eg. the microseconds on the operating system clock.  This allows the PRNG to lock the generator for replicable analysis.  The seed is squared, the middle number of the result is then again squared and so on.  If the same sequence was commenced at the same time then the result would be the same resulting in a number which is not at all random, will be repeated and easy to predict.  This is of huge importance within computer security and an easily predictable generator should not be used for gambling or cryptology .  If an encryption key is generated psudorandomly, knowing what the seed is will make the key obsolete as it can be easily reproduced.   The period is the lenght before the psudorandom sequence repeats and is limited by the lenght of the original seed.  A 2 digit seed can produce 100 unique numbers before it begins to repeat.  3 digits has a maximum of 1,000 and 4 can to to 10,000 numbers. The larger the seed, the more numbers it will use before the sequence will begin to repeat itself. \n",
    "\n",
    "A deliberately shared random seed (secret key) between systems using the same psudorandom number generators create identical sequences which are then used to synchronize remote systems eg. GPS satellites. \n",
    "\n",
    "\n",
    "NumPy uses the Mersenne Twister algorithm which was designed in 1997  by M. Matsumoto and T. Nishimura."
   ]
  },
  {
   "cell_type": "code",
   "execution_count": null,
   "metadata": {},
   "outputs": [],
   "source": []
  },
  {
   "cell_type": "code",
   "execution_count": null,
   "metadata": {},
   "outputs": [],
   "source": [
    "# np.random.seed(1) sets the seed and produces the same numbers each time.\n",
    "\n",
    "np.random.seed(1) ; np.random.rand(5)"
   ]
  },
  {
   "cell_type": "code",
   "execution_count": null,
   "metadata": {},
   "outputs": [],
   "source": [
    "np.random.seed(1) ; np.random.rand(3)"
   ]
  },
  {
   "cell_type": "code",
   "execution_count": null,
   "metadata": {},
   "outputs": [],
   "source": [
    "# Different numbers appear each time if the random seed is not set\n",
    "np.random.rand(7)"
   ]
  },
  {
   "cell_type": "code",
   "execution_count": null,
   "metadata": {},
   "outputs": [],
   "source": [
    "np.random.rand(5)"
   ]
  },
  {
   "cell_type": "code",
   "execution_count": null,
   "metadata": {},
   "outputs": [],
   "source": []
  },
  {
   "cell_type": "code",
   "execution_count": null,
   "metadata": {},
   "outputs": [],
   "source": [
    "# Shows the internal state of the pnrg\n",
    "np.random.get_state()"
   ]
  },
  {
   "cell_type": "markdown",
   "metadata": {},
   "source": [
    "Conclusion\n",
    "\n",
    "Having already taken a look at numpy last simester I was not sure what benefit I could get from taking another look into it.  I have learned that there is a huge amount of data within the official documentation that can be difficult to wade through.  When I found it overwhelming to try and understand the information I used many other sources each of which I have listed in the references section of readme.  Before I could answer any of the problem statement questions I had to break each section down into smaller pieces.  As it has been a long time since I studied statistics in college I had to go back to the beginning and first understand what each of the distributions do and how they apply to numpy.  I did this by researching various websites and youtube videos.  When attempting to answer the five distribution functions I took each one individually but found there was overlaps in some of them.  I could have spent a lot more time on going into depth of any one of the distribution functions alone but I hope what is above will provide a concise synopsis of what I learned.  Even though at first glance all the distribution functions seemed on the surface very similar each has its own nieche to which it was specially designed for.   I also experienced various issues with syncing notebook to github and checkpoint, which left me having to start over from the beginning once and the second time using the information from a checkpoint to rebuild what failed to copy over.  While very fustrating it was a good lesson in making multiple backups for important information. \n"
   ]
  }
 ],
 "metadata": {
  "kernelspec": {
   "display_name": "Python 3",
   "language": "python",
   "name": "python3"
  },
  "language_info": {
   "codemirror_mode": {
    "name": "ipython",
    "version": 3
   },
   "file_extension": ".py",
   "mimetype": "text/x-python",
   "name": "python",
   "nbconvert_exporter": "python",
   "pygments_lexer": "ipython3",
   "version": "3.7.1"
  }
 },
 "nbformat": 4,
 "nbformat_minor": 2
}
