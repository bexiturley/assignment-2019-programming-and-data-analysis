{
 "cells": [
  {
   "cell_type": "markdown",
   "metadata": {},
   "source": [
    "Assignment 2019\n",
    "Programming for Data Analysis\n"
   ]
  },
  {
   "cell_type": "markdown",
   "metadata": {},
   "source": [
    "This contains all of the information for my 2019 submission for the Assignment for Programming for Data Analysis module.  Work on this began 13th October 2019 with a final submission date of November 11th."
   ]
  },
  {
   "cell_type": "markdown",
   "metadata": {},
   "source": [
    "NumPy, short for “Numerical Python” is a free to use, open source numerical library in python.  The library contains a large number of mathematical, algebriac and transformational functions.  Numpy contains a multi-dimensional array (more than one list, a list that can hold other lists, or lists within lists) and matrix data structures (numbers arranged in rows and columns).  Anaconda comes with NumPy preinstalled.  Otherwise it is necessary to install it via the pip install NumPy command line code.  Then import as np when using Python.  NumPy is utilised in data science and machine learning and to perform mathematical and statistical operations.  \n",
    "\n",
    "NumPy. Random is a module used for random sampling in NumPy, providing a way of creating random samples with the NumPy.   It gives a variety of functions to generate random numbers.  \n",
    "\n",
    "But the numbers may not be actually random, they just appear to be.  They may be pseudorandom or PRNG.  Pseudorandom number generators are algorithms that produce numbers that appear random, but are not really.  If the seed is reset each time (np.random.seed(0) ), the same set of numbers will always appear.  If random seed is not reset, different numbers will appear each time.   NumPy will generate a seed value from a part of your computer system such as the clock.\n",
    "\n",
    "The random function can be used to build customized random number generators, it’s the key ingredient for many of the functions in the random module.  Random adds unpredictability to simulations such as the Monte Carlo simulation.  In a Monte Carlo simulation, a model is built showing the different outcomes that are probable.  The process can be complicated and not easy to predict due to random variables.  It is also known as multiple probability simulation.  Monte Carlo method was the first approach to use computer simulation for statistical problems. It was developed by John von Neumann, Stanisław Ulam, & Nicholas Metropolis, working on the Manhattan project during World War II.  \n",
    "\n",
    "Random sampling can be broken down into 4 further sections, as per SciPy.org., which themselves then contain further subdivisions.  These are Simple random data, Permutations, Distributions and Random generator.\n"
   ]
  },
  {
   "cell_type": "markdown",
   "metadata": {},
   "source": [
    "The Simple Random Data generates random values, integers and floats which are dependant on the selected function.  Which function to use will be determined by the data used and what is the required output. \n",
    "Rand will return values in a given shape from a predetermined parameter (uniform distribution). Here I have asked for random numbers in three columns and two rows. As a default, the numbers returned will be more than 0 but less than 1  But first NumPy has to be imported.\n"
   ]
  },
  {
   "cell_type": "code",
   "execution_count": 1,
   "metadata": {},
   "outputs": [],
   "source": [
    "import numpy as np\n"
   ]
  },
  {
   "cell_type": "code",
   "execution_count": 4,
   "metadata": {},
   "outputs": [
    {
     "data": {
      "text/plain": [
       "array([[0.11663131, 0.80528119],\n",
       "       [0.73243205, 0.2034243 ],\n",
       "       [0.03694142, 0.9100027 ]])"
      ]
     },
     "execution_count": 4,
     "metadata": {},
     "output_type": "execute_result"
    }
   ],
   "source": [
    "np.random.rand(3,2)"
   ]
  },
  {
   "cell_type": "markdown",
   "metadata": {},
   "source": [
    "Here I have asked for 100 random numbers"
   ]
  },
  {
   "cell_type": "code",
   "execution_count": 3,
   "metadata": {},
   "outputs": [
    {
     "data": {
      "text/plain": [
       "array([0.16749529, 0.24109244, 0.36910009, 0.17470581, 0.67174586,\n",
       "       0.72231711, 0.45694522, 0.14182209, 0.3546251 , 0.24082981,\n",
       "       0.26155646, 0.64279075, 0.87725665, 0.73269847, 0.10852204,\n",
       "       0.89696707, 0.37496559, 0.94354516, 0.17229398, 0.38135074,\n",
       "       0.59192207, 0.54317386, 0.2495936 , 0.049001  , 0.63821368,\n",
       "       0.39088137, 0.18463486, 0.38215893, 0.88464149, 0.13651038,\n",
       "       0.91782499, 0.45844666, 0.31640121, 0.22262691, 0.9274858 ,\n",
       "       0.93512547, 0.53345296, 0.66424725, 0.48664141, 0.3114268 ,\n",
       "       0.80441518, 0.93991163, 0.16959677, 0.65622257, 0.35185676,\n",
       "       0.74518354, 0.96903318, 0.06095686, 0.15515044, 0.2383886 ,\n",
       "       0.06470398, 0.93854894, 0.35871437, 0.00346833, 0.11737578,\n",
       "       0.59875928, 0.37261395, 0.65290458, 0.04739033, 0.30558203,\n",
       "       0.91809528, 0.20406491, 0.44731589, 0.24371867, 0.94239902,\n",
       "       0.88618961, 0.68934666, 0.45349785, 0.71603365, 0.31294346,\n",
       "       0.83036319, 0.04621634, 0.76265181, 0.67192669, 0.21143554,\n",
       "       0.31251794, 0.4233399 , 0.68741146, 0.45040062, 0.83556362,\n",
       "       0.70911353, 0.62225189, 0.24083003, 0.4209414 , 0.1053117 ,\n",
       "       0.77556074, 0.30391743, 0.81785634, 0.52911593, 0.44621235,\n",
       "       0.48159606, 0.44355601, 0.04739932, 0.93150804, 0.73909637,\n",
       "       0.5854625 , 0.693223  , 0.78013341, 0.22536972, 0.23479445])"
      ]
     },
     "execution_count": 3,
     "metadata": {},
     "output_type": "execute_result"
    }
   ],
   "source": [
    "x = np.random.rand (100)\n",
    "x"
   ]
  },
  {
   "cell_type": "code",
   "execution_count": 10,
   "metadata": {},
   "outputs": [
    {
     "data": {
      "image/png": "[encoded data removed]",
      "text/plain": [
       "<Figure size 432x288 with 1 Axes>"
      ]
     },
     "metadata": {
      "needs_background": "light"
     },
     "output_type": "display_data"
    }
   ],
   "source": [
    "%matplotlib inline\n",
    "\n",
    "import matplotlib.pyplot as plt\n",
    "\n",
    "plt.hist(x)\n",
    "plt.show()"
   ]
  },
  {
   "cell_type": "code",
   "execution_count": null,
   "metadata": {},
   "outputs": [],
   "source": []
  },
  {
   "cell_type": "markdown",
   "metadata": {},
   "source": [
    " numpy.random.randn() return a sample (or samples) from a specific/standard normal distribution, the standard distribution.  It is  useful for adding random noise element into a dataset for initial testing of a machine learning model.  "
   ]
  },
  {
   "cell_type": "code",
   "execution_count": 9,
   "metadata": {},
   "outputs": [
    {
     "data": {
      "text/plain": [
       "array([0.04710872, 0.956587  , 0.80641486, 0.90929984, 0.04429986,\n",
       "       0.2957418 , 0.80914335, 0.25331501, 0.70174178, 0.59693708,\n",
       "       0.23078095, 0.60823266, 0.32777566, 0.18883117, 0.05381398,\n",
       "       0.1737889 , 0.45522251, 0.41952019, 0.29315885, 0.11876028,\n",
       "       0.65822999, 0.55714905, 0.61033103, 0.55610642, 0.09644932,\n",
       "       0.24302169, 0.90403615, 0.80786147, 0.27923   , 0.43526854,\n",
       "       0.8471893 , 0.80635918, 0.07026048, 0.55310825, 0.85670992,\n",
       "       0.15763519, 0.78867428, 0.09801986, 0.41422547, 0.39497768,\n",
       "       0.10618895, 0.8351018 , 0.64441384, 0.24681245, 0.54365211,\n",
       "       0.69400242, 0.39030067, 0.04947278, 0.72138671, 0.70350974,\n",
       "       0.07614475, 0.1479523 , 0.91625967, 0.52914717, 0.9369691 ,\n",
       "       0.82163411, 0.07532185, 0.21288336, 0.9433276 , 0.13165503,\n",
       "       0.55289273, 0.73108089, 0.14972811, 0.02383622, 0.3800752 ,\n",
       "       0.47614263, 0.57590974, 0.07363518, 0.93629533, 0.31508493,\n",
       "       0.65872719, 0.61371001, 0.00821182, 0.3426673 , 0.00887228,\n",
       "       0.90711084, 0.04868938, 0.8595606 , 0.13844079, 0.06604098,\n",
       "       0.29830747, 0.95939039, 0.1730108 , 0.50651343, 0.17923399,\n",
       "       0.04738898, 0.30966747, 0.02302953, 0.67070276, 0.59031572,\n",
       "       0.91301061, 0.41774084, 0.41149871, 0.38758814, 0.03354886,\n",
       "       0.14775032, 0.40535984, 0.21607984, 0.20427355, 0.70965711])"
      ]
     },
     "execution_count": 9,
     "metadata": {},
     "output_type": "execute_result"
    }
   ],
   "source": [
    "x = np.random.randn (100)\n",
    "x"
   ]
  },
  {
   "cell_type": "code",
   "execution_count": 7,
   "metadata": {},
   "outputs": [
    {
     "data": {
      "image/png": "[encoded data removed]",
      "text/plain": [
       "<Figure size 432x288 with 1 Axes>"
      ]
     },
     "metadata": {
      "needs_background": "light"
     },
     "output_type": "display_data"
    }
   ],
   "source": [
    "plt.hist(x)\n",
    "plt.show()"
   ]
  },
  {
   "cell_type": "markdown",
   "metadata": {},
   "source": [
    "numpy.random.randint returns a random integer in the provided range, here I have given it 1 to 100 to select from.  If you were trying to simulate the throw of a dice, you would use (1, 6)"
   ]
  },
  {
   "cell_type": "code",
   "execution_count": 20,
   "metadata": {},
   "outputs": [
    {
     "data": {
      "text/plain": [
       "88"
      ]
     },
     "execution_count": 20,
     "metadata": {},
     "output_type": "execute_result"
    }
   ],
   "source": [
    "x = np.random.randint(1,100)\n",
    "x"
   ]
  },
  {
   "cell_type": "code",
   "execution_count": 21,
   "metadata": {},
   "outputs": [
    {
     "name": "stderr",
     "output_type": "stream",
     "text": [
      "C:\\Users\\Rebecca\\Anaconda3\\lib\\site-packages\\ipykernel_launcher.py:1: DeprecationWarning: This function is deprecated. Please call randint(1, 5 + 1) instead\n",
      "  \"\"\"Entry point for launching an IPython kernel.\n"
     ]
    },
    {
     "data": {
      "text/plain": [
       "2"
      ]
     },
     "execution_count": 21,
     "metadata": {},
     "output_type": "execute_result"
    }
   ],
   "source": [
    "np.random.random_integers(5)"
   ]
  },
  {
   "cell_type": "code",
   "execution_count": null,
   "metadata": {},
   "outputs": [],
   "source": []
  }
 ],
 "metadata": {
  "kernelspec": {
   "display_name": "Python 3",
   "language": "python",
   "name": "python3"
  },
  "language_info": {
   "codemirror_mode": {
    "name": "ipython",
    "version": 3
   },
   "file_extension": ".py",
   "mimetype": "text/x-python",
   "name": "python",
   "nbconvert_exporter": "python",
   "pygments_lexer": "ipython3",
   "version": "3.7.1"
  }
 },
 "nbformat": 4,
 "nbformat_minor": 2
}
